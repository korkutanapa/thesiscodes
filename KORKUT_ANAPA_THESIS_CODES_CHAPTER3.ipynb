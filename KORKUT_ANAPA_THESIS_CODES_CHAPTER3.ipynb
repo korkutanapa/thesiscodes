{
 "cells": [
  {
   "cell_type": "markdown",
   "id": "4c0939db",
   "metadata": {},
   "source": [
    "# Thesis Codes  by Korkut Anapa"
   ]
  },
  {
   "cell_type": "markdown",
   "id": "63796235",
   "metadata": {},
   "source": [
    "# Chapter 3 Codes"
   ]
  },
  {
   "cell_type": "markdown",
   "id": "beda6d50",
   "metadata": {},
   "source": [
    "# A STATISTICAL MODELLING OF A DISHWASHER CLEANING CYCLE"
   ]
  },
  {
   "cell_type": "markdown",
   "id": "04d87ec4",
   "metadata": {},
   "source": [
    "## Prediction Model\n",
    "\n",
    "This is a code to predict the CPI, DPI, EC, WC and T of the cleaning cycle of a DW.\n"
   ]
  },
  {
   "cell_type": "code",
   "execution_count": 1,
   "id": "b4c82ad6",
   "metadata": {},
   "outputs": [],
   "source": [
    "from catboost import CatBoostRegressor\n",
    "from matplotlib import pyplot\n",
    "from numpy import mean\n",
    "from numpy import std\n",
    "from sklearn.compose import make_column_selector as selector\n",
    "from sklearn.cross_decomposition import PLSRegression\n",
    "from sklearn.datasets import make_regression\n",
    "from sklearn.ensemble import GradientBoostingRegressor\n",
    "from sklearn.ensemble import RandomForestRegressor\n",
    "from sklearn.ensemble import StackingRegressor\n",
    "from sklearn.feature_selection import RFE\n",
    "from sklearn.linear_model import ElasticNetCV, ElasticNet\n",
    "from sklearn.linear_model import LinearRegression\n",
    "from sklearn.linear_model import RidgeCV, LassoCV, Ridge, Lasso\n",
    "from sklearn.metrics import mean_squared_error\n",
    "from sklearn.model_selection import cross_val_score\n",
    "from sklearn.model_selection import RepeatedKFold\n",
    "from sklearn.model_selection import train_test_split\n",
    "from sklearn.neighbors import KNeighborsRegressor\n",
    "from sklearn.pipeline import Pipeline\n",
    "from sklearn.preprocessing import StandardScaler\n",
    "from sklearn.tree import DecisionTreeRegressor\n",
    "from xgboost import XGBRegressor\n",
    "import numpy as np\n",
    "import pandas as pd\n",
    "import statsmodels.api as sm\n",
    "from genetic_selection import GeneticSelectionCV\n",
    "from sklearn.tree import DecisionTreeClassifier"
   ]
  },
  {
   "cell_type": "markdown",
   "id": "844c9f7a",
   "metadata": {},
   "source": [
    "### preparing the data "
   ]
  },
  {
   "cell_type": "code",
   "execution_count": 124,
   "id": "e0b8c6d3",
   "metadata": {},
   "outputs": [],
   "source": [
    "df_ref = pd.read_excel('D:/THESIS_DATA/ANALYSIS_DATA_THESIS/DB_SO_60.xlsx')"
   ]
  },
  {
   "cell_type": "code",
   "execution_count": 125,
   "id": "7d70f704",
   "metadata": {},
   "outputs": [],
   "source": [
    "indvar=['1OYSum of kapalı' , '1OYSum of SURE' , '1OYSum of CIRC_TIME' , '1OYSum of WI' , '1OYMax of DEVIR',\n",
    "      '1OYMax of TEMP' , '1OYSum of ALT_C' , '1OYSum of ÜST_C' , '1OYSum of TEPE_C' , '1OYSum of ZONE_C' , '1OYSum of BEKLEME' ,\n",
    "      '1OYSum of FAN' , '1OYSum of KAPI ACMA' , '1OYSum of FAN / KLAPE' , '1OYSum of GAUDI_offset' ,\n",
    "      '1OYSum of GAUDI_nonoffset' , '2AYSum of kapalı' , '2AYSum of SURE' , '2AYSum of CIRC_TIME' , '2AYSum of WI' ,\n",
    "      '2AYMax of DEVIR' , '2AYMax of TEMP' , '2AYSum of ALT_C' , '2AYSum of ÜST_C' , '2AYSum of TEPE_C' , '2AYSum of ZONE_C' , \n",
    "      '2AYSum of BEKLEME' , '2AYSum of FAN' , '2AYSum of KAPI ACMA' , '2AYSum of FAN / KLAPE' , '2AYSum of GAUDI_offset' , \n",
    "      '2AYSum of GAUDI_nonoffset' , '3MFTSum of kapalı' , '3MFTSum of SURE' , '3MFTSum of CIRC_TIME' , '3MFTSum of WI' ,\n",
    "      '3MFTMax of DEVIR' , '3MFTMax of TEMP' , '3MFTSum of ALT_C' , '3MFTSum of ÜST_C' , '3MFTSum of TEPE_C' , \n",
    "      '3MFTSum of ZONE_C' , '3MFTSum of BEKLEME' , '3MFTSum of FAN', '3MFTSum of KAPI ACMA' , '3MFTSum of FAN / KLAPE' , \n",
    "      '3MFTSum of GAUDI_offset' , '3MFTSum of GAUDI_nonoffset' , '4SGDSum of kapalı' , '4SGDSum of SURE' , \n",
    "      '4SGDSum of CIRC_TIME', '4SGDSum of WI' , '4SGDMax of DEVIR' , '4SGDMax of TEMP' , '4SGDSum of ALT_C' , \n",
    "      '4SGDSum of ÜST_C' , '4SGDSum of TEPE_C' , '4SGDSum of ZONE_C' , '4SGDSum of BEKLEME' , '4SGDSum of FAN' , \n",
    "      '4SGDSum of KAPI ACMA' , '4SGDSum of FAN / KLAPE' , '4SGDSum of GAUDI_offset' , '4SGDSum of GAUDI_nonoffset' , \n",
    "      '5ERSum of kapalı' , '5ERSum of SURE' , '5ERSum of CIRC_TIME' , '5ERSum of WI' , '5ERMax of DEVIR' , '5ERMax of TEMP' ,\n",
    "      '5ERSum of ALT_C' , '5ERSum of ÜST_C' , '5ERSum of TEPE_C' , '5ERSum of ZONE_C' , '5ERSum of BEKLEME' ,\n",
    "      '5ERSum of FAN' , '5ERSum of KAPI ACMA' , '5ERSum of FAN / KLAPE' , '5ERSum of GAUDI_offset' , \n",
    "      '5ERSum of GAUDI_nonoffset' , '6SCD1Sum of kapalı' , '6SCD1Sum of SURE' , '6SCD1Sum of CIRC_TIME' , '6SCD1Sum of WI' , \n",
    "      '6SCD1Max of DEVIR' , '6SCD1Max of TEMP' , '6SCD1Sum of ALT_C' , '6SCD1Sum of ÜST_C' , '6SCD1Sum of TEPE_C' , \n",
    "      '6SCD1Sum of ZONE_C' , '6SCD1Sum of BEKLEME' , '6SCD1Sum of FAN' , '6SCD1Sum of KAPI ACMA' , '6SCD1Sum of FAN / KLAPE' ,\n",
    "      '6SCD1Sum of GAUDI_offset' , '6SCD1Sum of GAUDI_nonoffset' , '7SCD2Sum of kapalı' , '7SCD2Sum of SURE' , \n",
    "      '7SCD2Sum of CIRC_TIME' , '7SCD2Sum of WI' , '7SCD2Max of DEVIR' , '7SCD2Max of TEMP' , '7SCD2Sum of ALT_C' , \n",
    "      '7SCD2Sum of ÜST_C' , '7SCD2Sum of TEPE_C' , '7SCD2Sum of ZONE_C' , '7SCD2Sum of BEKLEME' , '7SCD2Sum of FAN' , \n",
    "      '7SCD2Sum of KAPI ACMA' , '7SCD2Sum of FAN / KLAPE' , '7SCD2Sum of GAUDI_offset' , '7SCD2Sum of GAUDI_nonoffset' , \n",
    "      '8DSBSum of kapalı' , '8DSBSum of SURE' , '8DSBSum of CIRC_TIME' , '8DSBSum of WI' , '8DSBMax of DEVIR' , \n",
    "      '8DSBMax of TEMP' , '8DSBSum of ALT_C' , '8DSBSum of ÜST_C', '8DSBSum of TEPE_C' , '8DSBSum of ZONE_C' ,\n",
    "      '8DSBSum of BEKLEME' , '8DSBSum of FAN' , '8DSBSum of KAPI ACMA' , '8DSBSum of FAN / KLAPE' , '8DSBSum of GAUDI_offset' ,\n",
    "      '8DSBSum of GAUDI_nonoffset', '9RYSum of kapalı' , '9RYSum of SURE' , '9RYSum of CIRC_TIME' , '9RYSum of WI' , \n",
    "      '9RYMax of DEVIR' , '9RYMax of TEMP' , '9RYSum of ALT_C' , '9RYSum of ÜST_C', '9RYSum of TEPE_C' , '9RYSum of ZONE_C' ,\n",
    "      '9RYSum of BEKLEME' , '9RYSum of FAN' , '9RYSum of KAPI ACMA' , '9RYSum of FAN / KLAPE' , '9RYSum of GAUDI_offset' ,\n",
    "      '9RYSum of GAUDI_nonoffset' , '10KUSum of kapalı' , '10KUSum of SURE' , '10KUSum of CIRC_TIME' , '10KUSum of WI' , \n",
    "      '10KUMax of DEVIR' , '10KUMax of TEMP' , '10KUSum of ALT_C' , '10KUSum of ÜST_C', '10KUSum of TEPE_C' ,\n",
    "      '10KUSum of ZONE_C' , '10KUSum of BEKLEME' , '10KUSum of FAN' , '10KUSum of KAPI ACMA' , '10KUSum of FAN / KLAPE' ,\n",
    "      '10KUSum of GAUDI_offset', '10KUSum of GAUDI_nonoffset']"
   ]
  },
  {
   "cell_type": "code",
   "execution_count": 126,
   "id": "d80aa103",
   "metadata": {},
   "outputs": [],
   "source": [
    "data=['CPI','DPI','EC','T','WC','1OYSum of kapalı' , '1OYSum of SURE' , '1OYSum of CIRC_TIME' , '1OYSum of WI' , '1OYMax of DEVIR',\n",
    "      '1OYMax of TEMP' , '1OYSum of ALT_C' , '1OYSum of ÜST_C' , '1OYSum of TEPE_C' , '1OYSum of ZONE_C' , '1OYSum of BEKLEME' ,\n",
    "      '1OYSum of FAN' , '1OYSum of KAPI ACMA' , '1OYSum of FAN / KLAPE' , '1OYSum of GAUDI_offset' ,\n",
    "      '1OYSum of GAUDI_nonoffset' , '2AYSum of kapalı' , '2AYSum of SURE' , '2AYSum of CIRC_TIME' , '2AYSum of WI' ,\n",
    "      '2AYMax of DEVIR' , '2AYMax of TEMP' , '2AYSum of ALT_C' , '2AYSum of ÜST_C' , '2AYSum of TEPE_C' , '2AYSum of ZONE_C' , \n",
    "      '2AYSum of BEKLEME' , '2AYSum of FAN' , '2AYSum of KAPI ACMA' , '2AYSum of FAN / KLAPE' , '2AYSum of GAUDI_offset' , \n",
    "      '2AYSum of GAUDI_nonoffset' , '3MFTSum of kapalı' , '3MFTSum of SURE' , '3MFTSum of CIRC_TIME' , '3MFTSum of WI' ,\n",
    "      '3MFTMax of DEVIR' , '3MFTMax of TEMP' , '3MFTSum of ALT_C' , '3MFTSum of ÜST_C' , '3MFTSum of TEPE_C' , \n",
    "      '3MFTSum of ZONE_C' , '3MFTSum of BEKLEME' , '3MFTSum of FAN', '3MFTSum of KAPI ACMA' , '3MFTSum of FAN / KLAPE' , \n",
    "      '3MFTSum of GAUDI_offset' , '3MFTSum of GAUDI_nonoffset' , '4SGDSum of kapalı' , '4SGDSum of SURE' , \n",
    "      '4SGDSum of CIRC_TIME', '4SGDSum of WI' , '4SGDMax of DEVIR' , '4SGDMax of TEMP' , '4SGDSum of ALT_C' , \n",
    "      '4SGDSum of ÜST_C' , '4SGDSum of TEPE_C' , '4SGDSum of ZONE_C' , '4SGDSum of BEKLEME' , '4SGDSum of FAN' , \n",
    "      '4SGDSum of KAPI ACMA' , '4SGDSum of FAN / KLAPE' , '4SGDSum of GAUDI_offset' , '4SGDSum of GAUDI_nonoffset' , \n",
    "      '5ERSum of kapalı' , '5ERSum of SURE' , '5ERSum of CIRC_TIME' , '5ERSum of WI' , '5ERMax of DEVIR' , '5ERMax of TEMP' ,\n",
    "      '5ERSum of ALT_C' , '5ERSum of ÜST_C' , '5ERSum of TEPE_C' , '5ERSum of ZONE_C' , '5ERSum of BEKLEME' ,\n",
    "      '5ERSum of FAN' , '5ERSum of KAPI ACMA' , '5ERSum of FAN / KLAPE' , '5ERSum of GAUDI_offset' , \n",
    "      '5ERSum of GAUDI_nonoffset' , '6SCD1Sum of kapalı' , '6SCD1Sum of SURE' , '6SCD1Sum of CIRC_TIME' , '6SCD1Sum of WI' , \n",
    "      '6SCD1Max of DEVIR' , '6SCD1Max of TEMP' , '6SCD1Sum of ALT_C' , '6SCD1Sum of ÜST_C' , '6SCD1Sum of TEPE_C' , \n",
    "      '6SCD1Sum of ZONE_C' , '6SCD1Sum of BEKLEME' , '6SCD1Sum of FAN' , '6SCD1Sum of KAPI ACMA' , '6SCD1Sum of FAN / KLAPE' ,\n",
    "      '6SCD1Sum of GAUDI_offset' , '6SCD1Sum of GAUDI_nonoffset' , '7SCD2Sum of kapalı' , '7SCD2Sum of SURE' , \n",
    "      '7SCD2Sum of CIRC_TIME' , '7SCD2Sum of WI' , '7SCD2Max of DEVIR' , '7SCD2Max of TEMP' , '7SCD2Sum of ALT_C' , \n",
    "      '7SCD2Sum of ÜST_C' , '7SCD2Sum of TEPE_C' , '7SCD2Sum of ZONE_C' , '7SCD2Sum of BEKLEME' , '7SCD2Sum of FAN' , \n",
    "      '7SCD2Sum of KAPI ACMA' , '7SCD2Sum of FAN / KLAPE' , '7SCD2Sum of GAUDI_offset' , '7SCD2Sum of GAUDI_nonoffset' , \n",
    "      '8DSBSum of kapalı' , '8DSBSum of SURE' , '8DSBSum of CIRC_TIME' , '8DSBSum of WI' , '8DSBMax of DEVIR' , \n",
    "      '8DSBMax of TEMP' , '8DSBSum of ALT_C' , '8DSBSum of ÜST_C', '8DSBSum of TEPE_C' , '8DSBSum of ZONE_C' ,\n",
    "      '8DSBSum of BEKLEME' , '8DSBSum of FAN' , '8DSBSum of KAPI ACMA' , '8DSBSum of FAN / KLAPE' , '8DSBSum of GAUDI_offset' ,\n",
    "      '8DSBSum of GAUDI_nonoffset', '9RYSum of kapalı' , '9RYSum of SURE' , '9RYSum of CIRC_TIME' , '9RYSum of WI' , \n",
    "      '9RYMax of DEVIR' , '9RYMax of TEMP' , '9RYSum of ALT_C' , '9RYSum of ÜST_C', '9RYSum of TEPE_C' , '9RYSum of ZONE_C' ,\n",
    "      '9RYSum of BEKLEME' , '9RYSum of FAN' , '9RYSum of KAPI ACMA' , '9RYSum of FAN / KLAPE' , '9RYSum of GAUDI_offset' ,\n",
    "      '9RYSum of GAUDI_nonoffset' , '10KUSum of kapalı' , '10KUSum of SURE' , '10KUSum of CIRC_TIME' , '10KUSum of WI' , \n",
    "      '10KUMax of DEVIR' , '10KUMax of TEMP' , '10KUSum of ALT_C' , '10KUSum of ÜST_C', '10KUSum of TEPE_C' ,\n",
    "      '10KUSum of ZONE_C' , '10KUSum of BEKLEME' , '10KUSum of FAN' , '10KUSum of KAPI ACMA' , '10KUSum of FAN / KLAPE' ,\n",
    "      '10KUSum of GAUDI_offset', '10KUSum of GAUDI_nonoffset']"
   ]
  },
  {
   "cell_type": "code",
   "execution_count": 127,
   "id": "bb26bd97",
   "metadata": {},
   "outputs": [],
   "source": [
    "df=df_ref[data]"
   ]
  },
  {
   "cell_type": "markdown",
   "id": "e266a2fb",
   "metadata": {},
   "source": [
    "df is our reference data. It consists of all the experiments of 60cm dishwashers"
   ]
  },
  {
   "cell_type": "code",
   "execution_count": 128,
   "id": "6707de96",
   "metadata": {},
   "outputs": [
    {
     "data": {
      "text/html": [
       "<div>\n",
       "<style scoped>\n",
       "    .dataframe tbody tr th:only-of-type {\n",
       "        vertical-align: middle;\n",
       "    }\n",
       "\n",
       "    .dataframe tbody tr th {\n",
       "        vertical-align: top;\n",
       "    }\n",
       "\n",
       "    .dataframe thead th {\n",
       "        text-align: right;\n",
       "    }\n",
       "</style>\n",
       "<table border=\"1\" class=\"dataframe\">\n",
       "  <thead>\n",
       "    <tr style=\"text-align: right;\">\n",
       "      <th></th>\n",
       "      <th>CPI</th>\n",
       "      <th>DPI</th>\n",
       "      <th>EC</th>\n",
       "      <th>T</th>\n",
       "      <th>WC</th>\n",
       "      <th>1OYSum of kapalı</th>\n",
       "      <th>1OYSum of SURE</th>\n",
       "      <th>1OYSum of CIRC_TIME</th>\n",
       "      <th>1OYSum of WI</th>\n",
       "      <th>1OYMax of DEVIR</th>\n",
       "      <th>...</th>\n",
       "      <th>10KUSum of ALT_C</th>\n",
       "      <th>10KUSum of ÜST_C</th>\n",
       "      <th>10KUSum of TEPE_C</th>\n",
       "      <th>10KUSum of ZONE_C</th>\n",
       "      <th>10KUSum of BEKLEME</th>\n",
       "      <th>10KUSum of FAN</th>\n",
       "      <th>10KUSum of KAPI ACMA</th>\n",
       "      <th>10KUSum of FAN / KLAPE</th>\n",
       "      <th>10KUSum of GAUDI_offset</th>\n",
       "      <th>10KUSum of GAUDI_nonoffset</th>\n",
       "    </tr>\n",
       "  </thead>\n",
       "  <tbody>\n",
       "    <tr>\n",
       "      <th>0</th>\n",
       "      <td>3.238150</td>\n",
       "      <td>86.705202</td>\n",
       "      <td>0.855000</td>\n",
       "      <td>225.000000</td>\n",
       "      <td>9.606667</td>\n",
       "      <td>0</td>\n",
       "      <td>24</td>\n",
       "      <td>21</td>\n",
       "      <td>4.0</td>\n",
       "      <td>2800</td>\n",
       "      <td>...</td>\n",
       "      <td>0</td>\n",
       "      <td>0</td>\n",
       "      <td>0</td>\n",
       "      <td>0</td>\n",
       "      <td>10</td>\n",
       "      <td>78</td>\n",
       "      <td>1</td>\n",
       "      <td>0</td>\n",
       "      <td>0</td>\n",
       "      <td>0</td>\n",
       "    </tr>\n",
       "    <tr>\n",
       "      <th>1</th>\n",
       "      <td>3.266000</td>\n",
       "      <td>83.230000</td>\n",
       "      <td>0.884200</td>\n",
       "      <td>240.000000</td>\n",
       "      <td>8.750000</td>\n",
       "      <td>0</td>\n",
       "      <td>21</td>\n",
       "      <td>18</td>\n",
       "      <td>4.0</td>\n",
       "      <td>3000</td>\n",
       "      <td>...</td>\n",
       "      <td>0</td>\n",
       "      <td>0</td>\n",
       "      <td>0</td>\n",
       "      <td>0</td>\n",
       "      <td>10</td>\n",
       "      <td>93</td>\n",
       "      <td>0</td>\n",
       "      <td>0</td>\n",
       "      <td>0</td>\n",
       "      <td>0</td>\n",
       "    </tr>\n",
       "    <tr>\n",
       "      <th>2</th>\n",
       "      <td>3.266000</td>\n",
       "      <td>83.230000</td>\n",
       "      <td>0.884200</td>\n",
       "      <td>240.000000</td>\n",
       "      <td>8.750000</td>\n",
       "      <td>0</td>\n",
       "      <td>21</td>\n",
       "      <td>18</td>\n",
       "      <td>4.0</td>\n",
       "      <td>3000</td>\n",
       "      <td>...</td>\n",
       "      <td>0</td>\n",
       "      <td>0</td>\n",
       "      <td>0</td>\n",
       "      <td>0</td>\n",
       "      <td>10</td>\n",
       "      <td>93</td>\n",
       "      <td>0</td>\n",
       "      <td>0</td>\n",
       "      <td>0</td>\n",
       "      <td>0</td>\n",
       "    </tr>\n",
       "    <tr>\n",
       "      <th>3</th>\n",
       "      <td>3.220000</td>\n",
       "      <td>76.078000</td>\n",
       "      <td>0.500000</td>\n",
       "      <td>265.000000</td>\n",
       "      <td>10.000000</td>\n",
       "      <td>2</td>\n",
       "      <td>48</td>\n",
       "      <td>43</td>\n",
       "      <td>4.8</td>\n",
       "      <td>2800</td>\n",
       "      <td>...</td>\n",
       "      <td>0</td>\n",
       "      <td>0</td>\n",
       "      <td>0</td>\n",
       "      <td>0</td>\n",
       "      <td>50</td>\n",
       "      <td>57</td>\n",
       "      <td>1</td>\n",
       "      <td>30</td>\n",
       "      <td>0</td>\n",
       "      <td>0</td>\n",
       "    </tr>\n",
       "    <tr>\n",
       "      <th>4</th>\n",
       "      <td>3.280000</td>\n",
       "      <td>78.235000</td>\n",
       "      <td>0.590000</td>\n",
       "      <td>265.000000</td>\n",
       "      <td>9.200000</td>\n",
       "      <td>3</td>\n",
       "      <td>49</td>\n",
       "      <td>44</td>\n",
       "      <td>4.8</td>\n",
       "      <td>2800</td>\n",
       "      <td>...</td>\n",
       "      <td>0</td>\n",
       "      <td>0</td>\n",
       "      <td>0</td>\n",
       "      <td>0</td>\n",
       "      <td>30</td>\n",
       "      <td>63</td>\n",
       "      <td>1</td>\n",
       "      <td>29</td>\n",
       "      <td>0</td>\n",
       "      <td>0</td>\n",
       "    </tr>\n",
       "    <tr>\n",
       "      <th>...</th>\n",
       "      <td>...</td>\n",
       "      <td>...</td>\n",
       "      <td>...</td>\n",
       "      <td>...</td>\n",
       "      <td>...</td>\n",
       "      <td>...</td>\n",
       "      <td>...</td>\n",
       "      <td>...</td>\n",
       "      <td>...</td>\n",
       "      <td>...</td>\n",
       "      <td>...</td>\n",
       "      <td>...</td>\n",
       "      <td>...</td>\n",
       "      <td>...</td>\n",
       "      <td>...</td>\n",
       "      <td>...</td>\n",
       "      <td>...</td>\n",
       "      <td>...</td>\n",
       "      <td>...</td>\n",
       "      <td>...</td>\n",
       "      <td>...</td>\n",
       "    </tr>\n",
       "    <tr>\n",
       "      <th>149</th>\n",
       "      <td>3.300662</td>\n",
       "      <td>84.105960</td>\n",
       "      <td>1.046000</td>\n",
       "      <td>226.000000</td>\n",
       "      <td>12.113333</td>\n",
       "      <td>0</td>\n",
       "      <td>23</td>\n",
       "      <td>20</td>\n",
       "      <td>4.6</td>\n",
       "      <td>2800</td>\n",
       "      <td>...</td>\n",
       "      <td>0</td>\n",
       "      <td>0</td>\n",
       "      <td>0</td>\n",
       "      <td>0</td>\n",
       "      <td>102</td>\n",
       "      <td>0</td>\n",
       "      <td>0</td>\n",
       "      <td>0</td>\n",
       "      <td>0</td>\n",
       "      <td>0</td>\n",
       "    </tr>\n",
       "    <tr>\n",
       "      <th>150</th>\n",
       "      <td>3.358667</td>\n",
       "      <td>87.000000</td>\n",
       "      <td>0.951622</td>\n",
       "      <td>220.000000</td>\n",
       "      <td>9.500000</td>\n",
       "      <td>0</td>\n",
       "      <td>19</td>\n",
       "      <td>16</td>\n",
       "      <td>4.0</td>\n",
       "      <td>2800</td>\n",
       "      <td>...</td>\n",
       "      <td>0</td>\n",
       "      <td>0</td>\n",
       "      <td>0</td>\n",
       "      <td>0</td>\n",
       "      <td>20</td>\n",
       "      <td>73</td>\n",
       "      <td>0</td>\n",
       "      <td>0</td>\n",
       "      <td>0</td>\n",
       "      <td>0</td>\n",
       "    </tr>\n",
       "    <tr>\n",
       "      <th>151</th>\n",
       "      <td>3.550000</td>\n",
       "      <td>80.000000</td>\n",
       "      <td>0.864750</td>\n",
       "      <td>210.000000</td>\n",
       "      <td>12.000000</td>\n",
       "      <td>0</td>\n",
       "      <td>8</td>\n",
       "      <td>6</td>\n",
       "      <td>3.5</td>\n",
       "      <td>2800</td>\n",
       "      <td>...</td>\n",
       "      <td>0</td>\n",
       "      <td>0</td>\n",
       "      <td>0</td>\n",
       "      <td>0</td>\n",
       "      <td>123</td>\n",
       "      <td>0</td>\n",
       "      <td>0</td>\n",
       "      <td>0</td>\n",
       "      <td>0</td>\n",
       "      <td>0</td>\n",
       "    </tr>\n",
       "    <tr>\n",
       "      <th>152</th>\n",
       "      <td>3.230864</td>\n",
       "      <td>86.316872</td>\n",
       "      <td>0.861667</td>\n",
       "      <td>227.666667</td>\n",
       "      <td>10.726667</td>\n",
       "      <td>0</td>\n",
       "      <td>19</td>\n",
       "      <td>16</td>\n",
       "      <td>4.0</td>\n",
       "      <td>2800</td>\n",
       "      <td>...</td>\n",
       "      <td>0</td>\n",
       "      <td>0</td>\n",
       "      <td>0</td>\n",
       "      <td>0</td>\n",
       "      <td>10</td>\n",
       "      <td>98</td>\n",
       "      <td>0</td>\n",
       "      <td>37</td>\n",
       "      <td>0</td>\n",
       "      <td>0</td>\n",
       "    </tr>\n",
       "    <tr>\n",
       "      <th>153</th>\n",
       "      <td>3.224277</td>\n",
       "      <td>85.260116</td>\n",
       "      <td>0.906000</td>\n",
       "      <td>252.500000</td>\n",
       "      <td>11.285000</td>\n",
       "      <td>0</td>\n",
       "      <td>24</td>\n",
       "      <td>21</td>\n",
       "      <td>4.0</td>\n",
       "      <td>2800</td>\n",
       "      <td>...</td>\n",
       "      <td>0</td>\n",
       "      <td>0</td>\n",
       "      <td>0</td>\n",
       "      <td>0</td>\n",
       "      <td>10</td>\n",
       "      <td>98</td>\n",
       "      <td>0</td>\n",
       "      <td>34</td>\n",
       "      <td>0</td>\n",
       "      <td>0</td>\n",
       "    </tr>\n",
       "  </tbody>\n",
       "</table>\n",
       "<p>154 rows × 165 columns</p>\n",
       "</div>"
      ],
      "text/plain": [
       "          CPI        DPI        EC           T         WC  1OYSum of kapalı  \\\n",
       "0    3.238150  86.705202  0.855000  225.000000   9.606667                 0   \n",
       "1    3.266000  83.230000  0.884200  240.000000   8.750000                 0   \n",
       "2    3.266000  83.230000  0.884200  240.000000   8.750000                 0   \n",
       "3    3.220000  76.078000  0.500000  265.000000  10.000000                 2   \n",
       "4    3.280000  78.235000  0.590000  265.000000   9.200000                 3   \n",
       "..        ...        ...       ...         ...        ...               ...   \n",
       "149  3.300662  84.105960  1.046000  226.000000  12.113333                 0   \n",
       "150  3.358667  87.000000  0.951622  220.000000   9.500000                 0   \n",
       "151  3.550000  80.000000  0.864750  210.000000  12.000000                 0   \n",
       "152  3.230864  86.316872  0.861667  227.666667  10.726667                 0   \n",
       "153  3.224277  85.260116  0.906000  252.500000  11.285000                 0   \n",
       "\n",
       "     1OYSum of SURE  1OYSum of CIRC_TIME  1OYSum of WI  1OYMax of DEVIR  ...  \\\n",
       "0                24                   21           4.0             2800  ...   \n",
       "1                21                   18           4.0             3000  ...   \n",
       "2                21                   18           4.0             3000  ...   \n",
       "3                48                   43           4.8             2800  ...   \n",
       "4                49                   44           4.8             2800  ...   \n",
       "..              ...                  ...           ...              ...  ...   \n",
       "149              23                   20           4.6             2800  ...   \n",
       "150              19                   16           4.0             2800  ...   \n",
       "151               8                    6           3.5             2800  ...   \n",
       "152              19                   16           4.0             2800  ...   \n",
       "153              24                   21           4.0             2800  ...   \n",
       "\n",
       "     10KUSum of ALT_C  10KUSum of ÜST_C  10KUSum of TEPE_C  10KUSum of ZONE_C  \\\n",
       "0                   0                 0                  0                  0   \n",
       "1                   0                 0                  0                  0   \n",
       "2                   0                 0                  0                  0   \n",
       "3                   0                 0                  0                  0   \n",
       "4                   0                 0                  0                  0   \n",
       "..                ...               ...                ...                ...   \n",
       "149                 0                 0                  0                  0   \n",
       "150                 0                 0                  0                  0   \n",
       "151                 0                 0                  0                  0   \n",
       "152                 0                 0                  0                  0   \n",
       "153                 0                 0                  0                  0   \n",
       "\n",
       "     10KUSum of BEKLEME  10KUSum of FAN  10KUSum of KAPI ACMA  \\\n",
       "0                    10              78                     1   \n",
       "1                    10              93                     0   \n",
       "2                    10              93                     0   \n",
       "3                    50              57                     1   \n",
       "4                    30              63                     1   \n",
       "..                  ...             ...                   ...   \n",
       "149                 102               0                     0   \n",
       "150                  20              73                     0   \n",
       "151                 123               0                     0   \n",
       "152                  10              98                     0   \n",
       "153                  10              98                     0   \n",
       "\n",
       "     10KUSum of FAN / KLAPE  10KUSum of GAUDI_offset  \\\n",
       "0                         0                        0   \n",
       "1                         0                        0   \n",
       "2                         0                        0   \n",
       "3                        30                        0   \n",
       "4                        29                        0   \n",
       "..                      ...                      ...   \n",
       "149                       0                        0   \n",
       "150                       0                        0   \n",
       "151                       0                        0   \n",
       "152                      37                        0   \n",
       "153                      34                        0   \n",
       "\n",
       "     10KUSum of GAUDI_nonoffset  \n",
       "0                             0  \n",
       "1                             0  \n",
       "2                             0  \n",
       "3                             0  \n",
       "4                             0  \n",
       "..                          ...  \n",
       "149                           0  \n",
       "150                           0  \n",
       "151                           0  \n",
       "152                           0  \n",
       "153                           0  \n",
       "\n",
       "[154 rows x 165 columns]"
      ]
     },
     "execution_count": 128,
     "metadata": {},
     "output_type": "execute_result"
    }
   ],
   "source": [
    "df"
   ]
  },
  {
   "cell_type": "markdown",
   "id": "d0dcaa18",
   "metadata": {},
   "source": [
    "the statistical summary of output data as in the report"
   ]
  },
  {
   "cell_type": "code",
   "execution_count": 129,
   "id": "8cdaf797",
   "metadata": {},
   "outputs": [],
   "source": [
    "y_CPI = df['CPI']\n",
    "y_DPI = df['DPI']\n",
    "y_EC=df['EC']\n",
    "y_T=df['T']\n",
    "y_WC=df['WC']"
   ]
  },
  {
   "cell_type": "code",
   "execution_count": 130,
   "id": "4848c7b6",
   "metadata": {},
   "outputs": [
    {
     "data": {
      "text/plain": [
       "count    154.000000\n",
       "mean       3.287778\n",
       "std        0.226735\n",
       "min        2.290000\n",
       "25%        3.274000\n",
       "50%        3.327080\n",
       "75%        3.370500\n",
       "max        3.580000\n",
       "Name: CPI, dtype: float64"
      ]
     },
     "execution_count": 130,
     "metadata": {},
     "output_type": "execute_result"
    }
   ],
   "source": [
    "y_CPI.describe()"
   ]
  },
  {
   "cell_type": "code",
   "execution_count": 131,
   "id": "be2c67ef",
   "metadata": {},
   "outputs": [
    {
     "data": {
      "text/plain": [
       "count    154.000000\n",
       "mean      79.913332\n",
       "std       15.151414\n",
       "min       15.000000\n",
       "25%       81.000000\n",
       "50%       84.000000\n",
       "75%       86.095376\n",
       "max       92.301325\n",
       "Name: DPI, dtype: float64"
      ]
     },
     "execution_count": 131,
     "metadata": {},
     "output_type": "execute_result"
    }
   ],
   "source": [
    "y_DPI.describe()"
   ]
  },
  {
   "cell_type": "code",
   "execution_count": 132,
   "id": "1f7b5f51",
   "metadata": {},
   "outputs": [
    {
     "data": {
      "text/plain": [
       "count    154.000000\n",
       "mean       0.874302\n",
       "std        0.149146\n",
       "min        0.500000\n",
       "25%        0.800500\n",
       "50%        0.856667\n",
       "75%        0.949250\n",
       "max        1.220000\n",
       "Name: EC, dtype: float64"
      ]
     },
     "execution_count": 132,
     "metadata": {},
     "output_type": "execute_result"
    }
   ],
   "source": [
    "y_EC.describe()"
   ]
  },
  {
   "cell_type": "code",
   "execution_count": 133,
   "id": "86d87781",
   "metadata": {},
   "outputs": [
    {
     "data": {
      "text/plain": [
       "count    154.000000\n",
       "mean      10.574918\n",
       "std        1.912754\n",
       "min        6.793333\n",
       "25%        9.500000\n",
       "50%        9.900000\n",
       "75%       11.427500\n",
       "max       17.600000\n",
       "Name: WC, dtype: float64"
      ]
     },
     "execution_count": 133,
     "metadata": {},
     "output_type": "execute_result"
    }
   ],
   "source": [
    "y_WC.describe()"
   ]
  },
  {
   "cell_type": "code",
   "execution_count": 134,
   "id": "db49d22d",
   "metadata": {},
   "outputs": [
    {
     "data": {
      "text/plain": [
       "count    154.000000\n",
       "mean     206.053301\n",
       "std       66.297071\n",
       "min       30.000000\n",
       "25%      205.000000\n",
       "50%      227.333333\n",
       "75%      243.562500\n",
       "max      297.000000\n",
       "Name: T, dtype: float64"
      ]
     },
     "execution_count": 134,
     "metadata": {},
     "output_type": "execute_result"
    }
   ],
   "source": [
    "y_T.describe()"
   ]
  },
  {
   "cell_type": "markdown",
   "id": "0deddf1c",
   "metadata": {},
   "source": [
    "# check for duplicates"
   ]
  },
  {
   "cell_type": "code",
   "execution_count": 135,
   "id": "af5ff4f9",
   "metadata": {},
   "outputs": [],
   "source": [
    "df_ver_0=df.drop_duplicates(keep='last',subset=indvar)"
   ]
  },
  {
   "cell_type": "code",
   "execution_count": 136,
   "id": "957ec2ee",
   "metadata": {},
   "outputs": [
    {
     "data": {
      "text/html": [
       "<div>\n",
       "<style scoped>\n",
       "    .dataframe tbody tr th:only-of-type {\n",
       "        vertical-align: middle;\n",
       "    }\n",
       "\n",
       "    .dataframe tbody tr th {\n",
       "        vertical-align: top;\n",
       "    }\n",
       "\n",
       "    .dataframe thead th {\n",
       "        text-align: right;\n",
       "    }\n",
       "</style>\n",
       "<table border=\"1\" class=\"dataframe\">\n",
       "  <thead>\n",
       "    <tr style=\"text-align: right;\">\n",
       "      <th></th>\n",
       "      <th>CPI</th>\n",
       "      <th>DPI</th>\n",
       "      <th>EC</th>\n",
       "      <th>T</th>\n",
       "      <th>WC</th>\n",
       "      <th>1OYSum of kapalı</th>\n",
       "      <th>1OYSum of SURE</th>\n",
       "      <th>1OYSum of CIRC_TIME</th>\n",
       "      <th>1OYSum of WI</th>\n",
       "      <th>1OYMax of DEVIR</th>\n",
       "      <th>...</th>\n",
       "      <th>10KUSum of ALT_C</th>\n",
       "      <th>10KUSum of ÜST_C</th>\n",
       "      <th>10KUSum of TEPE_C</th>\n",
       "      <th>10KUSum of ZONE_C</th>\n",
       "      <th>10KUSum of BEKLEME</th>\n",
       "      <th>10KUSum of FAN</th>\n",
       "      <th>10KUSum of KAPI ACMA</th>\n",
       "      <th>10KUSum of FAN / KLAPE</th>\n",
       "      <th>10KUSum of GAUDI_offset</th>\n",
       "      <th>10KUSum of GAUDI_nonoffset</th>\n",
       "    </tr>\n",
       "  </thead>\n",
       "  <tbody>\n",
       "    <tr>\n",
       "      <th>3</th>\n",
       "      <td>3.220000</td>\n",
       "      <td>76.078000</td>\n",
       "      <td>0.500000</td>\n",
       "      <td>265.000000</td>\n",
       "      <td>10.000000</td>\n",
       "      <td>2</td>\n",
       "      <td>48</td>\n",
       "      <td>43</td>\n",
       "      <td>4.8</td>\n",
       "      <td>2800</td>\n",
       "      <td>...</td>\n",
       "      <td>0</td>\n",
       "      <td>0</td>\n",
       "      <td>0</td>\n",
       "      <td>0</td>\n",
       "      <td>50</td>\n",
       "      <td>57</td>\n",
       "      <td>1</td>\n",
       "      <td>30</td>\n",
       "      <td>0</td>\n",
       "      <td>0</td>\n",
       "    </tr>\n",
       "    <tr>\n",
       "      <th>4</th>\n",
       "      <td>3.280000</td>\n",
       "      <td>78.235000</td>\n",
       "      <td>0.590000</td>\n",
       "      <td>265.000000</td>\n",
       "      <td>9.200000</td>\n",
       "      <td>3</td>\n",
       "      <td>49</td>\n",
       "      <td>44</td>\n",
       "      <td>4.8</td>\n",
       "      <td>2800</td>\n",
       "      <td>...</td>\n",
       "      <td>0</td>\n",
       "      <td>0</td>\n",
       "      <td>0</td>\n",
       "      <td>0</td>\n",
       "      <td>30</td>\n",
       "      <td>63</td>\n",
       "      <td>1</td>\n",
       "      <td>29</td>\n",
       "      <td>0</td>\n",
       "      <td>0</td>\n",
       "    </tr>\n",
       "    <tr>\n",
       "      <th>5</th>\n",
       "      <td>3.270000</td>\n",
       "      <td>81.176000</td>\n",
       "      <td>0.570000</td>\n",
       "      <td>275.000000</td>\n",
       "      <td>9.480000</td>\n",
       "      <td>8</td>\n",
       "      <td>54</td>\n",
       "      <td>49</td>\n",
       "      <td>4.8</td>\n",
       "      <td>2800</td>\n",
       "      <td>...</td>\n",
       "      <td>0</td>\n",
       "      <td>0</td>\n",
       "      <td>0</td>\n",
       "      <td>0</td>\n",
       "      <td>30</td>\n",
       "      <td>80</td>\n",
       "      <td>1</td>\n",
       "      <td>38</td>\n",
       "      <td>0</td>\n",
       "      <td>0</td>\n",
       "    </tr>\n",
       "    <tr>\n",
       "      <th>6</th>\n",
       "      <td>3.300000</td>\n",
       "      <td>77.647000</td>\n",
       "      <td>0.580000</td>\n",
       "      <td>250.000000</td>\n",
       "      <td>9.410000</td>\n",
       "      <td>8</td>\n",
       "      <td>54</td>\n",
       "      <td>49</td>\n",
       "      <td>4.8</td>\n",
       "      <td>2800</td>\n",
       "      <td>...</td>\n",
       "      <td>0</td>\n",
       "      <td>0</td>\n",
       "      <td>0</td>\n",
       "      <td>0</td>\n",
       "      <td>30</td>\n",
       "      <td>63</td>\n",
       "      <td>1</td>\n",
       "      <td>29</td>\n",
       "      <td>0</td>\n",
       "      <td>0</td>\n",
       "    </tr>\n",
       "    <tr>\n",
       "      <th>8</th>\n",
       "      <td>3.270000</td>\n",
       "      <td>82.824000</td>\n",
       "      <td>0.650000</td>\n",
       "      <td>250.000000</td>\n",
       "      <td>9.770000</td>\n",
       "      <td>8</td>\n",
       "      <td>55</td>\n",
       "      <td>49</td>\n",
       "      <td>7.1</td>\n",
       "      <td>2800</td>\n",
       "      <td>...</td>\n",
       "      <td>0</td>\n",
       "      <td>0</td>\n",
       "      <td>0</td>\n",
       "      <td>0</td>\n",
       "      <td>30</td>\n",
       "      <td>63</td>\n",
       "      <td>1</td>\n",
       "      <td>29</td>\n",
       "      <td>0</td>\n",
       "      <td>0</td>\n",
       "    </tr>\n",
       "    <tr>\n",
       "      <th>...</th>\n",
       "      <td>...</td>\n",
       "      <td>...</td>\n",
       "      <td>...</td>\n",
       "      <td>...</td>\n",
       "      <td>...</td>\n",
       "      <td>...</td>\n",
       "      <td>...</td>\n",
       "      <td>...</td>\n",
       "      <td>...</td>\n",
       "      <td>...</td>\n",
       "      <td>...</td>\n",
       "      <td>...</td>\n",
       "      <td>...</td>\n",
       "      <td>...</td>\n",
       "      <td>...</td>\n",
       "      <td>...</td>\n",
       "      <td>...</td>\n",
       "      <td>...</td>\n",
       "      <td>...</td>\n",
       "      <td>...</td>\n",
       "      <td>...</td>\n",
       "    </tr>\n",
       "    <tr>\n",
       "      <th>149</th>\n",
       "      <td>3.300662</td>\n",
       "      <td>84.105960</td>\n",
       "      <td>1.046000</td>\n",
       "      <td>226.000000</td>\n",
       "      <td>12.113333</td>\n",
       "      <td>0</td>\n",
       "      <td>23</td>\n",
       "      <td>20</td>\n",
       "      <td>4.6</td>\n",
       "      <td>2800</td>\n",
       "      <td>...</td>\n",
       "      <td>0</td>\n",
       "      <td>0</td>\n",
       "      <td>0</td>\n",
       "      <td>0</td>\n",
       "      <td>102</td>\n",
       "      <td>0</td>\n",
       "      <td>0</td>\n",
       "      <td>0</td>\n",
       "      <td>0</td>\n",
       "      <td>0</td>\n",
       "    </tr>\n",
       "    <tr>\n",
       "      <th>150</th>\n",
       "      <td>3.358667</td>\n",
       "      <td>87.000000</td>\n",
       "      <td>0.951622</td>\n",
       "      <td>220.000000</td>\n",
       "      <td>9.500000</td>\n",
       "      <td>0</td>\n",
       "      <td>19</td>\n",
       "      <td>16</td>\n",
       "      <td>4.0</td>\n",
       "      <td>2800</td>\n",
       "      <td>...</td>\n",
       "      <td>0</td>\n",
       "      <td>0</td>\n",
       "      <td>0</td>\n",
       "      <td>0</td>\n",
       "      <td>20</td>\n",
       "      <td>73</td>\n",
       "      <td>0</td>\n",
       "      <td>0</td>\n",
       "      <td>0</td>\n",
       "      <td>0</td>\n",
       "    </tr>\n",
       "    <tr>\n",
       "      <th>151</th>\n",
       "      <td>3.550000</td>\n",
       "      <td>80.000000</td>\n",
       "      <td>0.864750</td>\n",
       "      <td>210.000000</td>\n",
       "      <td>12.000000</td>\n",
       "      <td>0</td>\n",
       "      <td>8</td>\n",
       "      <td>6</td>\n",
       "      <td>3.5</td>\n",
       "      <td>2800</td>\n",
       "      <td>...</td>\n",
       "      <td>0</td>\n",
       "      <td>0</td>\n",
       "      <td>0</td>\n",
       "      <td>0</td>\n",
       "      <td>123</td>\n",
       "      <td>0</td>\n",
       "      <td>0</td>\n",
       "      <td>0</td>\n",
       "      <td>0</td>\n",
       "      <td>0</td>\n",
       "    </tr>\n",
       "    <tr>\n",
       "      <th>152</th>\n",
       "      <td>3.230864</td>\n",
       "      <td>86.316872</td>\n",
       "      <td>0.861667</td>\n",
       "      <td>227.666667</td>\n",
       "      <td>10.726667</td>\n",
       "      <td>0</td>\n",
       "      <td>19</td>\n",
       "      <td>16</td>\n",
       "      <td>4.0</td>\n",
       "      <td>2800</td>\n",
       "      <td>...</td>\n",
       "      <td>0</td>\n",
       "      <td>0</td>\n",
       "      <td>0</td>\n",
       "      <td>0</td>\n",
       "      <td>10</td>\n",
       "      <td>98</td>\n",
       "      <td>0</td>\n",
       "      <td>37</td>\n",
       "      <td>0</td>\n",
       "      <td>0</td>\n",
       "    </tr>\n",
       "    <tr>\n",
       "      <th>153</th>\n",
       "      <td>3.224277</td>\n",
       "      <td>85.260116</td>\n",
       "      <td>0.906000</td>\n",
       "      <td>252.500000</td>\n",
       "      <td>11.285000</td>\n",
       "      <td>0</td>\n",
       "      <td>24</td>\n",
       "      <td>21</td>\n",
       "      <td>4.0</td>\n",
       "      <td>2800</td>\n",
       "      <td>...</td>\n",
       "      <td>0</td>\n",
       "      <td>0</td>\n",
       "      <td>0</td>\n",
       "      <td>0</td>\n",
       "      <td>10</td>\n",
       "      <td>98</td>\n",
       "      <td>0</td>\n",
       "      <td>34</td>\n",
       "      <td>0</td>\n",
       "      <td>0</td>\n",
       "    </tr>\n",
       "  </tbody>\n",
       "</table>\n",
       "<p>94 rows × 165 columns</p>\n",
       "</div>"
      ],
      "text/plain": [
       "          CPI        DPI        EC           T         WC  1OYSum of kapalı  \\\n",
       "3    3.220000  76.078000  0.500000  265.000000  10.000000                 2   \n",
       "4    3.280000  78.235000  0.590000  265.000000   9.200000                 3   \n",
       "5    3.270000  81.176000  0.570000  275.000000   9.480000                 8   \n",
       "6    3.300000  77.647000  0.580000  250.000000   9.410000                 8   \n",
       "8    3.270000  82.824000  0.650000  250.000000   9.770000                 8   \n",
       "..        ...        ...       ...         ...        ...               ...   \n",
       "149  3.300662  84.105960  1.046000  226.000000  12.113333                 0   \n",
       "150  3.358667  87.000000  0.951622  220.000000   9.500000                 0   \n",
       "151  3.550000  80.000000  0.864750  210.000000  12.000000                 0   \n",
       "152  3.230864  86.316872  0.861667  227.666667  10.726667                 0   \n",
       "153  3.224277  85.260116  0.906000  252.500000  11.285000                 0   \n",
       "\n",
       "     1OYSum of SURE  1OYSum of CIRC_TIME  1OYSum of WI  1OYMax of DEVIR  ...  \\\n",
       "3                48                   43           4.8             2800  ...   \n",
       "4                49                   44           4.8             2800  ...   \n",
       "5                54                   49           4.8             2800  ...   \n",
       "6                54                   49           4.8             2800  ...   \n",
       "8                55                   49           7.1             2800  ...   \n",
       "..              ...                  ...           ...              ...  ...   \n",
       "149              23                   20           4.6             2800  ...   \n",
       "150              19                   16           4.0             2800  ...   \n",
       "151               8                    6           3.5             2800  ...   \n",
       "152              19                   16           4.0             2800  ...   \n",
       "153              24                   21           4.0             2800  ...   \n",
       "\n",
       "     10KUSum of ALT_C  10KUSum of ÜST_C  10KUSum of TEPE_C  10KUSum of ZONE_C  \\\n",
       "3                   0                 0                  0                  0   \n",
       "4                   0                 0                  0                  0   \n",
       "5                   0                 0                  0                  0   \n",
       "6                   0                 0                  0                  0   \n",
       "8                   0                 0                  0                  0   \n",
       "..                ...               ...                ...                ...   \n",
       "149                 0                 0                  0                  0   \n",
       "150                 0                 0                  0                  0   \n",
       "151                 0                 0                  0                  0   \n",
       "152                 0                 0                  0                  0   \n",
       "153                 0                 0                  0                  0   \n",
       "\n",
       "     10KUSum of BEKLEME  10KUSum of FAN  10KUSum of KAPI ACMA  \\\n",
       "3                    50              57                     1   \n",
       "4                    30              63                     1   \n",
       "5                    30              80                     1   \n",
       "6                    30              63                     1   \n",
       "8                    30              63                     1   \n",
       "..                  ...             ...                   ...   \n",
       "149                 102               0                     0   \n",
       "150                  20              73                     0   \n",
       "151                 123               0                     0   \n",
       "152                  10              98                     0   \n",
       "153                  10              98                     0   \n",
       "\n",
       "     10KUSum of FAN / KLAPE  10KUSum of GAUDI_offset  \\\n",
       "3                        30                        0   \n",
       "4                        29                        0   \n",
       "5                        38                        0   \n",
       "6                        29                        0   \n",
       "8                        29                        0   \n",
       "..                      ...                      ...   \n",
       "149                       0                        0   \n",
       "150                       0                        0   \n",
       "151                       0                        0   \n",
       "152                      37                        0   \n",
       "153                      34                        0   \n",
       "\n",
       "     10KUSum of GAUDI_nonoffset  \n",
       "3                             0  \n",
       "4                             0  \n",
       "5                             0  \n",
       "6                             0  \n",
       "8                             0  \n",
       "..                          ...  \n",
       "149                           0  \n",
       "150                           0  \n",
       "151                           0  \n",
       "152                           0  \n",
       "153                           0  \n",
       "\n",
       "[94 rows x 165 columns]"
      ]
     },
     "execution_count": 136,
     "metadata": {},
     "output_type": "execute_result"
    }
   ],
   "source": [
    "df_ver_0"
   ]
  },
  {
   "cell_type": "code",
   "execution_count": 137,
   "id": "629a162f",
   "metadata": {},
   "outputs": [],
   "source": [
    "df_ver_0_X=df_ver_0[indvar]"
   ]
  },
  {
   "cell_type": "code",
   "execution_count": 138,
   "id": "13655ebf",
   "metadata": {},
   "outputs": [
    {
     "data": {
      "text/html": [
       "<div>\n",
       "<style scoped>\n",
       "    .dataframe tbody tr th:only-of-type {\n",
       "        vertical-align: middle;\n",
       "    }\n",
       "\n",
       "    .dataframe tbody tr th {\n",
       "        vertical-align: top;\n",
       "    }\n",
       "\n",
       "    .dataframe thead th {\n",
       "        text-align: right;\n",
       "    }\n",
       "</style>\n",
       "<table border=\"1\" class=\"dataframe\">\n",
       "  <thead>\n",
       "    <tr style=\"text-align: right;\">\n",
       "      <th></th>\n",
       "      <th>1OYSum of kapalı</th>\n",
       "      <th>1OYSum of SURE</th>\n",
       "      <th>1OYSum of CIRC_TIME</th>\n",
       "      <th>1OYSum of WI</th>\n",
       "      <th>1OYMax of DEVIR</th>\n",
       "      <th>1OYMax of TEMP</th>\n",
       "      <th>1OYSum of ALT_C</th>\n",
       "      <th>1OYSum of ÜST_C</th>\n",
       "      <th>1OYSum of TEPE_C</th>\n",
       "      <th>1OYSum of ZONE_C</th>\n",
       "      <th>...</th>\n",
       "      <th>10KUSum of ALT_C</th>\n",
       "      <th>10KUSum of ÜST_C</th>\n",
       "      <th>10KUSum of TEPE_C</th>\n",
       "      <th>10KUSum of ZONE_C</th>\n",
       "      <th>10KUSum of BEKLEME</th>\n",
       "      <th>10KUSum of FAN</th>\n",
       "      <th>10KUSum of KAPI ACMA</th>\n",
       "      <th>10KUSum of FAN / KLAPE</th>\n",
       "      <th>10KUSum of GAUDI_offset</th>\n",
       "      <th>10KUSum of GAUDI_nonoffset</th>\n",
       "    </tr>\n",
       "  </thead>\n",
       "  <tbody>\n",
       "    <tr>\n",
       "      <th>3</th>\n",
       "      <td>2</td>\n",
       "      <td>48</td>\n",
       "      <td>43</td>\n",
       "      <td>4.8</td>\n",
       "      <td>2800</td>\n",
       "      <td>53</td>\n",
       "      <td>14.6</td>\n",
       "      <td>18.6</td>\n",
       "      <td>7.8</td>\n",
       "      <td>0</td>\n",
       "      <td>...</td>\n",
       "      <td>0</td>\n",
       "      <td>0</td>\n",
       "      <td>0</td>\n",
       "      <td>0</td>\n",
       "      <td>50</td>\n",
       "      <td>57</td>\n",
       "      <td>1</td>\n",
       "      <td>30</td>\n",
       "      <td>0</td>\n",
       "      <td>0</td>\n",
       "    </tr>\n",
       "    <tr>\n",
       "      <th>4</th>\n",
       "      <td>3</td>\n",
       "      <td>49</td>\n",
       "      <td>44</td>\n",
       "      <td>4.8</td>\n",
       "      <td>2800</td>\n",
       "      <td>55</td>\n",
       "      <td>14.6</td>\n",
       "      <td>18.6</td>\n",
       "      <td>7.8</td>\n",
       "      <td>0</td>\n",
       "      <td>...</td>\n",
       "      <td>0</td>\n",
       "      <td>0</td>\n",
       "      <td>0</td>\n",
       "      <td>0</td>\n",
       "      <td>30</td>\n",
       "      <td>63</td>\n",
       "      <td>1</td>\n",
       "      <td>29</td>\n",
       "      <td>0</td>\n",
       "      <td>0</td>\n",
       "    </tr>\n",
       "    <tr>\n",
       "      <th>5</th>\n",
       "      <td>8</td>\n",
       "      <td>54</td>\n",
       "      <td>49</td>\n",
       "      <td>4.8</td>\n",
       "      <td>2800</td>\n",
       "      <td>56</td>\n",
       "      <td>14.6</td>\n",
       "      <td>18.6</td>\n",
       "      <td>7.8</td>\n",
       "      <td>0</td>\n",
       "      <td>...</td>\n",
       "      <td>0</td>\n",
       "      <td>0</td>\n",
       "      <td>0</td>\n",
       "      <td>0</td>\n",
       "      <td>30</td>\n",
       "      <td>80</td>\n",
       "      <td>1</td>\n",
       "      <td>38</td>\n",
       "      <td>0</td>\n",
       "      <td>0</td>\n",
       "    </tr>\n",
       "    <tr>\n",
       "      <th>6</th>\n",
       "      <td>8</td>\n",
       "      <td>54</td>\n",
       "      <td>49</td>\n",
       "      <td>4.8</td>\n",
       "      <td>2800</td>\n",
       "      <td>55</td>\n",
       "      <td>14.6</td>\n",
       "      <td>18.6</td>\n",
       "      <td>7.8</td>\n",
       "      <td>0</td>\n",
       "      <td>...</td>\n",
       "      <td>0</td>\n",
       "      <td>0</td>\n",
       "      <td>0</td>\n",
       "      <td>0</td>\n",
       "      <td>30</td>\n",
       "      <td>63</td>\n",
       "      <td>1</td>\n",
       "      <td>29</td>\n",
       "      <td>0</td>\n",
       "      <td>0</td>\n",
       "    </tr>\n",
       "    <tr>\n",
       "      <th>8</th>\n",
       "      <td>8</td>\n",
       "      <td>55</td>\n",
       "      <td>49</td>\n",
       "      <td>7.1</td>\n",
       "      <td>2800</td>\n",
       "      <td>55</td>\n",
       "      <td>14.6</td>\n",
       "      <td>18.6</td>\n",
       "      <td>7.8</td>\n",
       "      <td>0</td>\n",
       "      <td>...</td>\n",
       "      <td>0</td>\n",
       "      <td>0</td>\n",
       "      <td>0</td>\n",
       "      <td>0</td>\n",
       "      <td>30</td>\n",
       "      <td>63</td>\n",
       "      <td>1</td>\n",
       "      <td>29</td>\n",
       "      <td>0</td>\n",
       "      <td>0</td>\n",
       "    </tr>\n",
       "    <tr>\n",
       "      <th>...</th>\n",
       "      <td>...</td>\n",
       "      <td>...</td>\n",
       "      <td>...</td>\n",
       "      <td>...</td>\n",
       "      <td>...</td>\n",
       "      <td>...</td>\n",
       "      <td>...</td>\n",
       "      <td>...</td>\n",
       "      <td>...</td>\n",
       "      <td>...</td>\n",
       "      <td>...</td>\n",
       "      <td>...</td>\n",
       "      <td>...</td>\n",
       "      <td>...</td>\n",
       "      <td>...</td>\n",
       "      <td>...</td>\n",
       "      <td>...</td>\n",
       "      <td>...</td>\n",
       "      <td>...</td>\n",
       "      <td>...</td>\n",
       "      <td>...</td>\n",
       "    </tr>\n",
       "    <tr>\n",
       "      <th>149</th>\n",
       "      <td>0</td>\n",
       "      <td>23</td>\n",
       "      <td>20</td>\n",
       "      <td>4.6</td>\n",
       "      <td>2800</td>\n",
       "      <td>0</td>\n",
       "      <td>20.0</td>\n",
       "      <td>20.0</td>\n",
       "      <td>0.0</td>\n",
       "      <td>0</td>\n",
       "      <td>...</td>\n",
       "      <td>0</td>\n",
       "      <td>0</td>\n",
       "      <td>0</td>\n",
       "      <td>0</td>\n",
       "      <td>102</td>\n",
       "      <td>0</td>\n",
       "      <td>0</td>\n",
       "      <td>0</td>\n",
       "      <td>0</td>\n",
       "      <td>0</td>\n",
       "    </tr>\n",
       "    <tr>\n",
       "      <th>150</th>\n",
       "      <td>0</td>\n",
       "      <td>19</td>\n",
       "      <td>16</td>\n",
       "      <td>4.0</td>\n",
       "      <td>2800</td>\n",
       "      <td>0</td>\n",
       "      <td>6.6</td>\n",
       "      <td>5.6</td>\n",
       "      <td>3.8</td>\n",
       "      <td>0</td>\n",
       "      <td>...</td>\n",
       "      <td>0</td>\n",
       "      <td>0</td>\n",
       "      <td>0</td>\n",
       "      <td>0</td>\n",
       "      <td>20</td>\n",
       "      <td>73</td>\n",
       "      <td>0</td>\n",
       "      <td>0</td>\n",
       "      <td>0</td>\n",
       "      <td>0</td>\n",
       "    </tr>\n",
       "    <tr>\n",
       "      <th>151</th>\n",
       "      <td>0</td>\n",
       "      <td>8</td>\n",
       "      <td>6</td>\n",
       "      <td>3.5</td>\n",
       "      <td>2800</td>\n",
       "      <td>0</td>\n",
       "      <td>6.0</td>\n",
       "      <td>6.0</td>\n",
       "      <td>0.0</td>\n",
       "      <td>0</td>\n",
       "      <td>...</td>\n",
       "      <td>0</td>\n",
       "      <td>0</td>\n",
       "      <td>0</td>\n",
       "      <td>0</td>\n",
       "      <td>123</td>\n",
       "      <td>0</td>\n",
       "      <td>0</td>\n",
       "      <td>0</td>\n",
       "      <td>0</td>\n",
       "      <td>0</td>\n",
       "    </tr>\n",
       "    <tr>\n",
       "      <th>152</th>\n",
       "      <td>0</td>\n",
       "      <td>19</td>\n",
       "      <td>16</td>\n",
       "      <td>4.0</td>\n",
       "      <td>2800</td>\n",
       "      <td>0</td>\n",
       "      <td>6.5</td>\n",
       "      <td>5.5</td>\n",
       "      <td>4.0</td>\n",
       "      <td>0</td>\n",
       "      <td>...</td>\n",
       "      <td>0</td>\n",
       "      <td>0</td>\n",
       "      <td>0</td>\n",
       "      <td>0</td>\n",
       "      <td>10</td>\n",
       "      <td>98</td>\n",
       "      <td>0</td>\n",
       "      <td>37</td>\n",
       "      <td>0</td>\n",
       "      <td>0</td>\n",
       "    </tr>\n",
       "    <tr>\n",
       "      <th>153</th>\n",
       "      <td>0</td>\n",
       "      <td>24</td>\n",
       "      <td>21</td>\n",
       "      <td>4.0</td>\n",
       "      <td>2800</td>\n",
       "      <td>0</td>\n",
       "      <td>7.4</td>\n",
       "      <td>8.4</td>\n",
       "      <td>5.2</td>\n",
       "      <td>0</td>\n",
       "      <td>...</td>\n",
       "      <td>0</td>\n",
       "      <td>0</td>\n",
       "      <td>0</td>\n",
       "      <td>0</td>\n",
       "      <td>10</td>\n",
       "      <td>98</td>\n",
       "      <td>0</td>\n",
       "      <td>34</td>\n",
       "      <td>0</td>\n",
       "      <td>0</td>\n",
       "    </tr>\n",
       "  </tbody>\n",
       "</table>\n",
       "<p>94 rows × 160 columns</p>\n",
       "</div>"
      ],
      "text/plain": [
       "     1OYSum of kapalı  1OYSum of SURE  1OYSum of CIRC_TIME  1OYSum of WI  \\\n",
       "3                   2              48                   43           4.8   \n",
       "4                   3              49                   44           4.8   \n",
       "5                   8              54                   49           4.8   \n",
       "6                   8              54                   49           4.8   \n",
       "8                   8              55                   49           7.1   \n",
       "..                ...             ...                  ...           ...   \n",
       "149                 0              23                   20           4.6   \n",
       "150                 0              19                   16           4.0   \n",
       "151                 0               8                    6           3.5   \n",
       "152                 0              19                   16           4.0   \n",
       "153                 0              24                   21           4.0   \n",
       "\n",
       "     1OYMax of DEVIR  1OYMax of TEMP  1OYSum of ALT_C  1OYSum of ÜST_C  \\\n",
       "3               2800              53             14.6             18.6   \n",
       "4               2800              55             14.6             18.6   \n",
       "5               2800              56             14.6             18.6   \n",
       "6               2800              55             14.6             18.6   \n",
       "8               2800              55             14.6             18.6   \n",
       "..               ...             ...              ...              ...   \n",
       "149             2800               0             20.0             20.0   \n",
       "150             2800               0              6.6              5.6   \n",
       "151             2800               0              6.0              6.0   \n",
       "152             2800               0              6.5              5.5   \n",
       "153             2800               0              7.4              8.4   \n",
       "\n",
       "     1OYSum of TEPE_C  1OYSum of ZONE_C  ...  10KUSum of ALT_C  \\\n",
       "3                 7.8                 0  ...                 0   \n",
       "4                 7.8                 0  ...                 0   \n",
       "5                 7.8                 0  ...                 0   \n",
       "6                 7.8                 0  ...                 0   \n",
       "8                 7.8                 0  ...                 0   \n",
       "..                ...               ...  ...               ...   \n",
       "149               0.0                 0  ...                 0   \n",
       "150               3.8                 0  ...                 0   \n",
       "151               0.0                 0  ...                 0   \n",
       "152               4.0                 0  ...                 0   \n",
       "153               5.2                 0  ...                 0   \n",
       "\n",
       "     10KUSum of ÜST_C  10KUSum of TEPE_C  10KUSum of ZONE_C  \\\n",
       "3                   0                  0                  0   \n",
       "4                   0                  0                  0   \n",
       "5                   0                  0                  0   \n",
       "6                   0                  0                  0   \n",
       "8                   0                  0                  0   \n",
       "..                ...                ...                ...   \n",
       "149                 0                  0                  0   \n",
       "150                 0                  0                  0   \n",
       "151                 0                  0                  0   \n",
       "152                 0                  0                  0   \n",
       "153                 0                  0                  0   \n",
       "\n",
       "     10KUSum of BEKLEME  10KUSum of FAN  10KUSum of KAPI ACMA  \\\n",
       "3                    50              57                     1   \n",
       "4                    30              63                     1   \n",
       "5                    30              80                     1   \n",
       "6                    30              63                     1   \n",
       "8                    30              63                     1   \n",
       "..                  ...             ...                   ...   \n",
       "149                 102               0                     0   \n",
       "150                  20              73                     0   \n",
       "151                 123               0                     0   \n",
       "152                  10              98                     0   \n",
       "153                  10              98                     0   \n",
       "\n",
       "     10KUSum of FAN / KLAPE  10KUSum of GAUDI_offset  \\\n",
       "3                        30                        0   \n",
       "4                        29                        0   \n",
       "5                        38                        0   \n",
       "6                        29                        0   \n",
       "8                        29                        0   \n",
       "..                      ...                      ...   \n",
       "149                       0                        0   \n",
       "150                       0                        0   \n",
       "151                       0                        0   \n",
       "152                      37                        0   \n",
       "153                      34                        0   \n",
       "\n",
       "     10KUSum of GAUDI_nonoffset  \n",
       "3                             0  \n",
       "4                             0  \n",
       "5                             0  \n",
       "6                             0  \n",
       "8                             0  \n",
       "..                          ...  \n",
       "149                           0  \n",
       "150                           0  \n",
       "151                           0  \n",
       "152                           0  \n",
       "153                           0  \n",
       "\n",
       "[94 rows x 160 columns]"
      ]
     },
     "execution_count": 138,
     "metadata": {},
     "output_type": "execute_result"
    }
   ],
   "source": [
    "df_ver_0_X"
   ]
  },
  {
   "cell_type": "code",
   "execution_count": 139,
   "id": "a64c112c",
   "metadata": {},
   "outputs": [],
   "source": [
    "y_CPI = df_ver_0['CPI']\n",
    "y_DPI = df_ver_0['DPI']\n",
    "y_EC=df_ver_0['EC']\n",
    "y_T=df_ver_0['T']\n",
    "y_WC=df_ver_0['WC']"
   ]
  },
  {
   "cell_type": "markdown",
   "id": "c513a3d1",
   "metadata": {},
   "source": [
    "## Variance Analysis"
   ]
  },
  {
   "cell_type": "code",
   "execution_count": 140,
   "id": "0f1e46f8",
   "metadata": {},
   "outputs": [
    {
     "data": {
      "text/plain": [
       "Index(['1OYSum of kapalı', '1OYSum of SURE', '1OYSum of CIRC_TIME',\n",
       "       '1OYSum of WI', '1OYMax of DEVIR', '1OYMax of TEMP', '1OYSum of ALT_C',\n",
       "       '1OYSum of ÜST_C', '1OYSum of TEPE_C', '1OYSum of BEKLEME',\n",
       "       '2AYSum of kapalı', '2AYSum of SURE', '2AYSum of CIRC_TIME',\n",
       "       '2AYSum of WI', '2AYMax of DEVIR', '2AYMax of TEMP', '2AYSum of ALT_C',\n",
       "       '2AYSum of ÜST_C', '2AYSum of TEPE_C', '3MFTSum of SURE',\n",
       "       '3MFTSum of WI', '4SGDSum of SURE', '4SGDSum of CIRC_TIME',\n",
       "       '4SGDSum of WI', '4SGDMax of DEVIR', '4SGDSum of ALT_C',\n",
       "       '4SGDSum of ÜST_C', '4SGDSum of TEPE_C', '4SGDSum of BEKLEME',\n",
       "       '7SCD2Sum of kapalı', '7SCD2Sum of SURE', '7SCD2Sum of CIRC_TIME',\n",
       "       '7SCD2Sum of WI', '7SCD2Max of DEVIR', '7SCD2Max of TEMP',\n",
       "       '7SCD2Sum of ALT_C', '7SCD2Sum of ÜST_C', '7SCD2Sum of TEPE_C',\n",
       "       '7SCD2Sum of BEKLEME', '8DSBSum of kapalı', '8DSBSum of SURE',\n",
       "       '8DSBSum of CIRC_TIME', '8DSBMax of DEVIR', '10KUSum of SURE',\n",
       "       '10KUSum of BEKLEME', '10KUSum of FAN', '10KUSum of KAPI ACMA',\n",
       "       '10KUSum of FAN / KLAPE', '10KUSum of GAUDI_offset'],\n",
       "      dtype='object')"
      ]
     },
     "execution_count": 140,
     "metadata": {},
     "output_type": "execute_result"
    }
   ],
   "source": [
    "from sklearn.feature_selection import VarianceThreshold\n",
    "var_thr = VarianceThreshold(threshold = 0.05)\n",
    "var_thr.fit(df_ver_0_X)\n",
    "var_thr.get_support()\n",
    "concol = [column for column in df_ver_0_X.columns \n",
    "          if column not in df_ver_0_X.columns[var_thr.get_support()]]\n",
    "df_ver_1=df_ver_0_X.drop(concol,axis=1)\n",
    "df_ver_1.columns"
   ]
  },
  {
   "cell_type": "code",
   "execution_count": 141,
   "id": "9702554a",
   "metadata": {},
   "outputs": [
    {
     "data": {
      "text/html": [
       "<div>\n",
       "<style scoped>\n",
       "    .dataframe tbody tr th:only-of-type {\n",
       "        vertical-align: middle;\n",
       "    }\n",
       "\n",
       "    .dataframe tbody tr th {\n",
       "        vertical-align: top;\n",
       "    }\n",
       "\n",
       "    .dataframe thead th {\n",
       "        text-align: right;\n",
       "    }\n",
       "</style>\n",
       "<table border=\"1\" class=\"dataframe\">\n",
       "  <thead>\n",
       "    <tr style=\"text-align: right;\">\n",
       "      <th></th>\n",
       "      <th>1OYSum of kapalı</th>\n",
       "      <th>1OYSum of SURE</th>\n",
       "      <th>1OYSum of CIRC_TIME</th>\n",
       "      <th>1OYSum of WI</th>\n",
       "      <th>1OYMax of DEVIR</th>\n",
       "      <th>1OYMax of TEMP</th>\n",
       "      <th>1OYSum of ALT_C</th>\n",
       "      <th>1OYSum of ÜST_C</th>\n",
       "      <th>1OYSum of TEPE_C</th>\n",
       "      <th>1OYSum of BEKLEME</th>\n",
       "      <th>...</th>\n",
       "      <th>8DSBSum of kapalı</th>\n",
       "      <th>8DSBSum of SURE</th>\n",
       "      <th>8DSBSum of CIRC_TIME</th>\n",
       "      <th>8DSBMax of DEVIR</th>\n",
       "      <th>10KUSum of SURE</th>\n",
       "      <th>10KUSum of BEKLEME</th>\n",
       "      <th>10KUSum of FAN</th>\n",
       "      <th>10KUSum of KAPI ACMA</th>\n",
       "      <th>10KUSum of FAN / KLAPE</th>\n",
       "      <th>10KUSum of GAUDI_offset</th>\n",
       "    </tr>\n",
       "  </thead>\n",
       "  <tbody>\n",
       "    <tr>\n",
       "      <th>3</th>\n",
       "      <td>2</td>\n",
       "      <td>48</td>\n",
       "      <td>43</td>\n",
       "      <td>4.8</td>\n",
       "      <td>2800</td>\n",
       "      <td>53</td>\n",
       "      <td>14.6</td>\n",
       "      <td>18.6</td>\n",
       "      <td>7.8</td>\n",
       "      <td>2</td>\n",
       "      <td>...</td>\n",
       "      <td>0</td>\n",
       "      <td>0</td>\n",
       "      <td>0</td>\n",
       "      <td>0</td>\n",
       "      <td>110</td>\n",
       "      <td>50</td>\n",
       "      <td>57</td>\n",
       "      <td>1</td>\n",
       "      <td>30</td>\n",
       "      <td>0</td>\n",
       "    </tr>\n",
       "    <tr>\n",
       "      <th>4</th>\n",
       "      <td>3</td>\n",
       "      <td>49</td>\n",
       "      <td>44</td>\n",
       "      <td>4.8</td>\n",
       "      <td>2800</td>\n",
       "      <td>55</td>\n",
       "      <td>14.6</td>\n",
       "      <td>18.6</td>\n",
       "      <td>7.8</td>\n",
       "      <td>2</td>\n",
       "      <td>...</td>\n",
       "      <td>0</td>\n",
       "      <td>0</td>\n",
       "      <td>0</td>\n",
       "      <td>0</td>\n",
       "      <td>96</td>\n",
       "      <td>30</td>\n",
       "      <td>63</td>\n",
       "      <td>1</td>\n",
       "      <td>29</td>\n",
       "      <td>0</td>\n",
       "    </tr>\n",
       "    <tr>\n",
       "      <th>5</th>\n",
       "      <td>8</td>\n",
       "      <td>54</td>\n",
       "      <td>49</td>\n",
       "      <td>4.8</td>\n",
       "      <td>2800</td>\n",
       "      <td>56</td>\n",
       "      <td>14.6</td>\n",
       "      <td>18.6</td>\n",
       "      <td>7.8</td>\n",
       "      <td>2</td>\n",
       "      <td>...</td>\n",
       "      <td>0</td>\n",
       "      <td>0</td>\n",
       "      <td>0</td>\n",
       "      <td>0</td>\n",
       "      <td>113</td>\n",
       "      <td>30</td>\n",
       "      <td>80</td>\n",
       "      <td>1</td>\n",
       "      <td>38</td>\n",
       "      <td>0</td>\n",
       "    </tr>\n",
       "    <tr>\n",
       "      <th>6</th>\n",
       "      <td>8</td>\n",
       "      <td>54</td>\n",
       "      <td>49</td>\n",
       "      <td>4.8</td>\n",
       "      <td>2800</td>\n",
       "      <td>55</td>\n",
       "      <td>14.6</td>\n",
       "      <td>18.6</td>\n",
       "      <td>7.8</td>\n",
       "      <td>2</td>\n",
       "      <td>...</td>\n",
       "      <td>0</td>\n",
       "      <td>0</td>\n",
       "      <td>0</td>\n",
       "      <td>0</td>\n",
       "      <td>96</td>\n",
       "      <td>30</td>\n",
       "      <td>63</td>\n",
       "      <td>1</td>\n",
       "      <td>29</td>\n",
       "      <td>0</td>\n",
       "    </tr>\n",
       "    <tr>\n",
       "      <th>8</th>\n",
       "      <td>8</td>\n",
       "      <td>55</td>\n",
       "      <td>49</td>\n",
       "      <td>7.1</td>\n",
       "      <td>2800</td>\n",
       "      <td>55</td>\n",
       "      <td>14.6</td>\n",
       "      <td>18.6</td>\n",
       "      <td>7.8</td>\n",
       "      <td>2</td>\n",
       "      <td>...</td>\n",
       "      <td>0</td>\n",
       "      <td>0</td>\n",
       "      <td>0</td>\n",
       "      <td>0</td>\n",
       "      <td>96</td>\n",
       "      <td>30</td>\n",
       "      <td>63</td>\n",
       "      <td>1</td>\n",
       "      <td>29</td>\n",
       "      <td>0</td>\n",
       "    </tr>\n",
       "    <tr>\n",
       "      <th>...</th>\n",
       "      <td>...</td>\n",
       "      <td>...</td>\n",
       "      <td>...</td>\n",
       "      <td>...</td>\n",
       "      <td>...</td>\n",
       "      <td>...</td>\n",
       "      <td>...</td>\n",
       "      <td>...</td>\n",
       "      <td>...</td>\n",
       "      <td>...</td>\n",
       "      <td>...</td>\n",
       "      <td>...</td>\n",
       "      <td>...</td>\n",
       "      <td>...</td>\n",
       "      <td>...</td>\n",
       "      <td>...</td>\n",
       "      <td>...</td>\n",
       "      <td>...</td>\n",
       "      <td>...</td>\n",
       "      <td>...</td>\n",
       "      <td>...</td>\n",
       "    </tr>\n",
       "    <tr>\n",
       "      <th>149</th>\n",
       "      <td>0</td>\n",
       "      <td>23</td>\n",
       "      <td>20</td>\n",
       "      <td>4.6</td>\n",
       "      <td>2800</td>\n",
       "      <td>0</td>\n",
       "      <td>20.0</td>\n",
       "      <td>20.0</td>\n",
       "      <td>0.0</td>\n",
       "      <td>0</td>\n",
       "      <td>...</td>\n",
       "      <td>0</td>\n",
       "      <td>0</td>\n",
       "      <td>0</td>\n",
       "      <td>0</td>\n",
       "      <td>103</td>\n",
       "      <td>102</td>\n",
       "      <td>0</td>\n",
       "      <td>0</td>\n",
       "      <td>0</td>\n",
       "      <td>0</td>\n",
       "    </tr>\n",
       "    <tr>\n",
       "      <th>150</th>\n",
       "      <td>0</td>\n",
       "      <td>19</td>\n",
       "      <td>16</td>\n",
       "      <td>4.0</td>\n",
       "      <td>2800</td>\n",
       "      <td>0</td>\n",
       "      <td>6.6</td>\n",
       "      <td>5.6</td>\n",
       "      <td>3.8</td>\n",
       "      <td>0</td>\n",
       "      <td>...</td>\n",
       "      <td>0</td>\n",
       "      <td>0</td>\n",
       "      <td>0</td>\n",
       "      <td>0</td>\n",
       "      <td>94</td>\n",
       "      <td>20</td>\n",
       "      <td>73</td>\n",
       "      <td>0</td>\n",
       "      <td>0</td>\n",
       "      <td>0</td>\n",
       "    </tr>\n",
       "    <tr>\n",
       "      <th>151</th>\n",
       "      <td>0</td>\n",
       "      <td>8</td>\n",
       "      <td>6</td>\n",
       "      <td>3.5</td>\n",
       "      <td>2800</td>\n",
       "      <td>0</td>\n",
       "      <td>6.0</td>\n",
       "      <td>6.0</td>\n",
       "      <td>0.0</td>\n",
       "      <td>0</td>\n",
       "      <td>...</td>\n",
       "      <td>0</td>\n",
       "      <td>0</td>\n",
       "      <td>0</td>\n",
       "      <td>0</td>\n",
       "      <td>124</td>\n",
       "      <td>123</td>\n",
       "      <td>0</td>\n",
       "      <td>0</td>\n",
       "      <td>0</td>\n",
       "      <td>0</td>\n",
       "    </tr>\n",
       "    <tr>\n",
       "      <th>152</th>\n",
       "      <td>0</td>\n",
       "      <td>19</td>\n",
       "      <td>16</td>\n",
       "      <td>4.0</td>\n",
       "      <td>2800</td>\n",
       "      <td>0</td>\n",
       "      <td>6.5</td>\n",
       "      <td>5.5</td>\n",
       "      <td>4.0</td>\n",
       "      <td>0</td>\n",
       "      <td>...</td>\n",
       "      <td>0</td>\n",
       "      <td>0</td>\n",
       "      <td>0</td>\n",
       "      <td>0</td>\n",
       "      <td>109</td>\n",
       "      <td>10</td>\n",
       "      <td>98</td>\n",
       "      <td>0</td>\n",
       "      <td>37</td>\n",
       "      <td>0</td>\n",
       "    </tr>\n",
       "    <tr>\n",
       "      <th>153</th>\n",
       "      <td>0</td>\n",
       "      <td>24</td>\n",
       "      <td>21</td>\n",
       "      <td>4.0</td>\n",
       "      <td>2800</td>\n",
       "      <td>0</td>\n",
       "      <td>7.4</td>\n",
       "      <td>8.4</td>\n",
       "      <td>5.2</td>\n",
       "      <td>0</td>\n",
       "      <td>...</td>\n",
       "      <td>0</td>\n",
       "      <td>0</td>\n",
       "      <td>0</td>\n",
       "      <td>0</td>\n",
       "      <td>109</td>\n",
       "      <td>10</td>\n",
       "      <td>98</td>\n",
       "      <td>0</td>\n",
       "      <td>34</td>\n",
       "      <td>0</td>\n",
       "    </tr>\n",
       "  </tbody>\n",
       "</table>\n",
       "<p>94 rows × 49 columns</p>\n",
       "</div>"
      ],
      "text/plain": [
       "     1OYSum of kapalı  1OYSum of SURE  1OYSum of CIRC_TIME  1OYSum of WI  \\\n",
       "3                   2              48                   43           4.8   \n",
       "4                   3              49                   44           4.8   \n",
       "5                   8              54                   49           4.8   \n",
       "6                   8              54                   49           4.8   \n",
       "8                   8              55                   49           7.1   \n",
       "..                ...             ...                  ...           ...   \n",
       "149                 0              23                   20           4.6   \n",
       "150                 0              19                   16           4.0   \n",
       "151                 0               8                    6           3.5   \n",
       "152                 0              19                   16           4.0   \n",
       "153                 0              24                   21           4.0   \n",
       "\n",
       "     1OYMax of DEVIR  1OYMax of TEMP  1OYSum of ALT_C  1OYSum of ÜST_C  \\\n",
       "3               2800              53             14.6             18.6   \n",
       "4               2800              55             14.6             18.6   \n",
       "5               2800              56             14.6             18.6   \n",
       "6               2800              55             14.6             18.6   \n",
       "8               2800              55             14.6             18.6   \n",
       "..               ...             ...              ...              ...   \n",
       "149             2800               0             20.0             20.0   \n",
       "150             2800               0              6.6              5.6   \n",
       "151             2800               0              6.0              6.0   \n",
       "152             2800               0              6.5              5.5   \n",
       "153             2800               0              7.4              8.4   \n",
       "\n",
       "     1OYSum of TEPE_C  1OYSum of BEKLEME  ...  8DSBSum of kapalı  \\\n",
       "3                 7.8                  2  ...                  0   \n",
       "4                 7.8                  2  ...                  0   \n",
       "5                 7.8                  2  ...                  0   \n",
       "6                 7.8                  2  ...                  0   \n",
       "8                 7.8                  2  ...                  0   \n",
       "..                ...                ...  ...                ...   \n",
       "149               0.0                  0  ...                  0   \n",
       "150               3.8                  0  ...                  0   \n",
       "151               0.0                  0  ...                  0   \n",
       "152               4.0                  0  ...                  0   \n",
       "153               5.2                  0  ...                  0   \n",
       "\n",
       "     8DSBSum of SURE  8DSBSum of CIRC_TIME  8DSBMax of DEVIR  10KUSum of SURE  \\\n",
       "3                  0                     0                 0              110   \n",
       "4                  0                     0                 0               96   \n",
       "5                  0                     0                 0              113   \n",
       "6                  0                     0                 0               96   \n",
       "8                  0                     0                 0               96   \n",
       "..               ...                   ...               ...              ...   \n",
       "149                0                     0                 0              103   \n",
       "150                0                     0                 0               94   \n",
       "151                0                     0                 0              124   \n",
       "152                0                     0                 0              109   \n",
       "153                0                     0                 0              109   \n",
       "\n",
       "     10KUSum of BEKLEME  10KUSum of FAN  10KUSum of KAPI ACMA  \\\n",
       "3                    50              57                     1   \n",
       "4                    30              63                     1   \n",
       "5                    30              80                     1   \n",
       "6                    30              63                     1   \n",
       "8                    30              63                     1   \n",
       "..                  ...             ...                   ...   \n",
       "149                 102               0                     0   \n",
       "150                  20              73                     0   \n",
       "151                 123               0                     0   \n",
       "152                  10              98                     0   \n",
       "153                  10              98                     0   \n",
       "\n",
       "     10KUSum of FAN / KLAPE  10KUSum of GAUDI_offset  \n",
       "3                        30                        0  \n",
       "4                        29                        0  \n",
       "5                        38                        0  \n",
       "6                        29                        0  \n",
       "8                        29                        0  \n",
       "..                      ...                      ...  \n",
       "149                       0                        0  \n",
       "150                       0                        0  \n",
       "151                       0                        0  \n",
       "152                      37                        0  \n",
       "153                      34                        0  \n",
       "\n",
       "[94 rows x 49 columns]"
      ]
     },
     "execution_count": 141,
     "metadata": {},
     "output_type": "execute_result"
    }
   ],
   "source": [
    "df_ver_1"
   ]
  },
  {
   "cell_type": "code",
   "execution_count": 142,
   "id": "7e34da51",
   "metadata": {},
   "outputs": [
    {
     "name": "stdout",
     "output_type": "stream",
     "text": [
      "\n",
      "Rank: 47\n",
      "\n",
      "Determinant: 2.9627003360027487e+47\n",
      "\n",
      "Condition Number : 2.4006733409240366e+21\n"
     ]
    }
   ],
   "source": [
    "# Analysis of a Matrix \n",
    "# input matrix name\n",
    "matrix_name= df_ver_1\n",
    "X_matrix = matrix_name.to_numpy()\n",
    "rank = np.linalg.matrix_rank(X_matrix)\n",
    "print(\"\\nRank:\", rank)\n",
    "XMT=np.transpose(X_matrix)\n",
    "XTX=np.dot(XMT,X_matrix)\n",
    "det = np.linalg.det(XTX)\n",
    "print(\"\\nDeterminant:\", det)\n",
    "Co=np.linalg.cond(X_matrix)\n",
    "print(\"\\nCondition Number :\", Co)"
   ]
  },
  {
   "cell_type": "code",
   "execution_count": 143,
   "id": "3c5caf93",
   "metadata": {},
   "outputs": [],
   "source": [
    "df_ver_2=df_ver_1"
   ]
  },
  {
   "cell_type": "code",
   "execution_count": 144,
   "id": "3837f04b",
   "metadata": {},
   "outputs": [],
   "source": [
    "correlation_matrix=df_ver_2.corr()\n",
    "correlated_features = set()"
   ]
  },
  {
   "cell_type": "code",
   "execution_count": 145,
   "id": "afbc0739",
   "metadata": {},
   "outputs": [],
   "source": [
    "threshold = 0.90\n",
    "\n",
    "for i in range(len(correlation_matrix .columns)):\n",
    "    for j in range(i):\n",
    "        if abs(correlation_matrix.iloc[i, j]) > threshold:\n",
    "            colname = correlation_matrix.columns[i]\n",
    "            correlated_features.add(colname)"
   ]
  },
  {
   "cell_type": "markdown",
   "id": "89a64109",
   "metadata": {},
   "source": [
    "dataset 1 is df_ver_1 and dataset 2 is df_ver_3"
   ]
  },
  {
   "cell_type": "code",
   "execution_count": 146,
   "id": "a6b4f49a",
   "metadata": {},
   "outputs": [
    {
     "data": {
      "text/html": [
       "<div>\n",
       "<style scoped>\n",
       "    .dataframe tbody tr th:only-of-type {\n",
       "        vertical-align: middle;\n",
       "    }\n",
       "\n",
       "    .dataframe tbody tr th {\n",
       "        vertical-align: top;\n",
       "    }\n",
       "\n",
       "    .dataframe thead th {\n",
       "        text-align: right;\n",
       "    }\n",
       "</style>\n",
       "<table border=\"1\" class=\"dataframe\">\n",
       "  <thead>\n",
       "    <tr style=\"text-align: right;\">\n",
       "      <th></th>\n",
       "      <th>1OYSum of kapalı</th>\n",
       "      <th>1OYSum of SURE</th>\n",
       "      <th>1OYSum of CIRC_TIME</th>\n",
       "      <th>1OYSum of WI</th>\n",
       "      <th>1OYMax of DEVIR</th>\n",
       "      <th>1OYMax of TEMP</th>\n",
       "      <th>1OYSum of ALT_C</th>\n",
       "      <th>1OYSum of TEPE_C</th>\n",
       "      <th>1OYSum of BEKLEME</th>\n",
       "      <th>2AYSum of kapalı</th>\n",
       "      <th>...</th>\n",
       "      <th>7SCD2Sum of ALT_C</th>\n",
       "      <th>7SCD2Sum of ÜST_C</th>\n",
       "      <th>8DSBSum of kapalı</th>\n",
       "      <th>8DSBMax of DEVIR</th>\n",
       "      <th>10KUSum of SURE</th>\n",
       "      <th>10KUSum of BEKLEME</th>\n",
       "      <th>10KUSum of FAN</th>\n",
       "      <th>10KUSum of KAPI ACMA</th>\n",
       "      <th>10KUSum of FAN / KLAPE</th>\n",
       "      <th>10KUSum of GAUDI_offset</th>\n",
       "    </tr>\n",
       "  </thead>\n",
       "  <tbody>\n",
       "    <tr>\n",
       "      <th>3</th>\n",
       "      <td>2</td>\n",
       "      <td>48</td>\n",
       "      <td>43</td>\n",
       "      <td>4.8</td>\n",
       "      <td>2800</td>\n",
       "      <td>53</td>\n",
       "      <td>14.6</td>\n",
       "      <td>7.8</td>\n",
       "      <td>2</td>\n",
       "      <td>0</td>\n",
       "      <td>...</td>\n",
       "      <td>4.5</td>\n",
       "      <td>5.5</td>\n",
       "      <td>0</td>\n",
       "      <td>0</td>\n",
       "      <td>110</td>\n",
       "      <td>50</td>\n",
       "      <td>57</td>\n",
       "      <td>1</td>\n",
       "      <td>30</td>\n",
       "      <td>0</td>\n",
       "    </tr>\n",
       "    <tr>\n",
       "      <th>4</th>\n",
       "      <td>3</td>\n",
       "      <td>49</td>\n",
       "      <td>44</td>\n",
       "      <td>4.8</td>\n",
       "      <td>2800</td>\n",
       "      <td>55</td>\n",
       "      <td>14.6</td>\n",
       "      <td>7.8</td>\n",
       "      <td>2</td>\n",
       "      <td>3</td>\n",
       "      <td>...</td>\n",
       "      <td>3.5</td>\n",
       "      <td>5.5</td>\n",
       "      <td>0</td>\n",
       "      <td>0</td>\n",
       "      <td>96</td>\n",
       "      <td>30</td>\n",
       "      <td>63</td>\n",
       "      <td>1</td>\n",
       "      <td>29</td>\n",
       "      <td>0</td>\n",
       "    </tr>\n",
       "    <tr>\n",
       "      <th>5</th>\n",
       "      <td>8</td>\n",
       "      <td>54</td>\n",
       "      <td>49</td>\n",
       "      <td>4.8</td>\n",
       "      <td>2800</td>\n",
       "      <td>56</td>\n",
       "      <td>14.6</td>\n",
       "      <td>7.8</td>\n",
       "      <td>2</td>\n",
       "      <td>3</td>\n",
       "      <td>...</td>\n",
       "      <td>4.5</td>\n",
       "      <td>6.5</td>\n",
       "      <td>0</td>\n",
       "      <td>0</td>\n",
       "      <td>113</td>\n",
       "      <td>30</td>\n",
       "      <td>80</td>\n",
       "      <td>1</td>\n",
       "      <td>38</td>\n",
       "      <td>0</td>\n",
       "    </tr>\n",
       "    <tr>\n",
       "      <th>6</th>\n",
       "      <td>8</td>\n",
       "      <td>54</td>\n",
       "      <td>49</td>\n",
       "      <td>4.8</td>\n",
       "      <td>2800</td>\n",
       "      <td>55</td>\n",
       "      <td>14.6</td>\n",
       "      <td>7.8</td>\n",
       "      <td>2</td>\n",
       "      <td>3</td>\n",
       "      <td>...</td>\n",
       "      <td>3.5</td>\n",
       "      <td>5.5</td>\n",
       "      <td>0</td>\n",
       "      <td>0</td>\n",
       "      <td>96</td>\n",
       "      <td>30</td>\n",
       "      <td>63</td>\n",
       "      <td>1</td>\n",
       "      <td>29</td>\n",
       "      <td>0</td>\n",
       "    </tr>\n",
       "    <tr>\n",
       "      <th>8</th>\n",
       "      <td>8</td>\n",
       "      <td>55</td>\n",
       "      <td>49</td>\n",
       "      <td>7.1</td>\n",
       "      <td>2800</td>\n",
       "      <td>55</td>\n",
       "      <td>14.6</td>\n",
       "      <td>7.8</td>\n",
       "      <td>2</td>\n",
       "      <td>3</td>\n",
       "      <td>...</td>\n",
       "      <td>3.5</td>\n",
       "      <td>5.5</td>\n",
       "      <td>0</td>\n",
       "      <td>0</td>\n",
       "      <td>96</td>\n",
       "      <td>30</td>\n",
       "      <td>63</td>\n",
       "      <td>1</td>\n",
       "      <td>29</td>\n",
       "      <td>0</td>\n",
       "    </tr>\n",
       "    <tr>\n",
       "      <th>...</th>\n",
       "      <td>...</td>\n",
       "      <td>...</td>\n",
       "      <td>...</td>\n",
       "      <td>...</td>\n",
       "      <td>...</td>\n",
       "      <td>...</td>\n",
       "      <td>...</td>\n",
       "      <td>...</td>\n",
       "      <td>...</td>\n",
       "      <td>...</td>\n",
       "      <td>...</td>\n",
       "      <td>...</td>\n",
       "      <td>...</td>\n",
       "      <td>...</td>\n",
       "      <td>...</td>\n",
       "      <td>...</td>\n",
       "      <td>...</td>\n",
       "      <td>...</td>\n",
       "      <td>...</td>\n",
       "      <td>...</td>\n",
       "      <td>...</td>\n",
       "    </tr>\n",
       "    <tr>\n",
       "      <th>149</th>\n",
       "      <td>0</td>\n",
       "      <td>23</td>\n",
       "      <td>20</td>\n",
       "      <td>4.6</td>\n",
       "      <td>2800</td>\n",
       "      <td>0</td>\n",
       "      <td>20.0</td>\n",
       "      <td>0.0</td>\n",
       "      <td>0</td>\n",
       "      <td>0</td>\n",
       "      <td>...</td>\n",
       "      <td>24.0</td>\n",
       "      <td>24.0</td>\n",
       "      <td>0</td>\n",
       "      <td>0</td>\n",
       "      <td>103</td>\n",
       "      <td>102</td>\n",
       "      <td>0</td>\n",
       "      <td>0</td>\n",
       "      <td>0</td>\n",
       "      <td>0</td>\n",
       "    </tr>\n",
       "    <tr>\n",
       "      <th>150</th>\n",
       "      <td>0</td>\n",
       "      <td>19</td>\n",
       "      <td>16</td>\n",
       "      <td>4.0</td>\n",
       "      <td>2800</td>\n",
       "      <td>0</td>\n",
       "      <td>6.6</td>\n",
       "      <td>3.8</td>\n",
       "      <td>0</td>\n",
       "      <td>0</td>\n",
       "      <td>...</td>\n",
       "      <td>12.0</td>\n",
       "      <td>8.0</td>\n",
       "      <td>0</td>\n",
       "      <td>0</td>\n",
       "      <td>94</td>\n",
       "      <td>20</td>\n",
       "      <td>73</td>\n",
       "      <td>0</td>\n",
       "      <td>0</td>\n",
       "      <td>0</td>\n",
       "    </tr>\n",
       "    <tr>\n",
       "      <th>151</th>\n",
       "      <td>0</td>\n",
       "      <td>8</td>\n",
       "      <td>6</td>\n",
       "      <td>3.5</td>\n",
       "      <td>2800</td>\n",
       "      <td>0</td>\n",
       "      <td>6.0</td>\n",
       "      <td>0.0</td>\n",
       "      <td>0</td>\n",
       "      <td>0</td>\n",
       "      <td>...</td>\n",
       "      <td>11.0</td>\n",
       "      <td>11.0</td>\n",
       "      <td>0</td>\n",
       "      <td>0</td>\n",
       "      <td>124</td>\n",
       "      <td>123</td>\n",
       "      <td>0</td>\n",
       "      <td>0</td>\n",
       "      <td>0</td>\n",
       "      <td>0</td>\n",
       "    </tr>\n",
       "    <tr>\n",
       "      <th>152</th>\n",
       "      <td>0</td>\n",
       "      <td>19</td>\n",
       "      <td>16</td>\n",
       "      <td>4.0</td>\n",
       "      <td>2800</td>\n",
       "      <td>0</td>\n",
       "      <td>6.5</td>\n",
       "      <td>4.0</td>\n",
       "      <td>0</td>\n",
       "      <td>0</td>\n",
       "      <td>...</td>\n",
       "      <td>8.0</td>\n",
       "      <td>7.0</td>\n",
       "      <td>0</td>\n",
       "      <td>0</td>\n",
       "      <td>109</td>\n",
       "      <td>10</td>\n",
       "      <td>98</td>\n",
       "      <td>0</td>\n",
       "      <td>37</td>\n",
       "      <td>0</td>\n",
       "    </tr>\n",
       "    <tr>\n",
       "      <th>153</th>\n",
       "      <td>0</td>\n",
       "      <td>24</td>\n",
       "      <td>21</td>\n",
       "      <td>4.0</td>\n",
       "      <td>2800</td>\n",
       "      <td>0</td>\n",
       "      <td>7.4</td>\n",
       "      <td>5.2</td>\n",
       "      <td>0</td>\n",
       "      <td>0</td>\n",
       "      <td>...</td>\n",
       "      <td>6.0</td>\n",
       "      <td>7.0</td>\n",
       "      <td>0</td>\n",
       "      <td>0</td>\n",
       "      <td>109</td>\n",
       "      <td>10</td>\n",
       "      <td>98</td>\n",
       "      <td>0</td>\n",
       "      <td>34</td>\n",
       "      <td>0</td>\n",
       "    </tr>\n",
       "  </tbody>\n",
       "</table>\n",
       "<p>94 rows × 37 columns</p>\n",
       "</div>"
      ],
      "text/plain": [
       "     1OYSum of kapalı  1OYSum of SURE  1OYSum of CIRC_TIME  1OYSum of WI  \\\n",
       "3                   2              48                   43           4.8   \n",
       "4                   3              49                   44           4.8   \n",
       "5                   8              54                   49           4.8   \n",
       "6                   8              54                   49           4.8   \n",
       "8                   8              55                   49           7.1   \n",
       "..                ...             ...                  ...           ...   \n",
       "149                 0              23                   20           4.6   \n",
       "150                 0              19                   16           4.0   \n",
       "151                 0               8                    6           3.5   \n",
       "152                 0              19                   16           4.0   \n",
       "153                 0              24                   21           4.0   \n",
       "\n",
       "     1OYMax of DEVIR  1OYMax of TEMP  1OYSum of ALT_C  1OYSum of TEPE_C  \\\n",
       "3               2800              53             14.6               7.8   \n",
       "4               2800              55             14.6               7.8   \n",
       "5               2800              56             14.6               7.8   \n",
       "6               2800              55             14.6               7.8   \n",
       "8               2800              55             14.6               7.8   \n",
       "..               ...             ...              ...               ...   \n",
       "149             2800               0             20.0               0.0   \n",
       "150             2800               0              6.6               3.8   \n",
       "151             2800               0              6.0               0.0   \n",
       "152             2800               0              6.5               4.0   \n",
       "153             2800               0              7.4               5.2   \n",
       "\n",
       "     1OYSum of BEKLEME  2AYSum of kapalı  ...  7SCD2Sum of ALT_C  \\\n",
       "3                    2                 0  ...                4.5   \n",
       "4                    2                 3  ...                3.5   \n",
       "5                    2                 3  ...                4.5   \n",
       "6                    2                 3  ...                3.5   \n",
       "8                    2                 3  ...                3.5   \n",
       "..                 ...               ...  ...                ...   \n",
       "149                  0                 0  ...               24.0   \n",
       "150                  0                 0  ...               12.0   \n",
       "151                  0                 0  ...               11.0   \n",
       "152                  0                 0  ...                8.0   \n",
       "153                  0                 0  ...                6.0   \n",
       "\n",
       "     7SCD2Sum of ÜST_C  8DSBSum of kapalı  8DSBMax of DEVIR  10KUSum of SURE  \\\n",
       "3                  5.5                  0                 0              110   \n",
       "4                  5.5                  0                 0               96   \n",
       "5                  6.5                  0                 0              113   \n",
       "6                  5.5                  0                 0               96   \n",
       "8                  5.5                  0                 0               96   \n",
       "..                 ...                ...               ...              ...   \n",
       "149               24.0                  0                 0              103   \n",
       "150                8.0                  0                 0               94   \n",
       "151               11.0                  0                 0              124   \n",
       "152                7.0                  0                 0              109   \n",
       "153                7.0                  0                 0              109   \n",
       "\n",
       "     10KUSum of BEKLEME  10KUSum of FAN  10KUSum of KAPI ACMA  \\\n",
       "3                    50              57                     1   \n",
       "4                    30              63                     1   \n",
       "5                    30              80                     1   \n",
       "6                    30              63                     1   \n",
       "8                    30              63                     1   \n",
       "..                  ...             ...                   ...   \n",
       "149                 102               0                     0   \n",
       "150                  20              73                     0   \n",
       "151                 123               0                     0   \n",
       "152                  10              98                     0   \n",
       "153                  10              98                     0   \n",
       "\n",
       "     10KUSum of FAN / KLAPE  10KUSum of GAUDI_offset  \n",
       "3                        30                        0  \n",
       "4                        29                        0  \n",
       "5                        38                        0  \n",
       "6                        29                        0  \n",
       "8                        29                        0  \n",
       "..                      ...                      ...  \n",
       "149                       0                        0  \n",
       "150                       0                        0  \n",
       "151                       0                        0  \n",
       "152                      37                        0  \n",
       "153                      34                        0  \n",
       "\n",
       "[94 rows x 37 columns]"
      ]
     },
     "execution_count": 146,
     "metadata": {},
     "output_type": "execute_result"
    }
   ],
   "source": [
    "df_ver_3 = df_ver_2.drop(labels=correlated_features, axis=1)\n",
    "df_ver_3"
   ]
  },
  {
   "cell_type": "code",
   "execution_count": 147,
   "id": "bd1114b3",
   "metadata": {},
   "outputs": [
    {
     "data": {
      "text/html": [
       "<div>\n",
       "<style scoped>\n",
       "    .dataframe tbody tr th:only-of-type {\n",
       "        vertical-align: middle;\n",
       "    }\n",
       "\n",
       "    .dataframe tbody tr th {\n",
       "        vertical-align: top;\n",
       "    }\n",
       "\n",
       "    .dataframe thead th {\n",
       "        text-align: right;\n",
       "    }\n",
       "</style>\n",
       "<table border=\"1\" class=\"dataframe\">\n",
       "  <thead>\n",
       "    <tr style=\"text-align: right;\">\n",
       "      <th></th>\n",
       "      <th>1OYSum of kapalı</th>\n",
       "      <th>1OYSum of SURE</th>\n",
       "      <th>1OYSum of CIRC_TIME</th>\n",
       "      <th>1OYSum of WI</th>\n",
       "      <th>1OYMax of DEVIR</th>\n",
       "      <th>1OYMax of TEMP</th>\n",
       "      <th>1OYSum of ALT_C</th>\n",
       "      <th>1OYSum of ÜST_C</th>\n",
       "      <th>1OYSum of TEPE_C</th>\n",
       "      <th>1OYSum of BEKLEME</th>\n",
       "      <th>...</th>\n",
       "      <th>8DSBSum of kapalı</th>\n",
       "      <th>8DSBSum of SURE</th>\n",
       "      <th>8DSBSum of CIRC_TIME</th>\n",
       "      <th>8DSBMax of DEVIR</th>\n",
       "      <th>10KUSum of SURE</th>\n",
       "      <th>10KUSum of BEKLEME</th>\n",
       "      <th>10KUSum of FAN</th>\n",
       "      <th>10KUSum of KAPI ACMA</th>\n",
       "      <th>10KUSum of FAN / KLAPE</th>\n",
       "      <th>10KUSum of GAUDI_offset</th>\n",
       "    </tr>\n",
       "  </thead>\n",
       "  <tbody>\n",
       "    <tr>\n",
       "      <th>3</th>\n",
       "      <td>2</td>\n",
       "      <td>48</td>\n",
       "      <td>43</td>\n",
       "      <td>4.8</td>\n",
       "      <td>2800</td>\n",
       "      <td>53</td>\n",
       "      <td>14.6</td>\n",
       "      <td>18.6</td>\n",
       "      <td>7.8</td>\n",
       "      <td>2</td>\n",
       "      <td>...</td>\n",
       "      <td>0</td>\n",
       "      <td>0</td>\n",
       "      <td>0</td>\n",
       "      <td>0</td>\n",
       "      <td>110</td>\n",
       "      <td>50</td>\n",
       "      <td>57</td>\n",
       "      <td>1</td>\n",
       "      <td>30</td>\n",
       "      <td>0</td>\n",
       "    </tr>\n",
       "    <tr>\n",
       "      <th>4</th>\n",
       "      <td>3</td>\n",
       "      <td>49</td>\n",
       "      <td>44</td>\n",
       "      <td>4.8</td>\n",
       "      <td>2800</td>\n",
       "      <td>55</td>\n",
       "      <td>14.6</td>\n",
       "      <td>18.6</td>\n",
       "      <td>7.8</td>\n",
       "      <td>2</td>\n",
       "      <td>...</td>\n",
       "      <td>0</td>\n",
       "      <td>0</td>\n",
       "      <td>0</td>\n",
       "      <td>0</td>\n",
       "      <td>96</td>\n",
       "      <td>30</td>\n",
       "      <td>63</td>\n",
       "      <td>1</td>\n",
       "      <td>29</td>\n",
       "      <td>0</td>\n",
       "    </tr>\n",
       "    <tr>\n",
       "      <th>5</th>\n",
       "      <td>8</td>\n",
       "      <td>54</td>\n",
       "      <td>49</td>\n",
       "      <td>4.8</td>\n",
       "      <td>2800</td>\n",
       "      <td>56</td>\n",
       "      <td>14.6</td>\n",
       "      <td>18.6</td>\n",
       "      <td>7.8</td>\n",
       "      <td>2</td>\n",
       "      <td>...</td>\n",
       "      <td>0</td>\n",
       "      <td>0</td>\n",
       "      <td>0</td>\n",
       "      <td>0</td>\n",
       "      <td>113</td>\n",
       "      <td>30</td>\n",
       "      <td>80</td>\n",
       "      <td>1</td>\n",
       "      <td>38</td>\n",
       "      <td>0</td>\n",
       "    </tr>\n",
       "    <tr>\n",
       "      <th>6</th>\n",
       "      <td>8</td>\n",
       "      <td>54</td>\n",
       "      <td>49</td>\n",
       "      <td>4.8</td>\n",
       "      <td>2800</td>\n",
       "      <td>55</td>\n",
       "      <td>14.6</td>\n",
       "      <td>18.6</td>\n",
       "      <td>7.8</td>\n",
       "      <td>2</td>\n",
       "      <td>...</td>\n",
       "      <td>0</td>\n",
       "      <td>0</td>\n",
       "      <td>0</td>\n",
       "      <td>0</td>\n",
       "      <td>96</td>\n",
       "      <td>30</td>\n",
       "      <td>63</td>\n",
       "      <td>1</td>\n",
       "      <td>29</td>\n",
       "      <td>0</td>\n",
       "    </tr>\n",
       "    <tr>\n",
       "      <th>8</th>\n",
       "      <td>8</td>\n",
       "      <td>55</td>\n",
       "      <td>49</td>\n",
       "      <td>7.1</td>\n",
       "      <td>2800</td>\n",
       "      <td>55</td>\n",
       "      <td>14.6</td>\n",
       "      <td>18.6</td>\n",
       "      <td>7.8</td>\n",
       "      <td>2</td>\n",
       "      <td>...</td>\n",
       "      <td>0</td>\n",
       "      <td>0</td>\n",
       "      <td>0</td>\n",
       "      <td>0</td>\n",
       "      <td>96</td>\n",
       "      <td>30</td>\n",
       "      <td>63</td>\n",
       "      <td>1</td>\n",
       "      <td>29</td>\n",
       "      <td>0</td>\n",
       "    </tr>\n",
       "    <tr>\n",
       "      <th>...</th>\n",
       "      <td>...</td>\n",
       "      <td>...</td>\n",
       "      <td>...</td>\n",
       "      <td>...</td>\n",
       "      <td>...</td>\n",
       "      <td>...</td>\n",
       "      <td>...</td>\n",
       "      <td>...</td>\n",
       "      <td>...</td>\n",
       "      <td>...</td>\n",
       "      <td>...</td>\n",
       "      <td>...</td>\n",
       "      <td>...</td>\n",
       "      <td>...</td>\n",
       "      <td>...</td>\n",
       "      <td>...</td>\n",
       "      <td>...</td>\n",
       "      <td>...</td>\n",
       "      <td>...</td>\n",
       "      <td>...</td>\n",
       "      <td>...</td>\n",
       "    </tr>\n",
       "    <tr>\n",
       "      <th>149</th>\n",
       "      <td>0</td>\n",
       "      <td>23</td>\n",
       "      <td>20</td>\n",
       "      <td>4.6</td>\n",
       "      <td>2800</td>\n",
       "      <td>0</td>\n",
       "      <td>20.0</td>\n",
       "      <td>20.0</td>\n",
       "      <td>0.0</td>\n",
       "      <td>0</td>\n",
       "      <td>...</td>\n",
       "      <td>0</td>\n",
       "      <td>0</td>\n",
       "      <td>0</td>\n",
       "      <td>0</td>\n",
       "      <td>103</td>\n",
       "      <td>102</td>\n",
       "      <td>0</td>\n",
       "      <td>0</td>\n",
       "      <td>0</td>\n",
       "      <td>0</td>\n",
       "    </tr>\n",
       "    <tr>\n",
       "      <th>150</th>\n",
       "      <td>0</td>\n",
       "      <td>19</td>\n",
       "      <td>16</td>\n",
       "      <td>4.0</td>\n",
       "      <td>2800</td>\n",
       "      <td>0</td>\n",
       "      <td>6.6</td>\n",
       "      <td>5.6</td>\n",
       "      <td>3.8</td>\n",
       "      <td>0</td>\n",
       "      <td>...</td>\n",
       "      <td>0</td>\n",
       "      <td>0</td>\n",
       "      <td>0</td>\n",
       "      <td>0</td>\n",
       "      <td>94</td>\n",
       "      <td>20</td>\n",
       "      <td>73</td>\n",
       "      <td>0</td>\n",
       "      <td>0</td>\n",
       "      <td>0</td>\n",
       "    </tr>\n",
       "    <tr>\n",
       "      <th>151</th>\n",
       "      <td>0</td>\n",
       "      <td>8</td>\n",
       "      <td>6</td>\n",
       "      <td>3.5</td>\n",
       "      <td>2800</td>\n",
       "      <td>0</td>\n",
       "      <td>6.0</td>\n",
       "      <td>6.0</td>\n",
       "      <td>0.0</td>\n",
       "      <td>0</td>\n",
       "      <td>...</td>\n",
       "      <td>0</td>\n",
       "      <td>0</td>\n",
       "      <td>0</td>\n",
       "      <td>0</td>\n",
       "      <td>124</td>\n",
       "      <td>123</td>\n",
       "      <td>0</td>\n",
       "      <td>0</td>\n",
       "      <td>0</td>\n",
       "      <td>0</td>\n",
       "    </tr>\n",
       "    <tr>\n",
       "      <th>152</th>\n",
       "      <td>0</td>\n",
       "      <td>19</td>\n",
       "      <td>16</td>\n",
       "      <td>4.0</td>\n",
       "      <td>2800</td>\n",
       "      <td>0</td>\n",
       "      <td>6.5</td>\n",
       "      <td>5.5</td>\n",
       "      <td>4.0</td>\n",
       "      <td>0</td>\n",
       "      <td>...</td>\n",
       "      <td>0</td>\n",
       "      <td>0</td>\n",
       "      <td>0</td>\n",
       "      <td>0</td>\n",
       "      <td>109</td>\n",
       "      <td>10</td>\n",
       "      <td>98</td>\n",
       "      <td>0</td>\n",
       "      <td>37</td>\n",
       "      <td>0</td>\n",
       "    </tr>\n",
       "    <tr>\n",
       "      <th>153</th>\n",
       "      <td>0</td>\n",
       "      <td>24</td>\n",
       "      <td>21</td>\n",
       "      <td>4.0</td>\n",
       "      <td>2800</td>\n",
       "      <td>0</td>\n",
       "      <td>7.4</td>\n",
       "      <td>8.4</td>\n",
       "      <td>5.2</td>\n",
       "      <td>0</td>\n",
       "      <td>...</td>\n",
       "      <td>0</td>\n",
       "      <td>0</td>\n",
       "      <td>0</td>\n",
       "      <td>0</td>\n",
       "      <td>109</td>\n",
       "      <td>10</td>\n",
       "      <td>98</td>\n",
       "      <td>0</td>\n",
       "      <td>34</td>\n",
       "      <td>0</td>\n",
       "    </tr>\n",
       "  </tbody>\n",
       "</table>\n",
       "<p>94 rows × 49 columns</p>\n",
       "</div>"
      ],
      "text/plain": [
       "     1OYSum of kapalı  1OYSum of SURE  1OYSum of CIRC_TIME  1OYSum of WI  \\\n",
       "3                   2              48                   43           4.8   \n",
       "4                   3              49                   44           4.8   \n",
       "5                   8              54                   49           4.8   \n",
       "6                   8              54                   49           4.8   \n",
       "8                   8              55                   49           7.1   \n",
       "..                ...             ...                  ...           ...   \n",
       "149                 0              23                   20           4.6   \n",
       "150                 0              19                   16           4.0   \n",
       "151                 0               8                    6           3.5   \n",
       "152                 0              19                   16           4.0   \n",
       "153                 0              24                   21           4.0   \n",
       "\n",
       "     1OYMax of DEVIR  1OYMax of TEMP  1OYSum of ALT_C  1OYSum of ÜST_C  \\\n",
       "3               2800              53             14.6             18.6   \n",
       "4               2800              55             14.6             18.6   \n",
       "5               2800              56             14.6             18.6   \n",
       "6               2800              55             14.6             18.6   \n",
       "8               2800              55             14.6             18.6   \n",
       "..               ...             ...              ...              ...   \n",
       "149             2800               0             20.0             20.0   \n",
       "150             2800               0              6.6              5.6   \n",
       "151             2800               0              6.0              6.0   \n",
       "152             2800               0              6.5              5.5   \n",
       "153             2800               0              7.4              8.4   \n",
       "\n",
       "     1OYSum of TEPE_C  1OYSum of BEKLEME  ...  8DSBSum of kapalı  \\\n",
       "3                 7.8                  2  ...                  0   \n",
       "4                 7.8                  2  ...                  0   \n",
       "5                 7.8                  2  ...                  0   \n",
       "6                 7.8                  2  ...                  0   \n",
       "8                 7.8                  2  ...                  0   \n",
       "..                ...                ...  ...                ...   \n",
       "149               0.0                  0  ...                  0   \n",
       "150               3.8                  0  ...                  0   \n",
       "151               0.0                  0  ...                  0   \n",
       "152               4.0                  0  ...                  0   \n",
       "153               5.2                  0  ...                  0   \n",
       "\n",
       "     8DSBSum of SURE  8DSBSum of CIRC_TIME  8DSBMax of DEVIR  10KUSum of SURE  \\\n",
       "3                  0                     0                 0              110   \n",
       "4                  0                     0                 0               96   \n",
       "5                  0                     0                 0              113   \n",
       "6                  0                     0                 0               96   \n",
       "8                  0                     0                 0               96   \n",
       "..               ...                   ...               ...              ...   \n",
       "149                0                     0                 0              103   \n",
       "150                0                     0                 0               94   \n",
       "151                0                     0                 0              124   \n",
       "152                0                     0                 0              109   \n",
       "153                0                     0                 0              109   \n",
       "\n",
       "     10KUSum of BEKLEME  10KUSum of FAN  10KUSum of KAPI ACMA  \\\n",
       "3                    50              57                     1   \n",
       "4                    30              63                     1   \n",
       "5                    30              80                     1   \n",
       "6                    30              63                     1   \n",
       "8                    30              63                     1   \n",
       "..                  ...             ...                   ...   \n",
       "149                 102               0                     0   \n",
       "150                  20              73                     0   \n",
       "151                 123               0                     0   \n",
       "152                  10              98                     0   \n",
       "153                  10              98                     0   \n",
       "\n",
       "     10KUSum of FAN / KLAPE  10KUSum of GAUDI_offset  \n",
       "3                        30                        0  \n",
       "4                        29                        0  \n",
       "5                        38                        0  \n",
       "6                        29                        0  \n",
       "8                        29                        0  \n",
       "..                      ...                      ...  \n",
       "149                       0                        0  \n",
       "150                       0                        0  \n",
       "151                       0                        0  \n",
       "152                      37                        0  \n",
       "153                      34                        0  \n",
       "\n",
       "[94 rows x 49 columns]"
      ]
     },
     "execution_count": 147,
     "metadata": {},
     "output_type": "execute_result"
    }
   ],
   "source": [
    "df_ver_1"
   ]
  },
  {
   "cell_type": "code",
   "execution_count": 148,
   "id": "4bebbaa0",
   "metadata": {},
   "outputs": [
    {
     "data": {
      "text/plain": [
       "Index(['1OYSum of kapalı', '1OYSum of SURE', '1OYSum of CIRC_TIME',\n",
       "       '1OYSum of WI', '1OYMax of DEVIR', '1OYMax of TEMP', '1OYSum of ALT_C',\n",
       "       '1OYSum of TEPE_C', '1OYSum of BEKLEME', '2AYSum of kapalı',\n",
       "       '2AYSum of SURE', '2AYSum of WI', '2AYMax of DEVIR', '2AYMax of TEMP',\n",
       "       '2AYSum of ALT_C', '2AYSum of TEPE_C', '3MFTSum of SURE',\n",
       "       '4SGDSum of SURE', '4SGDSum of WI', '4SGDMax of DEVIR',\n",
       "       '4SGDSum of ALT_C', '4SGDSum of ÜST_C', '4SGDSum of TEPE_C',\n",
       "       '7SCD2Sum of kapalı', '7SCD2Sum of SURE', '7SCD2Max of DEVIR',\n",
       "       '7SCD2Max of TEMP', '7SCD2Sum of ALT_C', '7SCD2Sum of ÜST_C',\n",
       "       '8DSBSum of kapalı', '8DSBMax of DEVIR', '10KUSum of SURE',\n",
       "       '10KUSum of BEKLEME', '10KUSum of FAN', '10KUSum of KAPI ACMA',\n",
       "       '10KUSum of FAN / KLAPE', '10KUSum of GAUDI_offset'],\n",
       "      dtype='object')"
      ]
     },
     "execution_count": 148,
     "metadata": {},
     "output_type": "execute_result"
    }
   ],
   "source": [
    "df_ver_3.columns"
   ]
  },
  {
   "cell_type": "code",
   "execution_count": 149,
   "id": "0187e9de",
   "metadata": {},
   "outputs": [
    {
     "data": {
      "text/plain": [
       "Index(['1OYSum of kapalı', '1OYSum of SURE', '1OYSum of CIRC_TIME',\n",
       "       '1OYSum of WI', '1OYMax of DEVIR', '1OYMax of TEMP', '1OYSum of ALT_C',\n",
       "       '1OYSum of ÜST_C', '1OYSum of TEPE_C', '1OYSum of BEKLEME',\n",
       "       '2AYSum of kapalı', '2AYSum of SURE', '2AYSum of CIRC_TIME',\n",
       "       '2AYSum of WI', '2AYMax of DEVIR', '2AYMax of TEMP', '2AYSum of ALT_C',\n",
       "       '2AYSum of ÜST_C', '2AYSum of TEPE_C', '3MFTSum of SURE',\n",
       "       '3MFTSum of WI', '4SGDSum of SURE', '4SGDSum of CIRC_TIME',\n",
       "       '4SGDSum of WI', '4SGDMax of DEVIR', '4SGDSum of ALT_C',\n",
       "       '4SGDSum of ÜST_C', '4SGDSum of TEPE_C', '4SGDSum of BEKLEME',\n",
       "       '7SCD2Sum of kapalı', '7SCD2Sum of SURE', '7SCD2Sum of CIRC_TIME',\n",
       "       '7SCD2Sum of WI', '7SCD2Max of DEVIR', '7SCD2Max of TEMP',\n",
       "       '7SCD2Sum of ALT_C', '7SCD2Sum of ÜST_C', '7SCD2Sum of TEPE_C',\n",
       "       '7SCD2Sum of BEKLEME', '8DSBSum of kapalı', '8DSBSum of SURE',\n",
       "       '8DSBSum of CIRC_TIME', '8DSBMax of DEVIR', '10KUSum of SURE',\n",
       "       '10KUSum of BEKLEME', '10KUSum of FAN', '10KUSum of KAPI ACMA',\n",
       "       '10KUSum of FAN / KLAPE', '10KUSum of GAUDI_offset'],\n",
       "      dtype='object')"
      ]
     },
     "execution_count": 149,
     "metadata": {},
     "output_type": "execute_result"
    }
   ],
   "source": [
    "df_ver_1.columns"
   ]
  },
  {
   "cell_type": "code",
   "execution_count": 150,
   "id": "48f7e707",
   "metadata": {},
   "outputs": [
    {
     "name": "stdout",
     "output_type": "stream",
     "text": [
      "\n",
      "Rank: 37\n",
      "\n",
      "Determinant: 6.136095300543292e+107\n",
      "\n",
      "Condition Number : 114393.38196482755\n"
     ]
    }
   ],
   "source": [
    "# Analysis of a Matrix \n",
    "# input matrix name\n",
    "matrix_name= df_ver_3\n",
    "X_matrix = matrix_name.to_numpy()\n",
    "rank = np.linalg.matrix_rank(X_matrix)\n",
    "print(\"\\nRank:\", rank)\n",
    "XMT=np.transpose(X_matrix)\n",
    "XTX=np.dot(XMT,X_matrix)\n",
    "det = np.linalg.det(XTX)\n",
    "print(\"\\nDeterminant:\", det)\n",
    "Co=np.linalg.cond(X_matrix)\n",
    "print(\"\\nCondition Number :\", Co)"
   ]
  },
  {
   "cell_type": "code",
   "execution_count": 151,
   "id": "15cd1cb5",
   "metadata": {},
   "outputs": [
    {
     "name": "stdout",
     "output_type": "stream",
     "text": [
      " 0.28 -862\n",
      " 14.25 -1342\n",
      " 0.16 -638\n",
      " 1.39 -119\n",
      " 10.38 85\n"
     ]
    }
   ],
   "source": [
    "outputs = [ y_CPI, y_DPI , y_EC, y_WC, y_T]\n",
    "for x in outputs:\n",
    "    model_LR_1 = LinearRegression()\n",
    "    model_LR_1.fit(df_ver_1, x)\n",
    "    cv = RepeatedKFold(n_splits=5, n_repeats=3, random_state=79)\n",
    "    scores1 = cross_val_score(model_LR_1,df_ver_1, x, scoring='neg_mean_absolute_error', cv=cv, n_jobs=-1, error_score='raise')\n",
    "    scores3 = cross_val_score(model_LR_1,df_ver_1, x, scoring='r2', cv=cv, n_jobs=-1, error_score='raise')\n",
    "    print(' %.2f %.0f' % (-mean(scores1),  100*mean(scores3) ))"
   ]
  },
  {
   "cell_type": "code",
   "execution_count": 152,
   "id": "76507a28",
   "metadata": {},
   "outputs": [
    {
     "name": "stdout",
     "output_type": "stream",
     "text": [
      " 0.16 -803\n",
      " 8.26 -190\n",
      " 0.06 67\n",
      " 0.68 69\n",
      " 5.76 98\n"
     ]
    }
   ],
   "source": [
    "for x in outputs:\n",
    "    model_LR = LinearRegression()\n",
    "    model_LR.fit(df_ver_3, x)\n",
    "    cv = RepeatedKFold(n_splits=5, n_repeats=3, random_state=0)\n",
    "    scores1 = cross_val_score(model_LR,df_ver_3, x, scoring='neg_mean_absolute_error', cv=cv, n_jobs=-1, error_score='raise')\n",
    "    scores3 = cross_val_score(model_LR,df_ver_3, x, scoring='r2', cv=cv, n_jobs=-1, error_score='raise')\n",
    "    print(' %.2f %.0f' % (-mean(scores1),  100*mean(scores3) ))"
   ]
  },
  {
   "cell_type": "markdown",
   "id": "913501c2",
   "metadata": {},
   "source": [
    "This is the improvement of colinearity problem"
   ]
  },
  {
   "cell_type": "code",
   "execution_count": null,
   "id": "03f550fa",
   "metadata": {},
   "outputs": [],
   "source": [
    "We have df_ver_0 94*165 df_ver_1 94*49 df_ver_3 94*37"
   ]
  },
  {
   "cell_type": "markdown",
   "id": "645bf508",
   "metadata": {},
   "source": [
    "# Feature Selection Codes"
   ]
  },
  {
   "cell_type": "code",
   "execution_count": 68,
   "id": "19f18956",
   "metadata": {},
   "outputs": [],
   "source": [
    "import matplotlib.pyplot as plt\n",
    "import datetime"
   ]
  },
  {
   "cell_type": "markdown",
   "id": "82fcd30c",
   "metadata": {},
   "source": [
    "## Feature Selection by Select k Best f-regression with Linear Regression "
   ]
  },
  {
   "cell_type": "markdown",
   "id": "31f2e07d",
   "metadata": {},
   "source": [
    "### CPI"
   ]
  },
  {
   "cell_type": "code",
   "execution_count": 349,
   "id": "ee4d5215",
   "metadata": {},
   "outputs": [],
   "source": [
    "X=df_ver_3\n",
    "y=y_CPI\n",
    "model = LinearRegression()\n",
    "apt= pd.DataFrame(columns={'feature','mae','r2'})\n",
    "for k  in range(1, 38, 1):\n",
    "        from sklearn.feature_selection import SelectKBest, f_regression\n",
    "        #Select top 2 features based on mutual info regression\n",
    "        selector = SelectKBest(f_regression, k=k)\n",
    "        selector.fit(X, y)\n",
    "        selected_columns=X.columns[selector.get_support()]\n",
    "        XX = X[selected_columns].copy()       \n",
    "        model.fit(XX, y)\n",
    "        cv = RepeatedKFold(n_splits=5, n_repeats=3, random_state=79)\n",
    "        scores1 = cross_val_score(model,XX, y, scoring='neg_mean_absolute_error', cv=cv, n_jobs=-1, error_score='raise')\n",
    "        scores3 = cross_val_score(model,XX, y, scoring='r2', cv=cv, n_jobs=-1, error_score='raise')\n",
    "        apt=apt.append({'mae':-1*(mean(scores1)),'r2':100*(mean(scores3)),'feature':k},ignore_index=True)\n"
   ]
  },
  {
   "cell_type": "code",
   "execution_count": 286,
   "id": "e344c695",
   "metadata": {},
   "outputs": [
    {
     "data": {
      "text/plain": [
       "Text(0, 0.5, 'MAE')"
      ]
     },
     "execution_count": 286,
     "metadata": {},
     "output_type": "execute_result"
    },
    {
     "data": {
      "image/png": "[encoded data removed]",
      "text/plain": [
       "<Figure size 432x288 with 1 Axes>"
      ]
     },
     "metadata": {
      "needs_background": "light"
     },
     "output_type": "display_data"
    }
   ],
   "source": [
    "        plt.bar(apt.feature,apt.mae)\n",
    "        plt.xlabel('Number Of Feature')\n",
    "        plt.ylabel('MAE')       "
   ]
  },
  {
   "cell_type": "code",
   "execution_count": 287,
   "id": "0d253f85",
   "metadata": {},
   "outputs": [
    {
     "data": {
      "text/plain": [
       "Text(0, 0.5, 'R2')"
      ]
     },
     "execution_count": 287,
     "metadata": {},
     "output_type": "execute_result"
    },
    {
     "data": {
      "image/png": "[encoded data removed]",
      "text/plain": [
       "<Figure size 432x288 with 1 Axes>"
      ]
     },
     "metadata": {
      "needs_background": "light"
     },
     "output_type": "display_data"
    }
   ],
   "source": [
    "        plt.bar(apt.feature,apt.r2)\n",
    "        plt.xlabel('Number Of Feature')\n",
    "        plt.ylabel('R2')"
   ]
  },
  {
   "cell_type": "code",
   "execution_count": 288,
   "id": "a4ed05c5",
   "metadata": {},
   "outputs": [
    {
     "name": "stdout",
     "output_type": "stream",
     "text": [
      " 0.101 -69.545\n"
     ]
    }
   ],
   "source": [
    "        from sklearn.feature_selection import SelectKBest, f_regression\n",
    "        #Select top 2 features based on mutual info regression\n",
    "        selector = SelectKBest(f_regression, k=26)\n",
    "        selector.fit(X, y)\n",
    "        selected_columns=X.columns[selector.get_support()]\n",
    "        XX = X[selected_columns].copy()       \n",
    "        model.fit(XX, y)\n",
    "        cv = RepeatedKFold(n_splits=5, n_repeats=3, random_state=79)\n",
    "        scores1 = cross_val_score(model,XX, y, scoring='neg_mean_absolute_error', cv=cv, n_jobs=-1, error_score='raise')\n",
    "        scores3 = cross_val_score(model,XX, y, scoring='r2', cv=cv, n_jobs=-1, error_score='raise')\n",
    "        print(' %.3f %.3f' % (-mean(scores1), 100*mean(scores3)))\n"
   ]
  },
  {
   "cell_type": "markdown",
   "id": "53f71dca",
   "metadata": {},
   "source": [
    "### DPI"
   ]
  },
  {
   "cell_type": "code",
   "execution_count": 289,
   "id": "36d577ae",
   "metadata": {},
   "outputs": [],
   "source": [
    "X=df_ver_3\n",
    "y=y_DPI\n",
    "model = LinearRegression()\n",
    "apt= pd.DataFrame(columns={'feature','mae','r2'})\n",
    "for k  in range(1, 38, 1):\n",
    "        from sklearn.feature_selection import SelectKBest, f_regression\n",
    "        #Select top 2 features based on mutual info regression\n",
    "        selector = SelectKBest(f_regression, k=k)\n",
    "        selector.fit(X, y)\n",
    "        selected_columns=X.columns[selector.get_support()]\n",
    "        XX = X[selected_columns].copy()       \n",
    "        model.fit(XX, y)\n",
    "        cv = RepeatedKFold(n_splits=5, n_repeats=3, random_state=79)\n",
    "        scores1 = cross_val_score(model,XX, y, scoring='neg_mean_absolute_error', cv=cv, n_jobs=-1, error_score='raise')\n",
    "        scores3 = cross_val_score(model,XX, y, scoring='r2', cv=cv, n_jobs=-1, error_score='raise')\n",
    "        apt=apt.append({'mae':-1*(mean(scores1)),'r2':100*(mean(scores3)),'feature':k},ignore_index=True)"
   ]
  },
  {
   "cell_type": "code",
   "execution_count": 290,
   "id": "8ef6ddea",
   "metadata": {},
   "outputs": [
    {
     "data": {
      "text/plain": [
       "Text(0, 0.5, 'MAE')"
      ]
     },
     "execution_count": 290,
     "metadata": {},
     "output_type": "execute_result"
    },
    {
     "data": {
      "image/png": "[encoded data removed]",
      "text/plain": [
       "<Figure size 432x288 with 1 Axes>"
      ]
     },
     "metadata": {
      "needs_background": "light"
     },
     "output_type": "display_data"
    }
   ],
   "source": [
    "        plt.bar(apt.feature,apt.mae)\n",
    "        plt.xlabel('Number Of Feature')\n",
    "        plt.ylabel('MAE')  "
   ]
  },
  {
   "cell_type": "code",
   "execution_count": 291,
   "id": "1c695294",
   "metadata": {},
   "outputs": [
    {
     "data": {
      "text/plain": [
       "Text(0, 0.5, 'R2')"
      ]
     },
     "execution_count": 291,
     "metadata": {},
     "output_type": "execute_result"
    },
    {
     "data": {
      "image/png": "[encoded data removed]",
      "text/plain": [
       "<Figure size 432x288 with 1 Axes>"
      ]
     },
     "metadata": {
      "needs_background": "light"
     },
     "output_type": "display_data"
    }
   ],
   "source": [
    "        plt.bar(apt.feature,apt.r2)\n",
    "        plt.xlabel('Number Of Feature')\n",
    "        plt.ylabel('R2')"
   ]
  },
  {
   "cell_type": "code",
   "execution_count": 292,
   "id": "8f45df67",
   "metadata": {},
   "outputs": [
    {
     "name": "stdout",
     "output_type": "stream",
     "text": [
      " 7.772 -32.460\n"
     ]
    }
   ],
   "source": [
    "        from sklearn.feature_selection import SelectKBest, f_regression\n",
    "        #Select top 2 features based on mutual info regression\n",
    "        selector = SelectKBest(f_regression, k=10)\n",
    "        selector.fit(X, y)\n",
    "        selected_columns=X.columns[selector.get_support()]\n",
    "        XX = X[selected_columns].copy()       \n",
    "        model.fit(XX, y)\n",
    "        cv = RepeatedKFold(n_splits=5, n_repeats=3, random_state=79)\n",
    "        scores1 = cross_val_score(model,XX, y, scoring='neg_mean_absolute_error', cv=cv, n_jobs=-1, error_score='raise')\n",
    "        scores3 = cross_val_score(model,XX, y, scoring='r2', cv=cv, n_jobs=-1, error_score='raise')\n",
    "        print(' %.3f %.3f' % (-mean(scores1), 100*mean(scores3)))\n"
   ]
  },
  {
   "cell_type": "markdown",
   "id": "73eb6a22",
   "metadata": {},
   "source": [
    "### EC"
   ]
  },
  {
   "cell_type": "code",
   "execution_count": 264,
   "id": "49f8ef3d",
   "metadata": {},
   "outputs": [],
   "source": [
    "X=df_ver_3\n",
    "y=y_EC_D\n",
    "model = LinearRegression()\n",
    "apt= pd.DataFrame(columns={'feature','mae','r2'})\n",
    "for k  in range(1, 38, 1):\n",
    "        from sklearn.feature_selection import SelectKBest, f_regression\n",
    "        #Select top 2 features based on mutual info regression\n",
    "        selector = SelectKBest(f_regression, k=k)\n",
    "        selector.fit(X, y)\n",
    "        selected_columns=X.columns[selector.get_support()]\n",
    "        XX = X[selected_columns].copy()       \n",
    "        model.fit(XX, y)\n",
    "        cv = RepeatedKFold(n_splits=5, n_repeats=3, random_state=79)\n",
    "        scores1 = cross_val_score(model,XX, y, scoring='neg_mean_absolute_error', cv=cv, n_jobs=-1, error_score='raise')\n",
    "        scores3 = cross_val_score(model,XX, y, scoring='r2', cv=cv, n_jobs=-1, error_score='raise')\n",
    "        apt=apt.append({'mae':-1*(mean(scores1)),'r2':100*(mean(scores3)),'feature':k},ignore_index=True)"
   ]
  },
  {
   "cell_type": "code",
   "execution_count": 265,
   "id": "d0bed041",
   "metadata": {},
   "outputs": [
    {
     "data": {
      "text/plain": [
       "Text(0, 0.5, 'MAE')"
      ]
     },
     "execution_count": 265,
     "metadata": {},
     "output_type": "execute_result"
    },
    {
     "data": {
      "image/png": "[encoded data removed]",
      "text/plain": [
       "<Figure size 432x288 with 1 Axes>"
      ]
     },
     "metadata": {
      "needs_background": "light"
     },
     "output_type": "display_data"
    }
   ],
   "source": [
    "        plt.bar(apt.feature,apt.mae)\n",
    "        plt.xlabel('Number Of Feature')\n",
    "        plt.ylabel('MAE')  "
   ]
  },
  {
   "cell_type": "code",
   "execution_count": 266,
   "id": "116b3102",
   "metadata": {},
   "outputs": [
    {
     "data": {
      "text/plain": [
       "Text(0, 0.5, 'R2')"
      ]
     },
     "execution_count": 266,
     "metadata": {},
     "output_type": "execute_result"
    },
    {
     "data": {
      "image/png": "[encoded data removed]",
      "text/plain": [
       "<Figure size 432x288 with 1 Axes>"
      ]
     },
     "metadata": {
      "needs_background": "light"
     },
     "output_type": "display_data"
    }
   ],
   "source": [
    "        plt.bar(apt.feature,apt.r2)\n",
    "        plt.xlabel('Number Of Feature')\n",
    "        plt.ylabel('R2')"
   ]
  },
  {
   "cell_type": "code",
   "execution_count": 269,
   "id": "c2a4b3ae",
   "metadata": {},
   "outputs": [
    {
     "name": "stdout",
     "output_type": "stream",
     "text": [
      " 0.058 70.768\n"
     ]
    }
   ],
   "source": [
    "        from sklearn.feature_selection import SelectKBest, f_regression\n",
    "        #Select top 2 features based on mutual info regression\n",
    "        selector = SelectKBest(f_regression, k=29)\n",
    "        selector.fit(X, y)\n",
    "        selected_columns=X.columns[selector.get_support()]\n",
    "        XX = X[selected_columns].copy()       \n",
    "        model.fit(XX, y)\n",
    "        cv = RepeatedKFold(n_splits=5, n_repeats=3, random_state=79)\n",
    "        scores1 = cross_val_score(model,XX, y, scoring='neg_mean_absolute_error', cv=cv, n_jobs=-1, error_score='raise')\n",
    "        scores3 = cross_val_score(model,XX, y, scoring='r2', cv=cv, n_jobs=-1, error_score='raise')\n",
    "        print(' %.3f %.3f' % (-mean(scores1), 100*mean(scores3)))"
   ]
  },
  {
   "cell_type": "markdown",
   "id": "76360f0e",
   "metadata": {},
   "source": [
    "### WC"
   ]
  },
  {
   "cell_type": "code",
   "execution_count": 270,
   "id": "0889466c",
   "metadata": {},
   "outputs": [],
   "source": [
    "X=df_ver_3\n",
    "y=y_WC\n",
    "model = LinearRegression()\n",
    "apt= pd.DataFrame(columns={'feature','mae','r2'})\n",
    "for k  in range(1, 38, 1):\n",
    "        from sklearn.feature_selection import SelectKBest, f_regression\n",
    "        #Select top 2 features based on mutual info regression\n",
    "        selector = SelectKBest(f_regression, k=k)\n",
    "        selector.fit(X, y)\n",
    "        selected_columns=X.columns[selector.get_support()]\n",
    "        XX = X[selected_columns].copy()       \n",
    "        model.fit(XX, y)\n",
    "        cv = RepeatedKFold(n_splits=5, n_repeats=3, random_state=79)\n",
    "        scores1 = cross_val_score(model,XX, y, scoring='neg_mean_absolute_error', cv=cv, n_jobs=-1, error_score='raise')\n",
    "        scores3 = cross_val_score(model,XX, y, scoring='r2', cv=cv, n_jobs=-1, error_score='raise')\n",
    "        apt=apt.append({'mae':-1*(mean(scores1)),'r2':100*(mean(scores3)),'feature':k},ignore_index=True)"
   ]
  },
  {
   "cell_type": "code",
   "execution_count": 271,
   "id": "3b4cd2c9",
   "metadata": {},
   "outputs": [
    {
     "data": {
      "text/plain": [
       "Text(0, 0.5, 'MAE')"
      ]
     },
     "execution_count": 271,
     "metadata": {},
     "output_type": "execute_result"
    },
    {
     "data": {
      "image/png": "[encoded data removed]",
      "text/plain": [
       "<Figure size 432x288 with 1 Axes>"
      ]
     },
     "metadata": {
      "needs_background": "light"
     },
     "output_type": "display_data"
    }
   ],
   "source": [
    "        plt.bar(apt.feature,apt.mae)\n",
    "        plt.xlabel('Number Of Feature')\n",
    "        plt.ylabel('MAE')  "
   ]
  },
  {
   "cell_type": "code",
   "execution_count": 272,
   "id": "8357235e",
   "metadata": {},
   "outputs": [
    {
     "data": {
      "text/plain": [
       "Text(0, 0.5, 'R2')"
      ]
     },
     "execution_count": 272,
     "metadata": {},
     "output_type": "execute_result"
    },
    {
     "data": {
      "image/png": "[encoded data removed]",
      "text/plain": [
       "<Figure size 432x288 with 1 Axes>"
      ]
     },
     "metadata": {
      "needs_background": "light"
     },
     "output_type": "display_data"
    }
   ],
   "source": [
    "        plt.bar(apt.feature,apt.r2)\n",
    "        plt.xlabel('Number Of Feature')\n",
    "        plt.ylabel('R2')"
   ]
  },
  {
   "cell_type": "code",
   "execution_count": 273,
   "id": "b2869f53",
   "metadata": {},
   "outputs": [
    {
     "name": "stdout",
     "output_type": "stream",
     "text": [
      " 0.608 77.655\n"
     ]
    }
   ],
   "source": [
    "        from sklearn.feature_selection import SelectKBest, f_regression\n",
    "        #Select top 2 features based on mutual info regression\n",
    "        selector = SelectKBest(f_regression, k=30)\n",
    "        selector.fit(X, y)\n",
    "        selected_columns=X.columns[selector.get_support()]\n",
    "        XX = X[selected_columns].copy()       \n",
    "        model.fit(XX, y)\n",
    "        cv = RepeatedKFold(n_splits=5, n_repeats=3, random_state=79)\n",
    "        scores1 = cross_val_score(model,XX, y, scoring='neg_mean_absolute_error', cv=cv, n_jobs=-1, error_score='raise')\n",
    "        scores3 = cross_val_score(model,XX, y, scoring='r2', cv=cv, n_jobs=-1, error_score='raise')\n",
    "        print(' %.3f %.3f' % (-mean(scores1), 100*mean(scores3)))"
   ]
  },
  {
   "cell_type": "markdown",
   "id": "70d5b1cf",
   "metadata": {},
   "source": [
    "### T"
   ]
  },
  {
   "cell_type": "code",
   "execution_count": 274,
   "id": "99ba5134",
   "metadata": {},
   "outputs": [],
   "source": [
    "X=df_ver_3\n",
    "y=y_T_D\n",
    "model = LinearRegression()\n",
    "apt= pd.DataFrame(columns={'feature','mae','r2'})\n",
    "for k  in range(1, 38, 1):\n",
    "        from sklearn.feature_selection import SelectKBest, f_regression\n",
    "        #Select top 2 features based on mutual info regression\n",
    "        selector = SelectKBest(f_regression, k=k)\n",
    "        selector.fit(X, y)\n",
    "        selected_columns=X.columns[selector.get_support()]\n",
    "        XX = X[selected_columns].copy()       \n",
    "        model.fit(XX, y)\n",
    "        cv = RepeatedKFold(n_splits=5, n_repeats=3, random_state=79)\n",
    "        scores1 = cross_val_score(model,XX, y, scoring='neg_mean_absolute_error', cv=cv, n_jobs=-1, error_score='raise')\n",
    "        scores3 = cross_val_score(model,XX, y, scoring='r2', cv=cv, n_jobs=-1, error_score='raise')\n",
    "        apt=apt.append({'mae':-1*(mean(scores1)),'r2':100*(mean(scores3)),'feature':k},ignore_index=True)"
   ]
  },
  {
   "cell_type": "code",
   "execution_count": 275,
   "id": "f79782d0",
   "metadata": {},
   "outputs": [
    {
     "data": {
      "text/plain": [
       "Text(0, 0.5, 'MAE')"
      ]
     },
     "execution_count": 275,
     "metadata": {},
     "output_type": "execute_result"
    },
    {
     "data": {
      "image/png": "[encoded data removed]",
      "text/plain": [
       "<Figure size 432x288 with 1 Axes>"
      ]
     },
     "metadata": {
      "needs_background": "light"
     },
     "output_type": "display_data"
    }
   ],
   "source": [
    "        plt.bar(apt.feature,apt.mae)\n",
    "        plt.xlabel('Number Of Feature')\n",
    "        plt.ylabel('MAE')  "
   ]
  },
  {
   "cell_type": "code",
   "execution_count": 276,
   "id": "0147d55a",
   "metadata": {},
   "outputs": [
    {
     "data": {
      "text/plain": [
       "Text(0, 0.5, 'R2')"
      ]
     },
     "execution_count": 276,
     "metadata": {},
     "output_type": "execute_result"
    },
    {
     "data": {
      "image/png": "[encoded data removed]",
      "text/plain": [
       "<Figure size 432x288 with 1 Axes>"
      ]
     },
     "metadata": {
      "needs_background": "light"
     },
     "output_type": "display_data"
    }
   ],
   "source": [
    "        plt.bar(apt.feature,apt.r2)\n",
    "        plt.xlabel('Number Of Feature')\n",
    "        plt.ylabel('R2')"
   ]
  },
  {
   "cell_type": "code",
   "execution_count": 277,
   "id": "304c7e69",
   "metadata": {},
   "outputs": [
    {
     "name": "stdout",
     "output_type": "stream",
     "text": [
      " 4.351 99.351\n"
     ]
    }
   ],
   "source": [
    "        from sklearn.feature_selection import SelectKBest, f_regression\n",
    "        selector = SelectKBest(f_regression, k=11)\n",
    "        selector.fit(X, y)\n",
    "        selected_columns=X.columns[selector.get_support()]\n",
    "        XX = X[selected_columns].copy()       \n",
    "        model.fit(XX, y)\n",
    "        cv = RepeatedKFold(n_splits=5, n_repeats=3, random_state=79)\n",
    "        scores1 = cross_val_score(model,XX, y, scoring='neg_mean_absolute_error', cv=cv, n_jobs=-1, error_score='raise')\n",
    "        scores3 = cross_val_score(model,XX, y, scoring='r2', cv=cv, n_jobs=-1, error_score='raise')\n",
    "        print(' %.3f %.3f' % (-mean(scores1), 100*mean(scores3)))"
   ]
  },
  {
   "cell_type": "markdown",
   "id": "59b2dbb4",
   "metadata": {},
   "source": [
    "## Feature Selection by Genetic Selection with Linear Regression "
   ]
  },
  {
   "cell_type": "markdown",
   "id": "20825a1d",
   "metadata": {},
   "source": [
    "### CPI"
   ]
  },
  {
   "cell_type": "code",
   "execution_count": 69,
   "id": "a2feca23",
   "metadata": {},
   "outputs": [
    {
     "name": "stdout",
     "output_type": "stream",
     "text": [
      "Features: Index(['1OYSum of SURE', '2AYSum of kapalı', '2AYSum of WI', '2AYMax of DEVIR',\n",
      "       '2AYMax of TEMP', '4SGDSum of WI', '4SGDMax of DEVIR',\n",
      "       '4SGDSum of ÜST_C', '4SGDSum of TEPE_C', '7SCD2Sum of kapalı',\n",
      "       '7SCD2Max of DEVIR', '7SCD2Max of TEMP', '7SCD2Sum of ALT_C',\n",
      "       '10KUSum of SURE', '10KUSum of FAN', '10KUSum of KAPI ACMA',\n",
      "       '10KUSum of FAN / KLAPE', '10KUSum of GAUDI_offset'],\n",
      "      dtype='object')\n",
      " 0.079 64.240\n"
     ]
    }
   ],
   "source": [
    "X = df_ver_3\n",
    "y = y_CPI\n",
    "estimator = LinearRegression()\n",
    "model = GeneticSelectionCV(\n",
    "    estimator, cv=5, verbose=0,\n",
    "    scoring=\"neg_mean_absolute_error\", max_features=37,\n",
    "    n_population=500, crossover_proba=0.5,\n",
    "    mutation_proba=0.2, n_generations=200,\n",
    "    crossover_independent_proba=0.5,\n",
    "    mutation_independent_proba=0.04,\n",
    "    tournament_size=3, n_gen_no_change=10,\n",
    "    caching=True, n_jobs=-1)\n",
    "model = model.fit(X, y)\n",
    "print('Features:', X.columns[model.support_])\n",
    "selected_columns=X.columns[model.support_]       \n",
    "XX = X[selected_columns].copy() \n",
    "model_LR=LinearRegression()\n",
    "model_LR.fit(XX, y)\n",
    "cv = RepeatedKFold(n_splits=5, n_repeats=3, random_state=79)\n",
    "scores1 = cross_val_score(model_LR,XX, y, scoring='neg_mean_absolute_error', cv=cv, n_jobs=-1, error_score='raise')\n",
    "scores3 = cross_val_score(model_LR,XX, y, scoring='r2', cv=cv, n_jobs=-1, error_score='raise')\n",
    "print(' %.3f %.0f' % (-mean(scores1),  100*mean(scores3)))"
   ]
  },
  {
   "cell_type": "markdown",
   "id": "d1791e2d",
   "metadata": {},
   "source": [
    "### DPI"
   ]
  },
  {
   "cell_type": "code",
   "execution_count": 70,
   "id": "8495c0c5",
   "metadata": {},
   "outputs": [
    {
     "name": "stdout",
     "output_type": "stream",
     "text": [
      "Features: Index(['1OYSum of CIRC_TIME', '1OYSum of WI', '1OYSum of TEPE_C',\n",
      "       '2AYSum of kapalı', '2AYSum of SURE', '2AYSum of WI', '2AYMax of DEVIR',\n",
      "       '2AYMax of TEMP', '2AYSum of TEPE_C', '4SGDSum of WI',\n",
      "       '4SGDSum of ALT_C', '4SGDSum of ÜST_C', '7SCD2Sum of kapalı',\n",
      "       '7SCD2Max of DEVIR', '7SCD2Max of TEMP', '7SCD2Sum of ALT_C',\n",
      "       '10KUSum of SURE', '10KUSum of BEKLEME', '10KUSum of KAPI ACMA'],\n",
      "      dtype='object')\n",
      " 4.008 59.553\n"
     ]
    }
   ],
   "source": [
    "X = df_ver_3\n",
    "y = y_DPI\n",
    "estimator = LinearRegression()\n",
    "model = GeneticSelectionCV(\n",
    "    estimator, cv=5, verbose=0,\n",
    "    scoring=\"neg_mean_absolute_error\", max_features=37,\n",
    "    n_population=500, crossover_proba=0.5,\n",
    "    mutation_proba=0.2, n_generations=200,\n",
    "    crossover_independent_proba=0.5,\n",
    "    mutation_independent_proba=0.04,\n",
    "    tournament_size=3, n_gen_no_change=10,\n",
    "    caching=True, n_jobs=-1)\n",
    "model = model.fit(X, y)\n",
    "print('Features:', X.columns[model.support_])\n",
    "selected_columns=X.columns[model.support_]       \n",
    "XX = X[selected_columns].copy() \n",
    "model_LR=LinearRegression()\n",
    "model_LR.fit(XX, y)\n",
    "cv = RepeatedKFold(n_splits=5, n_repeats=3, random_state=79)\n",
    "scores1 = cross_val_score(model_LR,XX, y, scoring='neg_mean_absolute_error', cv=cv, n_jobs=-1, error_score='raise')\n",
    "scores3 = cross_val_score(model_LR,XX, y, scoring='r2', cv=cv, n_jobs=-1, error_score='raise')\n",
    "print(' %.3f %.0f' % (-mean(scores1),  100*mean(scores3)))"
   ]
  },
  {
   "cell_type": "markdown",
   "id": "2ec0ae57",
   "metadata": {},
   "source": [
    "### EC"
   ]
  },
  {
   "cell_type": "code",
   "execution_count": 72,
   "id": "0a5a458e",
   "metadata": {},
   "outputs": [
    {
     "name": "stdout",
     "output_type": "stream",
     "text": [
      "Features: Index(['1OYSum of kapalı', '1OYSum of SURE', '1OYSum of CIRC_TIME',\n",
      "       '1OYSum of WI', '1OYSum of ALT_C', '2AYSum of kapalı', '2AYSum of SURE',\n",
      "       '2AYMax of TEMP', '2AYSum of ALT_C', '2AYSum of TEPE_C',\n",
      "       '4SGDSum of SURE', '4SGDSum of WI', '4SGDMax of DEVIR',\n",
      "       '4SGDSum of ÜST_C', '4SGDSum of TEPE_C', '7SCD2Sum of kapalı',\n",
      "       '7SCD2Sum of SURE', '7SCD2Max of TEMP', '7SCD2Sum of ALT_C',\n",
      "       '10KUSum of BEKLEME', '10KUSum of FAN', '10KUSum of KAPI ACMA'],\n",
      "      dtype='object')\n",
      " 0.043 88\n"
     ]
    }
   ],
   "source": [
    "X = df_ver_3\n",
    "y = y_EC\n",
    "estimator = LinearRegression()\n",
    "model = GeneticSelectionCV(\n",
    "    estimator, cv=5, verbose=0,\n",
    "    scoring=\"neg_mean_absolute_error\", max_features=37,\n",
    "    n_population=500, crossover_proba=0.5,\n",
    "    mutation_proba=0.2, n_generations=200,\n",
    "    crossover_independent_proba=0.5,\n",
    "    mutation_independent_proba=0.04,\n",
    "    tournament_size=3, n_gen_no_change=10,\n",
    "    caching=True, n_jobs=-1)\n",
    "model = model.fit(X, y)\n",
    "print('Features:', X.columns[model.support_])\n",
    "selected_columns=X.columns[model.support_]       \n",
    "XX = X[selected_columns].copy() \n",
    "model_LR=LinearRegression()\n",
    "model_LR.fit(XX, y)\n",
    "cv = RepeatedKFold(n_splits=5, n_repeats=3, random_state=79)\n",
    "scores1 = cross_val_score(model_LR,XX, y, scoring='neg_mean_absolute_error', cv=cv, n_jobs=-1, error_score='raise')\n",
    "scores3 = cross_val_score(model_LR,XX, y, scoring='r2', cv=cv, n_jobs=-1, error_score='raise')\n",
    "print(' %.3f %.0f' % (-mean(scores1),  100*mean(scores3)))"
   ]
  },
  {
   "cell_type": "markdown",
   "id": "dff974b9",
   "metadata": {},
   "source": [
    "### WC"
   ]
  },
  {
   "cell_type": "code",
   "execution_count": 73,
   "id": "541fddd1",
   "metadata": {},
   "outputs": [
    {
     "name": "stdout",
     "output_type": "stream",
     "text": [
      "Features: Index(['1OYSum of kapalı', '1OYSum of WI', '1OYMax of DEVIR', '1OYMax of TEMP',\n",
      "       '2AYSum of kapalı', '2AYSum of WI', '2AYMax of DEVIR',\n",
      "       '4SGDSum of SURE', '4SGDSum of WI', '4SGDSum of TEPE_C',\n",
      "       '7SCD2Sum of kapalı', '7SCD2Sum of SURE', '7SCD2Max of DEVIR',\n",
      "       '7SCD2Sum of ALT_C', '8DSBSum of kapalı', '10KUSum of SURE',\n",
      "       '10KUSum of GAUDI_offset'],\n",
      "      dtype='object')\n",
      " 0.408 89\n"
     ]
    }
   ],
   "source": [
    "X = df_ver_3\n",
    "y = y_WC\n",
    "estimator = LinearRegression()\n",
    "model = GeneticSelectionCV(\n",
    "    estimator, cv=5, verbose=0,\n",
    "    scoring=\"neg_mean_absolute_error\", max_features=37,\n",
    "    n_population=500, crossover_proba=0.5,\n",
    "    mutation_proba=0.2, n_generations=200,\n",
    "    crossover_independent_proba=0.5,\n",
    "    mutation_independent_proba=0.04,\n",
    "    tournament_size=3, n_gen_no_change=10,\n",
    "    caching=True, n_jobs=-1)\n",
    "model = model.fit(X, y)\n",
    "print('Features:', X.columns[model.support_])\n",
    "selected_columns=X.columns[model.support_]       \n",
    "XX = X[selected_columns].copy() \n",
    "model_LR=LinearRegression()\n",
    "model_LR.fit(XX, y)\n",
    "cv = RepeatedKFold(n_splits=5, n_repeats=3, random_state=79)\n",
    "scores1 = cross_val_score(model_LR,XX, y, scoring='neg_mean_absolute_error', cv=cv, n_jobs=-1, error_score='raise')\n",
    "scores3 = cross_val_score(model_LR,XX, y, scoring='r2', cv=cv, n_jobs=-1, error_score='raise')\n",
    "print(' %.3f %.0f' % (-mean(scores1),  100*mean(scores3)))"
   ]
  },
  {
   "cell_type": "markdown",
   "id": "c9c1b17e",
   "metadata": {},
   "source": [
    "### T"
   ]
  },
  {
   "cell_type": "code",
   "execution_count": 75,
   "id": "b9268648",
   "metadata": {},
   "outputs": [
    {
     "name": "stdout",
     "output_type": "stream",
     "text": [
      "Features: Index(['1OYSum of SURE', '1OYSum of BEKLEME', '2AYSum of kapalı',\n",
      "       '2AYSum of SURE', '2AYSum of ALT_C', '4SGDSum of WI',\n",
      "       '7SCD2Sum of SURE', '7SCD2Max of DEVIR', '8DSBSum of kapalı',\n",
      "       '10KUSum of SURE'],\n",
      "      dtype='object')\n",
      " 2.841 100\n"
     ]
    }
   ],
   "source": [
    "X = df_ver_3\n",
    "y = y_T\n",
    "estimator = LinearRegression()\n",
    "model = GeneticSelectionCV(\n",
    "    estimator, cv=5, verbose=0,\n",
    "    scoring=\"neg_mean_absolute_error\", max_features=37,\n",
    "    n_population=500, crossover_proba=0.5,\n",
    "    mutation_proba=0.2, n_generations=200,\n",
    "    crossover_independent_proba=0.5,\n",
    "    mutation_independent_proba=0.04,\n",
    "    tournament_size=3, n_gen_no_change=10,\n",
    "    caching=True, n_jobs=-1)\n",
    "model = model.fit(X, y)\n",
    "print('Features:', X.columns[model.support_])\n",
    "selected_columns=X.columns[model.support_]       \n",
    "XX = X[selected_columns].copy() \n",
    "model_LR=LinearRegression()\n",
    "model_LR.fit(XX, y)\n",
    "cv = RepeatedKFold(n_splits=5, n_repeats=3, random_state=79)\n",
    "scores1 = cross_val_score(model_LR,XX, y, scoring='neg_mean_absolute_error', cv=cv, n_jobs=-1, error_score='raise')\n",
    "scores3 = cross_val_score(model_LR,XX, y, scoring='r2', cv=cv, n_jobs=-1, error_score='raise')\n",
    "print(' %.3f %.0f' % (-mean(scores1),  100*mean(scores3)))"
   ]
  },
  {
   "cell_type": "markdown",
   "id": "61e56f7c",
   "metadata": {},
   "source": [
    "Genetic Algorithm Performs Better on feature selection for linear regression models. this improve the importance of feature selection"
   ]
  },
  {
   "cell_type": "code",
   "execution_count": null,
   "id": "4db905a3",
   "metadata": {},
   "outputs": [],
   "source": []
  },
  {
   "cell_type": "markdown",
   "id": "bd7fc774",
   "metadata": {},
   "source": [
    "## Feature Selection by Sequential Backward or Forward Methods with Linear Regression"
   ]
  },
  {
   "cell_type": "code",
   "execution_count": 322,
   "id": "d8f0e492",
   "metadata": {},
   "outputs": [],
   "source": [
    "from sklearn.feature_selection import SequentialFeatureSelector"
   ]
  },
  {
   "cell_type": "markdown",
   "id": "f83d0a61",
   "metadata": {},
   "source": [
    "### BACKWARD"
   ]
  },
  {
   "cell_type": "markdown",
   "id": "8b032b62",
   "metadata": {},
   "source": [
    "### CPI"
   ]
  },
  {
   "cell_type": "code",
   "execution_count": 324,
   "id": "f5ca8058",
   "metadata": {},
   "outputs": [],
   "source": [
    "X=df_ver_3\n",
    "y=y_CPI\n",
    "model = LinearRegression()\n",
    "apt= pd.DataFrame(columns={'feature','mae','r2'})\n",
    "for k  in range(1, 37, 1):\n",
    "        selector = SequentialFeatureSelector(estimator=LinearRegression(),n_features_to_select = k, cv =3, direction ='backward')\n",
    "        selector.fit(X, y)\n",
    "        selected_columns=X.columns[selector.get_support()]     \n",
    "        XX = X[selected_columns].copy()       \n",
    "        model.fit(XX, y)\n",
    "        cv = RepeatedKFold(n_splits=5, n_repeats=3, random_state=79)\n",
    "        scores1 = cross_val_score(model,XX, y, scoring='neg_mean_absolute_error', cv=cv, n_jobs=-1, error_score='raise')\n",
    "        scores3 = cross_val_score(model,XX, y, scoring='r2', cv=cv, n_jobs=-1, error_score='raise')\n",
    "        apt=apt.append({'mae':-1*(mean(scores1)),'r2':100*(mean(scores3)),'feature':k},ignore_index=True)"
   ]
  },
  {
   "cell_type": "code",
   "execution_count": 325,
   "id": "fc9e25df",
   "metadata": {},
   "outputs": [
    {
     "data": {
      "text/plain": [
       "Text(0, 0.5, 'MAE')"
      ]
     },
     "execution_count": 325,
     "metadata": {},
     "output_type": "execute_result"
    },
    {
     "data": {
      "image/png": "[encoded data removed]",
      "text/plain": [
       "<Figure size 432x288 with 1 Axes>"
      ]
     },
     "metadata": {
      "needs_background": "light"
     },
     "output_type": "display_data"
    }
   ],
   "source": [
    "        plt.bar(apt.feature,apt.mae)\n",
    "        plt.xlabel('Number Of Feature')\n",
    "        plt.ylabel('MAE') "
   ]
  },
  {
   "cell_type": "code",
   "execution_count": 326,
   "id": "baeb338e",
   "metadata": {},
   "outputs": [
    {
     "data": {
      "text/plain": [
       "Text(0, 0.5, 'R2')"
      ]
     },
     "execution_count": 326,
     "metadata": {},
     "output_type": "execute_result"
    },
    {
     "data": {
      "image/png": "[encoded data removed]",
      "text/plain": [
       "<Figure size 432x288 with 1 Axes>"
      ]
     },
     "metadata": {
      "needs_background": "light"
     },
     "output_type": "display_data"
    }
   ],
   "source": [
    "        plt.bar(apt.feature,apt.r2)\n",
    "        plt.xlabel('Number Of Feature')\n",
    "        plt.ylabel('R2')"
   ]
  },
  {
   "cell_type": "code",
   "execution_count": 328,
   "id": "2d1f71b3",
   "metadata": {},
   "outputs": [
    {
     "name": "stdout",
     "output_type": "stream",
     "text": [
      " 0.093 -43.274\n"
     ]
    }
   ],
   "source": [
    "        selector = SequentialFeatureSelector(estimator=LinearRegression(),n_features_to_select = 21, cv =3, direction ='backward')\n",
    "        selector.fit(X, y)\n",
    "        selected_columns=X.columns[selector.get_support()]     \n",
    "        XX = X[selected_columns].copy() \n",
    "        model.fit(XX, y)\n",
    "        cv = RepeatedKFold(n_splits=5, n_repeats=3, random_state=79)\n",
    "        scores1 = cross_val_score(model,XX, y, scoring='neg_mean_absolute_error', cv=cv, n_jobs=-1, error_score='raise')\n",
    "        scores3 = cross_val_score(model,XX, y, scoring='r2', cv=cv, n_jobs=-1, error_score='raise')\n",
    "        print(' %.3f %.3f' % (-mean(scores1), 100*mean(scores3)))"
   ]
  },
  {
   "cell_type": "code",
   "execution_count": null,
   "id": "17d4963d",
   "metadata": {},
   "outputs": [],
   "source": []
  },
  {
   "cell_type": "markdown",
   "id": "50e48325",
   "metadata": {},
   "source": [
    "### DPI"
   ]
  },
  {
   "cell_type": "code",
   "execution_count": 329,
   "id": "450c821e",
   "metadata": {},
   "outputs": [],
   "source": [
    "X=df_ver_3\n",
    "y=y_DPI\n",
    "model = LinearRegression()\n",
    "apt= pd.DataFrame(columns={'feature','mae','r2'})\n",
    "for k  in range(1, 37, 1):\n",
    "        selector = SequentialFeatureSelector(estimator=LinearRegression(),n_features_to_select = k, cv =3, direction ='backward')\n",
    "        selector.fit(X, y)\n",
    "        selected_columns=X.columns[selector.get_support()]     \n",
    "        XX = X[selected_columns].copy()       \n",
    "        model.fit(XX, y)\n",
    "        cv = RepeatedKFold(n_splits=5, n_repeats=3, random_state=79)\n",
    "        scores1 = cross_val_score(model,XX, y, scoring='neg_mean_absolute_error', cv=cv, n_jobs=-1, error_score='raise')\n",
    "        scores3 = cross_val_score(model,XX, y, scoring='r2', cv=cv, n_jobs=-1, error_score='raise')\n",
    "        apt=apt.append({'mae':-1*(mean(scores1)),'r2':100*(mean(scores3)),'feature':k},ignore_index=True)"
   ]
  },
  {
   "cell_type": "code",
   "execution_count": 330,
   "id": "c2076fc2",
   "metadata": {},
   "outputs": [
    {
     "data": {
      "text/plain": [
       "Text(0, 0.5, 'MAE')"
      ]
     },
     "execution_count": 330,
     "metadata": {},
     "output_type": "execute_result"
    },
    {
     "data": {
      "image/png": "[encoded data removed]",
      "text/plain": [
       "<Figure size 432x288 with 1 Axes>"
      ]
     },
     "metadata": {
      "needs_background": "light"
     },
     "output_type": "display_data"
    }
   ],
   "source": [
    "        plt.bar(apt.feature,apt.mae)\n",
    "        plt.xlabel('Number Of Feature')\n",
    "        plt.ylabel('MAE') "
   ]
  },
  {
   "cell_type": "code",
   "execution_count": 331,
   "id": "625e500b",
   "metadata": {},
   "outputs": [
    {
     "data": {
      "text/plain": [
       "Text(0, 0.5, 'R2')"
      ]
     },
     "execution_count": 331,
     "metadata": {},
     "output_type": "execute_result"
    },
    {
     "data": {
      "image/png": "[encoded data removed]",
      "text/plain": [
       "<Figure size 432x288 with 1 Axes>"
      ]
     },
     "metadata": {
      "needs_background": "light"
     },
     "output_type": "display_data"
    }
   ],
   "source": [
    "        plt.bar(apt.feature,apt.r2)\n",
    "        plt.xlabel('Number Of Feature')\n",
    "        plt.ylabel('R2')"
   ]
  },
  {
   "cell_type": "code",
   "execution_count": 332,
   "id": "d3544916",
   "metadata": {},
   "outputs": [
    {
     "name": "stdout",
     "output_type": "stream",
     "text": [
      " 4.749 40.189\n"
     ]
    }
   ],
   "source": [
    "        selector = SequentialFeatureSelector(estimator=LinearRegression(),n_features_to_select = 11, cv =3, direction ='backward')\n",
    "        selector.fit(X, y)\n",
    "        selected_columns=X.columns[selector.get_support()]     \n",
    "        XX = X[selected_columns].copy() \n",
    "        model.fit(XX, y)\n",
    "        cv = RepeatedKFold(n_splits=5, n_repeats=3, random_state=79)\n",
    "        scores1 = cross_val_score(model,XX, y, scoring='neg_mean_absolute_error', cv=cv, n_jobs=-1, error_score='raise')\n",
    "        scores3 = cross_val_score(model,XX, y, scoring='r2', cv=cv, n_jobs=-1, error_score='raise')\n",
    "        print(' %.3f %.3f' % (-mean(scores1), 100*mean(scores3)))"
   ]
  },
  {
   "cell_type": "markdown",
   "id": "79f1c076",
   "metadata": {},
   "source": [
    "### EC"
   ]
  },
  {
   "cell_type": "code",
   "execution_count": 333,
   "id": "7ab317b1",
   "metadata": {},
   "outputs": [],
   "source": [
    "X=df_ver_3\n",
    "y=y_EC\n",
    "model = LinearRegression()\n",
    "apt= pd.DataFrame(columns={'feature','mae','r2'})\n",
    "for k  in range(1, 37, 1):\n",
    "        selector = SequentialFeatureSelector(estimator=LinearRegression(),n_features_to_select = k, cv =3, direction ='backward')\n",
    "        selector.fit(X, y)\n",
    "        selected_columns=X.columns[selector.get_support()]     \n",
    "        XX = X[selected_columns].copy()       \n",
    "        model.fit(XX, y)\n",
    "        cv = RepeatedKFold(n_splits=5, n_repeats=3, random_state=79)\n",
    "        scores1 = cross_val_score(model,XX, y, scoring='neg_mean_absolute_error', cv=cv, n_jobs=-1, error_score='raise')\n",
    "        scores3 = cross_val_score(model,XX, y, scoring='r2', cv=cv, n_jobs=-1, error_score='raise')\n",
    "        apt=apt.append({'mae':-1*(mean(scores1)),'r2':100*(mean(scores3)),'feature':k},ignore_index=True)"
   ]
  },
  {
   "cell_type": "code",
   "execution_count": 334,
   "id": "1680b0be",
   "metadata": {},
   "outputs": [
    {
     "data": {
      "text/plain": [
       "Text(0, 0.5, 'MAE')"
      ]
     },
     "execution_count": 334,
     "metadata": {},
     "output_type": "execute_result"
    },
    {
     "data": {
      "image/png": "[encoded data removed]",
      "text/plain": [
       "<Figure size 432x288 with 1 Axes>"
      ]
     },
     "metadata": {
      "needs_background": "light"
     },
     "output_type": "display_data"
    }
   ],
   "source": [
    "        plt.bar(apt.feature,apt.mae)\n",
    "        plt.xlabel('Number Of Feature')\n",
    "        plt.ylabel('MAE') "
   ]
  },
  {
   "cell_type": "code",
   "execution_count": 335,
   "id": "ba5c1de9",
   "metadata": {},
   "outputs": [
    {
     "data": {
      "text/plain": [
       "Text(0, 0.5, 'R2')"
      ]
     },
     "execution_count": 335,
     "metadata": {},
     "output_type": "execute_result"
    },
    {
     "data": {
      "image/png": "[encoded data removed]",
      "text/plain": [
       "<Figure size 432x288 with 1 Axes>"
      ]
     },
     "metadata": {
      "needs_background": "light"
     },
     "output_type": "display_data"
    }
   ],
   "source": [
    "        plt.bar(apt.feature,apt.r2)\n",
    "        plt.xlabel('Number Of Feature')\n",
    "        plt.ylabel('R2')"
   ]
  },
  {
   "cell_type": "code",
   "execution_count": 336,
   "id": "bc5a9b1a",
   "metadata": {},
   "outputs": [
    {
     "name": "stdout",
     "output_type": "stream",
     "text": [
      " 0.047 88.214\n"
     ]
    }
   ],
   "source": [
    "        selector = SequentialFeatureSelector(estimator=LinearRegression(),n_features_to_select = 15, cv =3, direction ='backward')\n",
    "        selector.fit(X, y)\n",
    "        selected_columns=X.columns[selector.get_support()]     \n",
    "        XX = X[selected_columns].copy() \n",
    "        model.fit(XX, y)\n",
    "        cv = RepeatedKFold(n_splits=5, n_repeats=3, random_state=79)\n",
    "        scores1 = cross_val_score(model,XX, y, scoring='neg_mean_absolute_error', cv=cv, n_jobs=-1, error_score='raise')\n",
    "        scores3 = cross_val_score(model,XX, y, scoring='r2', cv=cv, n_jobs=-1, error_score='raise')\n",
    "        print(' %.3f %.3f' % (-mean(scores1), 100*mean(scores3)))"
   ]
  },
  {
   "cell_type": "markdown",
   "id": "7f170ff3",
   "metadata": {},
   "source": [
    "### WC"
   ]
  },
  {
   "cell_type": "code",
   "execution_count": 341,
   "id": "208acbf3",
   "metadata": {},
   "outputs": [],
   "source": [
    "X=df_ver_3\n",
    "y=y_WC\n",
    "model = LinearRegression()\n",
    "apt= pd.DataFrame(columns={'feature','mae','r2'})\n",
    "for k  in range(1, 37, 1):\n",
    "        selector = SequentialFeatureSelector(estimator=LinearRegression(),n_features_to_select = k, cv =3, direction ='backward')\n",
    "        selector.fit(X, y)\n",
    "        selected_columns=X.columns[selector.get_support()]     \n",
    "        XX = X[selected_columns].copy()       \n",
    "        model.fit(XX, y)\n",
    "        cv = RepeatedKFold(n_splits=5, n_repeats=3, random_state=79)\n",
    "        scores1 = cross_val_score(model,XX, y, scoring='neg_mean_absolute_error', cv=cv, n_jobs=-1, error_score='raise')\n",
    "        scores3 = cross_val_score(model,XX, y, scoring='r2', cv=cv, n_jobs=-1, error_score='raise')\n",
    "        apt=apt.append({'mae':-1*(mean(scores1)),'r2':100*(mean(scores3)),'feature':k},ignore_index=True)"
   ]
  },
  {
   "cell_type": "code",
   "execution_count": 342,
   "id": "a7cb154e",
   "metadata": {},
   "outputs": [
    {
     "data": {
      "text/plain": [
       "Text(0, 0.5, 'MAE')"
      ]
     },
     "execution_count": 342,
     "metadata": {},
     "output_type": "execute_result"
    },
    {
     "data": {
      "image/png": "[encoded data removed]",
      "text/plain": [
       "<Figure size 432x288 with 1 Axes>"
      ]
     },
     "metadata": {
      "needs_background": "light"
     },
     "output_type": "display_data"
    }
   ],
   "source": [
    "        plt.bar(apt.feature,apt.mae)\n",
    "        plt.xlabel('Number Of Feature')\n",
    "        plt.ylabel('MAE') "
   ]
  },
  {
   "cell_type": "code",
   "execution_count": 343,
   "id": "fb02f305",
   "metadata": {},
   "outputs": [
    {
     "data": {
      "text/plain": [
       "Text(0, 0.5, 'R2')"
      ]
     },
     "execution_count": 343,
     "metadata": {},
     "output_type": "execute_result"
    },
    {
     "data": {
      "image/png": "[encoded data removed]",
      "text/plain": [
       "<Figure size 432x288 with 1 Axes>"
      ]
     },
     "metadata": {
      "needs_background": "light"
     },
     "output_type": "display_data"
    }
   ],
   "source": [
    "        plt.bar(apt.feature,apt.r2)\n",
    "        plt.xlabel('Number Of Feature')\n",
    "        plt.ylabel('R2')"
   ]
  },
  {
   "cell_type": "code",
   "execution_count": 344,
   "id": "9e20f7d4",
   "metadata": {},
   "outputs": [
    {
     "name": "stdout",
     "output_type": "stream",
     "text": [
      " 0.416 89.226\n"
     ]
    }
   ],
   "source": [
    "        selector = SequentialFeatureSelector(estimator=LinearRegression(),n_features_to_select = 10, cv =3, direction ='backward')\n",
    "        selector.fit(X, y)\n",
    "        selected_columns=X.columns[selector.get_support()]     \n",
    "        XX = X[selected_columns].copy() \n",
    "        model.fit(XX, y)\n",
    "        cv = RepeatedKFold(n_splits=5, n_repeats=3, random_state=79)\n",
    "        scores1 = cross_val_score(model,XX, y, scoring='neg_mean_absolute_error', cv=cv, n_jobs=-1, error_score='raise')\n",
    "        scores3 = cross_val_score(model,XX, y, scoring='r2', cv=cv, n_jobs=-1, error_score='raise')\n",
    "        print(' %.3f %.3f' % (-mean(scores1), 100*mean(scores3)))"
   ]
  },
  {
   "cell_type": "markdown",
   "id": "2c0016e9",
   "metadata": {},
   "source": [
    "### T"
   ]
  },
  {
   "cell_type": "code",
   "execution_count": 345,
   "id": "94d2d84d",
   "metadata": {},
   "outputs": [],
   "source": [
    "X=df_ver_3\n",
    "y=y_T\n",
    "model = LinearRegression()\n",
    "apt= pd.DataFrame(columns={'feature','mae','r2'})\n",
    "for k  in range(1, 37, 1):\n",
    "        selector = SequentialFeatureSelector(estimator=LinearRegression(),n_features_to_select = k, cv =3, direction ='backward')\n",
    "        selector.fit(X, y)\n",
    "        selected_columns=X.columns[selector.get_support()]     \n",
    "        XX = X[selected_columns].copy()       \n",
    "        model.fit(XX, y)\n",
    "        cv = RepeatedKFold(n_splits=5, n_repeats=3, random_state=79)\n",
    "        scores1 = cross_val_score(model,XX, y, scoring='neg_mean_absolute_error', cv=cv, n_jobs=-1, error_score='raise')\n",
    "        scores3 = cross_val_score(model,XX, y, scoring='r2', cv=cv, n_jobs=-1, error_score='raise')\n",
    "        apt=apt.append({'mae':-1*(mean(scores1)),'r2':100*(mean(scores3)),'feature':k},ignore_index=True)"
   ]
  },
  {
   "cell_type": "code",
   "execution_count": 346,
   "id": "4df99e56",
   "metadata": {},
   "outputs": [
    {
     "data": {
      "text/plain": [
       "Text(0, 0.5, 'MAE')"
      ]
     },
     "execution_count": 346,
     "metadata": {},
     "output_type": "execute_result"
    },
    {
     "data": {
      "image/png": "[encoded data removed]",
      "text/plain": [
       "<Figure size 432x288 with 1 Axes>"
      ]
     },
     "metadata": {
      "needs_background": "light"
     },
     "output_type": "display_data"
    }
   ],
   "source": [
    "        plt.bar(apt.feature,apt.mae)\n",
    "        plt.xlabel('Number Of Feature')\n",
    "        plt.ylabel('MAE') "
   ]
  },
  {
   "cell_type": "code",
   "execution_count": 347,
   "id": "35a887c6",
   "metadata": {},
   "outputs": [
    {
     "data": {
      "text/plain": [
       "Text(0, 0.5, 'R2')"
      ]
     },
     "execution_count": 347,
     "metadata": {},
     "output_type": "execute_result"
    },
    {
     "data": {
      "image/png": "[encoded data removed]",
      "text/plain": [
       "<Figure size 432x288 with 1 Axes>"
      ]
     },
     "metadata": {
      "needs_background": "light"
     },
     "output_type": "display_data"
    }
   ],
   "source": [
    "        plt.bar(apt.feature,apt.r2)\n",
    "        plt.xlabel('Number Of Feature')\n",
    "        plt.ylabel('R2')"
   ]
  },
  {
   "cell_type": "code",
   "execution_count": 348,
   "id": "a92dc4be",
   "metadata": {},
   "outputs": [
    {
     "name": "stdout",
     "output_type": "stream",
     "text": [
      " 3.256 99.530\n"
     ]
    }
   ],
   "source": [
    "        selector = SequentialFeatureSelector(estimator=LinearRegression(),n_features_to_select = 5, cv =3, direction ='backward')\n",
    "        selector.fit(X, y)\n",
    "        selected_columns=X.columns[selector.get_support()]     \n",
    "        XX = X[selected_columns].copy() \n",
    "        model.fit(XX, y)\n",
    "        cv = RepeatedKFold(n_splits=5, n_repeats=3, random_state=79)\n",
    "        scores1 = cross_val_score(model,XX, y, scoring='neg_mean_absolute_error', cv=cv, n_jobs=-1, error_score='raise')\n",
    "        scores3 = cross_val_score(model,XX, y, scoring='r2', cv=cv, n_jobs=-1, error_score='raise')\n",
    "        print(' %.3f %.3f' % (-mean(scores1), 100*mean(scores3)))"
   ]
  },
  {
   "cell_type": "code",
   "execution_count": null,
   "id": "b2c079e4",
   "metadata": {},
   "outputs": [],
   "source": []
  },
  {
   "cell_type": "markdown",
   "id": "a11d9363",
   "metadata": {},
   "source": [
    "Since the prediction results for EC,T and WC are acceptable with LR model and the improvement with FS is clear we end up the studies for WC,T and EC here. Also the selected features by genetic algorithm is reasonable according to the doman expert. "
   ]
  },
  {
   "cell_type": "markdown",
   "id": "e4a815ed",
   "metadata": {},
   "source": [
    "we try to improve the prediction performance of CPI and DPI with a target of MAE and R2"
   ]
  },
  {
   "cell_type": "markdown",
   "id": "e8ca03fc",
   "metadata": {},
   "source": [
    "## Feature Selection by  Shrinkage Methods"
   ]
  },
  {
   "cell_type": "markdown",
   "id": "c60ef147",
   "metadata": {},
   "source": [
    "### CPI"
   ]
  },
  {
   "cell_type": "code",
   "execution_count": 78,
   "id": "08a46a1b",
   "metadata": {},
   "outputs": [
    {
     "name": "stdout",
     "output_type": "stream",
     "text": [
      ">Lasso 0.137 -58\n",
      ">Lasso 0.137 -45\n",
      ">Lasso 0.116 -22\n",
      ">Lasso 0.107 -32\n",
      ">Ridge 0.114 -48\n",
      ">Ridge 0.125 -102\n",
      ">Ridge 0.155 -331\n",
      ">Ridge 0.172 -1840\n",
      ">ElasticNet 0.134 -52\n",
      ">ElasticNet 0.134 -53\n",
      ">ElasticNet 0.136 -57\n",
      ">ElasticNet 0.120 -15\n",
      ">ElasticNet 0.136 -27\n",
      ">ElasticNet 0.137 -38\n",
      ">ElasticNet 0.117 -36\n",
      ">ElasticNet 0.114 -26\n",
      ">ElasticNet 0.115 -24\n",
      ">ElasticNet 0.103 -33\n",
      ">ElasticNet 0.101 -6\n",
      ">ElasticNet 0.104 -16\n"
     ]
    }
   ],
   "source": [
    "y=y_CPI\n",
    "X=df_ver_3\n",
    "for alp in [10,1,0.1,0.01]:\n",
    "        def get_models():\n",
    "            models = dict()\n",
    "            models['Lasso'] = Lasso(alpha=alp, fit_intercept=True, normalize='deprecated',\n",
    "                                      precompute=False, copy_X=True, max_iter=10000, tol=0.01,\n",
    "                                      warm_start=False, positive=False, random_state=None, selection='cyclic')\n",
    "\n",
    "            return models\n",
    "\n",
    "        def evaluate_model(model, X, y):\n",
    "            cv = RepeatedKFold(n_splits=5, n_repeats=3, random_state=1)\n",
    "            scores = cross_val_score(model, X, y, scoring='neg_mean_absolute_error', cv=cv, n_jobs=-1, error_score='raise')\n",
    "            return scores\n",
    "\n",
    "        def evaluate_model2(model, X, y):\n",
    "            cv = RepeatedKFold(n_splits=3, n_repeats=3, random_state=1)\n",
    "            scores2 = cross_val_score(model, X, y, scoring='r2', cv=cv, n_jobs=-1, error_score='raise')\n",
    "            return scores2\n",
    "\n",
    "        models = get_models()\n",
    "        results, names = list(), list()\n",
    "        for name, model in models.items():\n",
    "                scores = evaluate_model(model, X, y)\n",
    "                scores2 = evaluate_model2(model, X, y)\n",
    "                results.append(scores)\n",
    "                names.append(name)\n",
    "                print('>%s %.3f %.0f' % (name, -mean(scores), 100*mean(scores2)))\n",
    "                \n",
    "for alp in [10,1,0.1,0.01]:\n",
    "        def get_models():\n",
    "            models = dict()\n",
    "            models['Ridge'] = Ridge(alpha=alp, fit_intercept=True, normalize='deprecated', \n",
    "                                    copy_X=True, max_iter=None, tol=0.001, solver='auto', positive=False, random_state=None)\n",
    "\n",
    "            return models\n",
    "\n",
    "        def evaluate_model(model, X, y):\n",
    "            cv = RepeatedKFold(n_splits=5, n_repeats=3, random_state=1)\n",
    "            scores = cross_val_score(model, X, y, scoring='neg_mean_absolute_error', cv=cv, n_jobs=-1, error_score='raise')\n",
    "            return scores\n",
    "\n",
    "        def evaluate_model2(model, X, y):\n",
    "            cv = RepeatedKFold(n_splits=3, n_repeats=3, random_state=1)\n",
    "            scores2 = cross_val_score(model, X, y, scoring='r2', cv=cv, n_jobs=-1, error_score='raise')\n",
    "            return scores2\n",
    "\n",
    "        models = get_models()\n",
    "        results, names = list(), list()\n",
    "        for name, model in models.items():\n",
    "                scores = evaluate_model(model, X, y)\n",
    "                scores2 = evaluate_model2(model, X, y)\n",
    "                results.append(scores)\n",
    "                names.append(name)\n",
    "                print('>%s %.3f %.0f' % (name, -mean(scores), 100*mean(scores2)))\n",
    "                \n",
    "                \n",
    "for alp in [10,1,0.1,0.01]:\n",
    "    for l1 in [0.2,0.6,0.8]:    \n",
    "        def get_models():\n",
    "            models = dict()\n",
    "            models['ElasticNet'] = ElasticNet(alpha=alp, l1_ratio=l1, fit_intercept=True,\n",
    "                                                 normalize='deprecated', precompute=False, max_iter=10000, \n",
    "                                                 copy_X=True, tol=0.01, warm_start=False, positive=False,\n",
    "                                                 random_state=None, selection='cyclic')\n",
    "            return models\n",
    "\n",
    "        def evaluate_model(model, X, y):\n",
    "            cv = RepeatedKFold(n_splits=5, n_repeats=3, random_state=1)\n",
    "            scores = cross_val_score(model, X, y, scoring='neg_mean_absolute_error', cv=cv, n_jobs=-1, error_score='raise')\n",
    "            return scores\n",
    "\n",
    "        def evaluate_model2(model, X, y):\n",
    "            cv = RepeatedKFold(n_splits=3, n_repeats=3, random_state=1)\n",
    "            scores2 = cross_val_score(model, X, y, scoring='r2', cv=cv, n_jobs=-1, error_score='raise')\n",
    "            return scores2\n",
    "\n",
    "        models = get_models()\n",
    "        results, names = list(), list()\n",
    "        for name, model in models.items():\n",
    "                scores = evaluate_model(model, X, y)\n",
    "                scores2 = evaluate_model2(model, X, y)\n",
    "                results.append(scores)\n",
    "                names.append(name)\n",
    "                print('>%s %.3f %.0f' % (name, -mean(scores), 100*mean(scores2)))\n",
    "   "
   ]
  },
  {
   "cell_type": "markdown",
   "id": "a0f2af58",
   "metadata": {},
   "source": [
    "### DPI"
   ]
  },
  {
   "cell_type": "code",
   "execution_count": 79,
   "id": "58a1f4c1",
   "metadata": {},
   "outputs": [
    {
     "name": "stdout",
     "output_type": "stream",
     "text": [
      ">Lasso 7.748 -14\n",
      ">Lasso 7.809 -44\n",
      ">Lasso 6.039 -6\n",
      ">Lasso 7.747 -101\n",
      ">Ridge 7.121 -30\n",
      ">Ridge 6.792 -46\n",
      ">Ridge 8.074 -113\n",
      ">Ridge 9.021 -254\n",
      ">ElasticNet 7.484 -19\n",
      ">ElasticNet 7.564 -15\n",
      ">ElasticNet 7.661 -14\n",
      ">ElasticNet 7.627 -31\n",
      ">ElasticNet 7.688 -37\n",
      ">ElasticNet 7.717 -41\n",
      ">ElasticNet 7.018 -31\n",
      ">ElasticNet 6.809 -30\n",
      ">ElasticNet 6.555 -23\n",
      ">ElasticNet 6.804 -62\n",
      ">ElasticNet 6.962 -76\n",
      ">ElasticNet 7.227 -87\n"
     ]
    }
   ],
   "source": [
    "y=y_DPI\n",
    "X=df_ver_3\n",
    "for alp in [10,1,0.1,0.01]:\n",
    "        def get_models():\n",
    "            models = dict()\n",
    "            models['Lasso'] = Lasso(alpha=alp, fit_intercept=True, normalize='deprecated',\n",
    "                                      precompute=False, copy_X=True, max_iter=10000, tol=0.01,\n",
    "                                      warm_start=False, positive=False, random_state=None, selection='cyclic')\n",
    "\n",
    "            return models\n",
    "\n",
    "        def evaluate_model(model, X, y):\n",
    "            cv = RepeatedKFold(n_splits=5, n_repeats=3, random_state=1)\n",
    "            scores = cross_val_score(model, X, y, scoring='neg_mean_absolute_error', cv=cv, n_jobs=-1, error_score='raise')\n",
    "            return scores\n",
    "\n",
    "        def evaluate_model2(model, X, y):\n",
    "            cv = RepeatedKFold(n_splits=3, n_repeats=3, random_state=1)\n",
    "            scores2 = cross_val_score(model, X, y, scoring='r2', cv=cv, n_jobs=-1, error_score='raise')\n",
    "            return scores2\n",
    "\n",
    "        models = get_models()\n",
    "        results, names = list(), list()\n",
    "        for name, model in models.items():\n",
    "                scores = evaluate_model(model, X, y)\n",
    "                scores2 = evaluate_model2(model, X, y)\n",
    "                results.append(scores)\n",
    "                names.append(name)\n",
    "                print('>%s %.3f %.0f' % (name, -mean(scores), 100*mean(scores2)))\n",
    "                \n",
    "for alp in [10,1,0.1,0.01]:\n",
    "        def get_models():\n",
    "            models = dict()\n",
    "            models['Ridge'] = Ridge(alpha=alp, fit_intercept=True, normalize='deprecated', \n",
    "                                    copy_X=True, max_iter=None, tol=0.001, solver='auto', positive=False, random_state=None)\n",
    "\n",
    "            return models\n",
    "\n",
    "        def evaluate_model(model, X, y):\n",
    "            cv = RepeatedKFold(n_splits=5, n_repeats=3, random_state=1)\n",
    "            scores = cross_val_score(model, X, y, scoring='neg_mean_absolute_error', cv=cv, n_jobs=-1, error_score='raise')\n",
    "            return scores\n",
    "\n",
    "        def evaluate_model2(model, X, y):\n",
    "            cv = RepeatedKFold(n_splits=3, n_repeats=3, random_state=1)\n",
    "            scores2 = cross_val_score(model, X, y, scoring='r2', cv=cv, n_jobs=-1, error_score='raise')\n",
    "            return scores2\n",
    "\n",
    "        models = get_models()\n",
    "        results, names = list(), list()\n",
    "        for name, model in models.items():\n",
    "                scores = evaluate_model(model, X, y)\n",
    "                scores2 = evaluate_model2(model, X, y)\n",
    "                results.append(scores)\n",
    "                names.append(name)\n",
    "                print('>%s %.3f %.0f' % (name, -mean(scores), 100*mean(scores2)))\n",
    "                \n",
    "                \n",
    "for alp in [10,1,0.1,0.01]:\n",
    "    for l1 in [0.2,0.6,0.8]:    \n",
    "        def get_models():\n",
    "            models = dict()\n",
    "            models['ElasticNet'] = ElasticNet(alpha=alp, l1_ratio=l1, fit_intercept=True,\n",
    "                                                 normalize='deprecated', precompute=False, max_iter=10000, \n",
    "                                                 copy_X=True, tol=0.01, warm_start=False, positive=False,\n",
    "                                                 random_state=None, selection='cyclic')\n",
    "            return models\n",
    "\n",
    "        def evaluate_model(model, X, y):\n",
    "            cv = RepeatedKFold(n_splits=5, n_repeats=3, random_state=1)\n",
    "            scores = cross_val_score(model, X, y, scoring='neg_mean_absolute_error', cv=cv, n_jobs=-1, error_score='raise')\n",
    "            return scores\n",
    "\n",
    "        def evaluate_model2(model, X, y):\n",
    "            cv = RepeatedKFold(n_splits=3, n_repeats=3, random_state=1)\n",
    "            scores2 = cross_val_score(model, X, y, scoring='r2', cv=cv, n_jobs=-1, error_score='raise')\n",
    "            return scores2\n",
    "\n",
    "        models = get_models()\n",
    "        results, names = list(), list()\n",
    "        for name, model in models.items():\n",
    "                scores = evaluate_model(model, X, y)\n",
    "                scores2 = evaluate_model2(model, X, y)\n",
    "                results.append(scores)\n",
    "                names.append(name)\n",
    "                print('>%s %.3f %.0f' % (name, -mean(scores), 100*mean(scores2)))\n",
    "   "
   ]
  },
  {
   "cell_type": "markdown",
   "id": "47236775",
   "metadata": {},
   "source": [
    "# NON LINEARITY PROBLEM "
   ]
  },
  {
   "cell_type": "markdown",
   "id": "188d6602",
   "metadata": {},
   "source": [
    "first we try to solve the cpi and dpi wo using fs"
   ]
  },
  {
   "cell_type": "markdown",
   "id": "815a12b5",
   "metadata": {},
   "source": [
    "### CPI df_ver_3 37 features"
   ]
  },
  {
   "cell_type": "code",
   "execution_count": 88,
   "id": "000e5467",
   "metadata": {},
   "outputs": [
    {
     "name": "stdout",
     "output_type": "stream",
     "text": [
      ">GBR 0.063 67\n",
      ">RFR 0.065 67\n",
      ">KNN 0.094 9\n",
      ">XGB 0.059 64\n"
     ]
    }
   ],
   "source": [
    "y=y_CPI\n",
    "X=df_ver_3\n",
    "\n",
    "def get_models():\n",
    "\tmodels = dict()\n",
    "\tmodels['GBR'] = GradientBoostingRegressor(learning_rate = 0.1, n_estimators = 100, max_depth = 4)\n",
    "\tmodels['RFR'] = RandomForestRegressor(n_estimators = 100)\n",
    "\tmodels['KNN']= KNeighborsRegressor(n_neighbors=3)\n",
    "\tmodels['XGB']= XGBRegressor(learning_rate = 0.1, n_estimators = 100, max_depth = 4)\n",
    "\treturn models\n",
    "\n",
    "def evaluate_model(model, X, y):\n",
    "\tcv = RepeatedKFold(n_splits=5, n_repeats=3, random_state=1)\n",
    "\tscores = cross_val_score(model, X, y, scoring='neg_mean_absolute_error', cv=cv, n_jobs=-1, error_score='raise')\n",
    "\treturn scores\n",
    "\n",
    "def evaluate_model2(model, X, y):\n",
    "\tcv = RepeatedKFold(n_splits=3, n_repeats=3, random_state=1)\n",
    "\tscores2 = cross_val_score(model, X, y, scoring='r2', cv=cv, n_jobs=-1, error_score='raise')\n",
    "\treturn scores2\n",
    "\n",
    "models = get_models()\n",
    "results, names = list(), list()\n",
    "for name, model in models.items():\n",
    "                scores = evaluate_model(model, X, y)\n",
    "                scores2 = evaluate_model2(model, X, y)\n",
    "                results.append(scores)\n",
    "                names.append(name)\n",
    "                print('>%s %.3f %.0f' % (name, -mean(scores), 100*mean(scores2)))\n"
   ]
  },
  {
   "cell_type": "markdown",
   "id": "68171c09",
   "metadata": {},
   "source": [
    "### DPI df_ver_3 37 features"
   ]
  },
  {
   "cell_type": "code",
   "execution_count": 89,
   "id": "cc92a14f",
   "metadata": {},
   "outputs": [
    {
     "name": "stdout",
     "output_type": "stream",
     "text": [
      ">GBR 2.967 80\n",
      ">RFR 3.084 73\n",
      ">KNN 4.369 25\n",
      ">XGB 2.923 81\n"
     ]
    }
   ],
   "source": [
    "y=y_DPI\n",
    "X=df_ver_3\n",
    "\n",
    "models = get_models()\n",
    "results, names = list(), list()\n",
    "for name, model in models.items():\n",
    "                scores = evaluate_model(model, X, y)\n",
    "                scores2 = evaluate_model2(model, X, y)\n",
    "                results.append(scores)\n",
    "                names.append(name)\n",
    "                print('>%s %.3f %.0f' % (name, -mean(scores), 100*mean(scores2)))\n"
   ]
  },
  {
   "cell_type": "markdown",
   "id": "57a43556",
   "metadata": {},
   "source": [
    "### CPI"
   ]
  },
  {
   "cell_type": "code",
   "execution_count": 35,
   "id": "fe163421",
   "metadata": {},
   "outputs": [
    {
     "name": "stdout",
     "output_type": "stream",
     "text": [
      "Features: Index(['1OYSum of kapalı', '1OYSum of CIRC_TIME', '1OYSum of BEKLEME',\n",
      "       '2AYSum of SURE', '2AYMax of DEVIR', '2AYMax of TEMP',\n",
      "       '3MFTSum of SURE', '4SGDSum of SURE', '4SGDMax of DEVIR',\n",
      "       '7SCD2Max of DEVIR', '7SCD2Sum of ALT_C', '8DSBMax of DEVIR',\n",
      "       '10KUSum of FAN', '10KUSum of KAPI ACMA', '10KUSum of GAUDI_offset'],\n",
      "      dtype='object')\n",
      " 0.046 85\n",
      "Features: Index(['1OYSum of SURE', '2AYMax of TEMP', '3MFTSum of SURE',\n",
      "       '4SGDSum of SURE', '4SGDMax of DEVIR', '4SGDSum of TEPE_C',\n",
      "       '7SCD2Sum of kapalı', '10KUSum of SURE', '10KUSum of FAN',\n",
      "       '10KUSum of KAPI ACMA', '10KUSum of FAN / KLAPE'],\n",
      "      dtype='object')\n",
      " 0.049 85\n",
      "Features: Index(['1OYSum of kapalı', '1OYSum of SURE', '1OYSum of TEPE_C',\n",
      "       '1OYSum of BEKLEME', '2AYSum of kapalı', '2AYSum of WI',\n",
      "       '2AYSum of ALT_C', '4SGDSum of ALT_C', '7SCD2Sum of kapalı',\n",
      "       '7SCD2Sum of SURE', '7SCD2Max of TEMP', '8DSBSum of kapalı',\n",
      "       '8DSBMax of DEVIR', '10KUSum of SURE', '10KUSum of KAPI ACMA',\n",
      "       '10KUSum of GAUDI_offset'],\n",
      "      dtype='object')\n",
      " 0.045 85\n",
      "Features: Index(['1OYSum of CIRC_TIME', '1OYSum of WI', '1OYMax of DEVIR',\n",
      "       '1OYMax of TEMP', '1OYSum of ALT_C', '1OYSum of TEPE_C',\n",
      "       '2AYSum of SURE', '2AYMax of DEVIR', '2AYMax of TEMP',\n",
      "       '7SCD2Max of DEVIR', '7SCD2Sum of ÜST_C', '8DSBMax of DEVIR',\n",
      "       '10KUSum of BEKLEME'],\n",
      "      dtype='object')\n",
      " 0.050 81\n"
     ]
    }
   ],
   "source": [
    "non_linear_models = [GradientBoostingRegressor(learning_rate = 0.1, n_estimators = 50, max_depth = 4),\n",
    "RandomForestRegressor(n_estimators = 50),\n",
    "KNeighborsRegressor(n_neighbors=3),\n",
    "XGBRegressor(learning_rate = 0.1, n_estimators = 50, max_depth = 4)\n",
    "]\n",
    "X = df_ver_3\n",
    "y = y_CPI\n",
    "for m in non_linear_models:\n",
    "    estimator = m\n",
    "    \n",
    "    model = GeneticSelectionCV(\n",
    "        estimator, cv=5, verbose=0,\n",
    "        scoring=\"neg_mean_absolute_error\", max_features=37,\n",
    "        n_population=100, crossover_proba=0.5,\n",
    "        mutation_proba=0.2, n_generations=100,\n",
    "        crossover_independent_proba=0.5,\n",
    "        mutation_independent_proba=0.04,\n",
    "        tournament_size=3, n_gen_no_change=10,\n",
    "        caching=True, n_jobs=-1)\n",
    "    \n",
    "    model = model.fit(X, y)\n",
    "    \n",
    "    print('Features:', X.columns[model.support_])\n",
    "    selected_columns=X.columns[model.support_]       \n",
    "    XX = X[selected_columns].copy() \n",
    "    model_Reg=m\n",
    "    model_Reg.fit(XX, y)\n",
    "    cv = RepeatedKFold(n_splits=5, n_repeats=3, random_state=79)\n",
    "    scores1 = cross_val_score(model_Reg,XX, y, scoring='neg_mean_absolute_error', cv=cv, n_jobs=-1, error_score='raise')\n",
    "    scores3 = cross_val_score(model_Reg,XX, y, scoring='r2', cv=cv, n_jobs=-1, error_score='raise')\n",
    "    print(' %.3f %.0f' % (-mean(scores1),  100*mean(scores3)))"
   ]
  },
  {
   "cell_type": "markdown",
   "id": "62235250",
   "metadata": {},
   "source": [
    "### DPI"
   ]
  },
  {
   "cell_type": "code",
   "execution_count": 42,
   "id": "5328180f",
   "metadata": {},
   "outputs": [
    {
     "name": "stdout",
     "output_type": "stream",
     "text": [
      "Features: Index(['1OYMax of TEMP', '2AYSum of SURE', '2AYSum of TEPE_C', '4SGDSum of WI',\n",
      "       '10KUSum of FAN / KLAPE'],\n",
      "      dtype='object')\n",
      " 2.112 80\n",
      "Features: Index(['1OYSum of kapalı', '1OYSum of WI', '1OYSum of ALT_C',\n",
      "       '1OYSum of BEKLEME', '2AYSum of SURE', '2AYMax of TEMP',\n",
      "       '2AYSum of TEPE_C', '4SGDSum of SURE', '7SCD2Sum of ALT_C',\n",
      "       '10KUSum of SURE'],\n",
      "      dtype='object')\n",
      " 2.389 80\n",
      "Features: Index(['1OYSum of kapalı', '1OYSum of WI', '2AYSum of kapalı',\n",
      "       '2AYSum of SURE', '2AYSum of TEPE_C', '3MFTSum of SURE',\n",
      "       '4SGDSum of SURE', '4SGDSum of TEPE_C', '7SCD2Max of TEMP',\n",
      "       '8DSBMax of DEVIR', '10KUSum of KAPI ACMA', '10KUSum of FAN / KLAPE',\n",
      "       '10KUSum of GAUDI_offset'],\n",
      "      dtype='object')\n",
      " 2.198 80\n",
      "Features: Index(['1OYMax of DEVIR', '1OYSum of BEKLEME', '2AYSum of kapalı',\n",
      "       '2AYSum of SURE', '2AYSum of WI', '2AYMax of DEVIR', '2AYSum of ALT_C',\n",
      "       '3MFTSum of SURE', '4SGDMax of DEVIR', '4SGDSum of TEPE_C',\n",
      "       '7SCD2Sum of kapalı', '8DSBSum of kapalı', '10KUSum of FAN / KLAPE',\n",
      "       '10KUSum of GAUDI_offset'],\n",
      "      dtype='object')\n",
      " 2.262 78\n"
     ]
    }
   ],
   "source": [
    "X = df_ver_3\n",
    "y = y_DPI\n",
    "for m in non_linear_models:\n",
    "    estimator = m\n",
    "    \n",
    "    model = GeneticSelectionCV(\n",
    "        estimator, cv=5, verbose=0,\n",
    "        scoring=\"neg_mean_absolute_error\", max_features=37,\n",
    "        n_population=100, crossover_proba=0.5,\n",
    "        mutation_proba=0.2, n_generations=100,\n",
    "        crossover_independent_proba=0.5,\n",
    "        mutation_independent_proba=0.04,\n",
    "        tournament_size=3, n_gen_no_change=10,\n",
    "        caching=True, n_jobs=-1)\n",
    "    \n",
    "    model = model.fit(X, y)\n",
    "    \n",
    "    print('Features:', X.columns[model.support_])\n",
    "    selected_columns=X.columns[model.support_]       \n",
    "    XX = X[selected_columns].copy() \n",
    "    model_Reg=m\n",
    "    model_Reg.fit(XX, y)\n",
    "    cv = RepeatedKFold(n_splits=5, n_repeats=3, random_state=79)\n",
    "    scores1 = cross_val_score(model_Reg,XX, y, scoring='neg_mean_absolute_error', cv=cv, n_jobs=-1, error_score='raise')\n",
    "    scores3 = cross_val_score(model_Reg,XX, y, scoring='r2', cv=cv, n_jobs=-1, error_score='raise')\n",
    "    print(' %.3f %.0f' % (-mean(scores1),  100*mean(scores3)))"
   ]
  },
  {
   "cell_type": "markdown",
   "id": "23262b1d",
   "metadata": {},
   "source": [
    "# MODEL SELECTION "
   ]
  },
  {
   "cell_type": "markdown",
   "id": "82fe8890",
   "metadata": {},
   "source": [
    "### VERIFICATION  of MODEL"
   ]
  },
  {
   "cell_type": "code",
   "execution_count": 287,
   "id": "1bf6d2be",
   "metadata": {},
   "outputs": [],
   "source": [
    "from genetic_selection import GeneticSelectionCV\n",
    "from sklearn.tree import DecisionTreeClassifier\n",
    "import pandas as pd\n",
    "import numpy as np"
   ]
  },
  {
   "cell_type": "code",
   "execution_count": 288,
   "id": "26a581d5",
   "metadata": {},
   "outputs": [
    {
     "data": {
      "text/html": [
       "<div>\n",
       "<style scoped>\n",
       "    .dataframe tbody tr th:only-of-type {\n",
       "        vertical-align: middle;\n",
       "    }\n",
       "\n",
       "    .dataframe tbody tr th {\n",
       "        vertical-align: top;\n",
       "    }\n",
       "\n",
       "    .dataframe thead th {\n",
       "        text-align: right;\n",
       "    }\n",
       "</style>\n",
       "<table border=\"1\" class=\"dataframe\">\n",
       "  <thead>\n",
       "    <tr style=\"text-align: right;\">\n",
       "      <th></th>\n",
       "      <th>CPI</th>\n",
       "      <th>DPI</th>\n",
       "      <th>EC</th>\n",
       "      <th>T</th>\n",
       "      <th>WC</th>\n",
       "      <th>1OYSum of kapalı</th>\n",
       "      <th>1OYSum of SURE</th>\n",
       "      <th>1OYSum of CIRC_TIME</th>\n",
       "      <th>1OYSum of WI</th>\n",
       "      <th>1OYMax of DEVIR</th>\n",
       "      <th>...</th>\n",
       "      <th>10KUSum of ALT_C</th>\n",
       "      <th>10KUSum of ÜST_C</th>\n",
       "      <th>10KUSum of TEPE_C</th>\n",
       "      <th>10KUSum of ZONE_C</th>\n",
       "      <th>10KUSum of BEKLEME</th>\n",
       "      <th>10KUSum of FAN</th>\n",
       "      <th>10KUSum of KAPI ACMA</th>\n",
       "      <th>10KUSum of FAN / KLAPE</th>\n",
       "      <th>10KUSum of GAUDI_offset</th>\n",
       "      <th>10KUSum of GAUDI_nonoffset</th>\n",
       "    </tr>\n",
       "  </thead>\n",
       "  <tbody>\n",
       "    <tr>\n",
       "      <th>0</th>\n",
       "      <td>3.238150</td>\n",
       "      <td>86.705202</td>\n",
       "      <td>0.855000</td>\n",
       "      <td>225.000000</td>\n",
       "      <td>9.606667</td>\n",
       "      <td>0</td>\n",
       "      <td>24</td>\n",
       "      <td>21</td>\n",
       "      <td>4.0</td>\n",
       "      <td>2800</td>\n",
       "      <td>...</td>\n",
       "      <td>0</td>\n",
       "      <td>0</td>\n",
       "      <td>0</td>\n",
       "      <td>0</td>\n",
       "      <td>10</td>\n",
       "      <td>78</td>\n",
       "      <td>1</td>\n",
       "      <td>0</td>\n",
       "      <td>0</td>\n",
       "      <td>0</td>\n",
       "    </tr>\n",
       "    <tr>\n",
       "      <th>1</th>\n",
       "      <td>3.266000</td>\n",
       "      <td>83.230000</td>\n",
       "      <td>0.884200</td>\n",
       "      <td>240.000000</td>\n",
       "      <td>8.750000</td>\n",
       "      <td>0</td>\n",
       "      <td>21</td>\n",
       "      <td>18</td>\n",
       "      <td>4.0</td>\n",
       "      <td>3000</td>\n",
       "      <td>...</td>\n",
       "      <td>0</td>\n",
       "      <td>0</td>\n",
       "      <td>0</td>\n",
       "      <td>0</td>\n",
       "      <td>10</td>\n",
       "      <td>93</td>\n",
       "      <td>0</td>\n",
       "      <td>0</td>\n",
       "      <td>0</td>\n",
       "      <td>0</td>\n",
       "    </tr>\n",
       "    <tr>\n",
       "      <th>2</th>\n",
       "      <td>3.266000</td>\n",
       "      <td>83.230000</td>\n",
       "      <td>0.884200</td>\n",
       "      <td>240.000000</td>\n",
       "      <td>8.750000</td>\n",
       "      <td>0</td>\n",
       "      <td>21</td>\n",
       "      <td>18</td>\n",
       "      <td>4.0</td>\n",
       "      <td>3000</td>\n",
       "      <td>...</td>\n",
       "      <td>0</td>\n",
       "      <td>0</td>\n",
       "      <td>0</td>\n",
       "      <td>0</td>\n",
       "      <td>10</td>\n",
       "      <td>93</td>\n",
       "      <td>0</td>\n",
       "      <td>0</td>\n",
       "      <td>0</td>\n",
       "      <td>0</td>\n",
       "    </tr>\n",
       "    <tr>\n",
       "      <th>3</th>\n",
       "      <td>3.220000</td>\n",
       "      <td>76.078000</td>\n",
       "      <td>0.500000</td>\n",
       "      <td>265.000000</td>\n",
       "      <td>10.000000</td>\n",
       "      <td>2</td>\n",
       "      <td>48</td>\n",
       "      <td>43</td>\n",
       "      <td>4.8</td>\n",
       "      <td>2800</td>\n",
       "      <td>...</td>\n",
       "      <td>0</td>\n",
       "      <td>0</td>\n",
       "      <td>0</td>\n",
       "      <td>0</td>\n",
       "      <td>50</td>\n",
       "      <td>57</td>\n",
       "      <td>1</td>\n",
       "      <td>30</td>\n",
       "      <td>0</td>\n",
       "      <td>0</td>\n",
       "    </tr>\n",
       "    <tr>\n",
       "      <th>4</th>\n",
       "      <td>3.280000</td>\n",
       "      <td>78.235000</td>\n",
       "      <td>0.590000</td>\n",
       "      <td>265.000000</td>\n",
       "      <td>9.200000</td>\n",
       "      <td>3</td>\n",
       "      <td>49</td>\n",
       "      <td>44</td>\n",
       "      <td>4.8</td>\n",
       "      <td>2800</td>\n",
       "      <td>...</td>\n",
       "      <td>0</td>\n",
       "      <td>0</td>\n",
       "      <td>0</td>\n",
       "      <td>0</td>\n",
       "      <td>30</td>\n",
       "      <td>63</td>\n",
       "      <td>1</td>\n",
       "      <td>29</td>\n",
       "      <td>0</td>\n",
       "      <td>0</td>\n",
       "    </tr>\n",
       "    <tr>\n",
       "      <th>...</th>\n",
       "      <td>...</td>\n",
       "      <td>...</td>\n",
       "      <td>...</td>\n",
       "      <td>...</td>\n",
       "      <td>...</td>\n",
       "      <td>...</td>\n",
       "      <td>...</td>\n",
       "      <td>...</td>\n",
       "      <td>...</td>\n",
       "      <td>...</td>\n",
       "      <td>...</td>\n",
       "      <td>...</td>\n",
       "      <td>...</td>\n",
       "      <td>...</td>\n",
       "      <td>...</td>\n",
       "      <td>...</td>\n",
       "      <td>...</td>\n",
       "      <td>...</td>\n",
       "      <td>...</td>\n",
       "      <td>...</td>\n",
       "      <td>...</td>\n",
       "    </tr>\n",
       "    <tr>\n",
       "      <th>149</th>\n",
       "      <td>3.300662</td>\n",
       "      <td>84.105960</td>\n",
       "      <td>1.046000</td>\n",
       "      <td>226.000000</td>\n",
       "      <td>12.113333</td>\n",
       "      <td>0</td>\n",
       "      <td>23</td>\n",
       "      <td>20</td>\n",
       "      <td>4.6</td>\n",
       "      <td>2800</td>\n",
       "      <td>...</td>\n",
       "      <td>0</td>\n",
       "      <td>0</td>\n",
       "      <td>0</td>\n",
       "      <td>0</td>\n",
       "      <td>102</td>\n",
       "      <td>0</td>\n",
       "      <td>0</td>\n",
       "      <td>0</td>\n",
       "      <td>0</td>\n",
       "      <td>0</td>\n",
       "    </tr>\n",
       "    <tr>\n",
       "      <th>150</th>\n",
       "      <td>3.358667</td>\n",
       "      <td>87.000000</td>\n",
       "      <td>0.951622</td>\n",
       "      <td>220.000000</td>\n",
       "      <td>9.500000</td>\n",
       "      <td>0</td>\n",
       "      <td>19</td>\n",
       "      <td>16</td>\n",
       "      <td>4.0</td>\n",
       "      <td>2800</td>\n",
       "      <td>...</td>\n",
       "      <td>0</td>\n",
       "      <td>0</td>\n",
       "      <td>0</td>\n",
       "      <td>0</td>\n",
       "      <td>20</td>\n",
       "      <td>73</td>\n",
       "      <td>0</td>\n",
       "      <td>0</td>\n",
       "      <td>0</td>\n",
       "      <td>0</td>\n",
       "    </tr>\n",
       "    <tr>\n",
       "      <th>151</th>\n",
       "      <td>3.550000</td>\n",
       "      <td>80.000000</td>\n",
       "      <td>0.864750</td>\n",
       "      <td>210.000000</td>\n",
       "      <td>12.000000</td>\n",
       "      <td>0</td>\n",
       "      <td>8</td>\n",
       "      <td>6</td>\n",
       "      <td>3.5</td>\n",
       "      <td>2800</td>\n",
       "      <td>...</td>\n",
       "      <td>0</td>\n",
       "      <td>0</td>\n",
       "      <td>0</td>\n",
       "      <td>0</td>\n",
       "      <td>123</td>\n",
       "      <td>0</td>\n",
       "      <td>0</td>\n",
       "      <td>0</td>\n",
       "      <td>0</td>\n",
       "      <td>0</td>\n",
       "    </tr>\n",
       "    <tr>\n",
       "      <th>152</th>\n",
       "      <td>3.230864</td>\n",
       "      <td>86.316872</td>\n",
       "      <td>0.861667</td>\n",
       "      <td>227.666667</td>\n",
       "      <td>10.726667</td>\n",
       "      <td>0</td>\n",
       "      <td>19</td>\n",
       "      <td>16</td>\n",
       "      <td>4.0</td>\n",
       "      <td>2800</td>\n",
       "      <td>...</td>\n",
       "      <td>0</td>\n",
       "      <td>0</td>\n",
       "      <td>0</td>\n",
       "      <td>0</td>\n",
       "      <td>10</td>\n",
       "      <td>98</td>\n",
       "      <td>0</td>\n",
       "      <td>37</td>\n",
       "      <td>0</td>\n",
       "      <td>0</td>\n",
       "    </tr>\n",
       "    <tr>\n",
       "      <th>153</th>\n",
       "      <td>3.224277</td>\n",
       "      <td>85.260116</td>\n",
       "      <td>0.906000</td>\n",
       "      <td>252.500000</td>\n",
       "      <td>11.285000</td>\n",
       "      <td>0</td>\n",
       "      <td>24</td>\n",
       "      <td>21</td>\n",
       "      <td>4.0</td>\n",
       "      <td>2800</td>\n",
       "      <td>...</td>\n",
       "      <td>0</td>\n",
       "      <td>0</td>\n",
       "      <td>0</td>\n",
       "      <td>0</td>\n",
       "      <td>10</td>\n",
       "      <td>98</td>\n",
       "      <td>0</td>\n",
       "      <td>34</td>\n",
       "      <td>0</td>\n",
       "      <td>0</td>\n",
       "    </tr>\n",
       "  </tbody>\n",
       "</table>\n",
       "<p>154 rows × 165 columns</p>\n",
       "</div>"
      ],
      "text/plain": [
       "          CPI        DPI        EC           T         WC  1OYSum of kapalı  \\\n",
       "0    3.238150  86.705202  0.855000  225.000000   9.606667                 0   \n",
       "1    3.266000  83.230000  0.884200  240.000000   8.750000                 0   \n",
       "2    3.266000  83.230000  0.884200  240.000000   8.750000                 0   \n",
       "3    3.220000  76.078000  0.500000  265.000000  10.000000                 2   \n",
       "4    3.280000  78.235000  0.590000  265.000000   9.200000                 3   \n",
       "..        ...        ...       ...         ...        ...               ...   \n",
       "149  3.300662  84.105960  1.046000  226.000000  12.113333                 0   \n",
       "150  3.358667  87.000000  0.951622  220.000000   9.500000                 0   \n",
       "151  3.550000  80.000000  0.864750  210.000000  12.000000                 0   \n",
       "152  3.230864  86.316872  0.861667  227.666667  10.726667                 0   \n",
       "153  3.224277  85.260116  0.906000  252.500000  11.285000                 0   \n",
       "\n",
       "     1OYSum of SURE  1OYSum of CIRC_TIME  1OYSum of WI  1OYMax of DEVIR  ...  \\\n",
       "0                24                   21           4.0             2800  ...   \n",
       "1                21                   18           4.0             3000  ...   \n",
       "2                21                   18           4.0             3000  ...   \n",
       "3                48                   43           4.8             2800  ...   \n",
       "4                49                   44           4.8             2800  ...   \n",
       "..              ...                  ...           ...              ...  ...   \n",
       "149              23                   20           4.6             2800  ...   \n",
       "150              19                   16           4.0             2800  ...   \n",
       "151               8                    6           3.5             2800  ...   \n",
       "152              19                   16           4.0             2800  ...   \n",
       "153              24                   21           4.0             2800  ...   \n",
       "\n",
       "     10KUSum of ALT_C  10KUSum of ÜST_C  10KUSum of TEPE_C  10KUSum of ZONE_C  \\\n",
       "0                   0                 0                  0                  0   \n",
       "1                   0                 0                  0                  0   \n",
       "2                   0                 0                  0                  0   \n",
       "3                   0                 0                  0                  0   \n",
       "4                   0                 0                  0                  0   \n",
       "..                ...               ...                ...                ...   \n",
       "149                 0                 0                  0                  0   \n",
       "150                 0                 0                  0                  0   \n",
       "151                 0                 0                  0                  0   \n",
       "152                 0                 0                  0                  0   \n",
       "153                 0                 0                  0                  0   \n",
       "\n",
       "     10KUSum of BEKLEME  10KUSum of FAN  10KUSum of KAPI ACMA  \\\n",
       "0                    10              78                     1   \n",
       "1                    10              93                     0   \n",
       "2                    10              93                     0   \n",
       "3                    50              57                     1   \n",
       "4                    30              63                     1   \n",
       "..                  ...             ...                   ...   \n",
       "149                 102               0                     0   \n",
       "150                  20              73                     0   \n",
       "151                 123               0                     0   \n",
       "152                  10              98                     0   \n",
       "153                  10              98                     0   \n",
       "\n",
       "     10KUSum of FAN / KLAPE  10KUSum of GAUDI_offset  \\\n",
       "0                         0                        0   \n",
       "1                         0                        0   \n",
       "2                         0                        0   \n",
       "3                        30                        0   \n",
       "4                        29                        0   \n",
       "..                      ...                      ...   \n",
       "149                       0                        0   \n",
       "150                       0                        0   \n",
       "151                       0                        0   \n",
       "152                      37                        0   \n",
       "153                      34                        0   \n",
       "\n",
       "     10KUSum of GAUDI_nonoffset  \n",
       "0                             0  \n",
       "1                             0  \n",
       "2                             0  \n",
       "3                             0  \n",
       "4                             0  \n",
       "..                          ...  \n",
       "149                           0  \n",
       "150                           0  \n",
       "151                           0  \n",
       "152                           0  \n",
       "153                           0  \n",
       "\n",
       "[154 rows x 165 columns]"
      ]
     },
     "execution_count": 288,
     "metadata": {},
     "output_type": "execute_result"
    }
   ],
   "source": [
    "df"
   ]
  },
  {
   "cell_type": "code",
   "execution_count": 289,
   "id": "1c8e7b62",
   "metadata": {},
   "outputs": [],
   "source": [
    "model1=GradientBoostingRegressor(learning_rate = 0.1, n_estimators = 50, max_depth = 4)\n",
    "model2=LinearRegression()"
   ]
  },
  {
   "cell_type": "code",
   "execution_count": 290,
   "id": "b40de76d",
   "metadata": {},
   "outputs": [],
   "source": [
    "XX_CPI=['1OYSum of kapalı', '1OYSum of CIRC_TIME', '1OYSum of BEKLEME',\n",
    "       '2AYSum of SURE', '2AYMax of DEVIR', '2AYMax of TEMP',\n",
    "       '3MFTSum of SURE', '4SGDSum of SURE', '4SGDMax of DEVIR',\n",
    "       '7SCD2Max of DEVIR', '7SCD2Sum of ALT_C', '8DSBMax of DEVIR',\n",
    "       '10KUSum of FAN', '10KUSum of KAPI ACMA', '10KUSum of GAUDI_offset']\n",
    "XX_DPI=['1OYMax of TEMP', '2AYSum of SURE', '2AYSum of TEPE_C', '4SGDSum of WI',\n",
    "       '10KUSum of FAN / KLAPE']\n",
    "XX_EC=['1OYSum of kapalı', '1OYSum of SURE', '1OYSum of CIRC_TIME',\n",
    "       '1OYSum of WI', '1OYSum of ALT_C', '2AYSum of kapalı', '2AYSum of SURE',\n",
    "       '2AYMax of TEMP', '2AYSum of ALT_C', '2AYSum of TEPE_C',\n",
    "       '4SGDSum of SURE', '4SGDSum of WI', '4SGDMax of DEVIR',\n",
    "       '4SGDSum of ÜST_C', '4SGDSum of TEPE_C', '7SCD2Sum of kapalı',\n",
    "       '7SCD2Sum of SURE', '7SCD2Max of TEMP', '7SCD2Sum of ALT_C',\n",
    "       '10KUSum of BEKLEME', '10KUSum of FAN', '10KUSum of KAPI ACMA']\n",
    "XX_T=['1OYSum of SURE', '1OYSum of BEKLEME', '2AYSum of kapalı',\n",
    "       '2AYSum of SURE', '2AYSum of ALT_C', '4SGDSum of WI',\n",
    "       '7SCD2Sum of SURE', '7SCD2Max of DEVIR', '8DSBSum of kapalı',\n",
    "       '10KUSum of SURE']\n",
    "XX_WC=['1OYSum of kapalı', '1OYSum of WI', '1OYMax of DEVIR', '1OYMax of TEMP',\n",
    "       '2AYSum of kapalı', '2AYSum of WI', '2AYMax of DEVIR',\n",
    "       '4SGDSum of SURE', '4SGDSum of WI', '4SGDSum of TEPE_C',\n",
    "       '7SCD2Sum of kapalı', '7SCD2Sum of SURE', '7SCD2Max of DEVIR',\n",
    "       '7SCD2Sum of ALT_C', '8DSBSum of kapalı', '10KUSum of SURE',\n",
    "       '10KUSum of GAUDI_offset']"
   ]
  },
  {
   "cell_type": "code",
   "execution_count": 291,
   "id": "2c637060",
   "metadata": {},
   "outputs": [],
   "source": [
    "XX_CPI=df[XX_CPI]\n",
    "XX_DPI=df[XX_DPI]\n",
    "XX_EC=df[XX_EC]\n",
    "XX_T=df[XX_T]\n",
    "XX_WC=df[XX_WC]"
   ]
  },
  {
   "cell_type": "code",
   "execution_count": 292,
   "id": "e619d90e",
   "metadata": {},
   "outputs": [
    {
     "name": "stdout",
     "output_type": "stream",
     "text": [
      " 0.044 80\n",
      "Result (Test)\n",
      "MAE : 0.02900\n"
     ]
    },
    {
     "data": {
      "image/png": "[encoded data removed]",
      "text/plain": [
       "<Figure size 432x288 with 1 Axes>"
      ]
     },
     "metadata": {
      "needs_background": "light"
     },
     "output_type": "display_data"
    },
    {
     "name": "stdout",
     "output_type": "stream",
     "text": [
      "-6.493506493506481e-05\n"
     ]
    }
   ],
   "source": [
    "X=XX_CPI\n",
    "y=df['CPI']\n",
    "variable=y\n",
    "model=model1\n",
    "model.fit(X, y)\n",
    "cv = RepeatedKFold(n_splits=5, n_repeats=3)\n",
    "scores1 = cross_val_score(model,X, y, scoring='neg_mean_absolute_error', cv=cv, n_jobs=-1, error_score='raise')\n",
    "scores3 = cross_val_score(model,X, y, scoring='r2', cv=cv, n_jobs=-1, error_score='raise')\n",
    "print(' %.3f %.0f' % (-mean(scores1),  100*mean(scores3)))\n",
    "df_test_ref=df[XX_CPI.columns]\n",
    "y_pred = model.predict(df_test_ref)\n",
    "y_pred= pd.DataFrame(y_pred)\n",
    "from sklearn.metrics import mean_absolute_error as MAE\n",
    "output=y_pred\n",
    "mae_var = MAE(variable, output)\n",
    "print('Result (Test)')\n",
    "print(\"MAE : %.5f\" %(mae_var))\n",
    "import matplotlib.pyplot as plt\n",
    "result = pd.DataFrame()\n",
    "result['Y_True'] = variable\n",
    "result['Y_Pred'] = output\n",
    "result['Error'] = (result['Y_True'] - result['Y_Pred']).round(2)\n",
    "error=(result['Y_True'] - result['Y_Pred']).round(2)\n",
    "plt.hist(result['Error'], bins=20)\n",
    "plt.title('Distribution of Error')\n",
    "plt.xlabel('Error')\n",
    "plt.ylabel('Frequency')\n",
    "plt.show()\n",
    "print(mean(result['Error']))"
   ]
  },
  {
   "cell_type": "code",
   "execution_count": 293,
   "id": "af81fae5",
   "metadata": {},
   "outputs": [
    {
     "data": {
      "image/png": "[encoded data removed]",
      "text/plain": [
       "<Figure size 432x288 with 1 Axes>"
      ]
     },
     "metadata": {
      "needs_background": "light"
     },
     "output_type": "display_data"
    }
   ],
   "source": [
    "plt.scatter(result['Error'],result['Y_True'])\n",
    "plt.title('Distribution of Error wrt to CPI')\n",
    "plt.xlabel('Error')\n",
    "plt.ylabel('Y_True')\n",
    "plt.show()"
   ]
  },
  {
   "cell_type": "code",
   "execution_count": 294,
   "id": "cc9703b8",
   "metadata": {},
   "outputs": [
    {
     "name": "stdout",
     "output_type": "stream",
     "text": [
      " 2.183 87\n",
      "Result (Test)\n",
      "MAE : 1.43128\n"
     ]
    },
    {
     "data": {
      "image/png": "[encoded data removed]",
      "text/plain": [
       "<Figure size 432x288 with 1 Axes>"
      ]
     },
     "metadata": {
      "needs_background": "light"
     },
     "output_type": "display_data"
    },
    {
     "name": "stdout",
     "output_type": "stream",
     "text": [
      "6.493506493506427e-05\n"
     ]
    }
   ],
   "source": [
    "X=XX_DPI\n",
    "y=df['DPI']\n",
    "variable=y\n",
    "model=model1\n",
    "model.fit(X, y)\n",
    "cv = RepeatedKFold(n_splits=5, n_repeats=3)\n",
    "scores1 = cross_val_score(model,X, y, scoring='neg_mean_absolute_error', cv=cv, n_jobs=-1, error_score='raise')\n",
    "scores3 = cross_val_score(model,X, y, scoring='r2', cv=cv, n_jobs=-1, error_score='raise')\n",
    "print(' %.3f %.0f' % (-mean(scores1),  100*mean(scores3)))\n",
    "df_test_ref=df[XX_DPI.columns]\n",
    "y_pred = model.predict(df_test_ref)\n",
    "y_pred= pd.DataFrame(y_pred)\n",
    "from sklearn.metrics import mean_absolute_error as MAE\n",
    "output=y_pred\n",
    "mae_var = MAE(variable, output)\n",
    "print('Result (Test)')\n",
    "print(\"MAE : %.5f\" %(mae_var))\n",
    "import matplotlib.pyplot as plt\n",
    "result = pd.DataFrame()\n",
    "result['Y_True'] = variable\n",
    "result['Y_Pred'] = output\n",
    "result['Error'] = (result['Y_True'] - result['Y_Pred']).round(2)\n",
    "error=(result['Y_True'] - result['Y_Pred']).round(2)\n",
    "plt.hist(result['Error'], bins=20)\n",
    "plt.title('Distribution of Error')\n",
    "plt.xlabel('Error')\n",
    "plt.ylabel('Frequency')\n",
    "plt.show()\n",
    "print(mean(result['Error']))"
   ]
  },
  {
   "cell_type": "code",
   "execution_count": 295,
   "id": "fd8f3bc8",
   "metadata": {},
   "outputs": [
    {
     "data": {
      "image/png": "[encoded data removed]",
      "text/plain": [
       "<Figure size 432x288 with 1 Axes>"
      ]
     },
     "metadata": {
      "needs_background": "light"
     },
     "output_type": "display_data"
    }
   ],
   "source": [
    "plt.scatter(result['Error'],result['Y_True'])\n",
    "plt.title('Distribution of Error wrt to DPI')\n",
    "plt.xlabel('Error')\n",
    "plt.ylabel('Y_True')\n",
    "plt.show()"
   ]
  },
  {
   "cell_type": "code",
   "execution_count": 296,
   "id": "7237eeba",
   "metadata": {},
   "outputs": [
    {
     "name": "stdout",
     "output_type": "stream",
     "text": [
      " 0.037 88\n",
      "Result (Test)\n",
      "MAE : 0.02858\n"
     ]
    },
    {
     "data": {
      "image/png": "[encoded data removed]",
      "text/plain": [
       "<Figure size 432x288 with 1 Axes>"
      ]
     },
     "metadata": {
      "needs_background": "light"
     },
     "output_type": "display_data"
    },
    {
     "name": "stdout",
     "output_type": "stream",
     "text": [
      "-0.00019480519480519489\n"
     ]
    }
   ],
   "source": [
    "X=XX_EC\n",
    "y=df['EC']\n",
    "variable=y\n",
    "model=model2\n",
    "model.fit(X, y)\n",
    "cv = RepeatedKFold(n_splits=5, n_repeats=3)\n",
    "scores1 = cross_val_score(model,X, y, scoring='neg_mean_absolute_error', cv=cv, n_jobs=-1, error_score='raise')\n",
    "scores3 = cross_val_score(model,X, y, scoring='r2', cv=cv, n_jobs=-1, error_score='raise')\n",
    "print(' %.3f %.0f' % (-mean(scores1),  100*mean(scores3)))\n",
    "df_test_ref=df[XX_EC.columns]\n",
    "y_pred = model.predict(df_test_ref)\n",
    "y_pred= pd.DataFrame(y_pred)\n",
    "from sklearn.metrics import mean_absolute_error as MAE\n",
    "output=y_pred\n",
    "mae_var = MAE(variable, output)\n",
    "print('Result (Test)')\n",
    "print(\"MAE : %.5f\" %(mae_var))\n",
    "import matplotlib.pyplot as plt\n",
    "result = pd.DataFrame()\n",
    "result['Y_True'] = variable\n",
    "result['Y_Pred'] = output\n",
    "result['Error'] = (result['Y_True'] - result['Y_Pred']).round(2)\n",
    "error=(result['Y_True'] - result['Y_Pred']).round(2)\n",
    "plt.hist(result['Error'], bins=20)\n",
    "plt.title('Distribution of Error')\n",
    "plt.xlabel('Error')\n",
    "plt.ylabel('Frequency')\n",
    "plt.show()\n",
    "print(mean(result['Error']))"
   ]
  },
  {
   "cell_type": "code",
   "execution_count": 297,
   "id": "ba207979",
   "metadata": {},
   "outputs": [
    {
     "data": {
      "image/png": "[encoded data removed]",
      "text/plain": [
       "<Figure size 432x288 with 1 Axes>"
      ]
     },
     "metadata": {
      "needs_background": "light"
     },
     "output_type": "display_data"
    }
   ],
   "source": [
    "plt.scatter(result['Error'],result['Y_True'])\n",
    "plt.title('Distribution of Error wrt to EC')\n",
    "plt.xlabel('Error')\n",
    "plt.ylabel('Y_True')\n",
    "plt.show()"
   ]
  },
  {
   "cell_type": "code",
   "execution_count": 298,
   "id": "33589b26",
   "metadata": {},
   "outputs": [
    {
     "name": "stdout",
     "output_type": "stream",
     "text": [
      " 0.383 90\n",
      "Result (Test)\n",
      "MAE : 0.31628\n"
     ]
    },
    {
     "data": {
      "image/png": "[encoded data removed]",
      "text/plain": [
       "<Figure size 432x288 with 1 Axes>"
      ]
     },
     "metadata": {
      "needs_background": "light"
     },
     "output_type": "display_data"
    },
    {
     "name": "stdout",
     "output_type": "stream",
     "text": [
      "0.00038961038961038565\n"
     ]
    }
   ],
   "source": [
    "X=XX_WC\n",
    "y=df['WC']\n",
    "variable=y\n",
    "model=model2\n",
    "model.fit(X, y)\n",
    "cv = RepeatedKFold(n_splits=5, n_repeats=3)\n",
    "scores1 = cross_val_score(model,X, y, scoring='neg_mean_absolute_error', cv=cv, n_jobs=-1, error_score='raise')\n",
    "scores3 = cross_val_score(model,X, y, scoring='r2', cv=cv, n_jobs=-1, error_score='raise')\n",
    "print(' %.3f %.0f' % (-mean(scores1),  100*mean(scores3)))\n",
    "df_test_ref=df[XX_WC.columns]\n",
    "y_pred = model.predict(df_test_ref)\n",
    "y_pred= pd.DataFrame(y_pred)\n",
    "from sklearn.metrics import mean_absolute_error as MAE\n",
    "output=y_pred\n",
    "mae_var = MAE(variable, output)\n",
    "print('Result (Test)')\n",
    "print(\"MAE : %.5f\" %(mae_var))\n",
    "import matplotlib.pyplot as plt\n",
    "result = pd.DataFrame()\n",
    "result['Y_True'] = variable\n",
    "result['Y_Pred'] = output\n",
    "result['Error'] = (result['Y_True'] - result['Y_Pred']).round(2)\n",
    "error=(result['Y_True'] - result['Y_Pred']).round(2)\n",
    "plt.hist(result['Error'], bins=20)\n",
    "plt.title('Distribution of Error')\n",
    "plt.xlabel('Error')\n",
    "plt.ylabel('Frequency')\n",
    "plt.show()\n",
    "print(mean(result['Error']))"
   ]
  },
  {
   "cell_type": "code",
   "execution_count": 299,
   "id": "328cd2de",
   "metadata": {},
   "outputs": [
    {
     "data": {
      "image/png": "[encoded data removed]",
      "text/plain": [
       "<Figure size 432x288 with 1 Axes>"
      ]
     },
     "metadata": {
      "needs_background": "light"
     },
     "output_type": "display_data"
    }
   ],
   "source": [
    "plt.scatter(result['Error'],result['Y_True'])\n",
    "plt.title('Distribution of Error wrt to WC')\n",
    "plt.xlabel('Error')\n",
    "plt.ylabel('Y_True')\n",
    "plt.show()"
   ]
  },
  {
   "cell_type": "code",
   "execution_count": 300,
   "id": "e20a0c0d",
   "metadata": {},
   "outputs": [
    {
     "name": "stdout",
     "output_type": "stream",
     "text": [
      " 3.010 100\n",
      "Result (Test)\n",
      "MAE : 2.80485\n"
     ]
    },
    {
     "data": {
      "image/png": "[encoded data removed]",
      "text/plain": [
       "<Figure size 432x288 with 1 Axes>"
      ]
     },
     "metadata": {
      "needs_background": "light"
     },
     "output_type": "display_data"
    },
    {
     "name": "stdout",
     "output_type": "stream",
     "text": [
      "-0.0003896103896106351\n"
     ]
    }
   ],
   "source": [
    "X=XX_T\n",
    "y=df['T']\n",
    "variable=y\n",
    "model=model2\n",
    "model.fit(X, y)\n",
    "cv = RepeatedKFold(n_splits=5, n_repeats=3)\n",
    "scores1 = cross_val_score(model,X, y, scoring='neg_mean_absolute_error', cv=cv, n_jobs=-1, error_score='raise')\n",
    "scores3 = cross_val_score(model,X, y, scoring='r2', cv=cv, n_jobs=-1, error_score='raise')\n",
    "print(' %.3f %.0f' % (-mean(scores1),  100*mean(scores3)))\n",
    "df_test_ref=df[XX_T.columns]\n",
    "y_pred = model.predict(df_test_ref)\n",
    "y_pred= pd.DataFrame(y_pred)\n",
    "from sklearn.metrics import mean_absolute_error as MAE\n",
    "output=y_pred\n",
    "mae_var = MAE(variable, output)\n",
    "print('Result (Test)')\n",
    "print(\"MAE : %.5f\" %(mae_var))\n",
    "import matplotlib.pyplot as plt\n",
    "result = pd.DataFrame()\n",
    "result['Y_True'] = variable\n",
    "result['Y_Pred'] = output\n",
    "result['Error'] = (result['Y_True'] - result['Y_Pred']).round(2)\n",
    "error=(result['Y_True'] - result['Y_Pred']).round(2)\n",
    "plt.hist(result['Error'], bins=20)\n",
    "plt.title('Distribution of Error')\n",
    "plt.xlabel('Error')\n",
    "plt.ylabel('Frequency')\n",
    "plt.show()\n",
    "print(mean(result['Error']))"
   ]
  },
  {
   "cell_type": "code",
   "execution_count": 301,
   "id": "18440383",
   "metadata": {},
   "outputs": [
    {
     "data": {
      "image/png": "[encoded data removed]",
      "text/plain": [
       "<Figure size 432x288 with 1 Axes>"
      ]
     },
     "metadata": {
      "needs_background": "light"
     },
     "output_type": "display_data"
    }
   ],
   "source": [
    "plt.scatter(result['Error'],result['Y_True'])\n",
    "plt.title('Distribution of Error wrt to T')\n",
    "plt.xlabel('Error')\n",
    "plt.ylabel('Y_True')\n",
    "plt.show()"
   ]
  },
  {
   "cell_type": "markdown",
   "id": "9cfb7e17",
   "metadata": {},
   "source": [
    "# DIGITAL TWIN LABORATORY"
   ]
  },
  {
   "cell_type": "code",
   "execution_count": 307,
   "id": "c29c8ed8",
   "metadata": {},
   "outputs": [],
   "source": [
    "df_dt = pd.read_excel('D:/THESIS_DATA/ANALYSIS_DATA_THESIS/train_digital_twin.xlsx')"
   ]
  },
  {
   "cell_type": "code",
   "execution_count": 308,
   "id": "9cde40b8",
   "metadata": {},
   "outputs": [
    {
     "data": {
      "text/html": [
       "<div>\n",
       "<style scoped>\n",
       "    .dataframe tbody tr th:only-of-type {\n",
       "        vertical-align: middle;\n",
       "    }\n",
       "\n",
       "    .dataframe tbody tr th {\n",
       "        vertical-align: top;\n",
       "    }\n",
       "\n",
       "    .dataframe thead th {\n",
       "        text-align: right;\n",
       "    }\n",
       "</style>\n",
       "<table border=\"1\" class=\"dataframe\">\n",
       "  <thead>\n",
       "    <tr style=\"text-align: right;\">\n",
       "      <th></th>\n",
       "      <th>modelname</th>\n",
       "      <th>type</th>\n",
       "      <th>typem</th>\n",
       "      <th>k1</th>\n",
       "      <th>k2</th>\n",
       "      <th>k3</th>\n",
       "      <th>k4</th>\n",
       "      <th>k5</th>\n",
       "      <th>k6</th>\n",
       "      <th>k7</th>\n",
       "      <th>...</th>\n",
       "      <th>10KUSum of ALT_C</th>\n",
       "      <th>10KUSum of ÜST_C</th>\n",
       "      <th>10KUSum of TEPE_C</th>\n",
       "      <th>10KUSum of ZONE_C</th>\n",
       "      <th>10KUSum of BEKLEME</th>\n",
       "      <th>10KUSum of FAN</th>\n",
       "      <th>10KUSum of KAPI ACMA</th>\n",
       "      <th>10KUSum of FAN / KLAPE</th>\n",
       "      <th>10KUSum of GAUDI_offset</th>\n",
       "      <th>10KUSum of GAUDI_nonoffset</th>\n",
       "    </tr>\n",
       "  </thead>\n",
       "  <tbody>\n",
       "    <tr>\n",
       "      <th>0</th>\n",
       "      <td>E395P320S_AA - Eco 50 - Solo</td>\n",
       "      <td>15</td>\n",
       "      <td>60</td>\n",
       "      <td>E</td>\n",
       "      <td>3</td>\n",
       "      <td>9</td>\n",
       "      <td>5</td>\n",
       "      <td>P</td>\n",
       "      <td>3</td>\n",
       "      <td>2</td>\n",
       "      <td>...</td>\n",
       "      <td>0</td>\n",
       "      <td>0</td>\n",
       "      <td>0</td>\n",
       "      <td>0</td>\n",
       "      <td>10</td>\n",
       "      <td>78</td>\n",
       "      <td>1</td>\n",
       "      <td>0</td>\n",
       "      <td>0</td>\n",
       "      <td>0</td>\n",
       "    </tr>\n",
       "    <tr>\n",
       "      <th>1</th>\n",
       "      <td>E295C323S_AA - Eco 50 - Solo</td>\n",
       "      <td>15</td>\n",
       "      <td>60</td>\n",
       "      <td>E</td>\n",
       "      <td>2</td>\n",
       "      <td>9</td>\n",
       "      <td>5</td>\n",
       "      <td>C</td>\n",
       "      <td>3</td>\n",
       "      <td>2</td>\n",
       "      <td>...</td>\n",
       "      <td>0</td>\n",
       "      <td>0</td>\n",
       "      <td>0</td>\n",
       "      <td>0</td>\n",
       "      <td>10</td>\n",
       "      <td>93</td>\n",
       "      <td>0</td>\n",
       "      <td>0</td>\n",
       "      <td>0</td>\n",
       "      <td>0</td>\n",
       "    </tr>\n",
       "    <tr>\n",
       "      <th>2</th>\n",
       "      <td>E295F329S - Eco 50 - Solo</td>\n",
       "      <td>15</td>\n",
       "      <td>60</td>\n",
       "      <td>E</td>\n",
       "      <td>2</td>\n",
       "      <td>9</td>\n",
       "      <td>5</td>\n",
       "      <td>F</td>\n",
       "      <td>3</td>\n",
       "      <td>2</td>\n",
       "      <td>...</td>\n",
       "      <td>0</td>\n",
       "      <td>0</td>\n",
       "      <td>0</td>\n",
       "      <td>0</td>\n",
       "      <td>10</td>\n",
       "      <td>93</td>\n",
       "      <td>0</td>\n",
       "      <td>0</td>\n",
       "      <td>0</td>\n",
       "      <td>0</td>\n",
       "    </tr>\n",
       "    <tr>\n",
       "      <th>3</th>\n",
       "      <td>E596P3DDS_AA</td>\n",
       "      <td>16</td>\n",
       "      <td>60</td>\n",
       "      <td>E</td>\n",
       "      <td>5</td>\n",
       "      <td>9</td>\n",
       "      <td>6</td>\n",
       "      <td>P</td>\n",
       "      <td>3</td>\n",
       "      <td>D</td>\n",
       "      <td>...</td>\n",
       "      <td>0</td>\n",
       "      <td>0</td>\n",
       "      <td>0</td>\n",
       "      <td>0</td>\n",
       "      <td>50</td>\n",
       "      <td>57</td>\n",
       "      <td>1</td>\n",
       "      <td>30</td>\n",
       "      <td>0</td>\n",
       "      <td>0</td>\n",
       "    </tr>\n",
       "    <tr>\n",
       "      <th>4</th>\n",
       "      <td>E596A3IIS_AA</td>\n",
       "      <td>16</td>\n",
       "      <td>60</td>\n",
       "      <td>E</td>\n",
       "      <td>5</td>\n",
       "      <td>9</td>\n",
       "      <td>6</td>\n",
       "      <td>A</td>\n",
       "      <td>3</td>\n",
       "      <td>I</td>\n",
       "      <td>...</td>\n",
       "      <td>0</td>\n",
       "      <td>0</td>\n",
       "      <td>0</td>\n",
       "      <td>0</td>\n",
       "      <td>30</td>\n",
       "      <td>63</td>\n",
       "      <td>1</td>\n",
       "      <td>29</td>\n",
       "      <td>0</td>\n",
       "      <td>0</td>\n",
       "    </tr>\n",
       "    <tr>\n",
       "      <th>...</th>\n",
       "      <td>...</td>\n",
       "      <td>...</td>\n",
       "      <td>...</td>\n",
       "      <td>...</td>\n",
       "      <td>...</td>\n",
       "      <td>...</td>\n",
       "      <td>...</td>\n",
       "      <td>...</td>\n",
       "      <td>...</td>\n",
       "      <td>...</td>\n",
       "      <td>...</td>\n",
       "      <td>...</td>\n",
       "      <td>...</td>\n",
       "      <td>...</td>\n",
       "      <td>...</td>\n",
       "      <td>...</td>\n",
       "      <td>...</td>\n",
       "      <td>...</td>\n",
       "      <td>...</td>\n",
       "      <td>...</td>\n",
       "      <td>...</td>\n",
       "    </tr>\n",
       "    <tr>\n",
       "      <th>136</th>\n",
       "      <td>E295C320A_AB - Eco 50 NR - Ank.</td>\n",
       "      <td>15</td>\n",
       "      <td>60</td>\n",
       "      <td>E</td>\n",
       "      <td>2</td>\n",
       "      <td>9</td>\n",
       "      <td>5</td>\n",
       "      <td>C</td>\n",
       "      <td>3</td>\n",
       "      <td>2</td>\n",
       "      <td>...</td>\n",
       "      <td>0</td>\n",
       "      <td>0</td>\n",
       "      <td>0</td>\n",
       "      <td>0</td>\n",
       "      <td>10</td>\n",
       "      <td>98</td>\n",
       "      <td>0</td>\n",
       "      <td>0</td>\n",
       "      <td>0</td>\n",
       "      <td>0</td>\n",
       "    </tr>\n",
       "    <tr>\n",
       "      <th>137</th>\n",
       "      <td>E394P320A_AA - Eco 50 - Ank</td>\n",
       "      <td>14</td>\n",
       "      <td>60</td>\n",
       "      <td>E</td>\n",
       "      <td>3</td>\n",
       "      <td>9</td>\n",
       "      <td>4</td>\n",
       "      <td>P</td>\n",
       "      <td>3</td>\n",
       "      <td>2</td>\n",
       "      <td>...</td>\n",
       "      <td>0</td>\n",
       "      <td>0</td>\n",
       "      <td>0</td>\n",
       "      <td>0</td>\n",
       "      <td>10</td>\n",
       "      <td>78</td>\n",
       "      <td>1</td>\n",
       "      <td>0</td>\n",
       "      <td>0</td>\n",
       "      <td>0</td>\n",
       "    </tr>\n",
       "    <tr>\n",
       "      <th>138</th>\n",
       "      <td>E295C320S_AB - Eco 50 NR - Solo</td>\n",
       "      <td>15</td>\n",
       "      <td>60</td>\n",
       "      <td>E</td>\n",
       "      <td>2</td>\n",
       "      <td>9</td>\n",
       "      <td>5</td>\n",
       "      <td>C</td>\n",
       "      <td>3</td>\n",
       "      <td>2</td>\n",
       "      <td>...</td>\n",
       "      <td>0</td>\n",
       "      <td>0</td>\n",
       "      <td>0</td>\n",
       "      <td>0</td>\n",
       "      <td>10</td>\n",
       "      <td>98</td>\n",
       "      <td>0</td>\n",
       "      <td>0</td>\n",
       "      <td>0</td>\n",
       "      <td>0</td>\n",
       "    </tr>\n",
       "    <tr>\n",
       "      <th>139</th>\n",
       "      <td>E394G329S_AA - Eco 50 NR - Solo</td>\n",
       "      <td>14</td>\n",
       "      <td>60</td>\n",
       "      <td>E</td>\n",
       "      <td>3</td>\n",
       "      <td>9</td>\n",
       "      <td>4</td>\n",
       "      <td>G</td>\n",
       "      <td>3</td>\n",
       "      <td>2</td>\n",
       "      <td>...</td>\n",
       "      <td>0</td>\n",
       "      <td>0</td>\n",
       "      <td>0</td>\n",
       "      <td>0</td>\n",
       "      <td>10</td>\n",
       "      <td>103</td>\n",
       "      <td>0</td>\n",
       "      <td>33</td>\n",
       "      <td>0</td>\n",
       "      <td>0</td>\n",
       "    </tr>\n",
       "    <tr>\n",
       "      <th>140</th>\n",
       "      <td>SEX4S010_AA - STW Party</td>\n",
       "      <td>14</td>\n",
       "      <td>60</td>\n",
       "      <td>S</td>\n",
       "      <td>E</td>\n",
       "      <td>X</td>\n",
       "      <td>4</td>\n",
       "      <td>S</td>\n",
       "      <td>0</td>\n",
       "      <td>1</td>\n",
       "      <td>...</td>\n",
       "      <td>0</td>\n",
       "      <td>0</td>\n",
       "      <td>0</td>\n",
       "      <td>0</td>\n",
       "      <td>26</td>\n",
       "      <td>0</td>\n",
       "      <td>0</td>\n",
       "      <td>0</td>\n",
       "      <td>0</td>\n",
       "      <td>0</td>\n",
       "    </tr>\n",
       "  </tbody>\n",
       "</table>\n",
       "<p>141 rows × 180 columns</p>\n",
       "</div>"
      ],
      "text/plain": [
       "                           modelname  type  typem k1 k2 k3  k4 k5  k6 k7  ...  \\\n",
       "0       E395P320S_AA - Eco 50 - Solo    15     60  E  3  9   5  P   3  2  ...   \n",
       "1       E295C323S_AA - Eco 50 - Solo    15     60  E  2  9   5  C   3  2  ...   \n",
       "2          E295F329S - Eco 50 - Solo    15     60  E  2  9   5  F   3  2  ...   \n",
       "3                       E596P3DDS_AA    16     60  E  5  9   6  P   3  D  ...   \n",
       "4                       E596A3IIS_AA    16     60  E  5  9   6  A   3  I  ...   \n",
       "..                               ...   ...    ... .. .. ..  .. ..  .. ..  ...   \n",
       "136  E295C320A_AB - Eco 50 NR - Ank.    15     60  E  2  9   5  C   3  2  ...   \n",
       "137      E394P320A_AA - Eco 50 - Ank    14     60  E  3  9   4  P   3  2  ...   \n",
       "138  E295C320S_AB - Eco 50 NR - Solo    15     60  E  2  9   5  C   3  2  ...   \n",
       "139  E394G329S_AA - Eco 50 NR - Solo    14     60  E  3  9   4  G   3  2  ...   \n",
       "140          SEX4S010_AA - STW Party    14     60  S  E  X   4  S   0  1  ...   \n",
       "\n",
       "    10KUSum of ALT_C 10KUSum of ÜST_C 10KUSum of TEPE_C  10KUSum of ZONE_C  \\\n",
       "0                  0                0                 0                  0   \n",
       "1                  0                0                 0                  0   \n",
       "2                  0                0                 0                  0   \n",
       "3                  0                0                 0                  0   \n",
       "4                  0                0                 0                  0   \n",
       "..               ...              ...               ...                ...   \n",
       "136                0                0                 0                  0   \n",
       "137                0                0                 0                  0   \n",
       "138                0                0                 0                  0   \n",
       "139                0                0                 0                  0   \n",
       "140                0                0                 0                  0   \n",
       "\n",
       "     10KUSum of BEKLEME  10KUSum of FAN  10KUSum of KAPI ACMA  \\\n",
       "0                    10              78                     1   \n",
       "1                    10              93                     0   \n",
       "2                    10              93                     0   \n",
       "3                    50              57                     1   \n",
       "4                    30              63                     1   \n",
       "..                  ...             ...                   ...   \n",
       "136                  10              98                     0   \n",
       "137                  10              78                     1   \n",
       "138                  10              98                     0   \n",
       "139                  10             103                     0   \n",
       "140                  26               0                     0   \n",
       "\n",
       "     10KUSum of FAN / KLAPE  10KUSum of GAUDI_offset  \\\n",
       "0                         0                        0   \n",
       "1                         0                        0   \n",
       "2                         0                        0   \n",
       "3                        30                        0   \n",
       "4                        29                        0   \n",
       "..                      ...                      ...   \n",
       "136                       0                        0   \n",
       "137                       0                        0   \n",
       "138                       0                        0   \n",
       "139                      33                        0   \n",
       "140                       0                        0   \n",
       "\n",
       "     10KUSum of GAUDI_nonoffset  \n",
       "0                             0  \n",
       "1                             0  \n",
       "2                             0  \n",
       "3                             0  \n",
       "4                             0  \n",
       "..                          ...  \n",
       "136                           0  \n",
       "137                           0  \n",
       "138                           0  \n",
       "139                           0  \n",
       "140                           0  \n",
       "\n",
       "[141 rows x 180 columns]"
      ]
     },
     "execution_count": 308,
     "metadata": {},
     "output_type": "execute_result"
    }
   ],
   "source": [
    "df_dt"
   ]
  },
  {
   "cell_type": "code",
   "execution_count": 309,
   "id": "d28b2c8b",
   "metadata": {},
   "outputs": [],
   "source": [
    "XX_CPI=['1OYSum of kapalı', '1OYSum of CIRC_TIME', '1OYSum of BEKLEME',\n",
    "       '2AYSum of SURE', '2AYMax of DEVIR', '2AYMax of TEMP',\n",
    "       '3MFTSum of SURE', '4SGDSum of SURE', '4SGDMax of DEVIR',\n",
    "       '7SCD2Max of DEVIR', '7SCD2Sum of ALT_C', '8DSBMax of DEVIR',\n",
    "       '10KUSum of FAN', '10KUSum of KAPI ACMA', '10KUSum of GAUDI_offset']\n",
    "XX_DPI=['1OYMax of TEMP', '2AYSum of SURE', '2AYSum of TEPE_C', '4SGDSum of WI',\n",
    "       '10KUSum of FAN / KLAPE']\n",
    "XX_EC=['1OYSum of kapalı', '1OYSum of SURE', '1OYSum of CIRC_TIME',\n",
    "       '1OYSum of WI', '1OYSum of ALT_C', '2AYSum of kapalı', '2AYSum of SURE',\n",
    "       '2AYMax of TEMP', '2AYSum of ALT_C', '2AYSum of TEPE_C',\n",
    "       '4SGDSum of SURE', '4SGDSum of WI', '4SGDMax of DEVIR',\n",
    "       '4SGDSum of ÜST_C', '4SGDSum of TEPE_C', '7SCD2Sum of kapalı',\n",
    "       '7SCD2Sum of SURE', '7SCD2Max of TEMP', '7SCD2Sum of ALT_C',\n",
    "       '10KUSum of BEKLEME', '10KUSum of FAN', '10KUSum of KAPI ACMA']\n",
    "XX_T=['1OYSum of SURE', '1OYSum of BEKLEME', '2AYSum of kapalı',\n",
    "       '2AYSum of SURE', '2AYSum of ALT_C', '4SGDSum of WI',\n",
    "       '7SCD2Sum of SURE', '7SCD2Max of DEVIR', '8DSBSum of kapalı',\n",
    "       '10KUSum of SURE']\n",
    "XX_WC=['1OYSum of kapalı', '1OYSum of WI', '1OYMax of DEVIR', '1OYMax of TEMP',\n",
    "       '2AYSum of kapalı', '2AYSum of WI', '2AYMax of DEVIR',\n",
    "       '4SGDSum of SURE', '4SGDSum of WI', '4SGDSum of TEPE_C',\n",
    "       '7SCD2Sum of kapalı', '7SCD2Sum of SURE', '7SCD2Max of DEVIR',\n",
    "       '7SCD2Sum of ALT_C', '8DSBSum of kapalı', '10KUSum of SURE',\n",
    "       '10KUSum of GAUDI_offset']"
   ]
  },
  {
   "cell_type": "code",
   "execution_count": 310,
   "id": "655f5775",
   "metadata": {},
   "outputs": [],
   "source": [
    "XX_CPI=df_dt[XX_CPI]\n",
    "XX_DPI=df_dt[XX_DPI]\n",
    "XX_EC=df_dt[XX_EC]\n",
    "XX_T=df_dt[XX_T]\n",
    "XX_WC=df_dt[XX_WC]"
   ]
  },
  {
   "cell_type": "code",
   "execution_count": 311,
   "id": "b6a7eac0",
   "metadata": {},
   "outputs": [],
   "source": [
    "model1=GradientBoostingRegressor(learning_rate = 0.1, n_estimators = 50, max_depth = 4)\n",
    "model2=LinearRegression()"
   ]
  },
  {
   "cell_type": "code",
   "execution_count": 312,
   "id": "3c4ab447",
   "metadata": {},
   "outputs": [],
   "source": [
    "df_dt_test = pd.read_excel('D:/THESIS_DATA/ANALYSIS_DATA_THESIS/test_digital_twin.xlsx')"
   ]
  },
  {
   "cell_type": "code",
   "execution_count": 317,
   "id": "dd961785",
   "metadata": {},
   "outputs": [
    {
     "name": "stdout",
     "output_type": "stream",
     "text": [
      " 0.047 84\n"
     ]
    }
   ],
   "source": [
    "X=XX_CPI\n",
    "y=df_dt['CPI']\n",
    "variable=y\n",
    "model=model1\n",
    "model.fit(X, y)\n",
    "cv = RepeatedKFold(n_splits=5, n_repeats=3)\n",
    "scores1 = cross_val_score(model,X, y, scoring='neg_mean_absolute_error', cv=cv, n_jobs=-1, error_score='raise')\n",
    "scores3 = cross_val_score(model,X, y, scoring='r2', cv=cv, n_jobs=-1, error_score='raise')\n",
    "print(' %.3f %.0f' % (-mean(scores1),  100*mean(scores3)))\n",
    "df_test_ref=df_dt_test[XX_CPI.columns]\n",
    "y_pred = model.predict(df_test_ref)\n",
    "y_pred= pd.DataFrame(y_pred)\n",
    "variable=df_dt_test['CPI']"
   ]
  },
  {
   "cell_type": "code",
   "execution_count": 318,
   "id": "afb1e555",
   "metadata": {},
   "outputs": [
    {
     "data": {
      "text/plain": [
       "0     3.266000\n",
       "1     3.270000\n",
       "2     2.320000\n",
       "3     3.530000\n",
       "4     3.330000\n",
       "5     3.270000\n",
       "6     3.341975\n",
       "7     3.292000\n",
       "8     3.300662\n",
       "9     3.358667\n",
       "10    3.550000\n",
       "11    3.230864\n",
       "12    3.224277\n",
       "Name: CPI, dtype: float64"
      ]
     },
     "execution_count": 318,
     "metadata": {},
     "output_type": "execute_result"
    }
   ],
   "source": [
    "variable"
   ]
  },
  {
   "cell_type": "code",
   "execution_count": 319,
   "id": "51117a2c",
   "metadata": {},
   "outputs": [
    {
     "data": {
      "text/html": [
       "<div>\n",
       "<style scoped>\n",
       "    .dataframe tbody tr th:only-of-type {\n",
       "        vertical-align: middle;\n",
       "    }\n",
       "\n",
       "    .dataframe tbody tr th {\n",
       "        vertical-align: top;\n",
       "    }\n",
       "\n",
       "    .dataframe thead th {\n",
       "        text-align: right;\n",
       "    }\n",
       "</style>\n",
       "<table border=\"1\" class=\"dataframe\">\n",
       "  <thead>\n",
       "    <tr style=\"text-align: right;\">\n",
       "      <th></th>\n",
       "      <th>0</th>\n",
       "    </tr>\n",
       "  </thead>\n",
       "  <tbody>\n",
       "    <tr>\n",
       "      <th>0</th>\n",
       "      <td>3.337674</td>\n",
       "    </tr>\n",
       "    <tr>\n",
       "      <th>1</th>\n",
       "      <td>3.328661</td>\n",
       "    </tr>\n",
       "    <tr>\n",
       "      <th>2</th>\n",
       "      <td>2.325438</td>\n",
       "    </tr>\n",
       "    <tr>\n",
       "      <th>3</th>\n",
       "      <td>3.525523</td>\n",
       "    </tr>\n",
       "    <tr>\n",
       "      <th>4</th>\n",
       "      <td>3.322164</td>\n",
       "    </tr>\n",
       "    <tr>\n",
       "      <th>5</th>\n",
       "      <td>3.328661</td>\n",
       "    </tr>\n",
       "    <tr>\n",
       "      <th>6</th>\n",
       "      <td>3.329535</td>\n",
       "    </tr>\n",
       "    <tr>\n",
       "      <th>7</th>\n",
       "      <td>3.320316</td>\n",
       "    </tr>\n",
       "    <tr>\n",
       "      <th>8</th>\n",
       "      <td>3.347950</td>\n",
       "    </tr>\n",
       "    <tr>\n",
       "      <th>9</th>\n",
       "      <td>3.322164</td>\n",
       "    </tr>\n",
       "    <tr>\n",
       "      <th>10</th>\n",
       "      <td>3.371186</td>\n",
       "    </tr>\n",
       "    <tr>\n",
       "      <th>11</th>\n",
       "      <td>3.306864</td>\n",
       "    </tr>\n",
       "    <tr>\n",
       "      <th>12</th>\n",
       "      <td>3.296037</td>\n",
       "    </tr>\n",
       "  </tbody>\n",
       "</table>\n",
       "</div>"
      ],
      "text/plain": [
       "           0\n",
       "0   3.337674\n",
       "1   3.328661\n",
       "2   2.325438\n",
       "3   3.525523\n",
       "4   3.322164\n",
       "5   3.328661\n",
       "6   3.329535\n",
       "7   3.320316\n",
       "8   3.347950\n",
       "9   3.322164\n",
       "10  3.371186\n",
       "11  3.306864\n",
       "12  3.296037"
      ]
     },
     "execution_count": 319,
     "metadata": {},
     "output_type": "execute_result"
    }
   ],
   "source": [
    "y_pred"
   ]
  },
  {
   "cell_type": "code",
   "execution_count": 320,
   "id": "d90dac40",
   "metadata": {},
   "outputs": [
    {
     "name": "stdout",
     "output_type": "stream",
     "text": [
      " 2.326 85\n"
     ]
    }
   ],
   "source": [
    "X=XX_DPI\n",
    "y=df_dt['DPI']\n",
    "model=model1\n",
    "model.fit(X, y)\n",
    "cv = RepeatedKFold(n_splits=5, n_repeats=3)\n",
    "scores1 = cross_val_score(model,X, y, scoring='neg_mean_absolute_error', cv=cv, n_jobs=-1, error_score='raise')\n",
    "scores3 = cross_val_score(model,X, y, scoring='r2', cv=cv, n_jobs=-1, error_score='raise')\n",
    "print(' %.3f %.0f' % (-mean(scores1),  100*mean(scores3)))\n",
    "df_test_ref=df_dt_test[XX_DPI.columns]\n",
    "y_pred = model.predict(df_test_ref)\n",
    "y_pred= pd.DataFrame(y_pred)\n",
    "variable=df_dt_test['DPI']"
   ]
  },
  {
   "cell_type": "code",
   "execution_count": 321,
   "id": "08f7d952",
   "metadata": {},
   "outputs": [
    {
     "data": {
      "text/plain": [
       "0     83.230000\n",
       "1     65.000000\n",
       "2     15.000000\n",
       "3     84.000000\n",
       "4     91.666667\n",
       "5     65.000000\n",
       "6     85.390947\n",
       "7     85.666667\n",
       "8     84.105960\n",
       "9     87.000000\n",
       "10    80.000000\n",
       "11    86.316872\n",
       "12    85.260116\n",
       "Name: DPI, dtype: float64"
      ]
     },
     "execution_count": 321,
     "metadata": {},
     "output_type": "execute_result"
    }
   ],
   "source": [
    "variable"
   ]
  },
  {
   "cell_type": "code",
   "execution_count": 322,
   "id": "c24bac4a",
   "metadata": {},
   "outputs": [
    {
     "data": {
      "text/html": [
       "<div>\n",
       "<style scoped>\n",
       "    .dataframe tbody tr th:only-of-type {\n",
       "        vertical-align: middle;\n",
       "    }\n",
       "\n",
       "    .dataframe tbody tr th {\n",
       "        vertical-align: top;\n",
       "    }\n",
       "\n",
       "    .dataframe thead th {\n",
       "        text-align: right;\n",
       "    }\n",
       "</style>\n",
       "<table border=\"1\" class=\"dataframe\">\n",
       "  <thead>\n",
       "    <tr style=\"text-align: right;\">\n",
       "      <th></th>\n",
       "      <th>0</th>\n",
       "    </tr>\n",
       "  </thead>\n",
       "  <tbody>\n",
       "    <tr>\n",
       "      <th>0</th>\n",
       "      <td>83.201520</td>\n",
       "    </tr>\n",
       "    <tr>\n",
       "      <th>1</th>\n",
       "      <td>68.527898</td>\n",
       "    </tr>\n",
       "    <tr>\n",
       "      <th>2</th>\n",
       "      <td>15.421699</td>\n",
       "    </tr>\n",
       "    <tr>\n",
       "      <th>3</th>\n",
       "      <td>84.584770</td>\n",
       "    </tr>\n",
       "    <tr>\n",
       "      <th>4</th>\n",
       "      <td>86.790316</td>\n",
       "    </tr>\n",
       "    <tr>\n",
       "      <th>5</th>\n",
       "      <td>68.527898</td>\n",
       "    </tr>\n",
       "    <tr>\n",
       "      <th>6</th>\n",
       "      <td>84.371330</td>\n",
       "    </tr>\n",
       "    <tr>\n",
       "      <th>7</th>\n",
       "      <td>87.200686</td>\n",
       "    </tr>\n",
       "    <tr>\n",
       "      <th>8</th>\n",
       "      <td>86.158970</td>\n",
       "    </tr>\n",
       "    <tr>\n",
       "      <th>9</th>\n",
       "      <td>86.790316</td>\n",
       "    </tr>\n",
       "    <tr>\n",
       "      <th>10</th>\n",
       "      <td>80.738801</td>\n",
       "    </tr>\n",
       "    <tr>\n",
       "      <th>11</th>\n",
       "      <td>85.688698</td>\n",
       "    </tr>\n",
       "    <tr>\n",
       "      <th>12</th>\n",
       "      <td>84.718137</td>\n",
       "    </tr>\n",
       "  </tbody>\n",
       "</table>\n",
       "</div>"
      ],
      "text/plain": [
       "            0\n",
       "0   83.201520\n",
       "1   68.527898\n",
       "2   15.421699\n",
       "3   84.584770\n",
       "4   86.790316\n",
       "5   68.527898\n",
       "6   84.371330\n",
       "7   87.200686\n",
       "8   86.158970\n",
       "9   86.790316\n",
       "10  80.738801\n",
       "11  85.688698\n",
       "12  84.718137"
      ]
     },
     "execution_count": 322,
     "metadata": {},
     "output_type": "execute_result"
    }
   ],
   "source": [
    "y_pred"
   ]
  },
  {
   "cell_type": "code",
   "execution_count": 334,
   "id": "629c5080",
   "metadata": {},
   "outputs": [
    {
     "name": "stdout",
     "output_type": "stream",
     "text": [
      " 0.370 90\n"
     ]
    }
   ],
   "source": [
    "X=XX_WC\n",
    "y=df_dt['WC']\n",
    "model=model2\n",
    "model.fit(X, y)\n",
    "cv = RepeatedKFold(n_splits=5, n_repeats=3)\n",
    "scores1 = cross_val_score(model,X, y, scoring='neg_mean_absolute_error', cv=cv, n_jobs=-1, error_score='raise')\n",
    "scores3 = cross_val_score(model,X, y, scoring='r2', cv=cv, n_jobs=-1, error_score='raise')\n",
    "print(' %.3f %.0f' % (-mean(scores1),  100*mean(scores3)))\n",
    "df_test_ref=df_dt_test[XX_WC.columns]\n",
    "y_pred = model.predict(df_test_ref)\n",
    "y_pred= pd.DataFrame(y_pred)\n",
    "variable=df_dt_test['WC']"
   ]
  },
  {
   "cell_type": "code",
   "execution_count": 335,
   "id": "6ba77a1b",
   "metadata": {},
   "outputs": [
    {
     "data": {
      "text/plain": [
       "0      8.750000\n",
       "1     10.600000\n",
       "2     10.800000\n",
       "3     17.600000\n",
       "4      9.683333\n",
       "5     10.800000\n",
       "6     11.443333\n",
       "7     11.586000\n",
       "8     12.113333\n",
       "9      9.500000\n",
       "10    12.000000\n",
       "11    10.726667\n",
       "12    11.285000\n",
       "Name: WC, dtype: float64"
      ]
     },
     "execution_count": 335,
     "metadata": {},
     "output_type": "execute_result"
    }
   ],
   "source": [
    "variable"
   ]
  },
  {
   "cell_type": "code",
   "execution_count": 336,
   "id": "33e0ce5f",
   "metadata": {},
   "outputs": [
    {
     "data": {
      "text/html": [
       "<div>\n",
       "<style scoped>\n",
       "    .dataframe tbody tr th:only-of-type {\n",
       "        vertical-align: middle;\n",
       "    }\n",
       "\n",
       "    .dataframe tbody tr th {\n",
       "        vertical-align: top;\n",
       "    }\n",
       "\n",
       "    .dataframe thead th {\n",
       "        text-align: right;\n",
       "    }\n",
       "</style>\n",
       "<table border=\"1\" class=\"dataframe\">\n",
       "  <thead>\n",
       "    <tr style=\"text-align: right;\">\n",
       "      <th></th>\n",
       "      <th>0</th>\n",
       "    </tr>\n",
       "  </thead>\n",
       "  <tbody>\n",
       "    <tr>\n",
       "      <th>0</th>\n",
       "      <td>9.578718</td>\n",
       "    </tr>\n",
       "    <tr>\n",
       "      <th>1</th>\n",
       "      <td>10.530893</td>\n",
       "    </tr>\n",
       "    <tr>\n",
       "      <th>2</th>\n",
       "      <td>10.605511</td>\n",
       "    </tr>\n",
       "    <tr>\n",
       "      <th>3</th>\n",
       "      <td>17.694556</td>\n",
       "    </tr>\n",
       "    <tr>\n",
       "      <th>4</th>\n",
       "      <td>9.676126</td>\n",
       "    </tr>\n",
       "    <tr>\n",
       "      <th>5</th>\n",
       "      <td>10.530893</td>\n",
       "    </tr>\n",
       "    <tr>\n",
       "      <th>6</th>\n",
       "      <td>11.568383</td>\n",
       "    </tr>\n",
       "    <tr>\n",
       "      <th>7</th>\n",
       "      <td>11.295020</td>\n",
       "    </tr>\n",
       "    <tr>\n",
       "      <th>8</th>\n",
       "      <td>11.282734</td>\n",
       "    </tr>\n",
       "    <tr>\n",
       "      <th>9</th>\n",
       "      <td>9.676126</td>\n",
       "    </tr>\n",
       "    <tr>\n",
       "      <th>10</th>\n",
       "      <td>11.878018</td>\n",
       "    </tr>\n",
       "    <tr>\n",
       "      <th>11</th>\n",
       "      <td>9.608188</td>\n",
       "    </tr>\n",
       "    <tr>\n",
       "      <th>12</th>\n",
       "      <td>9.576236</td>\n",
       "    </tr>\n",
       "  </tbody>\n",
       "</table>\n",
       "</div>"
      ],
      "text/plain": [
       "            0\n",
       "0    9.578718\n",
       "1   10.530893\n",
       "2   10.605511\n",
       "3   17.694556\n",
       "4    9.676126\n",
       "5   10.530893\n",
       "6   11.568383\n",
       "7   11.295020\n",
       "8   11.282734\n",
       "9    9.676126\n",
       "10  11.878018\n",
       "11   9.608188\n",
       "12   9.576236"
      ]
     },
     "execution_count": 336,
     "metadata": {},
     "output_type": "execute_result"
    }
   ],
   "source": [
    "y_pred"
   ]
  },
  {
   "cell_type": "code",
   "execution_count": 329,
   "id": "734ffd71",
   "metadata": {},
   "outputs": [
    {
     "name": "stdout",
     "output_type": "stream",
     "text": [
      " 0.040 88\n"
     ]
    }
   ],
   "source": [
    "X=XX_EC\n",
    "y=df_dt['EC']\n",
    "model=model2\n",
    "model.fit(X, y)\n",
    "cv = RepeatedKFold(n_splits=5, n_repeats=3)\n",
    "scores1 = cross_val_score(model,X, y, scoring='neg_mean_absolute_error', cv=cv, n_jobs=-1, error_score='raise')\n",
    "scores3 = cross_val_score(model,X, y, scoring='r2', cv=cv, n_jobs=-1, error_score='raise')\n",
    "print(' %.3f %.0f' % (-mean(scores1),  100*mean(scores3)))\n",
    "df_test_ref=df_dt_test[XX_EC.columns]\n",
    "y_pred = model.predict(df_test_ref)\n",
    "y_pred= pd.DataFrame(y_pred)\n",
    "variable=df_dt_test['EC']"
   ]
  },
  {
   "cell_type": "code",
   "execution_count": 330,
   "id": "f7bab71a",
   "metadata": {},
   "outputs": [
    {
     "data": {
      "text/plain": [
       "0     0.884200\n",
       "1     1.060000\n",
       "2     0.640000\n",
       "3     1.180000\n",
       "4     0.947000\n",
       "5     1.060000\n",
       "6     0.830000\n",
       "7     0.944000\n",
       "8     1.046000\n",
       "9     0.951622\n",
       "10    0.864750\n",
       "11    0.861667\n",
       "12    0.906000\n",
       "Name: EC, dtype: float64"
      ]
     },
     "execution_count": 330,
     "metadata": {},
     "output_type": "execute_result"
    }
   ],
   "source": [
    "variable"
   ]
  },
  {
   "cell_type": "code",
   "execution_count": 331,
   "id": "1c791b49",
   "metadata": {},
   "outputs": [
    {
     "data": {
      "text/html": [
       "<div>\n",
       "<style scoped>\n",
       "    .dataframe tbody tr th:only-of-type {\n",
       "        vertical-align: middle;\n",
       "    }\n",
       "\n",
       "    .dataframe tbody tr th {\n",
       "        vertical-align: top;\n",
       "    }\n",
       "\n",
       "    .dataframe thead th {\n",
       "        text-align: right;\n",
       "    }\n",
       "</style>\n",
       "<table border=\"1\" class=\"dataframe\">\n",
       "  <thead>\n",
       "    <tr style=\"text-align: right;\">\n",
       "      <th></th>\n",
       "      <th>0</th>\n",
       "    </tr>\n",
       "  </thead>\n",
       "  <tbody>\n",
       "    <tr>\n",
       "      <th>0</th>\n",
       "      <td>0.898666</td>\n",
       "    </tr>\n",
       "    <tr>\n",
       "      <th>1</th>\n",
       "      <td>1.110877</td>\n",
       "    </tr>\n",
       "    <tr>\n",
       "      <th>2</th>\n",
       "      <td>0.642050</td>\n",
       "    </tr>\n",
       "    <tr>\n",
       "      <th>3</th>\n",
       "      <td>1.226714</td>\n",
       "    </tr>\n",
       "    <tr>\n",
       "      <th>4</th>\n",
       "      <td>0.947254</td>\n",
       "    </tr>\n",
       "    <tr>\n",
       "      <th>5</th>\n",
       "      <td>1.110877</td>\n",
       "    </tr>\n",
       "    <tr>\n",
       "      <th>6</th>\n",
       "      <td>0.831088</td>\n",
       "    </tr>\n",
       "    <tr>\n",
       "      <th>7</th>\n",
       "      <td>0.991506</td>\n",
       "    </tr>\n",
       "    <tr>\n",
       "      <th>8</th>\n",
       "      <td>1.009416</td>\n",
       "    </tr>\n",
       "    <tr>\n",
       "      <th>9</th>\n",
       "      <td>0.966573</td>\n",
       "    </tr>\n",
       "    <tr>\n",
       "      <th>10</th>\n",
       "      <td>0.902508</td>\n",
       "    </tr>\n",
       "    <tr>\n",
       "      <th>11</th>\n",
       "      <td>0.868809</td>\n",
       "    </tr>\n",
       "    <tr>\n",
       "      <th>12</th>\n",
       "      <td>0.784835</td>\n",
       "    </tr>\n",
       "  </tbody>\n",
       "</table>\n",
       "</div>"
      ],
      "text/plain": [
       "           0\n",
       "0   0.898666\n",
       "1   1.110877\n",
       "2   0.642050\n",
       "3   1.226714\n",
       "4   0.947254\n",
       "5   1.110877\n",
       "6   0.831088\n",
       "7   0.991506\n",
       "8   1.009416\n",
       "9   0.966573\n",
       "10  0.902508\n",
       "11  0.868809\n",
       "12  0.784835"
      ]
     },
     "execution_count": 331,
     "metadata": {},
     "output_type": "execute_result"
    }
   ],
   "source": [
    "y_pred"
   ]
  },
  {
   "cell_type": "code",
   "execution_count": 337,
   "id": "6934616e",
   "metadata": {},
   "outputs": [
    {
     "name": "stdout",
     "output_type": "stream",
     "text": [
      " 3.008 100\n"
     ]
    }
   ],
   "source": [
    "X=XX_T\n",
    "y=df_dt['T']\n",
    "model=model2\n",
    "model.fit(X, y)\n",
    "cv = RepeatedKFold(n_splits=5, n_repeats=3)\n",
    "scores1 = cross_val_score(model,X, y, scoring='neg_mean_absolute_error', cv=cv, n_jobs=-1, error_score='raise')\n",
    "scores3 = cross_val_score(model,X, y, scoring='r2', cv=cv, n_jobs=-1, error_score='raise')\n",
    "print(' %.3f %.0f' % (-mean(scores1),  100*mean(scores3)))\n",
    "df_test_ref=df_dt_test[XX_T.columns]\n",
    "y_pred = model.predict(df_test_ref)\n",
    "y_pred= pd.DataFrame(y_pred)\n",
    "variable=df_dt_test['T']"
   ]
  },
  {
   "cell_type": "code",
   "execution_count": 338,
   "id": "bd32a7fd",
   "metadata": {},
   "outputs": [
    {
     "data": {
      "text/plain": [
       "0     240.000000\n",
       "1      58.000000\n",
       "2      30.000000\n",
       "3     148.000000\n",
       "4     209.666667\n",
       "5      58.000000\n",
       "6     181.000000\n",
       "7     215.400000\n",
       "8     226.000000\n",
       "9     220.000000\n",
       "10    210.000000\n",
       "11    227.666667\n",
       "12    252.500000\n",
       "Name: T, dtype: float64"
      ]
     },
     "execution_count": 338,
     "metadata": {},
     "output_type": "execute_result"
    }
   ],
   "source": [
    "variable"
   ]
  },
  {
   "cell_type": "code",
   "execution_count": 339,
   "id": "af1f190a",
   "metadata": {},
   "outputs": [
    {
     "data": {
      "text/html": [
       "<div>\n",
       "<style scoped>\n",
       "    .dataframe tbody tr th:only-of-type {\n",
       "        vertical-align: middle;\n",
       "    }\n",
       "\n",
       "    .dataframe tbody tr th {\n",
       "        vertical-align: top;\n",
       "    }\n",
       "\n",
       "    .dataframe thead th {\n",
       "        text-align: right;\n",
       "    }\n",
       "</style>\n",
       "<table border=\"1\" class=\"dataframe\">\n",
       "  <thead>\n",
       "    <tr style=\"text-align: right;\">\n",
       "      <th></th>\n",
       "      <th>0</th>\n",
       "    </tr>\n",
       "  </thead>\n",
       "  <tbody>\n",
       "    <tr>\n",
       "      <th>0</th>\n",
       "      <td>242.735732</td>\n",
       "    </tr>\n",
       "    <tr>\n",
       "      <th>1</th>\n",
       "      <td>56.349518</td>\n",
       "    </tr>\n",
       "    <tr>\n",
       "      <th>2</th>\n",
       "      <td>32.576921</td>\n",
       "    </tr>\n",
       "    <tr>\n",
       "      <th>3</th>\n",
       "      <td>147.580163</td>\n",
       "    </tr>\n",
       "    <tr>\n",
       "      <th>4</th>\n",
       "      <td>218.035086</td>\n",
       "    </tr>\n",
       "    <tr>\n",
       "      <th>5</th>\n",
       "      <td>56.349518</td>\n",
       "    </tr>\n",
       "    <tr>\n",
       "      <th>6</th>\n",
       "      <td>188.066537</td>\n",
       "    </tr>\n",
       "    <tr>\n",
       "      <th>7</th>\n",
       "      <td>218.290229</td>\n",
       "    </tr>\n",
       "    <tr>\n",
       "      <th>8</th>\n",
       "      <td>223.326996</td>\n",
       "    </tr>\n",
       "    <tr>\n",
       "      <th>9</th>\n",
       "      <td>218.035086</td>\n",
       "    </tr>\n",
       "    <tr>\n",
       "      <th>10</th>\n",
       "      <td>206.321580</td>\n",
       "    </tr>\n",
       "    <tr>\n",
       "      <th>11</th>\n",
       "      <td>227.110382</td>\n",
       "    </tr>\n",
       "    <tr>\n",
       "      <th>12</th>\n",
       "      <td>245.257058</td>\n",
       "    </tr>\n",
       "  </tbody>\n",
       "</table>\n",
       "</div>"
      ],
      "text/plain": [
       "             0\n",
       "0   242.735732\n",
       "1    56.349518\n",
       "2    32.576921\n",
       "3   147.580163\n",
       "4   218.035086\n",
       "5    56.349518\n",
       "6   188.066537\n",
       "7   218.290229\n",
       "8   223.326996\n",
       "9   218.035086\n",
       "10  206.321580\n",
       "11  227.110382\n",
       "12  245.257058"
      ]
     },
     "execution_count": 339,
     "metadata": {},
     "output_type": "execute_result"
    }
   ],
   "source": [
    "y_pred"
   ]
  },
  {
   "cell_type": "markdown",
   "id": "c5802730",
   "metadata": {},
   "source": [
    "### HYPERPARAMETER TUNING"
   ]
  },
  {
   "cell_type": "markdown",
   "id": "39de1990",
   "metadata": {},
   "source": [
    "### hyperparameter tuning of CPI"
   ]
  },
  {
   "cell_type": "code",
   "execution_count": 341,
   "id": "5f4154b2",
   "metadata": {},
   "outputs": [],
   "source": [
    "XX=XX_CPI\n",
    "y=df_dt['CPI']"
   ]
  },
  {
   "cell_type": "code",
   "execution_count": 342,
   "id": "dcb03266",
   "metadata": {},
   "outputs": [
    {
     "name": "stdout",
     "output_type": "stream",
     "text": [
      "{'learning_rate': 0.05,\n",
      " 'max_depth': 2,\n",
      " 'min_samples_leaf': 5,\n",
      " 'min_samples_split': 20,\n",
      " 'n_estimators': 150}\n"
     ]
    }
   ],
   "source": [
    "from sklearn.experimental import enable_halving_search_cv  # noqa\n",
    "from sklearn.model_selection import HalvingRandomSearchCV\n",
    "from sklearn.metrics import make_scorer\n",
    "from pprint import pprint\n",
    "from sklearn.metrics import mean_pinball_loss\n",
    "\n",
    "param_grid = dict(\n",
    "    learning_rate=[0.05, 0.1, 0.2],\n",
    "    max_depth=[2, 5, 10],\n",
    "    min_samples_leaf=[1, 5, 10, 20],\n",
    "    min_samples_split=[5, 10, 20, 30, 50],\n",
    ")\n",
    "alpha = 0.05\n",
    "neg_mean_pinball_loss_05p_scorer = make_scorer(\n",
    "    mean_pinball_loss,\n",
    "    alpha=alpha,\n",
    "    greater_is_better=False,  # maximize the negative loss\n",
    ")\n",
    "gbr = GradientBoostingRegressor(loss=\"quantile\", alpha=alpha, random_state=0)\n",
    "search_05p = HalvingRandomSearchCV(\n",
    "    gbr,\n",
    "    param_grid,\n",
    "    resource=\"n_estimators\",\n",
    "    max_resources=250,\n",
    "    min_resources=50,\n",
    "    scoring=neg_mean_pinball_loss_05p_scorer,\n",
    "    n_jobs=2,\n",
    "    random_state=0,\n",
    ").fit(XX, y)\n",
    "pprint(search_05p.best_params_)"
   ]
  },
  {
   "cell_type": "code",
   "execution_count": 343,
   "id": "d1ad0619",
   "metadata": {},
   "outputs": [
    {
     "name": "stdout",
     "output_type": "stream",
     "text": [
      " 0.050 82.803\n"
     ]
    }
   ],
   "source": [
    "model=GradientBoostingRegressor(learning_rate= 0.05, max_depth= 2, min_samples_leaf= 5,\n",
    "                                        min_samples_split= 20, n_estimators= 150)\n",
    "model.fit(XX, y)\n",
    "cv = RepeatedKFold(n_splits=5, n_repeats=3, random_state=79)\n",
    "scores1 = cross_val_score(model,XX, y, scoring='neg_mean_absolute_error', cv=cv, n_jobs=-1, error_score='raise')\n",
    "scores3 = cross_val_score(model,XX, y, scoring='r2', cv=cv, n_jobs=-1, error_score='raise')\n",
    "print(' %.3f %.3f' % (-mean(scores1),  100*mean(scores3)))"
   ]
  },
  {
   "cell_type": "code",
   "execution_count": 344,
   "id": "97b6c3b9",
   "metadata": {},
   "outputs": [
    {
     "name": "stdout",
     "output_type": "stream",
     "text": [
      " 0.043 84.345\n"
     ]
    }
   ],
   "source": [
    "model=GradientBoostingRegressor()\n",
    "model.fit(XX, y)\n",
    "cv = RepeatedKFold(n_splits=5, n_repeats=3, random_state=79)\n",
    "scores1 = cross_val_score(model,XX, y, scoring='neg_mean_absolute_error', cv=cv, n_jobs=-1, error_score='raise')\n",
    "scores3 = cross_val_score(model,XX, y, scoring='r2', cv=cv, n_jobs=-1, error_score='raise')\n",
    "print(' %.3f %.3f' % (-mean(scores1),  100*mean(scores3)))"
   ]
  },
  {
   "cell_type": "code",
   "execution_count": 345,
   "id": "effb1a3e",
   "metadata": {},
   "outputs": [
    {
     "data": {
      "image/png": "[encoded data removed]",
      "text/plain": [
       "<Figure size 864x432 with 2 Axes>"
      ]
     },
     "metadata": {
      "needs_background": "light"
     },
     "output_type": "display_data"
    }
   ],
   "source": [
    "from sklearn.inspection import permutation_importance\n",
    "feature_importance = model.feature_importances_\n",
    "sorted_idx = np.argsort(feature_importance)\n",
    "pos = np.arange(sorted_idx.shape[0]) + 0.5\n",
    "fig = plt.figure(figsize=(12, 6))\n",
    "plt.subplot(1, 2, 1)\n",
    "plt.barh(pos, feature_importance[sorted_idx], align=\"center\")\n",
    "plt.yticks(pos, np.array(XX.columns)[sorted_idx])\n",
    "plt.title(\"Feature Importance (MDI)\")\n",
    "\n",
    "result = permutation_importance(\n",
    "    model, XX, y, n_repeats=10, random_state=42, n_jobs=2\n",
    ")\n",
    "sorted_idx = result.importances_mean.argsort()\n",
    "plt.subplot(1, 2, 2)\n",
    "plt.boxplot(\n",
    "    result.importances[sorted_idx].T,\n",
    "    vert=False,\n",
    "    labels=np.array(XX.columns)[sorted_idx],\n",
    ")\n",
    "plt.title(\"Permutation Importance (test set)\")\n",
    "fig.tight_layout()\n",
    "plt.show()"
   ]
  },
  {
   "cell_type": "markdown",
   "id": "d2d868c8",
   "metadata": {},
   "source": [
    "### hyperparameter tuning of DPI"
   ]
  },
  {
   "cell_type": "code",
   "execution_count": 346,
   "id": "36c700a8",
   "metadata": {},
   "outputs": [],
   "source": [
    "XX=XX_DPI\n",
    "y=df_dt['DPI']"
   ]
  },
  {
   "cell_type": "code",
   "execution_count": 347,
   "id": "55aaa046",
   "metadata": {},
   "outputs": [
    {
     "name": "stdout",
     "output_type": "stream",
     "text": [
      "{'learning_rate': 0.2,\n",
      " 'max_depth': 2,\n",
      " 'min_samples_leaf': 5,\n",
      " 'min_samples_split': 5,\n",
      " 'n_estimators': 150}\n"
     ]
    }
   ],
   "source": [
    "param_grid = dict(\n",
    "    learning_rate=[0.05, 0.1, 0.2],\n",
    "    max_depth=[2, 5, 10],\n",
    "    min_samples_leaf=[1, 5, 10, 20],\n",
    "    min_samples_split=[5, 10, 20, 30, 50],\n",
    ")\n",
    "alpha = 0.05\n",
    "neg_mean_pinball_loss_05p_scorer = make_scorer(\n",
    "    mean_pinball_loss,\n",
    "    alpha=alpha,\n",
    "    greater_is_better=False,  # maximize the negative loss\n",
    ")\n",
    "gbr = GradientBoostingRegressor(loss=\"quantile\", alpha=alpha, random_state=0)\n",
    "search_05p = HalvingRandomSearchCV(\n",
    "    gbr,\n",
    "    param_grid,\n",
    "    resource=\"n_estimators\",\n",
    "    max_resources=250,\n",
    "    min_resources=50,\n",
    "    scoring=neg_mean_pinball_loss_05p_scorer,\n",
    "    n_jobs=2,\n",
    "    random_state=0,\n",
    ").fit(XX, y)\n",
    "pprint(search_05p.best_params_)"
   ]
  },
  {
   "cell_type": "code",
   "execution_count": 348,
   "id": "b1e1553a",
   "metadata": {},
   "outputs": [
    {
     "name": "stdout",
     "output_type": "stream",
     "text": [
      " 2.710 77.343\n"
     ]
    }
   ],
   "source": [
    "model=GradientBoostingRegressor(learning_rate= 0.2, max_depth= 2, min_samples_leaf= 5,\n",
    "                                        min_samples_split= 5, n_estimators= 150)\n",
    "model.fit(XX, y)\n",
    "cv = RepeatedKFold(n_splits=5, n_repeats=3, random_state=79)\n",
    "scores1 = cross_val_score(model,XX, y, scoring='neg_mean_absolute_error', cv=cv, n_jobs=-1, error_score='raise')\n",
    "scores3 = cross_val_score(model,XX, y, scoring='r2', cv=cv, n_jobs=-1, error_score='raise')\n",
    "print(' %.3f %.3f' % (-mean(scores1),  100*mean(scores3)))"
   ]
  },
  {
   "cell_type": "code",
   "execution_count": 349,
   "id": "5e7e0436",
   "metadata": {},
   "outputs": [
    {
     "name": "stdout",
     "output_type": "stream",
     "text": [
      " 2.187 79.193\n"
     ]
    }
   ],
   "source": [
    "model=GradientBoostingRegressor()\n",
    "model.fit(XX, y)\n",
    "cv = RepeatedKFold(n_splits=5, n_repeats=3, random_state=79)\n",
    "scores1 = cross_val_score(model,XX, y, scoring='neg_mean_absolute_error', cv=cv, n_jobs=-1, error_score='raise')\n",
    "scores3 = cross_val_score(model,XX, y, scoring='r2', cv=cv, n_jobs=-1, error_score='raise')\n",
    "print(' %.3f %.3f' % (-mean(scores1),  100*mean(scores3)))"
   ]
  },
  {
   "cell_type": "markdown",
   "id": "dd75f26a",
   "metadata": {},
   "source": [
    "since we can not see any improvement we do not report the hyperparameter tuning "
   ]
  },
  {
   "cell_type": "markdown",
   "id": "83e593ff",
   "metadata": {},
   "source": [
    "# MODELS "
   ]
  },
  {
   "cell_type": "code",
   "execution_count": 390,
   "id": "8b983dd7",
   "metadata": {},
   "outputs": [],
   "source": [
    "y_CPI = df_ver_0['CPI']\n",
    "y_DPI = df_ver_0['DPI']\n",
    "y_EC=df_ver_0['EC']\n",
    "y_T=df_ver_0['T']\n",
    "y_WC=df_ver_0['WC']"
   ]
  },
  {
   "cell_type": "code",
   "execution_count": 391,
   "id": "72f1a9cc",
   "metadata": {},
   "outputs": [],
   "source": [
    "var_data=['T','WC','1OYSum of kapalı' , '1OYSum of SURE' , '1OYSum of CIRC_TIME' , '1OYSum of WI' , '1OYMax of DEVIR',\n",
    "      '1OYMax of TEMP' , '1OYSum of ALT_C' , '1OYSum of ÜST_C' , '1OYSum of TEPE_C' , '1OYSum of ZONE_C' , '1OYSum of BEKLEME' ,\n",
    "      '1OYSum of FAN' , '1OYSum of KAPI ACMA' , '1OYSum of FAN / KLAPE' , '1OYSum of GAUDI_offset' ,\n",
    "      '1OYSum of GAUDI_nonoffset' , '2AYSum of kapalı' , '2AYSum of SURE' , '2AYSum of CIRC_TIME' , '2AYSum of WI' ,\n",
    "      '2AYMax of DEVIR' , '2AYMax of TEMP' , '2AYSum of ALT_C' , '2AYSum of ÜST_C' , '2AYSum of TEPE_C' , '2AYSum of ZONE_C' , \n",
    "      '2AYSum of BEKLEME' , '2AYSum of FAN' , '2AYSum of KAPI ACMA' , '2AYSum of FAN / KLAPE' , '2AYSum of GAUDI_offset' , \n",
    "      '2AYSum of GAUDI_nonoffset' , '3MFTSum of kapalı' , '3MFTSum of SURE' , '3MFTSum of CIRC_TIME' , '3MFTSum of WI' ,\n",
    "      '3MFTMax of DEVIR' , '3MFTMax of TEMP' , '3MFTSum of ALT_C' , '3MFTSum of ÜST_C' , '3MFTSum of TEPE_C' , \n",
    "      '3MFTSum of ZONE_C' , '3MFTSum of BEKLEME' , '3MFTSum of FAN', '3MFTSum of KAPI ACMA' , '3MFTSum of FAN / KLAPE' , \n",
    "      '3MFTSum of GAUDI_offset' , '3MFTSum of GAUDI_nonoffset' , '4SGDSum of kapalı' , '4SGDSum of SURE' , \n",
    "      '4SGDSum of CIRC_TIME', '4SGDSum of WI' , '4SGDMax of DEVIR' , '4SGDMax of TEMP' , '4SGDSum of ALT_C' , \n",
    "      '4SGDSum of ÜST_C' , '4SGDSum of TEPE_C' , '4SGDSum of ZONE_C' , '4SGDSum of BEKLEME' , '4SGDSum of FAN' , \n",
    "      '4SGDSum of KAPI ACMA' , '4SGDSum of FAN / KLAPE' , '4SGDSum of GAUDI_offset' , '4SGDSum of GAUDI_nonoffset' , \n",
    "      '5ERSum of kapalı' , '5ERSum of SURE' , '5ERSum of CIRC_TIME' , '5ERSum of WI' , '5ERMax of DEVIR' , '5ERMax of TEMP' ,\n",
    "      '5ERSum of ALT_C' , '5ERSum of ÜST_C' , '5ERSum of TEPE_C' , '5ERSum of ZONE_C' , '5ERSum of BEKLEME' ,\n",
    "      '5ERSum of FAN' , '5ERSum of KAPI ACMA' , '5ERSum of FAN / KLAPE' , '5ERSum of GAUDI_offset' , \n",
    "      '5ERSum of GAUDI_nonoffset' , '6SCD1Sum of kapalı' , '6SCD1Sum of SURE' , '6SCD1Sum of CIRC_TIME' , '6SCD1Sum of WI' , \n",
    "      '6SCD1Max of DEVIR' , '6SCD1Max of TEMP' , '6SCD1Sum of ALT_C' , '6SCD1Sum of ÜST_C' , '6SCD1Sum of TEPE_C' , \n",
    "      '6SCD1Sum of ZONE_C' , '6SCD1Sum of BEKLEME' , '6SCD1Sum of FAN' , '6SCD1Sum of KAPI ACMA' , '6SCD1Sum of FAN / KLAPE' ,\n",
    "      '6SCD1Sum of GAUDI_offset' , '6SCD1Sum of GAUDI_nonoffset' , '7SCD2Sum of kapalı' , '7SCD2Sum of SURE' , \n",
    "      '7SCD2Sum of CIRC_TIME' , '7SCD2Sum of WI' , '7SCD2Max of DEVIR' , '7SCD2Max of TEMP' , '7SCD2Sum of ALT_C' , \n",
    "      '7SCD2Sum of ÜST_C' , '7SCD2Sum of TEPE_C' , '7SCD2Sum of ZONE_C' , '7SCD2Sum of BEKLEME' , '7SCD2Sum of FAN' , \n",
    "      '7SCD2Sum of KAPI ACMA' , '7SCD2Sum of FAN / KLAPE' , '7SCD2Sum of GAUDI_offset' , '7SCD2Sum of GAUDI_nonoffset' , \n",
    "      '8DSBSum of kapalı' , '8DSBSum of SURE' , '8DSBSum of CIRC_TIME' , '8DSBSum of WI' , '8DSBMax of DEVIR' , \n",
    "      '8DSBMax of TEMP' , '8DSBSum of ALT_C' , '8DSBSum of ÜST_C', '8DSBSum of TEPE_C' , '8DSBSum of ZONE_C' ,\n",
    "      '8DSBSum of BEKLEME' , '8DSBSum of FAN' , '8DSBSum of KAPI ACMA' , '8DSBSum of FAN / KLAPE' , '8DSBSum of GAUDI_offset' ,\n",
    "      '8DSBSum of GAUDI_nonoffset', '9RYSum of kapalı' , '9RYSum of SURE' , '9RYSum of CIRC_TIME' , '9RYSum of WI' , \n",
    "      '9RYMax of DEVIR' , '9RYMax of TEMP' , '9RYSum of ALT_C' , '9RYSum of ÜST_C', '9RYSum of TEPE_C' , '9RYSum of ZONE_C' ,\n",
    "      '9RYSum of BEKLEME' , '9RYSum of FAN' , '9RYSum of KAPI ACMA' , '9RYSum of FAN / KLAPE' , '9RYSum of GAUDI_offset' ,\n",
    "      '9RYSum of GAUDI_nonoffset' , '10KUSum of kapalı' , '10KUSum of SURE' , '10KUSum of CIRC_TIME' , '10KUSum of WI' , \n",
    "      '10KUMax of DEVIR' , '10KUMax of TEMP' , '10KUSum of ALT_C' , '10KUSum of ÜST_C', '10KUSum of TEPE_C' ,\n",
    "      '10KUSum of ZONE_C' , '10KUSum of BEKLEME' , '10KUSum of FAN' , '10KUSum of KAPI ACMA' , '10KUSum of FAN / KLAPE' ,\n",
    "      '10KUSum of GAUDI_offset', '10KUSum of GAUDI_nonoffset']"
   ]
  },
  {
   "cell_type": "code",
   "execution_count": 384,
   "id": "e5b50153",
   "metadata": {},
   "outputs": [],
   "source": [
    "var_DE=[ '1OYSum of SURE', '1OYSum of CIRC_TIME',\n",
    "       '1OYSum of WI', '1OYMax of DEVIR', '1OYMax of TEMP', '1OYSum of ALT_C',\n",
    "       '1OYSum of ÜST_C', '1OYSum of TEPE_C', '1OYSum of BEKLEME',\n",
    "       '2AYSum of SURE', '2AYSum of CIRC_TIME', '2AYSum of WI',\n",
    "       '2AYMax of DEVIR', '2AYMax of TEMP', '2AYSum of ALT_C',\n",
    "       '2AYSum of ÜST_C', '2AYSum of TEPE_C', '4SGDSum of SURE',\n",
    "       '4SGDSum of CIRC_TIME', '4SGDSum of WI', '4SGDMax of DEVIR',\n",
    "       '4SGDSum of ALT_C', '4SGDSum of ÜST_C', '4SGDSum of TEPE_C',\n",
    "       '7SCD2Sum of kapalı', '7SCD2Sum of SURE', '7SCD2Sum of CIRC_TIME',\n",
    "       '7SCD2Sum of WI', '7SCD2Max of DEVIR', '7SCD2Max of TEMP',\n",
    "       '7SCD2Sum of ALT_C', '7SCD2Sum of ÜST_C', '7SCD2Sum of TEPE_C',\n",
    "       '10KUSum of SURE', '10KUSum of BEKLEME', '10KUSum of FAN',\n",
    "       '10KUSum of KAPI ACMA', '10KUSum of FAN / KLAPE']"
   ]
  },
  {
   "cell_type": "code",
   "execution_count": 392,
   "id": "56d1a6e7",
   "metadata": {},
   "outputs": [
    {
     "name": "stdout",
     "output_type": "stream",
     "text": [
      " 0.045 84.102\n",
      " 0.052 84.173\n",
      " 0.051 82.201\n",
      " 0.058 80.694\n"
     ]
    }
   ],
   "source": [
    "y=y_CPI\n",
    "XX=df_ver_0[var_data]\n",
    "\n",
    "model=XGBRegressor()\n",
    "model.fit(XX, y)\n",
    "cv = RepeatedKFold(n_splits=5, n_repeats=3, random_state=79)\n",
    "scores1 = cross_val_score(model,XX, y, scoring='neg_mean_absolute_error', cv=cv, n_jobs=-1, error_score='raise')\n",
    "scores3 = cross_val_score(model,XX, y, scoring='r2', cv=cv, n_jobs=-1, error_score='raise')\n",
    "print(' %.3f %.3f' % (-mean(scores1),  100*mean(scores3)))\n",
    "\n",
    "model=GradientBoostingRegressor()\n",
    "model.fit(XX, y)\n",
    "cv = RepeatedKFold(n_splits=5, n_repeats=3, random_state=79)\n",
    "scores1 = cross_val_score(model,XX, y, scoring='neg_mean_absolute_error', cv=cv, n_jobs=-1, error_score='raise')\n",
    "scores3 = cross_val_score(model,XX, y, scoring='r2', cv=cv, n_jobs=-1, error_score='raise')\n",
    "print(' %.3f %.3f' % (-mean(scores1),  100*mean(scores3)))\n",
    "\n",
    "XX=df_ver_0[var_DE]\n",
    "model=XGBRegressor()\n",
    "model.fit(XX, y)\n",
    "cv = RepeatedKFold(n_splits=5, n_repeats=3, random_state=79)\n",
    "scores1 = cross_val_score(model,XX, y, scoring='neg_mean_absolute_error', cv=cv, n_jobs=-1, error_score='raise')\n",
    "scores3 = cross_val_score(model,XX, y, scoring='r2', cv=cv, n_jobs=-1, error_score='raise')\n",
    "print(' %.3f %.3f' % (-mean(scores1),  100*mean(scores3)))\n",
    "\n",
    "model=GradientBoostingRegressor()\n",
    "model.fit(XX, y)\n",
    "cv = RepeatedKFold(n_splits=5, n_repeats=3, random_state=79)\n",
    "scores1 = cross_val_score(model,XX, y, scoring='neg_mean_absolute_error', cv=cv, n_jobs=-1, error_score='raise')\n",
    "scores3 = cross_val_score(model,XX, y, scoring='r2', cv=cv, n_jobs=-1, error_score='raise')\n",
    "print(' %.3f %.3f' % (-mean(scores1),  100*mean(scores3)))"
   ]
  },
  {
   "cell_type": "code",
   "execution_count": 393,
   "id": "c3bfeeaf",
   "metadata": {},
   "outputs": [
    {
     "name": "stdout",
     "output_type": "stream",
     "text": [
      " 2.453 77.888\n",
      " 2.803 77.499\n",
      " 2.559 74.069\n",
      " 2.830 75.650\n"
     ]
    }
   ],
   "source": [
    "y=y_DPI\n",
    "XX=df_ver_0[var_data]\n",
    "\n",
    "model=XGBRegressor()\n",
    "model.fit(XX, y)\n",
    "cv = RepeatedKFold(n_splits=5, n_repeats=3, random_state=79)\n",
    "scores1 = cross_val_score(model,XX, y, scoring='neg_mean_absolute_error', cv=cv, n_jobs=-1, error_score='raise')\n",
    "scores3 = cross_val_score(model,XX, y, scoring='r2', cv=cv, n_jobs=-1, error_score='raise')\n",
    "print(' %.3f %.3f' % (-mean(scores1),  100*mean(scores3)))\n",
    "\n",
    "model=GradientBoostingRegressor()\n",
    "model.fit(XX, y)\n",
    "cv = RepeatedKFold(n_splits=5, n_repeats=3, random_state=79)\n",
    "scores1 = cross_val_score(model,XX, y, scoring='neg_mean_absolute_error', cv=cv, n_jobs=-1, error_score='raise')\n",
    "scores3 = cross_val_score(model,XX, y, scoring='r2', cv=cv, n_jobs=-1, error_score='raise')\n",
    "print(' %.3f %.3f' % (-mean(scores1),  100*mean(scores3)))\n",
    "\n",
    "XX=df_ver_0[var_DE]\n",
    "model=XGBRegressor()\n",
    "model.fit(XX, y)\n",
    "cv = RepeatedKFold(n_splits=5, n_repeats=3, random_state=79)\n",
    "scores1 = cross_val_score(model,XX, y, scoring='neg_mean_absolute_error', cv=cv, n_jobs=-1, error_score='raise')\n",
    "scores3 = cross_val_score(model,XX, y, scoring='r2', cv=cv, n_jobs=-1, error_score='raise')\n",
    "print(' %.3f %.3f' % (-mean(scores1),  100*mean(scores3)))\n",
    "\n",
    "model=GradientBoostingRegressor()\n",
    "model.fit(XX, y)\n",
    "cv = RepeatedKFold(n_splits=5, n_repeats=3, random_state=79)\n",
    "scores1 = cross_val_score(model,XX, y, scoring='neg_mean_absolute_error', cv=cv, n_jobs=-1, error_score='raise')\n",
    "scores3 = cross_val_score(model,XX, y, scoring='r2', cv=cv, n_jobs=-1, error_score='raise')\n",
    "print(' %.3f %.3f' % (-mean(scores1),  100*mean(scores3)))"
   ]
  },
  {
   "cell_type": "code",
   "execution_count": 394,
   "id": "76ed6376",
   "metadata": {},
   "outputs": [
    {
     "name": "stdout",
     "output_type": "stream",
     "text": [
      " 2.499 99.601\n",
      " 1.637 99.771\n",
      " 6.270 97.674\n",
      " 5.514 98.575\n"
     ]
    }
   ],
   "source": [
    "y=y_T\n",
    "XX=df_ver_0[var_data]\n",
    "\n",
    "model=XGBRegressor()\n",
    "model.fit(XX, y)\n",
    "cv = RepeatedKFold(n_splits=5, n_repeats=3, random_state=79)\n",
    "scores1 = cross_val_score(model,XX, y, scoring='neg_mean_absolute_error', cv=cv, n_jobs=-1, error_score='raise')\n",
    "scores3 = cross_val_score(model,XX, y, scoring='r2', cv=cv, n_jobs=-1, error_score='raise')\n",
    "print(' %.3f %.3f' % (-mean(scores1),  100*mean(scores3)))\n",
    "\n",
    "model=GradientBoostingRegressor()\n",
    "model.fit(XX, y)\n",
    "cv = RepeatedKFold(n_splits=5, n_repeats=3, random_state=79)\n",
    "scores1 = cross_val_score(model,XX, y, scoring='neg_mean_absolute_error', cv=cv, n_jobs=-1, error_score='raise')\n",
    "scores3 = cross_val_score(model,XX, y, scoring='r2', cv=cv, n_jobs=-1, error_score='raise')\n",
    "print(' %.3f %.3f' % (-mean(scores1),  100*mean(scores3)))\n",
    "\n",
    "XX=df_ver_0[var_DE]\n",
    "model=XGBRegressor()\n",
    "model.fit(XX, y)\n",
    "cv = RepeatedKFold(n_splits=5, n_repeats=3, random_state=79)\n",
    "scores1 = cross_val_score(model,XX, y, scoring='neg_mean_absolute_error', cv=cv, n_jobs=-1, error_score='raise')\n",
    "scores3 = cross_val_score(model,XX, y, scoring='r2', cv=cv, n_jobs=-1, error_score='raise')\n",
    "print(' %.3f %.3f' % (-mean(scores1),  100*mean(scores3)))\n",
    "\n",
    "model=GradientBoostingRegressor()\n",
    "model.fit(XX, y)\n",
    "cv = RepeatedKFold(n_splits=5, n_repeats=3, random_state=79)\n",
    "scores1 = cross_val_score(model,XX, y, scoring='neg_mean_absolute_error', cv=cv, n_jobs=-1, error_score='raise')\n",
    "scores3 = cross_val_score(model,XX, y, scoring='r2', cv=cv, n_jobs=-1, error_score='raise')\n",
    "print(' %.3f %.3f' % (-mean(scores1),  100*mean(scores3)))"
   ]
  },
  {
   "cell_type": "code",
   "execution_count": 395,
   "id": "e6efc6f1",
   "metadata": {},
   "outputs": [
    {
     "name": "stdout",
     "output_type": "stream",
     "text": [
      " 0.099 98.964\n",
      " 0.097 98.908\n",
      " 0.655 72.995\n",
      " 0.702 66.149\n"
     ]
    }
   ],
   "source": [
    "y=y_WC\n",
    "XX=df_ver_0[var_data]\n",
    "\n",
    "model=XGBRegressor()\n",
    "model.fit(XX, y)\n",
    "cv = RepeatedKFold(n_splits=5, n_repeats=3, random_state=79)\n",
    "scores1 = cross_val_score(model,XX, y, scoring='neg_mean_absolute_error', cv=cv, n_jobs=-1, error_score='raise')\n",
    "scores3 = cross_val_score(model,XX, y, scoring='r2', cv=cv, n_jobs=-1, error_score='raise')\n",
    "print(' %.3f %.3f' % (-mean(scores1),  100*mean(scores3)))\n",
    "\n",
    "model=GradientBoostingRegressor()\n",
    "model.fit(XX, y)\n",
    "cv = RepeatedKFold(n_splits=5, n_repeats=3, random_state=79)\n",
    "scores1 = cross_val_score(model,XX, y, scoring='neg_mean_absolute_error', cv=cv, n_jobs=-1, error_score='raise')\n",
    "scores3 = cross_val_score(model,XX, y, scoring='r2', cv=cv, n_jobs=-1, error_score='raise')\n",
    "print(' %.3f %.3f' % (-mean(scores1),  100*mean(scores3)))\n",
    "\n",
    "XX=df_ver_0[var_DE]\n",
    "model=XGBRegressor()\n",
    "model.fit(XX, y)\n",
    "cv = RepeatedKFold(n_splits=5, n_repeats=3, random_state=79)\n",
    "scores1 = cross_val_score(model,XX, y, scoring='neg_mean_absolute_error', cv=cv, n_jobs=-1, error_score='raise')\n",
    "scores3 = cross_val_score(model,XX, y, scoring='r2', cv=cv, n_jobs=-1, error_score='raise')\n",
    "print(' %.3f %.3f' % (-mean(scores1),  100*mean(scores3)))\n",
    "\n",
    "model=GradientBoostingRegressor()\n",
    "model.fit(XX, y)\n",
    "cv = RepeatedKFold(n_splits=5, n_repeats=3, random_state=79)\n",
    "scores1 = cross_val_score(model,XX, y, scoring='neg_mean_absolute_error', cv=cv, n_jobs=-1, error_score='raise')\n",
    "scores3 = cross_val_score(model,XX, y, scoring='r2', cv=cv, n_jobs=-1, error_score='raise')\n",
    "print(' %.3f %.3f' % (-mean(scores1),  100*mean(scores3)))"
   ]
  },
  {
   "cell_type": "code",
   "execution_count": 396,
   "id": "f31e92d1",
   "metadata": {},
   "outputs": [
    {
     "name": "stdout",
     "output_type": "stream",
     "text": [
      " 0.052 79.469\n",
      " 0.047 84.149\n",
      " 0.051 80.303\n",
      " 0.047 83.865\n"
     ]
    }
   ],
   "source": [
    "y=y_EC\n",
    "XX=df_ver_0[var_data]\n",
    "\n",
    "model=XGBRegressor()\n",
    "model.fit(XX, y)\n",
    "cv = RepeatedKFold(n_splits=5, n_repeats=3, random_state=79)\n",
    "scores1 = cross_val_score(model,XX, y, scoring='neg_mean_absolute_error', cv=cv, n_jobs=-1, error_score='raise')\n",
    "scores3 = cross_val_score(model,XX, y, scoring='r2', cv=cv, n_jobs=-1, error_score='raise')\n",
    "print(' %.3f %.3f' % (-mean(scores1),  100*mean(scores3)))\n",
    "\n",
    "model=GradientBoostingRegressor()\n",
    "model.fit(XX, y)\n",
    "cv = RepeatedKFold(n_splits=5, n_repeats=3, random_state=79)\n",
    "scores1 = cross_val_score(model,XX, y, scoring='neg_mean_absolute_error', cv=cv, n_jobs=-1, error_score='raise')\n",
    "scores3 = cross_val_score(model,XX, y, scoring='r2', cv=cv, n_jobs=-1, error_score='raise')\n",
    "print(' %.3f %.3f' % (-mean(scores1),  100*mean(scores3)))\n",
    "\n",
    "XX=df_ver_0[var_DE]\n",
    "model=XGBRegressor()\n",
    "model.fit(XX, y)\n",
    "cv = RepeatedKFold(n_splits=5, n_repeats=3, random_state=79)\n",
    "scores1 = cross_val_score(model,XX, y, scoring='neg_mean_absolute_error', cv=cv, n_jobs=-1, error_score='raise')\n",
    "scores3 = cross_val_score(model,XX, y, scoring='r2', cv=cv, n_jobs=-1, error_score='raise')\n",
    "print(' %.3f %.3f' % (-mean(scores1),  100*mean(scores3)))\n",
    "\n",
    "model=GradientBoostingRegressor()\n",
    "model.fit(XX, y)\n",
    "cv = RepeatedKFold(n_splits=5, n_repeats=3, random_state=79)\n",
    "scores1 = cross_val_score(model,XX, y, scoring='neg_mean_absolute_error', cv=cv, n_jobs=-1, error_score='raise')\n",
    "scores3 = cross_val_score(model,XX, y, scoring='r2', cv=cv, n_jobs=-1, error_score='raise')\n",
    "print(' %.3f %.3f' % (-mean(scores1),  100*mean(scores3)))"
   ]
  },
  {
   "cell_type": "code",
   "execution_count": null,
   "id": "01dffafe",
   "metadata": {},
   "outputs": [],
   "source": []
  },
  {
   "cell_type": "code",
   "execution_count": null,
   "id": "522d4cdf",
   "metadata": {},
   "outputs": [],
   "source": []
  }
 ],
 "metadata": {
  "kernelspec": {
   "display_name": "Python 3 (ipykernel)",
   "language": "python",
   "name": "python3"
  },
  "language_info": {
   "codemirror_mode": {
    "name": "ipython",
    "version": 3
   },
   "file_extension": ".py",
   "mimetype": "text/x-python",
   "name": "python",
   "nbconvert_exporter": "python",
   "pygments_lexer": "ipython3",
   "version": "3.7.6"
  }
 },
 "nbformat": 4,
 "nbformat_minor": 5
}

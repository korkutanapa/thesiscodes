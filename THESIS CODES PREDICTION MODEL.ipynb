{
 "cells": [
  {
   "cell_type": "markdown",
   "id": "82c27d9e",
   "metadata": {},
   "source": [
    "# A STATISTICAL MODELLING OF A DISHWASHER CLEANING CYCLE TO DESIGN NEW CYCLES BY OPTIMIZATION."
   ]
  },
  {
   "cell_type": "markdown",
   "id": "2a8f31ab",
   "metadata": {},
   "source": [
    "## Codes of The Thesis by Korkut Anapa"
   ]
  },
  {
   "cell_type": "markdown",
   "id": "1b41cbc9",
   "metadata": {},
   "source": [
    "## Prediction Model\n",
    "\n",
    "This is a code to predict the CPI, DPI, EC, WC and T of the cleaning cycle of a DW.\n"
   ]
  },
  {
   "cell_type": "code",
   "execution_count": 1,
   "id": "0ebe8061",
   "metadata": {},
   "outputs": [],
   "source": [
    "import numpy as np\n",
    "import pandas as pd\n",
    "import statsmodels.api as sm\n",
    "from sklearn.model_selection import train_test_split\n",
    "from sklearn.linear_model import LinearRegression\n",
    "from sklearn.feature_selection import RFE\n",
    "from sklearn.linear_model import RidgeCV, LassoCV, Ridge, Lasso\n",
    "from catboost import CatBoostRegressor\n",
    "from sklearn.ensemble import GradientBoostingRegressor\n",
    "from sklearn.ensemble import RandomForestRegressor\n",
    "from numpy import mean\n",
    "from numpy import std\n",
    "from sklearn.datasets import make_regression\n",
    "from sklearn.model_selection import cross_val_score\n",
    "from sklearn.model_selection import RepeatedKFold\n",
    "from sklearn.linear_model import LinearRegression\n",
    "from sklearn.ensemble import StackingRegressor\n",
    "from matplotlib import pyplot\n",
    "from sklearn.preprocessing import StandardScaler\n",
    "from sklearn.pipeline import Pipeline\n",
    "from sklearn.preprocessing import PolynomialFeatures\n",
    "from sklearn.linear_model import LinearRegression\n",
    "from sklearn.tree import DecisionTreeRegressor\n",
    "from sklearn.neighbors import KNeighborsRegressor\n",
    "from xgboost import XGBRegressor\n",
    "from sklearn.linear_model import ElasticNetCV, ElasticNet\n",
    "from sklearn.compose import make_column_selector as selector\n",
    "from sklearn.preprocessing import OneHotEncoder\n",
    "from sklearn.metrics import mean_squared_error\n",
    "from sklearn.model_selection import cross_val_score\n",
    "from sklearn.cross_decomposition import PLSRegression\n",
    "from sklearn.model_selection import train_test_split\n",
    "from sklearn.linear_model import LinearRegression\n",
    "from sklearn.feature_selection import RFE\n",
    "from sklearn.linear_model import RidgeCV, LassoCV, Ridge, Lasso\n",
    "from catboost import CatBoostRegressor\n",
    "from sklearn.ensemble import GradientBoostingRegressor\n",
    "from sklearn.ensemble import RandomForestRegressor\n",
    "from sklearn.datasets import make_regression\n",
    "from sklearn.model_selection import cross_val_score\n",
    "from sklearn.model_selection import RepeatedKFold\n",
    "from sklearn.linear_model import LinearRegression\n",
    "from sklearn.ensemble import StackingRegressor\n",
    "from matplotlib import pyplot\n",
    "from sklearn.preprocessing import StandardScaler\n",
    "from sklearn.pipeline import Pipeline\n",
    "from sklearn.preprocessing import PolynomialFeatures\n",
    "from sklearn.linear_model import LinearRegression\n",
    "from sklearn.tree import DecisionTreeRegressor\n",
    "from sklearn.neighbors import KNeighborsRegressor\n",
    "from xgboost import XGBRegressor\n",
    "from sklearn.linear_model import ElasticNetCV, ElasticNet\n",
    "from sklearn.compose import make_column_selector as selector\n",
    "from sklearn.preprocessing import OneHotEncoder"
   ]
  },
  {
   "cell_type": "markdown",
   "id": "71099895",
   "metadata": {},
   "source": [
    "### preparing the data "
   ]
  },
  {
   "cell_type": "code",
   "execution_count": 2,
   "id": "7e97761a",
   "metadata": {},
   "outputs": [],
   "source": [
    "df_ref = pd.read_excel('D:/THESIS_DATA/ANALYSIS_DATA_THESIS/DB_SO_60.xlsx')"
   ]
  },
  {
   "cell_type": "code",
   "execution_count": 3,
   "id": "738f4ea5",
   "metadata": {},
   "outputs": [],
   "source": [
    "indvar=['1OYSum of kapalı' , '1OYSum of SURE' , '1OYSum of CIRC_TIME' , '1OYSum of WI' , '1OYMax of DEVIR',\n",
    "      '1OYMax of TEMP' , '1OYSum of ALT_C' , '1OYSum of ÜST_C' , '1OYSum of TEPE_C' , '1OYSum of ZONE_C' , '1OYSum of BEKLEME' ,\n",
    "      '1OYSum of FAN' , '1OYSum of KAPI ACMA' , '1OYSum of FAN / KLAPE' , '1OYSum of GAUDI_offset' ,\n",
    "      '1OYSum of GAUDI_nonoffset' , '2AYSum of kapalı' , '2AYSum of SURE' , '2AYSum of CIRC_TIME' , '2AYSum of WI' ,\n",
    "      '2AYMax of DEVIR' , '2AYMax of TEMP' , '2AYSum of ALT_C' , '2AYSum of ÜST_C' , '2AYSum of TEPE_C' , '2AYSum of ZONE_C' , \n",
    "      '2AYSum of BEKLEME' , '2AYSum of FAN' , '2AYSum of KAPI ACMA' , '2AYSum of FAN / KLAPE' , '2AYSum of GAUDI_offset' , \n",
    "      '2AYSum of GAUDI_nonoffset' , '3MFTSum of kapalı' , '3MFTSum of SURE' , '3MFTSum of CIRC_TIME' , '3MFTSum of WI' ,\n",
    "      '3MFTMax of DEVIR' , '3MFTMax of TEMP' , '3MFTSum of ALT_C' , '3MFTSum of ÜST_C' , '3MFTSum of TEPE_C' , \n",
    "      '3MFTSum of ZONE_C' , '3MFTSum of BEKLEME' , '3MFTSum of FAN', '3MFTSum of KAPI ACMA' , '3MFTSum of FAN / KLAPE' , \n",
    "      '3MFTSum of GAUDI_offset' , '3MFTSum of GAUDI_nonoffset' , '4SGDSum of kapalı' , '4SGDSum of SURE' , \n",
    "      '4SGDSum of CIRC_TIME', '4SGDSum of WI' , '4SGDMax of DEVIR' , '4SGDMax of TEMP' , '4SGDSum of ALT_C' , \n",
    "      '4SGDSum of ÜST_C' , '4SGDSum of TEPE_C' , '4SGDSum of ZONE_C' , '4SGDSum of BEKLEME' , '4SGDSum of FAN' , \n",
    "      '4SGDSum of KAPI ACMA' , '4SGDSum of FAN / KLAPE' , '4SGDSum of GAUDI_offset' , '4SGDSum of GAUDI_nonoffset' , \n",
    "      '5ERSum of kapalı' , '5ERSum of SURE' , '5ERSum of CIRC_TIME' , '5ERSum of WI' , '5ERMax of DEVIR' , '5ERMax of TEMP' ,\n",
    "      '5ERSum of ALT_C' , '5ERSum of ÜST_C' , '5ERSum of TEPE_C' , '5ERSum of ZONE_C' , '5ERSum of BEKLEME' ,\n",
    "      '5ERSum of FAN' , '5ERSum of KAPI ACMA' , '5ERSum of FAN / KLAPE' , '5ERSum of GAUDI_offset' , \n",
    "      '5ERSum of GAUDI_nonoffset' , '6SCD1Sum of kapalı' , '6SCD1Sum of SURE' , '6SCD1Sum of CIRC_TIME' , '6SCD1Sum of WI' , \n",
    "      '6SCD1Max of DEVIR' , '6SCD1Max of TEMP' , '6SCD1Sum of ALT_C' , '6SCD1Sum of ÜST_C' , '6SCD1Sum of TEPE_C' , \n",
    "      '6SCD1Sum of ZONE_C' , '6SCD1Sum of BEKLEME' , '6SCD1Sum of FAN' , '6SCD1Sum of KAPI ACMA' , '6SCD1Sum of FAN / KLAPE' ,\n",
    "      '6SCD1Sum of GAUDI_offset' , '6SCD1Sum of GAUDI_nonoffset' , '7SCD2Sum of kapalı' , '7SCD2Sum of SURE' , \n",
    "      '7SCD2Sum of CIRC_TIME' , '7SCD2Sum of WI' , '7SCD2Max of DEVIR' , '7SCD2Max of TEMP' , '7SCD2Sum of ALT_C' , \n",
    "      '7SCD2Sum of ÜST_C' , '7SCD2Sum of TEPE_C' , '7SCD2Sum of ZONE_C' , '7SCD2Sum of BEKLEME' , '7SCD2Sum of FAN' , \n",
    "      '7SCD2Sum of KAPI ACMA' , '7SCD2Sum of FAN / KLAPE' , '7SCD2Sum of GAUDI_offset' , '7SCD2Sum of GAUDI_nonoffset' , \n",
    "      '8DSBSum of kapalı' , '8DSBSum of SURE' , '8DSBSum of CIRC_TIME' , '8DSBSum of WI' , '8DSBMax of DEVIR' , \n",
    "      '8DSBMax of TEMP' , '8DSBSum of ALT_C' , '8DSBSum of ÜST_C', '8DSBSum of TEPE_C' , '8DSBSum of ZONE_C' ,\n",
    "      '8DSBSum of BEKLEME' , '8DSBSum of FAN' , '8DSBSum of KAPI ACMA' , '8DSBSum of FAN / KLAPE' , '8DSBSum of GAUDI_offset' ,\n",
    "      '8DSBSum of GAUDI_nonoffset', '9RYSum of kapalı' , '9RYSum of SURE' , '9RYSum of CIRC_TIME' , '9RYSum of WI' , \n",
    "      '9RYMax of DEVIR' , '9RYMax of TEMP' , '9RYSum of ALT_C' , '9RYSum of ÜST_C', '9RYSum of TEPE_C' , '9RYSum of ZONE_C' ,\n",
    "      '9RYSum of BEKLEME' , '9RYSum of FAN' , '9RYSum of KAPI ACMA' , '9RYSum of FAN / KLAPE' , '9RYSum of GAUDI_offset' ,\n",
    "      '9RYSum of GAUDI_nonoffset' , '10KUSum of kapalı' , '10KUSum of SURE' , '10KUSum of CIRC_TIME' , '10KUSum of WI' , \n",
    "      '10KUMax of DEVIR' , '10KUMax of TEMP' , '10KUSum of ALT_C' , '10KUSum of ÜST_C', '10KUSum of TEPE_C' ,\n",
    "      '10KUSum of ZONE_C' , '10KUSum of BEKLEME' , '10KUSum of FAN' , '10KUSum of KAPI ACMA' , '10KUSum of FAN / KLAPE' ,\n",
    "      '10KUSum of GAUDI_offset', '10KUSum of GAUDI_nonoffset']"
   ]
  },
  {
   "cell_type": "code",
   "execution_count": 4,
   "id": "ecbe2007",
   "metadata": {},
   "outputs": [],
   "source": [
    "data=['CPI','DPI','EC','T','WC','1OYSum of kapalı' , '1OYSum of SURE' , '1OYSum of CIRC_TIME' , '1OYSum of WI' , '1OYMax of DEVIR',\n",
    "      '1OYMax of TEMP' , '1OYSum of ALT_C' , '1OYSum of ÜST_C' , '1OYSum of TEPE_C' , '1OYSum of ZONE_C' , '1OYSum of BEKLEME' ,\n",
    "      '1OYSum of FAN' , '1OYSum of KAPI ACMA' , '1OYSum of FAN / KLAPE' , '1OYSum of GAUDI_offset' ,\n",
    "      '1OYSum of GAUDI_nonoffset' , '2AYSum of kapalı' , '2AYSum of SURE' , '2AYSum of CIRC_TIME' , '2AYSum of WI' ,\n",
    "      '2AYMax of DEVIR' , '2AYMax of TEMP' , '2AYSum of ALT_C' , '2AYSum of ÜST_C' , '2AYSum of TEPE_C' , '2AYSum of ZONE_C' , \n",
    "      '2AYSum of BEKLEME' , '2AYSum of FAN' , '2AYSum of KAPI ACMA' , '2AYSum of FAN / KLAPE' , '2AYSum of GAUDI_offset' , \n",
    "      '2AYSum of GAUDI_nonoffset' , '3MFTSum of kapalı' , '3MFTSum of SURE' , '3MFTSum of CIRC_TIME' , '3MFTSum of WI' ,\n",
    "      '3MFTMax of DEVIR' , '3MFTMax of TEMP' , '3MFTSum of ALT_C' , '3MFTSum of ÜST_C' , '3MFTSum of TEPE_C' , \n",
    "      '3MFTSum of ZONE_C' , '3MFTSum of BEKLEME' , '3MFTSum of FAN', '3MFTSum of KAPI ACMA' , '3MFTSum of FAN / KLAPE' , \n",
    "      '3MFTSum of GAUDI_offset' , '3MFTSum of GAUDI_nonoffset' , '4SGDSum of kapalı' , '4SGDSum of SURE' , \n",
    "      '4SGDSum of CIRC_TIME', '4SGDSum of WI' , '4SGDMax of DEVIR' , '4SGDMax of TEMP' , '4SGDSum of ALT_C' , \n",
    "      '4SGDSum of ÜST_C' , '4SGDSum of TEPE_C' , '4SGDSum of ZONE_C' , '4SGDSum of BEKLEME' , '4SGDSum of FAN' , \n",
    "      '4SGDSum of KAPI ACMA' , '4SGDSum of FAN / KLAPE' , '4SGDSum of GAUDI_offset' , '4SGDSum of GAUDI_nonoffset' , \n",
    "      '5ERSum of kapalı' , '5ERSum of SURE' , '5ERSum of CIRC_TIME' , '5ERSum of WI' , '5ERMax of DEVIR' , '5ERMax of TEMP' ,\n",
    "      '5ERSum of ALT_C' , '5ERSum of ÜST_C' , '5ERSum of TEPE_C' , '5ERSum of ZONE_C' , '5ERSum of BEKLEME' ,\n",
    "      '5ERSum of FAN' , '5ERSum of KAPI ACMA' , '5ERSum of FAN / KLAPE' , '5ERSum of GAUDI_offset' , \n",
    "      '5ERSum of GAUDI_nonoffset' , '6SCD1Sum of kapalı' , '6SCD1Sum of SURE' , '6SCD1Sum of CIRC_TIME' , '6SCD1Sum of WI' , \n",
    "      '6SCD1Max of DEVIR' , '6SCD1Max of TEMP' , '6SCD1Sum of ALT_C' , '6SCD1Sum of ÜST_C' , '6SCD1Sum of TEPE_C' , \n",
    "      '6SCD1Sum of ZONE_C' , '6SCD1Sum of BEKLEME' , '6SCD1Sum of FAN' , '6SCD1Sum of KAPI ACMA' , '6SCD1Sum of FAN / KLAPE' ,\n",
    "      '6SCD1Sum of GAUDI_offset' , '6SCD1Sum of GAUDI_nonoffset' , '7SCD2Sum of kapalı' , '7SCD2Sum of SURE' , \n",
    "      '7SCD2Sum of CIRC_TIME' , '7SCD2Sum of WI' , '7SCD2Max of DEVIR' , '7SCD2Max of TEMP' , '7SCD2Sum of ALT_C' , \n",
    "      '7SCD2Sum of ÜST_C' , '7SCD2Sum of TEPE_C' , '7SCD2Sum of ZONE_C' , '7SCD2Sum of BEKLEME' , '7SCD2Sum of FAN' , \n",
    "      '7SCD2Sum of KAPI ACMA' , '7SCD2Sum of FAN / KLAPE' , '7SCD2Sum of GAUDI_offset' , '7SCD2Sum of GAUDI_nonoffset' , \n",
    "      '8DSBSum of kapalı' , '8DSBSum of SURE' , '8DSBSum of CIRC_TIME' , '8DSBSum of WI' , '8DSBMax of DEVIR' , \n",
    "      '8DSBMax of TEMP' , '8DSBSum of ALT_C' , '8DSBSum of ÜST_C', '8DSBSum of TEPE_C' , '8DSBSum of ZONE_C' ,\n",
    "      '8DSBSum of BEKLEME' , '8DSBSum of FAN' , '8DSBSum of KAPI ACMA' , '8DSBSum of FAN / KLAPE' , '8DSBSum of GAUDI_offset' ,\n",
    "      '8DSBSum of GAUDI_nonoffset', '9RYSum of kapalı' , '9RYSum of SURE' , '9RYSum of CIRC_TIME' , '9RYSum of WI' , \n",
    "      '9RYMax of DEVIR' , '9RYMax of TEMP' , '9RYSum of ALT_C' , '9RYSum of ÜST_C', '9RYSum of TEPE_C' , '9RYSum of ZONE_C' ,\n",
    "      '9RYSum of BEKLEME' , '9RYSum of FAN' , '9RYSum of KAPI ACMA' , '9RYSum of FAN / KLAPE' , '9RYSum of GAUDI_offset' ,\n",
    "      '9RYSum of GAUDI_nonoffset' , '10KUSum of kapalı' , '10KUSum of SURE' , '10KUSum of CIRC_TIME' , '10KUSum of WI' , \n",
    "      '10KUMax of DEVIR' , '10KUMax of TEMP' , '10KUSum of ALT_C' , '10KUSum of ÜST_C', '10KUSum of TEPE_C' ,\n",
    "      '10KUSum of ZONE_C' , '10KUSum of BEKLEME' , '10KUSum of FAN' , '10KUSum of KAPI ACMA' , '10KUSum of FAN / KLAPE' ,\n",
    "      '10KUSum of GAUDI_offset', '10KUSum of GAUDI_nonoffset']"
   ]
  },
  {
   "cell_type": "code",
   "execution_count": 5,
   "id": "dccab88e",
   "metadata": {},
   "outputs": [],
   "source": [
    "df=df_ref[data]"
   ]
  },
  {
   "cell_type": "code",
   "execution_count": 6,
   "id": "82874e9b",
   "metadata": {},
   "outputs": [
    {
     "data": {
      "text/html": [
       "<div>\n",
       "<style scoped>\n",
       "    .dataframe tbody tr th:only-of-type {\n",
       "        vertical-align: middle;\n",
       "    }\n",
       "\n",
       "    .dataframe tbody tr th {\n",
       "        vertical-align: top;\n",
       "    }\n",
       "\n",
       "    .dataframe thead th {\n",
       "        text-align: right;\n",
       "    }\n",
       "</style>\n",
       "<table border=\"1\" class=\"dataframe\">\n",
       "  <thead>\n",
       "    <tr style=\"text-align: right;\">\n",
       "      <th></th>\n",
       "      <th>CPI</th>\n",
       "      <th>DPI</th>\n",
       "      <th>EC</th>\n",
       "      <th>T</th>\n",
       "      <th>WC</th>\n",
       "      <th>1OYSum of kapalı</th>\n",
       "      <th>1OYSum of SURE</th>\n",
       "      <th>1OYSum of CIRC_TIME</th>\n",
       "      <th>1OYSum of WI</th>\n",
       "      <th>1OYMax of DEVIR</th>\n",
       "      <th>...</th>\n",
       "      <th>10KUSum of ALT_C</th>\n",
       "      <th>10KUSum of ÜST_C</th>\n",
       "      <th>10KUSum of TEPE_C</th>\n",
       "      <th>10KUSum of ZONE_C</th>\n",
       "      <th>10KUSum of BEKLEME</th>\n",
       "      <th>10KUSum of FAN</th>\n",
       "      <th>10KUSum of KAPI ACMA</th>\n",
       "      <th>10KUSum of FAN / KLAPE</th>\n",
       "      <th>10KUSum of GAUDI_offset</th>\n",
       "      <th>10KUSum of GAUDI_nonoffset</th>\n",
       "    </tr>\n",
       "  </thead>\n",
       "  <tbody>\n",
       "    <tr>\n",
       "      <th>0</th>\n",
       "      <td>3.238150</td>\n",
       "      <td>86.705202</td>\n",
       "      <td>0.855000</td>\n",
       "      <td>225.000000</td>\n",
       "      <td>9.606667</td>\n",
       "      <td>0</td>\n",
       "      <td>24</td>\n",
       "      <td>21</td>\n",
       "      <td>4.0</td>\n",
       "      <td>2800</td>\n",
       "      <td>...</td>\n",
       "      <td>0</td>\n",
       "      <td>0</td>\n",
       "      <td>0</td>\n",
       "      <td>0</td>\n",
       "      <td>10</td>\n",
       "      <td>78</td>\n",
       "      <td>1</td>\n",
       "      <td>0</td>\n",
       "      <td>0</td>\n",
       "      <td>0</td>\n",
       "    </tr>\n",
       "    <tr>\n",
       "      <th>1</th>\n",
       "      <td>3.266000</td>\n",
       "      <td>83.230000</td>\n",
       "      <td>0.884200</td>\n",
       "      <td>240.000000</td>\n",
       "      <td>8.750000</td>\n",
       "      <td>0</td>\n",
       "      <td>21</td>\n",
       "      <td>18</td>\n",
       "      <td>4.0</td>\n",
       "      <td>3000</td>\n",
       "      <td>...</td>\n",
       "      <td>0</td>\n",
       "      <td>0</td>\n",
       "      <td>0</td>\n",
       "      <td>0</td>\n",
       "      <td>10</td>\n",
       "      <td>93</td>\n",
       "      <td>0</td>\n",
       "      <td>0</td>\n",
       "      <td>0</td>\n",
       "      <td>0</td>\n",
       "    </tr>\n",
       "    <tr>\n",
       "      <th>2</th>\n",
       "      <td>3.266000</td>\n",
       "      <td>83.230000</td>\n",
       "      <td>0.884200</td>\n",
       "      <td>240.000000</td>\n",
       "      <td>8.750000</td>\n",
       "      <td>0</td>\n",
       "      <td>21</td>\n",
       "      <td>18</td>\n",
       "      <td>4.0</td>\n",
       "      <td>3000</td>\n",
       "      <td>...</td>\n",
       "      <td>0</td>\n",
       "      <td>0</td>\n",
       "      <td>0</td>\n",
       "      <td>0</td>\n",
       "      <td>10</td>\n",
       "      <td>93</td>\n",
       "      <td>0</td>\n",
       "      <td>0</td>\n",
       "      <td>0</td>\n",
       "      <td>0</td>\n",
       "    </tr>\n",
       "    <tr>\n",
       "      <th>3</th>\n",
       "      <td>3.220000</td>\n",
       "      <td>76.078000</td>\n",
       "      <td>0.500000</td>\n",
       "      <td>265.000000</td>\n",
       "      <td>10.000000</td>\n",
       "      <td>2</td>\n",
       "      <td>48</td>\n",
       "      <td>43</td>\n",
       "      <td>4.8</td>\n",
       "      <td>2800</td>\n",
       "      <td>...</td>\n",
       "      <td>0</td>\n",
       "      <td>0</td>\n",
       "      <td>0</td>\n",
       "      <td>0</td>\n",
       "      <td>50</td>\n",
       "      <td>57</td>\n",
       "      <td>1</td>\n",
       "      <td>30</td>\n",
       "      <td>0</td>\n",
       "      <td>0</td>\n",
       "    </tr>\n",
       "    <tr>\n",
       "      <th>4</th>\n",
       "      <td>3.280000</td>\n",
       "      <td>78.235000</td>\n",
       "      <td>0.590000</td>\n",
       "      <td>265.000000</td>\n",
       "      <td>9.200000</td>\n",
       "      <td>3</td>\n",
       "      <td>49</td>\n",
       "      <td>44</td>\n",
       "      <td>4.8</td>\n",
       "      <td>2800</td>\n",
       "      <td>...</td>\n",
       "      <td>0</td>\n",
       "      <td>0</td>\n",
       "      <td>0</td>\n",
       "      <td>0</td>\n",
       "      <td>30</td>\n",
       "      <td>63</td>\n",
       "      <td>1</td>\n",
       "      <td>29</td>\n",
       "      <td>0</td>\n",
       "      <td>0</td>\n",
       "    </tr>\n",
       "    <tr>\n",
       "      <th>...</th>\n",
       "      <td>...</td>\n",
       "      <td>...</td>\n",
       "      <td>...</td>\n",
       "      <td>...</td>\n",
       "      <td>...</td>\n",
       "      <td>...</td>\n",
       "      <td>...</td>\n",
       "      <td>...</td>\n",
       "      <td>...</td>\n",
       "      <td>...</td>\n",
       "      <td>...</td>\n",
       "      <td>...</td>\n",
       "      <td>...</td>\n",
       "      <td>...</td>\n",
       "      <td>...</td>\n",
       "      <td>...</td>\n",
       "      <td>...</td>\n",
       "      <td>...</td>\n",
       "      <td>...</td>\n",
       "      <td>...</td>\n",
       "      <td>...</td>\n",
       "    </tr>\n",
       "    <tr>\n",
       "      <th>149</th>\n",
       "      <td>3.300662</td>\n",
       "      <td>84.105960</td>\n",
       "      <td>1.046000</td>\n",
       "      <td>226.000000</td>\n",
       "      <td>12.113333</td>\n",
       "      <td>0</td>\n",
       "      <td>23</td>\n",
       "      <td>20</td>\n",
       "      <td>4.6</td>\n",
       "      <td>2800</td>\n",
       "      <td>...</td>\n",
       "      <td>0</td>\n",
       "      <td>0</td>\n",
       "      <td>0</td>\n",
       "      <td>0</td>\n",
       "      <td>102</td>\n",
       "      <td>0</td>\n",
       "      <td>0</td>\n",
       "      <td>0</td>\n",
       "      <td>0</td>\n",
       "      <td>0</td>\n",
       "    </tr>\n",
       "    <tr>\n",
       "      <th>150</th>\n",
       "      <td>3.358667</td>\n",
       "      <td>87.000000</td>\n",
       "      <td>0.951622</td>\n",
       "      <td>220.000000</td>\n",
       "      <td>9.500000</td>\n",
       "      <td>0</td>\n",
       "      <td>19</td>\n",
       "      <td>16</td>\n",
       "      <td>4.0</td>\n",
       "      <td>2800</td>\n",
       "      <td>...</td>\n",
       "      <td>0</td>\n",
       "      <td>0</td>\n",
       "      <td>0</td>\n",
       "      <td>0</td>\n",
       "      <td>20</td>\n",
       "      <td>73</td>\n",
       "      <td>0</td>\n",
       "      <td>0</td>\n",
       "      <td>0</td>\n",
       "      <td>0</td>\n",
       "    </tr>\n",
       "    <tr>\n",
       "      <th>151</th>\n",
       "      <td>3.550000</td>\n",
       "      <td>80.000000</td>\n",
       "      <td>0.864750</td>\n",
       "      <td>210.000000</td>\n",
       "      <td>12.000000</td>\n",
       "      <td>0</td>\n",
       "      <td>8</td>\n",
       "      <td>6</td>\n",
       "      <td>3.5</td>\n",
       "      <td>2800</td>\n",
       "      <td>...</td>\n",
       "      <td>0</td>\n",
       "      <td>0</td>\n",
       "      <td>0</td>\n",
       "      <td>0</td>\n",
       "      <td>123</td>\n",
       "      <td>0</td>\n",
       "      <td>0</td>\n",
       "      <td>0</td>\n",
       "      <td>0</td>\n",
       "      <td>0</td>\n",
       "    </tr>\n",
       "    <tr>\n",
       "      <th>152</th>\n",
       "      <td>3.230864</td>\n",
       "      <td>86.316872</td>\n",
       "      <td>0.861667</td>\n",
       "      <td>227.666667</td>\n",
       "      <td>10.726667</td>\n",
       "      <td>0</td>\n",
       "      <td>19</td>\n",
       "      <td>16</td>\n",
       "      <td>4.0</td>\n",
       "      <td>2800</td>\n",
       "      <td>...</td>\n",
       "      <td>0</td>\n",
       "      <td>0</td>\n",
       "      <td>0</td>\n",
       "      <td>0</td>\n",
       "      <td>10</td>\n",
       "      <td>98</td>\n",
       "      <td>0</td>\n",
       "      <td>37</td>\n",
       "      <td>0</td>\n",
       "      <td>0</td>\n",
       "    </tr>\n",
       "    <tr>\n",
       "      <th>153</th>\n",
       "      <td>3.224277</td>\n",
       "      <td>85.260116</td>\n",
       "      <td>0.906000</td>\n",
       "      <td>252.500000</td>\n",
       "      <td>11.285000</td>\n",
       "      <td>0</td>\n",
       "      <td>24</td>\n",
       "      <td>21</td>\n",
       "      <td>4.0</td>\n",
       "      <td>2800</td>\n",
       "      <td>...</td>\n",
       "      <td>0</td>\n",
       "      <td>0</td>\n",
       "      <td>0</td>\n",
       "      <td>0</td>\n",
       "      <td>10</td>\n",
       "      <td>98</td>\n",
       "      <td>0</td>\n",
       "      <td>34</td>\n",
       "      <td>0</td>\n",
       "      <td>0</td>\n",
       "    </tr>\n",
       "  </tbody>\n",
       "</table>\n",
       "<p>154 rows × 165 columns</p>\n",
       "</div>"
      ],
      "text/plain": [
       "          CPI        DPI        EC           T         WC  1OYSum of kapalı  \\\n",
       "0    3.238150  86.705202  0.855000  225.000000   9.606667                 0   \n",
       "1    3.266000  83.230000  0.884200  240.000000   8.750000                 0   \n",
       "2    3.266000  83.230000  0.884200  240.000000   8.750000                 0   \n",
       "3    3.220000  76.078000  0.500000  265.000000  10.000000                 2   \n",
       "4    3.280000  78.235000  0.590000  265.000000   9.200000                 3   \n",
       "..        ...        ...       ...         ...        ...               ...   \n",
       "149  3.300662  84.105960  1.046000  226.000000  12.113333                 0   \n",
       "150  3.358667  87.000000  0.951622  220.000000   9.500000                 0   \n",
       "151  3.550000  80.000000  0.864750  210.000000  12.000000                 0   \n",
       "152  3.230864  86.316872  0.861667  227.666667  10.726667                 0   \n",
       "153  3.224277  85.260116  0.906000  252.500000  11.285000                 0   \n",
       "\n",
       "     1OYSum of SURE  1OYSum of CIRC_TIME  1OYSum of WI  1OYMax of DEVIR  ...  \\\n",
       "0                24                   21           4.0             2800  ...   \n",
       "1                21                   18           4.0             3000  ...   \n",
       "2                21                   18           4.0             3000  ...   \n",
       "3                48                   43           4.8             2800  ...   \n",
       "4                49                   44           4.8             2800  ...   \n",
       "..              ...                  ...           ...              ...  ...   \n",
       "149              23                   20           4.6             2800  ...   \n",
       "150              19                   16           4.0             2800  ...   \n",
       "151               8                    6           3.5             2800  ...   \n",
       "152              19                   16           4.0             2800  ...   \n",
       "153              24                   21           4.0             2800  ...   \n",
       "\n",
       "     10KUSum of ALT_C  10KUSum of ÜST_C  10KUSum of TEPE_C  10KUSum of ZONE_C  \\\n",
       "0                   0                 0                  0                  0   \n",
       "1                   0                 0                  0                  0   \n",
       "2                   0                 0                  0                  0   \n",
       "3                   0                 0                  0                  0   \n",
       "4                   0                 0                  0                  0   \n",
       "..                ...               ...                ...                ...   \n",
       "149                 0                 0                  0                  0   \n",
       "150                 0                 0                  0                  0   \n",
       "151                 0                 0                  0                  0   \n",
       "152                 0                 0                  0                  0   \n",
       "153                 0                 0                  0                  0   \n",
       "\n",
       "     10KUSum of BEKLEME  10KUSum of FAN  10KUSum of KAPI ACMA  \\\n",
       "0                    10              78                     1   \n",
       "1                    10              93                     0   \n",
       "2                    10              93                     0   \n",
       "3                    50              57                     1   \n",
       "4                    30              63                     1   \n",
       "..                  ...             ...                   ...   \n",
       "149                 102               0                     0   \n",
       "150                  20              73                     0   \n",
       "151                 123               0                     0   \n",
       "152                  10              98                     0   \n",
       "153                  10              98                     0   \n",
       "\n",
       "     10KUSum of FAN / KLAPE  10KUSum of GAUDI_offset  \\\n",
       "0                         0                        0   \n",
       "1                         0                        0   \n",
       "2                         0                        0   \n",
       "3                        30                        0   \n",
       "4                        29                        0   \n",
       "..                      ...                      ...   \n",
       "149                       0                        0   \n",
       "150                       0                        0   \n",
       "151                       0                        0   \n",
       "152                      37                        0   \n",
       "153                      34                        0   \n",
       "\n",
       "     10KUSum of GAUDI_nonoffset  \n",
       "0                             0  \n",
       "1                             0  \n",
       "2                             0  \n",
       "3                             0  \n",
       "4                             0  \n",
       "..                          ...  \n",
       "149                           0  \n",
       "150                           0  \n",
       "151                           0  \n",
       "152                           0  \n",
       "153                           0  \n",
       "\n",
       "[154 rows x 165 columns]"
      ]
     },
     "execution_count": 6,
     "metadata": {},
     "output_type": "execute_result"
    }
   ],
   "source": [
    "df"
   ]
  },
  {
   "cell_type": "markdown",
   "id": "97d930a8",
   "metadata": {},
   "source": [
    "# check for duplicates"
   ]
  },
  {
   "cell_type": "code",
   "execution_count": 7,
   "id": "476b0258",
   "metadata": {},
   "outputs": [],
   "source": [
    "df=df.drop_duplicates(keep='last',subset=indvar)"
   ]
  },
  {
   "cell_type": "code",
   "execution_count": 8,
   "id": "7402d014",
   "metadata": {},
   "outputs": [
    {
     "data": {
      "text/html": [
       "<div>\n",
       "<style scoped>\n",
       "    .dataframe tbody tr th:only-of-type {\n",
       "        vertical-align: middle;\n",
       "    }\n",
       "\n",
       "    .dataframe tbody tr th {\n",
       "        vertical-align: top;\n",
       "    }\n",
       "\n",
       "    .dataframe thead th {\n",
       "        text-align: right;\n",
       "    }\n",
       "</style>\n",
       "<table border=\"1\" class=\"dataframe\">\n",
       "  <thead>\n",
       "    <tr style=\"text-align: right;\">\n",
       "      <th></th>\n",
       "      <th>CPI</th>\n",
       "      <th>DPI</th>\n",
       "      <th>EC</th>\n",
       "      <th>T</th>\n",
       "      <th>WC</th>\n",
       "      <th>1OYSum of kapalı</th>\n",
       "      <th>1OYSum of SURE</th>\n",
       "      <th>1OYSum of CIRC_TIME</th>\n",
       "      <th>1OYSum of WI</th>\n",
       "      <th>1OYMax of DEVIR</th>\n",
       "      <th>...</th>\n",
       "      <th>10KUSum of ALT_C</th>\n",
       "      <th>10KUSum of ÜST_C</th>\n",
       "      <th>10KUSum of TEPE_C</th>\n",
       "      <th>10KUSum of ZONE_C</th>\n",
       "      <th>10KUSum of BEKLEME</th>\n",
       "      <th>10KUSum of FAN</th>\n",
       "      <th>10KUSum of KAPI ACMA</th>\n",
       "      <th>10KUSum of FAN / KLAPE</th>\n",
       "      <th>10KUSum of GAUDI_offset</th>\n",
       "      <th>10KUSum of GAUDI_nonoffset</th>\n",
       "    </tr>\n",
       "  </thead>\n",
       "  <tbody>\n",
       "    <tr>\n",
       "      <th>3</th>\n",
       "      <td>3.220000</td>\n",
       "      <td>76.078000</td>\n",
       "      <td>0.500000</td>\n",
       "      <td>265.000000</td>\n",
       "      <td>10.000000</td>\n",
       "      <td>2</td>\n",
       "      <td>48</td>\n",
       "      <td>43</td>\n",
       "      <td>4.8</td>\n",
       "      <td>2800</td>\n",
       "      <td>...</td>\n",
       "      <td>0</td>\n",
       "      <td>0</td>\n",
       "      <td>0</td>\n",
       "      <td>0</td>\n",
       "      <td>50</td>\n",
       "      <td>57</td>\n",
       "      <td>1</td>\n",
       "      <td>30</td>\n",
       "      <td>0</td>\n",
       "      <td>0</td>\n",
       "    </tr>\n",
       "    <tr>\n",
       "      <th>4</th>\n",
       "      <td>3.280000</td>\n",
       "      <td>78.235000</td>\n",
       "      <td>0.590000</td>\n",
       "      <td>265.000000</td>\n",
       "      <td>9.200000</td>\n",
       "      <td>3</td>\n",
       "      <td>49</td>\n",
       "      <td>44</td>\n",
       "      <td>4.8</td>\n",
       "      <td>2800</td>\n",
       "      <td>...</td>\n",
       "      <td>0</td>\n",
       "      <td>0</td>\n",
       "      <td>0</td>\n",
       "      <td>0</td>\n",
       "      <td>30</td>\n",
       "      <td>63</td>\n",
       "      <td>1</td>\n",
       "      <td>29</td>\n",
       "      <td>0</td>\n",
       "      <td>0</td>\n",
       "    </tr>\n",
       "    <tr>\n",
       "      <th>5</th>\n",
       "      <td>3.270000</td>\n",
       "      <td>81.176000</td>\n",
       "      <td>0.570000</td>\n",
       "      <td>275.000000</td>\n",
       "      <td>9.480000</td>\n",
       "      <td>8</td>\n",
       "      <td>54</td>\n",
       "      <td>49</td>\n",
       "      <td>4.8</td>\n",
       "      <td>2800</td>\n",
       "      <td>...</td>\n",
       "      <td>0</td>\n",
       "      <td>0</td>\n",
       "      <td>0</td>\n",
       "      <td>0</td>\n",
       "      <td>30</td>\n",
       "      <td>80</td>\n",
       "      <td>1</td>\n",
       "      <td>38</td>\n",
       "      <td>0</td>\n",
       "      <td>0</td>\n",
       "    </tr>\n",
       "    <tr>\n",
       "      <th>6</th>\n",
       "      <td>3.300000</td>\n",
       "      <td>77.647000</td>\n",
       "      <td>0.580000</td>\n",
       "      <td>250.000000</td>\n",
       "      <td>9.410000</td>\n",
       "      <td>8</td>\n",
       "      <td>54</td>\n",
       "      <td>49</td>\n",
       "      <td>4.8</td>\n",
       "      <td>2800</td>\n",
       "      <td>...</td>\n",
       "      <td>0</td>\n",
       "      <td>0</td>\n",
       "      <td>0</td>\n",
       "      <td>0</td>\n",
       "      <td>30</td>\n",
       "      <td>63</td>\n",
       "      <td>1</td>\n",
       "      <td>29</td>\n",
       "      <td>0</td>\n",
       "      <td>0</td>\n",
       "    </tr>\n",
       "    <tr>\n",
       "      <th>8</th>\n",
       "      <td>3.270000</td>\n",
       "      <td>82.824000</td>\n",
       "      <td>0.650000</td>\n",
       "      <td>250.000000</td>\n",
       "      <td>9.770000</td>\n",
       "      <td>8</td>\n",
       "      <td>55</td>\n",
       "      <td>49</td>\n",
       "      <td>7.1</td>\n",
       "      <td>2800</td>\n",
       "      <td>...</td>\n",
       "      <td>0</td>\n",
       "      <td>0</td>\n",
       "      <td>0</td>\n",
       "      <td>0</td>\n",
       "      <td>30</td>\n",
       "      <td>63</td>\n",
       "      <td>1</td>\n",
       "      <td>29</td>\n",
       "      <td>0</td>\n",
       "      <td>0</td>\n",
       "    </tr>\n",
       "    <tr>\n",
       "      <th>...</th>\n",
       "      <td>...</td>\n",
       "      <td>...</td>\n",
       "      <td>...</td>\n",
       "      <td>...</td>\n",
       "      <td>...</td>\n",
       "      <td>...</td>\n",
       "      <td>...</td>\n",
       "      <td>...</td>\n",
       "      <td>...</td>\n",
       "      <td>...</td>\n",
       "      <td>...</td>\n",
       "      <td>...</td>\n",
       "      <td>...</td>\n",
       "      <td>...</td>\n",
       "      <td>...</td>\n",
       "      <td>...</td>\n",
       "      <td>...</td>\n",
       "      <td>...</td>\n",
       "      <td>...</td>\n",
       "      <td>...</td>\n",
       "      <td>...</td>\n",
       "    </tr>\n",
       "    <tr>\n",
       "      <th>149</th>\n",
       "      <td>3.300662</td>\n",
       "      <td>84.105960</td>\n",
       "      <td>1.046000</td>\n",
       "      <td>226.000000</td>\n",
       "      <td>12.113333</td>\n",
       "      <td>0</td>\n",
       "      <td>23</td>\n",
       "      <td>20</td>\n",
       "      <td>4.6</td>\n",
       "      <td>2800</td>\n",
       "      <td>...</td>\n",
       "      <td>0</td>\n",
       "      <td>0</td>\n",
       "      <td>0</td>\n",
       "      <td>0</td>\n",
       "      <td>102</td>\n",
       "      <td>0</td>\n",
       "      <td>0</td>\n",
       "      <td>0</td>\n",
       "      <td>0</td>\n",
       "      <td>0</td>\n",
       "    </tr>\n",
       "    <tr>\n",
       "      <th>150</th>\n",
       "      <td>3.358667</td>\n",
       "      <td>87.000000</td>\n",
       "      <td>0.951622</td>\n",
       "      <td>220.000000</td>\n",
       "      <td>9.500000</td>\n",
       "      <td>0</td>\n",
       "      <td>19</td>\n",
       "      <td>16</td>\n",
       "      <td>4.0</td>\n",
       "      <td>2800</td>\n",
       "      <td>...</td>\n",
       "      <td>0</td>\n",
       "      <td>0</td>\n",
       "      <td>0</td>\n",
       "      <td>0</td>\n",
       "      <td>20</td>\n",
       "      <td>73</td>\n",
       "      <td>0</td>\n",
       "      <td>0</td>\n",
       "      <td>0</td>\n",
       "      <td>0</td>\n",
       "    </tr>\n",
       "    <tr>\n",
       "      <th>151</th>\n",
       "      <td>3.550000</td>\n",
       "      <td>80.000000</td>\n",
       "      <td>0.864750</td>\n",
       "      <td>210.000000</td>\n",
       "      <td>12.000000</td>\n",
       "      <td>0</td>\n",
       "      <td>8</td>\n",
       "      <td>6</td>\n",
       "      <td>3.5</td>\n",
       "      <td>2800</td>\n",
       "      <td>...</td>\n",
       "      <td>0</td>\n",
       "      <td>0</td>\n",
       "      <td>0</td>\n",
       "      <td>0</td>\n",
       "      <td>123</td>\n",
       "      <td>0</td>\n",
       "      <td>0</td>\n",
       "      <td>0</td>\n",
       "      <td>0</td>\n",
       "      <td>0</td>\n",
       "    </tr>\n",
       "    <tr>\n",
       "      <th>152</th>\n",
       "      <td>3.230864</td>\n",
       "      <td>86.316872</td>\n",
       "      <td>0.861667</td>\n",
       "      <td>227.666667</td>\n",
       "      <td>10.726667</td>\n",
       "      <td>0</td>\n",
       "      <td>19</td>\n",
       "      <td>16</td>\n",
       "      <td>4.0</td>\n",
       "      <td>2800</td>\n",
       "      <td>...</td>\n",
       "      <td>0</td>\n",
       "      <td>0</td>\n",
       "      <td>0</td>\n",
       "      <td>0</td>\n",
       "      <td>10</td>\n",
       "      <td>98</td>\n",
       "      <td>0</td>\n",
       "      <td>37</td>\n",
       "      <td>0</td>\n",
       "      <td>0</td>\n",
       "    </tr>\n",
       "    <tr>\n",
       "      <th>153</th>\n",
       "      <td>3.224277</td>\n",
       "      <td>85.260116</td>\n",
       "      <td>0.906000</td>\n",
       "      <td>252.500000</td>\n",
       "      <td>11.285000</td>\n",
       "      <td>0</td>\n",
       "      <td>24</td>\n",
       "      <td>21</td>\n",
       "      <td>4.0</td>\n",
       "      <td>2800</td>\n",
       "      <td>...</td>\n",
       "      <td>0</td>\n",
       "      <td>0</td>\n",
       "      <td>0</td>\n",
       "      <td>0</td>\n",
       "      <td>10</td>\n",
       "      <td>98</td>\n",
       "      <td>0</td>\n",
       "      <td>34</td>\n",
       "      <td>0</td>\n",
       "      <td>0</td>\n",
       "    </tr>\n",
       "  </tbody>\n",
       "</table>\n",
       "<p>94 rows × 165 columns</p>\n",
       "</div>"
      ],
      "text/plain": [
       "          CPI        DPI        EC           T         WC  1OYSum of kapalı  \\\n",
       "3    3.220000  76.078000  0.500000  265.000000  10.000000                 2   \n",
       "4    3.280000  78.235000  0.590000  265.000000   9.200000                 3   \n",
       "5    3.270000  81.176000  0.570000  275.000000   9.480000                 8   \n",
       "6    3.300000  77.647000  0.580000  250.000000   9.410000                 8   \n",
       "8    3.270000  82.824000  0.650000  250.000000   9.770000                 8   \n",
       "..        ...        ...       ...         ...        ...               ...   \n",
       "149  3.300662  84.105960  1.046000  226.000000  12.113333                 0   \n",
       "150  3.358667  87.000000  0.951622  220.000000   9.500000                 0   \n",
       "151  3.550000  80.000000  0.864750  210.000000  12.000000                 0   \n",
       "152  3.230864  86.316872  0.861667  227.666667  10.726667                 0   \n",
       "153  3.224277  85.260116  0.906000  252.500000  11.285000                 0   \n",
       "\n",
       "     1OYSum of SURE  1OYSum of CIRC_TIME  1OYSum of WI  1OYMax of DEVIR  ...  \\\n",
       "3                48                   43           4.8             2800  ...   \n",
       "4                49                   44           4.8             2800  ...   \n",
       "5                54                   49           4.8             2800  ...   \n",
       "6                54                   49           4.8             2800  ...   \n",
       "8                55                   49           7.1             2800  ...   \n",
       "..              ...                  ...           ...              ...  ...   \n",
       "149              23                   20           4.6             2800  ...   \n",
       "150              19                   16           4.0             2800  ...   \n",
       "151               8                    6           3.5             2800  ...   \n",
       "152              19                   16           4.0             2800  ...   \n",
       "153              24                   21           4.0             2800  ...   \n",
       "\n",
       "     10KUSum of ALT_C  10KUSum of ÜST_C  10KUSum of TEPE_C  10KUSum of ZONE_C  \\\n",
       "3                   0                 0                  0                  0   \n",
       "4                   0                 0                  0                  0   \n",
       "5                   0                 0                  0                  0   \n",
       "6                   0                 0                  0                  0   \n",
       "8                   0                 0                  0                  0   \n",
       "..                ...               ...                ...                ...   \n",
       "149                 0                 0                  0                  0   \n",
       "150                 0                 0                  0                  0   \n",
       "151                 0                 0                  0                  0   \n",
       "152                 0                 0                  0                  0   \n",
       "153                 0                 0                  0                  0   \n",
       "\n",
       "     10KUSum of BEKLEME  10KUSum of FAN  10KUSum of KAPI ACMA  \\\n",
       "3                    50              57                     1   \n",
       "4                    30              63                     1   \n",
       "5                    30              80                     1   \n",
       "6                    30              63                     1   \n",
       "8                    30              63                     1   \n",
       "..                  ...             ...                   ...   \n",
       "149                 102               0                     0   \n",
       "150                  20              73                     0   \n",
       "151                 123               0                     0   \n",
       "152                  10              98                     0   \n",
       "153                  10              98                     0   \n",
       "\n",
       "     10KUSum of FAN / KLAPE  10KUSum of GAUDI_offset  \\\n",
       "3                        30                        0   \n",
       "4                        29                        0   \n",
       "5                        38                        0   \n",
       "6                        29                        0   \n",
       "8                        29                        0   \n",
       "..                      ...                      ...   \n",
       "149                       0                        0   \n",
       "150                       0                        0   \n",
       "151                       0                        0   \n",
       "152                      37                        0   \n",
       "153                      34                        0   \n",
       "\n",
       "     10KUSum of GAUDI_nonoffset  \n",
       "3                             0  \n",
       "4                             0  \n",
       "5                             0  \n",
       "6                             0  \n",
       "8                             0  \n",
       "..                          ...  \n",
       "149                           0  \n",
       "150                           0  \n",
       "151                           0  \n",
       "152                           0  \n",
       "153                           0  \n",
       "\n",
       "[94 rows x 165 columns]"
      ]
     },
     "execution_count": 8,
     "metadata": {},
     "output_type": "execute_result"
    }
   ],
   "source": [
    "df"
   ]
  },
  {
   "cell_type": "code",
   "execution_count": 9,
   "id": "35388687",
   "metadata": {},
   "outputs": [],
   "source": [
    "y_CPI_ref = df['CPI']\n",
    "y_DPI_ref = df['DPI']\n",
    "y_EC_D_ref =df['EC']\n",
    "y_T_D_ref =df['T']\n",
    "y_WC_ref=df['WC']"
   ]
  },
  {
   "cell_type": "code",
   "execution_count": 10,
   "id": "5d9725da",
   "metadata": {},
   "outputs": [],
   "source": [
    "y_CPI = df['CPI']\n",
    "y_DPI = df['DPI']\n",
    "y_EC_D=df['EC']\n",
    "y_T_D=df['T']\n",
    "y_WC=df['WC']"
   ]
  },
  {
   "cell_type": "code",
   "execution_count": 11,
   "id": "4a267dfe",
   "metadata": {},
   "outputs": [
    {
     "data": {
      "text/plain": [
       "count    94.000000\n",
       "mean      3.288865\n",
       "std       0.246234\n",
       "min       2.300000\n",
       "25%       3.274000\n",
       "50%       3.339861\n",
       "75%       3.372941\n",
       "max       3.580000\n",
       "Name: CPI, dtype: float64"
      ]
     },
     "execution_count": 11,
     "metadata": {},
     "output_type": "execute_result"
    }
   ],
   "source": [
    "y_CPI.describe()"
   ]
  },
  {
   "cell_type": "code",
   "execution_count": 12,
   "id": "144ec8ab",
   "metadata": {},
   "outputs": [
    {
     "data": {
      "text/plain": [
       "count    94.000000\n",
       "mean     78.726037\n",
       "std      16.186424\n",
       "min      15.000000\n",
       "25%      80.550595\n",
       "50%      84.000000\n",
       "75%      85.597737\n",
       "max      91.666667\n",
       "Name: DPI, dtype: float64"
      ]
     },
     "execution_count": 12,
     "metadata": {},
     "output_type": "execute_result"
    }
   ],
   "source": [
    "y_DPI.describe()"
   ]
  },
  {
   "cell_type": "code",
   "execution_count": 13,
   "id": "32d1c3e1",
   "metadata": {},
   "outputs": [
    {
     "data": {
      "text/plain": [
       "count    94.000000\n",
       "mean      0.879479\n",
       "std       0.176616\n",
       "min       0.500000\n",
       "25%       0.770150\n",
       "50%       0.856600\n",
       "75%       1.012500\n",
       "max       1.220000\n",
       "Name: EC, dtype: float64"
      ]
     },
     "execution_count": 13,
     "metadata": {},
     "output_type": "execute_result"
    }
   ],
   "source": [
    "y_EC_D.describe()"
   ]
  },
  {
   "cell_type": "code",
   "execution_count": 14,
   "id": "467ade77",
   "metadata": {},
   "outputs": [
    {
     "data": {
      "text/plain": [
       "count     94.000000\n",
       "mean     196.828723\n",
       "std       73.080996\n",
       "min       30.000000\n",
       "25%      184.683333\n",
       "50%      224.666667\n",
       "75%      243.937500\n",
       "max      297.000000\n",
       "Name: T, dtype: float64"
      ]
     },
     "execution_count": 14,
     "metadata": {},
     "output_type": "execute_result"
    }
   ],
   "source": [
    "y_T_D.describe()"
   ]
  },
  {
   "cell_type": "code",
   "execution_count": 15,
   "id": "e4b97b18",
   "metadata": {},
   "outputs": [
    {
     "data": {
      "text/plain": [
       "count    94.000000\n",
       "mean     10.905819\n",
       "std       2.167230\n",
       "min       6.793333\n",
       "25%       9.500000\n",
       "50%      10.396667\n",
       "75%      11.582833\n",
       "max      17.600000\n",
       "Name: WC, dtype: float64"
      ]
     },
     "execution_count": 15,
     "metadata": {},
     "output_type": "execute_result"
    }
   ],
   "source": [
    "y_WC.describe()"
   ]
  },
  {
   "cell_type": "code",
   "execution_count": 16,
   "id": "90d2f850",
   "metadata": {},
   "outputs": [
    {
     "data": {
      "text/html": [
       "<div>\n",
       "<style scoped>\n",
       "    .dataframe tbody tr th:only-of-type {\n",
       "        vertical-align: middle;\n",
       "    }\n",
       "\n",
       "    .dataframe tbody tr th {\n",
       "        vertical-align: top;\n",
       "    }\n",
       "\n",
       "    .dataframe thead th {\n",
       "        text-align: right;\n",
       "    }\n",
       "</style>\n",
       "<table border=\"1\" class=\"dataframe\">\n",
       "  <thead>\n",
       "    <tr style=\"text-align: right;\">\n",
       "      <th></th>\n",
       "      <th>CPI</th>\n",
       "      <th>DPI</th>\n",
       "      <th>EC</th>\n",
       "      <th>T</th>\n",
       "      <th>WC</th>\n",
       "      <th>1OYSum of kapalı</th>\n",
       "      <th>1OYSum of SURE</th>\n",
       "      <th>1OYSum of CIRC_TIME</th>\n",
       "      <th>1OYSum of WI</th>\n",
       "      <th>1OYMax of DEVIR</th>\n",
       "      <th>...</th>\n",
       "      <th>10KUSum of ALT_C</th>\n",
       "      <th>10KUSum of ÜST_C</th>\n",
       "      <th>10KUSum of TEPE_C</th>\n",
       "      <th>10KUSum of ZONE_C</th>\n",
       "      <th>10KUSum of BEKLEME</th>\n",
       "      <th>10KUSum of FAN</th>\n",
       "      <th>10KUSum of KAPI ACMA</th>\n",
       "      <th>10KUSum of FAN / KLAPE</th>\n",
       "      <th>10KUSum of GAUDI_offset</th>\n",
       "      <th>10KUSum of GAUDI_nonoffset</th>\n",
       "    </tr>\n",
       "  </thead>\n",
       "  <tbody>\n",
       "    <tr>\n",
       "      <th>3</th>\n",
       "      <td>3.220000</td>\n",
       "      <td>76.078000</td>\n",
       "      <td>0.500000</td>\n",
       "      <td>265.000000</td>\n",
       "      <td>10.000000</td>\n",
       "      <td>2</td>\n",
       "      <td>48</td>\n",
       "      <td>43</td>\n",
       "      <td>4.8</td>\n",
       "      <td>2800</td>\n",
       "      <td>...</td>\n",
       "      <td>0</td>\n",
       "      <td>0</td>\n",
       "      <td>0</td>\n",
       "      <td>0</td>\n",
       "      <td>50</td>\n",
       "      <td>57</td>\n",
       "      <td>1</td>\n",
       "      <td>30</td>\n",
       "      <td>0</td>\n",
       "      <td>0</td>\n",
       "    </tr>\n",
       "    <tr>\n",
       "      <th>4</th>\n",
       "      <td>3.280000</td>\n",
       "      <td>78.235000</td>\n",
       "      <td>0.590000</td>\n",
       "      <td>265.000000</td>\n",
       "      <td>9.200000</td>\n",
       "      <td>3</td>\n",
       "      <td>49</td>\n",
       "      <td>44</td>\n",
       "      <td>4.8</td>\n",
       "      <td>2800</td>\n",
       "      <td>...</td>\n",
       "      <td>0</td>\n",
       "      <td>0</td>\n",
       "      <td>0</td>\n",
       "      <td>0</td>\n",
       "      <td>30</td>\n",
       "      <td>63</td>\n",
       "      <td>1</td>\n",
       "      <td>29</td>\n",
       "      <td>0</td>\n",
       "      <td>0</td>\n",
       "    </tr>\n",
       "    <tr>\n",
       "      <th>5</th>\n",
       "      <td>3.270000</td>\n",
       "      <td>81.176000</td>\n",
       "      <td>0.570000</td>\n",
       "      <td>275.000000</td>\n",
       "      <td>9.480000</td>\n",
       "      <td>8</td>\n",
       "      <td>54</td>\n",
       "      <td>49</td>\n",
       "      <td>4.8</td>\n",
       "      <td>2800</td>\n",
       "      <td>...</td>\n",
       "      <td>0</td>\n",
       "      <td>0</td>\n",
       "      <td>0</td>\n",
       "      <td>0</td>\n",
       "      <td>30</td>\n",
       "      <td>80</td>\n",
       "      <td>1</td>\n",
       "      <td>38</td>\n",
       "      <td>0</td>\n",
       "      <td>0</td>\n",
       "    </tr>\n",
       "    <tr>\n",
       "      <th>6</th>\n",
       "      <td>3.300000</td>\n",
       "      <td>77.647000</td>\n",
       "      <td>0.580000</td>\n",
       "      <td>250.000000</td>\n",
       "      <td>9.410000</td>\n",
       "      <td>8</td>\n",
       "      <td>54</td>\n",
       "      <td>49</td>\n",
       "      <td>4.8</td>\n",
       "      <td>2800</td>\n",
       "      <td>...</td>\n",
       "      <td>0</td>\n",
       "      <td>0</td>\n",
       "      <td>0</td>\n",
       "      <td>0</td>\n",
       "      <td>30</td>\n",
       "      <td>63</td>\n",
       "      <td>1</td>\n",
       "      <td>29</td>\n",
       "      <td>0</td>\n",
       "      <td>0</td>\n",
       "    </tr>\n",
       "    <tr>\n",
       "      <th>8</th>\n",
       "      <td>3.270000</td>\n",
       "      <td>82.824000</td>\n",
       "      <td>0.650000</td>\n",
       "      <td>250.000000</td>\n",
       "      <td>9.770000</td>\n",
       "      <td>8</td>\n",
       "      <td>55</td>\n",
       "      <td>49</td>\n",
       "      <td>7.1</td>\n",
       "      <td>2800</td>\n",
       "      <td>...</td>\n",
       "      <td>0</td>\n",
       "      <td>0</td>\n",
       "      <td>0</td>\n",
       "      <td>0</td>\n",
       "      <td>30</td>\n",
       "      <td>63</td>\n",
       "      <td>1</td>\n",
       "      <td>29</td>\n",
       "      <td>0</td>\n",
       "      <td>0</td>\n",
       "    </tr>\n",
       "    <tr>\n",
       "      <th>...</th>\n",
       "      <td>...</td>\n",
       "      <td>...</td>\n",
       "      <td>...</td>\n",
       "      <td>...</td>\n",
       "      <td>...</td>\n",
       "      <td>...</td>\n",
       "      <td>...</td>\n",
       "      <td>...</td>\n",
       "      <td>...</td>\n",
       "      <td>...</td>\n",
       "      <td>...</td>\n",
       "      <td>...</td>\n",
       "      <td>...</td>\n",
       "      <td>...</td>\n",
       "      <td>...</td>\n",
       "      <td>...</td>\n",
       "      <td>...</td>\n",
       "      <td>...</td>\n",
       "      <td>...</td>\n",
       "      <td>...</td>\n",
       "      <td>...</td>\n",
       "    </tr>\n",
       "    <tr>\n",
       "      <th>149</th>\n",
       "      <td>3.300662</td>\n",
       "      <td>84.105960</td>\n",
       "      <td>1.046000</td>\n",
       "      <td>226.000000</td>\n",
       "      <td>12.113333</td>\n",
       "      <td>0</td>\n",
       "      <td>23</td>\n",
       "      <td>20</td>\n",
       "      <td>4.6</td>\n",
       "      <td>2800</td>\n",
       "      <td>...</td>\n",
       "      <td>0</td>\n",
       "      <td>0</td>\n",
       "      <td>0</td>\n",
       "      <td>0</td>\n",
       "      <td>102</td>\n",
       "      <td>0</td>\n",
       "      <td>0</td>\n",
       "      <td>0</td>\n",
       "      <td>0</td>\n",
       "      <td>0</td>\n",
       "    </tr>\n",
       "    <tr>\n",
       "      <th>150</th>\n",
       "      <td>3.358667</td>\n",
       "      <td>87.000000</td>\n",
       "      <td>0.951622</td>\n",
       "      <td>220.000000</td>\n",
       "      <td>9.500000</td>\n",
       "      <td>0</td>\n",
       "      <td>19</td>\n",
       "      <td>16</td>\n",
       "      <td>4.0</td>\n",
       "      <td>2800</td>\n",
       "      <td>...</td>\n",
       "      <td>0</td>\n",
       "      <td>0</td>\n",
       "      <td>0</td>\n",
       "      <td>0</td>\n",
       "      <td>20</td>\n",
       "      <td>73</td>\n",
       "      <td>0</td>\n",
       "      <td>0</td>\n",
       "      <td>0</td>\n",
       "      <td>0</td>\n",
       "    </tr>\n",
       "    <tr>\n",
       "      <th>151</th>\n",
       "      <td>3.550000</td>\n",
       "      <td>80.000000</td>\n",
       "      <td>0.864750</td>\n",
       "      <td>210.000000</td>\n",
       "      <td>12.000000</td>\n",
       "      <td>0</td>\n",
       "      <td>8</td>\n",
       "      <td>6</td>\n",
       "      <td>3.5</td>\n",
       "      <td>2800</td>\n",
       "      <td>...</td>\n",
       "      <td>0</td>\n",
       "      <td>0</td>\n",
       "      <td>0</td>\n",
       "      <td>0</td>\n",
       "      <td>123</td>\n",
       "      <td>0</td>\n",
       "      <td>0</td>\n",
       "      <td>0</td>\n",
       "      <td>0</td>\n",
       "      <td>0</td>\n",
       "    </tr>\n",
       "    <tr>\n",
       "      <th>152</th>\n",
       "      <td>3.230864</td>\n",
       "      <td>86.316872</td>\n",
       "      <td>0.861667</td>\n",
       "      <td>227.666667</td>\n",
       "      <td>10.726667</td>\n",
       "      <td>0</td>\n",
       "      <td>19</td>\n",
       "      <td>16</td>\n",
       "      <td>4.0</td>\n",
       "      <td>2800</td>\n",
       "      <td>...</td>\n",
       "      <td>0</td>\n",
       "      <td>0</td>\n",
       "      <td>0</td>\n",
       "      <td>0</td>\n",
       "      <td>10</td>\n",
       "      <td>98</td>\n",
       "      <td>0</td>\n",
       "      <td>37</td>\n",
       "      <td>0</td>\n",
       "      <td>0</td>\n",
       "    </tr>\n",
       "    <tr>\n",
       "      <th>153</th>\n",
       "      <td>3.224277</td>\n",
       "      <td>85.260116</td>\n",
       "      <td>0.906000</td>\n",
       "      <td>252.500000</td>\n",
       "      <td>11.285000</td>\n",
       "      <td>0</td>\n",
       "      <td>24</td>\n",
       "      <td>21</td>\n",
       "      <td>4.0</td>\n",
       "      <td>2800</td>\n",
       "      <td>...</td>\n",
       "      <td>0</td>\n",
       "      <td>0</td>\n",
       "      <td>0</td>\n",
       "      <td>0</td>\n",
       "      <td>10</td>\n",
       "      <td>98</td>\n",
       "      <td>0</td>\n",
       "      <td>34</td>\n",
       "      <td>0</td>\n",
       "      <td>0</td>\n",
       "    </tr>\n",
       "  </tbody>\n",
       "</table>\n",
       "<p>94 rows × 165 columns</p>\n",
       "</div>"
      ],
      "text/plain": [
       "          CPI        DPI        EC           T         WC  1OYSum of kapalı  \\\n",
       "3    3.220000  76.078000  0.500000  265.000000  10.000000                 2   \n",
       "4    3.280000  78.235000  0.590000  265.000000   9.200000                 3   \n",
       "5    3.270000  81.176000  0.570000  275.000000   9.480000                 8   \n",
       "6    3.300000  77.647000  0.580000  250.000000   9.410000                 8   \n",
       "8    3.270000  82.824000  0.650000  250.000000   9.770000                 8   \n",
       "..        ...        ...       ...         ...        ...               ...   \n",
       "149  3.300662  84.105960  1.046000  226.000000  12.113333                 0   \n",
       "150  3.358667  87.000000  0.951622  220.000000   9.500000                 0   \n",
       "151  3.550000  80.000000  0.864750  210.000000  12.000000                 0   \n",
       "152  3.230864  86.316872  0.861667  227.666667  10.726667                 0   \n",
       "153  3.224277  85.260116  0.906000  252.500000  11.285000                 0   \n",
       "\n",
       "     1OYSum of SURE  1OYSum of CIRC_TIME  1OYSum of WI  1OYMax of DEVIR  ...  \\\n",
       "3                48                   43           4.8             2800  ...   \n",
       "4                49                   44           4.8             2800  ...   \n",
       "5                54                   49           4.8             2800  ...   \n",
       "6                54                   49           4.8             2800  ...   \n",
       "8                55                   49           7.1             2800  ...   \n",
       "..              ...                  ...           ...              ...  ...   \n",
       "149              23                   20           4.6             2800  ...   \n",
       "150              19                   16           4.0             2800  ...   \n",
       "151               8                    6           3.5             2800  ...   \n",
       "152              19                   16           4.0             2800  ...   \n",
       "153              24                   21           4.0             2800  ...   \n",
       "\n",
       "     10KUSum of ALT_C  10KUSum of ÜST_C  10KUSum of TEPE_C  10KUSum of ZONE_C  \\\n",
       "3                   0                 0                  0                  0   \n",
       "4                   0                 0                  0                  0   \n",
       "5                   0                 0                  0                  0   \n",
       "6                   0                 0                  0                  0   \n",
       "8                   0                 0                  0                  0   \n",
       "..                ...               ...                ...                ...   \n",
       "149                 0                 0                  0                  0   \n",
       "150                 0                 0                  0                  0   \n",
       "151                 0                 0                  0                  0   \n",
       "152                 0                 0                  0                  0   \n",
       "153                 0                 0                  0                  0   \n",
       "\n",
       "     10KUSum of BEKLEME  10KUSum of FAN  10KUSum of KAPI ACMA  \\\n",
       "3                    50              57                     1   \n",
       "4                    30              63                     1   \n",
       "5                    30              80                     1   \n",
       "6                    30              63                     1   \n",
       "8                    30              63                     1   \n",
       "..                  ...             ...                   ...   \n",
       "149                 102               0                     0   \n",
       "150                  20              73                     0   \n",
       "151                 123               0                     0   \n",
       "152                  10              98                     0   \n",
       "153                  10              98                     0   \n",
       "\n",
       "     10KUSum of FAN / KLAPE  10KUSum of GAUDI_offset  \\\n",
       "3                        30                        0   \n",
       "4                        29                        0   \n",
       "5                        38                        0   \n",
       "6                        29                        0   \n",
       "8                        29                        0   \n",
       "..                      ...                      ...   \n",
       "149                       0                        0   \n",
       "150                       0                        0   \n",
       "151                       0                        0   \n",
       "152                      37                        0   \n",
       "153                      34                        0   \n",
       "\n",
       "     10KUSum of GAUDI_nonoffset  \n",
       "3                             0  \n",
       "4                             0  \n",
       "5                             0  \n",
       "6                             0  \n",
       "8                             0  \n",
       "..                          ...  \n",
       "149                           0  \n",
       "150                           0  \n",
       "151                           0  \n",
       "152                           0  \n",
       "153                           0  \n",
       "\n",
       "[94 rows x 165 columns]"
      ]
     },
     "execution_count": 16,
     "metadata": {},
     "output_type": "execute_result"
    }
   ],
   "source": [
    "df"
   ]
  },
  {
   "cell_type": "code",
   "execution_count": 17,
   "id": "fc87630b",
   "metadata": {},
   "outputs": [],
   "source": [
    "df_reference=df"
   ]
  },
  {
   "cell_type": "code",
   "execution_count": 18,
   "id": "b504a472",
   "metadata": {},
   "outputs": [
    {
     "data": {
      "text/html": [
       "<div>\n",
       "<style scoped>\n",
       "    .dataframe tbody tr th:only-of-type {\n",
       "        vertical-align: middle;\n",
       "    }\n",
       "\n",
       "    .dataframe tbody tr th {\n",
       "        vertical-align: top;\n",
       "    }\n",
       "\n",
       "    .dataframe thead th {\n",
       "        text-align: right;\n",
       "    }\n",
       "</style>\n",
       "<table border=\"1\" class=\"dataframe\">\n",
       "  <thead>\n",
       "    <tr style=\"text-align: right;\">\n",
       "      <th></th>\n",
       "      <th>CPI</th>\n",
       "      <th>DPI</th>\n",
       "      <th>EC</th>\n",
       "      <th>T</th>\n",
       "      <th>WC</th>\n",
       "      <th>1OYSum of kapalı</th>\n",
       "      <th>1OYSum of SURE</th>\n",
       "      <th>1OYSum of CIRC_TIME</th>\n",
       "      <th>1OYSum of WI</th>\n",
       "      <th>1OYMax of DEVIR</th>\n",
       "      <th>...</th>\n",
       "      <th>10KUSum of ALT_C</th>\n",
       "      <th>10KUSum of ÜST_C</th>\n",
       "      <th>10KUSum of TEPE_C</th>\n",
       "      <th>10KUSum of ZONE_C</th>\n",
       "      <th>10KUSum of BEKLEME</th>\n",
       "      <th>10KUSum of FAN</th>\n",
       "      <th>10KUSum of KAPI ACMA</th>\n",
       "      <th>10KUSum of FAN / KLAPE</th>\n",
       "      <th>10KUSum of GAUDI_offset</th>\n",
       "      <th>10KUSum of GAUDI_nonoffset</th>\n",
       "    </tr>\n",
       "  </thead>\n",
       "  <tbody>\n",
       "    <tr>\n",
       "      <th>3</th>\n",
       "      <td>3.220000</td>\n",
       "      <td>76.078000</td>\n",
       "      <td>0.500000</td>\n",
       "      <td>265.000000</td>\n",
       "      <td>10.000000</td>\n",
       "      <td>2</td>\n",
       "      <td>48</td>\n",
       "      <td>43</td>\n",
       "      <td>4.8</td>\n",
       "      <td>2800</td>\n",
       "      <td>...</td>\n",
       "      <td>0</td>\n",
       "      <td>0</td>\n",
       "      <td>0</td>\n",
       "      <td>0</td>\n",
       "      <td>50</td>\n",
       "      <td>57</td>\n",
       "      <td>1</td>\n",
       "      <td>30</td>\n",
       "      <td>0</td>\n",
       "      <td>0</td>\n",
       "    </tr>\n",
       "    <tr>\n",
       "      <th>4</th>\n",
       "      <td>3.280000</td>\n",
       "      <td>78.235000</td>\n",
       "      <td>0.590000</td>\n",
       "      <td>265.000000</td>\n",
       "      <td>9.200000</td>\n",
       "      <td>3</td>\n",
       "      <td>49</td>\n",
       "      <td>44</td>\n",
       "      <td>4.8</td>\n",
       "      <td>2800</td>\n",
       "      <td>...</td>\n",
       "      <td>0</td>\n",
       "      <td>0</td>\n",
       "      <td>0</td>\n",
       "      <td>0</td>\n",
       "      <td>30</td>\n",
       "      <td>63</td>\n",
       "      <td>1</td>\n",
       "      <td>29</td>\n",
       "      <td>0</td>\n",
       "      <td>0</td>\n",
       "    </tr>\n",
       "    <tr>\n",
       "      <th>5</th>\n",
       "      <td>3.270000</td>\n",
       "      <td>81.176000</td>\n",
       "      <td>0.570000</td>\n",
       "      <td>275.000000</td>\n",
       "      <td>9.480000</td>\n",
       "      <td>8</td>\n",
       "      <td>54</td>\n",
       "      <td>49</td>\n",
       "      <td>4.8</td>\n",
       "      <td>2800</td>\n",
       "      <td>...</td>\n",
       "      <td>0</td>\n",
       "      <td>0</td>\n",
       "      <td>0</td>\n",
       "      <td>0</td>\n",
       "      <td>30</td>\n",
       "      <td>80</td>\n",
       "      <td>1</td>\n",
       "      <td>38</td>\n",
       "      <td>0</td>\n",
       "      <td>0</td>\n",
       "    </tr>\n",
       "    <tr>\n",
       "      <th>6</th>\n",
       "      <td>3.300000</td>\n",
       "      <td>77.647000</td>\n",
       "      <td>0.580000</td>\n",
       "      <td>250.000000</td>\n",
       "      <td>9.410000</td>\n",
       "      <td>8</td>\n",
       "      <td>54</td>\n",
       "      <td>49</td>\n",
       "      <td>4.8</td>\n",
       "      <td>2800</td>\n",
       "      <td>...</td>\n",
       "      <td>0</td>\n",
       "      <td>0</td>\n",
       "      <td>0</td>\n",
       "      <td>0</td>\n",
       "      <td>30</td>\n",
       "      <td>63</td>\n",
       "      <td>1</td>\n",
       "      <td>29</td>\n",
       "      <td>0</td>\n",
       "      <td>0</td>\n",
       "    </tr>\n",
       "    <tr>\n",
       "      <th>8</th>\n",
       "      <td>3.270000</td>\n",
       "      <td>82.824000</td>\n",
       "      <td>0.650000</td>\n",
       "      <td>250.000000</td>\n",
       "      <td>9.770000</td>\n",
       "      <td>8</td>\n",
       "      <td>55</td>\n",
       "      <td>49</td>\n",
       "      <td>7.1</td>\n",
       "      <td>2800</td>\n",
       "      <td>...</td>\n",
       "      <td>0</td>\n",
       "      <td>0</td>\n",
       "      <td>0</td>\n",
       "      <td>0</td>\n",
       "      <td>30</td>\n",
       "      <td>63</td>\n",
       "      <td>1</td>\n",
       "      <td>29</td>\n",
       "      <td>0</td>\n",
       "      <td>0</td>\n",
       "    </tr>\n",
       "    <tr>\n",
       "      <th>...</th>\n",
       "      <td>...</td>\n",
       "      <td>...</td>\n",
       "      <td>...</td>\n",
       "      <td>...</td>\n",
       "      <td>...</td>\n",
       "      <td>...</td>\n",
       "      <td>...</td>\n",
       "      <td>...</td>\n",
       "      <td>...</td>\n",
       "      <td>...</td>\n",
       "      <td>...</td>\n",
       "      <td>...</td>\n",
       "      <td>...</td>\n",
       "      <td>...</td>\n",
       "      <td>...</td>\n",
       "      <td>...</td>\n",
       "      <td>...</td>\n",
       "      <td>...</td>\n",
       "      <td>...</td>\n",
       "      <td>...</td>\n",
       "      <td>...</td>\n",
       "    </tr>\n",
       "    <tr>\n",
       "      <th>149</th>\n",
       "      <td>3.300662</td>\n",
       "      <td>84.105960</td>\n",
       "      <td>1.046000</td>\n",
       "      <td>226.000000</td>\n",
       "      <td>12.113333</td>\n",
       "      <td>0</td>\n",
       "      <td>23</td>\n",
       "      <td>20</td>\n",
       "      <td>4.6</td>\n",
       "      <td>2800</td>\n",
       "      <td>...</td>\n",
       "      <td>0</td>\n",
       "      <td>0</td>\n",
       "      <td>0</td>\n",
       "      <td>0</td>\n",
       "      <td>102</td>\n",
       "      <td>0</td>\n",
       "      <td>0</td>\n",
       "      <td>0</td>\n",
       "      <td>0</td>\n",
       "      <td>0</td>\n",
       "    </tr>\n",
       "    <tr>\n",
       "      <th>150</th>\n",
       "      <td>3.358667</td>\n",
       "      <td>87.000000</td>\n",
       "      <td>0.951622</td>\n",
       "      <td>220.000000</td>\n",
       "      <td>9.500000</td>\n",
       "      <td>0</td>\n",
       "      <td>19</td>\n",
       "      <td>16</td>\n",
       "      <td>4.0</td>\n",
       "      <td>2800</td>\n",
       "      <td>...</td>\n",
       "      <td>0</td>\n",
       "      <td>0</td>\n",
       "      <td>0</td>\n",
       "      <td>0</td>\n",
       "      <td>20</td>\n",
       "      <td>73</td>\n",
       "      <td>0</td>\n",
       "      <td>0</td>\n",
       "      <td>0</td>\n",
       "      <td>0</td>\n",
       "    </tr>\n",
       "    <tr>\n",
       "      <th>151</th>\n",
       "      <td>3.550000</td>\n",
       "      <td>80.000000</td>\n",
       "      <td>0.864750</td>\n",
       "      <td>210.000000</td>\n",
       "      <td>12.000000</td>\n",
       "      <td>0</td>\n",
       "      <td>8</td>\n",
       "      <td>6</td>\n",
       "      <td>3.5</td>\n",
       "      <td>2800</td>\n",
       "      <td>...</td>\n",
       "      <td>0</td>\n",
       "      <td>0</td>\n",
       "      <td>0</td>\n",
       "      <td>0</td>\n",
       "      <td>123</td>\n",
       "      <td>0</td>\n",
       "      <td>0</td>\n",
       "      <td>0</td>\n",
       "      <td>0</td>\n",
       "      <td>0</td>\n",
       "    </tr>\n",
       "    <tr>\n",
       "      <th>152</th>\n",
       "      <td>3.230864</td>\n",
       "      <td>86.316872</td>\n",
       "      <td>0.861667</td>\n",
       "      <td>227.666667</td>\n",
       "      <td>10.726667</td>\n",
       "      <td>0</td>\n",
       "      <td>19</td>\n",
       "      <td>16</td>\n",
       "      <td>4.0</td>\n",
       "      <td>2800</td>\n",
       "      <td>...</td>\n",
       "      <td>0</td>\n",
       "      <td>0</td>\n",
       "      <td>0</td>\n",
       "      <td>0</td>\n",
       "      <td>10</td>\n",
       "      <td>98</td>\n",
       "      <td>0</td>\n",
       "      <td>37</td>\n",
       "      <td>0</td>\n",
       "      <td>0</td>\n",
       "    </tr>\n",
       "    <tr>\n",
       "      <th>153</th>\n",
       "      <td>3.224277</td>\n",
       "      <td>85.260116</td>\n",
       "      <td>0.906000</td>\n",
       "      <td>252.500000</td>\n",
       "      <td>11.285000</td>\n",
       "      <td>0</td>\n",
       "      <td>24</td>\n",
       "      <td>21</td>\n",
       "      <td>4.0</td>\n",
       "      <td>2800</td>\n",
       "      <td>...</td>\n",
       "      <td>0</td>\n",
       "      <td>0</td>\n",
       "      <td>0</td>\n",
       "      <td>0</td>\n",
       "      <td>10</td>\n",
       "      <td>98</td>\n",
       "      <td>0</td>\n",
       "      <td>34</td>\n",
       "      <td>0</td>\n",
       "      <td>0</td>\n",
       "    </tr>\n",
       "  </tbody>\n",
       "</table>\n",
       "<p>94 rows × 165 columns</p>\n",
       "</div>"
      ],
      "text/plain": [
       "          CPI        DPI        EC           T         WC  1OYSum of kapalı  \\\n",
       "3    3.220000  76.078000  0.500000  265.000000  10.000000                 2   \n",
       "4    3.280000  78.235000  0.590000  265.000000   9.200000                 3   \n",
       "5    3.270000  81.176000  0.570000  275.000000   9.480000                 8   \n",
       "6    3.300000  77.647000  0.580000  250.000000   9.410000                 8   \n",
       "8    3.270000  82.824000  0.650000  250.000000   9.770000                 8   \n",
       "..        ...        ...       ...         ...        ...               ...   \n",
       "149  3.300662  84.105960  1.046000  226.000000  12.113333                 0   \n",
       "150  3.358667  87.000000  0.951622  220.000000   9.500000                 0   \n",
       "151  3.550000  80.000000  0.864750  210.000000  12.000000                 0   \n",
       "152  3.230864  86.316872  0.861667  227.666667  10.726667                 0   \n",
       "153  3.224277  85.260116  0.906000  252.500000  11.285000                 0   \n",
       "\n",
       "     1OYSum of SURE  1OYSum of CIRC_TIME  1OYSum of WI  1OYMax of DEVIR  ...  \\\n",
       "3                48                   43           4.8             2800  ...   \n",
       "4                49                   44           4.8             2800  ...   \n",
       "5                54                   49           4.8             2800  ...   \n",
       "6                54                   49           4.8             2800  ...   \n",
       "8                55                   49           7.1             2800  ...   \n",
       "..              ...                  ...           ...              ...  ...   \n",
       "149              23                   20           4.6             2800  ...   \n",
       "150              19                   16           4.0             2800  ...   \n",
       "151               8                    6           3.5             2800  ...   \n",
       "152              19                   16           4.0             2800  ...   \n",
       "153              24                   21           4.0             2800  ...   \n",
       "\n",
       "     10KUSum of ALT_C  10KUSum of ÜST_C  10KUSum of TEPE_C  10KUSum of ZONE_C  \\\n",
       "3                   0                 0                  0                  0   \n",
       "4                   0                 0                  0                  0   \n",
       "5                   0                 0                  0                  0   \n",
       "6                   0                 0                  0                  0   \n",
       "8                   0                 0                  0                  0   \n",
       "..                ...               ...                ...                ...   \n",
       "149                 0                 0                  0                  0   \n",
       "150                 0                 0                  0                  0   \n",
       "151                 0                 0                  0                  0   \n",
       "152                 0                 0                  0                  0   \n",
       "153                 0                 0                  0                  0   \n",
       "\n",
       "     10KUSum of BEKLEME  10KUSum of FAN  10KUSum of KAPI ACMA  \\\n",
       "3                    50              57                     1   \n",
       "4                    30              63                     1   \n",
       "5                    30              80                     1   \n",
       "6                    30              63                     1   \n",
       "8                    30              63                     1   \n",
       "..                  ...             ...                   ...   \n",
       "149                 102               0                     0   \n",
       "150                  20              73                     0   \n",
       "151                 123               0                     0   \n",
       "152                  10              98                     0   \n",
       "153                  10              98                     0   \n",
       "\n",
       "     10KUSum of FAN / KLAPE  10KUSum of GAUDI_offset  \\\n",
       "3                        30                        0   \n",
       "4                        29                        0   \n",
       "5                        38                        0   \n",
       "6                        29                        0   \n",
       "8                        29                        0   \n",
       "..                      ...                      ...   \n",
       "149                       0                        0   \n",
       "150                       0                        0   \n",
       "151                       0                        0   \n",
       "152                      37                        0   \n",
       "153                      34                        0   \n",
       "\n",
       "     10KUSum of GAUDI_nonoffset  \n",
       "3                             0  \n",
       "4                             0  \n",
       "5                             0  \n",
       "6                             0  \n",
       "8                             0  \n",
       "..                          ...  \n",
       "149                           0  \n",
       "150                           0  \n",
       "151                           0  \n",
       "152                           0  \n",
       "153                           0  \n",
       "\n",
       "[94 rows x 165 columns]"
      ]
     },
     "execution_count": 18,
     "metadata": {},
     "output_type": "execute_result"
    }
   ],
   "source": [
    "df_reference"
   ]
  },
  {
   "cell_type": "markdown",
   "id": "19000de5",
   "metadata": {},
   "source": [
    "df_reference is created. This is very critical due to the fact that we use it as a starting point."
   ]
  },
  {
   "cell_type": "code",
   "execution_count": 19,
   "id": "f1307635",
   "metadata": {},
   "outputs": [],
   "source": [
    "df=df_reference[indvar]"
   ]
  },
  {
   "cell_type": "code",
   "execution_count": 20,
   "id": "23904e61",
   "metadata": {},
   "outputs": [
    {
     "data": {
      "text/html": [
       "<div>\n",
       "<style scoped>\n",
       "    .dataframe tbody tr th:only-of-type {\n",
       "        vertical-align: middle;\n",
       "    }\n",
       "\n",
       "    .dataframe tbody tr th {\n",
       "        vertical-align: top;\n",
       "    }\n",
       "\n",
       "    .dataframe thead th {\n",
       "        text-align: right;\n",
       "    }\n",
       "</style>\n",
       "<table border=\"1\" class=\"dataframe\">\n",
       "  <thead>\n",
       "    <tr style=\"text-align: right;\">\n",
       "      <th></th>\n",
       "      <th>1OYSum of kapalı</th>\n",
       "      <th>1OYSum of SURE</th>\n",
       "      <th>1OYSum of CIRC_TIME</th>\n",
       "      <th>1OYSum of WI</th>\n",
       "      <th>1OYMax of DEVIR</th>\n",
       "      <th>1OYMax of TEMP</th>\n",
       "      <th>1OYSum of ALT_C</th>\n",
       "      <th>1OYSum of ÜST_C</th>\n",
       "      <th>1OYSum of TEPE_C</th>\n",
       "      <th>1OYSum of ZONE_C</th>\n",
       "      <th>...</th>\n",
       "      <th>10KUSum of ALT_C</th>\n",
       "      <th>10KUSum of ÜST_C</th>\n",
       "      <th>10KUSum of TEPE_C</th>\n",
       "      <th>10KUSum of ZONE_C</th>\n",
       "      <th>10KUSum of BEKLEME</th>\n",
       "      <th>10KUSum of FAN</th>\n",
       "      <th>10KUSum of KAPI ACMA</th>\n",
       "      <th>10KUSum of FAN / KLAPE</th>\n",
       "      <th>10KUSum of GAUDI_offset</th>\n",
       "      <th>10KUSum of GAUDI_nonoffset</th>\n",
       "    </tr>\n",
       "  </thead>\n",
       "  <tbody>\n",
       "    <tr>\n",
       "      <th>3</th>\n",
       "      <td>2</td>\n",
       "      <td>48</td>\n",
       "      <td>43</td>\n",
       "      <td>4.8</td>\n",
       "      <td>2800</td>\n",
       "      <td>53</td>\n",
       "      <td>14.6</td>\n",
       "      <td>18.6</td>\n",
       "      <td>7.8</td>\n",
       "      <td>0</td>\n",
       "      <td>...</td>\n",
       "      <td>0</td>\n",
       "      <td>0</td>\n",
       "      <td>0</td>\n",
       "      <td>0</td>\n",
       "      <td>50</td>\n",
       "      <td>57</td>\n",
       "      <td>1</td>\n",
       "      <td>30</td>\n",
       "      <td>0</td>\n",
       "      <td>0</td>\n",
       "    </tr>\n",
       "    <tr>\n",
       "      <th>4</th>\n",
       "      <td>3</td>\n",
       "      <td>49</td>\n",
       "      <td>44</td>\n",
       "      <td>4.8</td>\n",
       "      <td>2800</td>\n",
       "      <td>55</td>\n",
       "      <td>14.6</td>\n",
       "      <td>18.6</td>\n",
       "      <td>7.8</td>\n",
       "      <td>0</td>\n",
       "      <td>...</td>\n",
       "      <td>0</td>\n",
       "      <td>0</td>\n",
       "      <td>0</td>\n",
       "      <td>0</td>\n",
       "      <td>30</td>\n",
       "      <td>63</td>\n",
       "      <td>1</td>\n",
       "      <td>29</td>\n",
       "      <td>0</td>\n",
       "      <td>0</td>\n",
       "    </tr>\n",
       "    <tr>\n",
       "      <th>5</th>\n",
       "      <td>8</td>\n",
       "      <td>54</td>\n",
       "      <td>49</td>\n",
       "      <td>4.8</td>\n",
       "      <td>2800</td>\n",
       "      <td>56</td>\n",
       "      <td>14.6</td>\n",
       "      <td>18.6</td>\n",
       "      <td>7.8</td>\n",
       "      <td>0</td>\n",
       "      <td>...</td>\n",
       "      <td>0</td>\n",
       "      <td>0</td>\n",
       "      <td>0</td>\n",
       "      <td>0</td>\n",
       "      <td>30</td>\n",
       "      <td>80</td>\n",
       "      <td>1</td>\n",
       "      <td>38</td>\n",
       "      <td>0</td>\n",
       "      <td>0</td>\n",
       "    </tr>\n",
       "    <tr>\n",
       "      <th>6</th>\n",
       "      <td>8</td>\n",
       "      <td>54</td>\n",
       "      <td>49</td>\n",
       "      <td>4.8</td>\n",
       "      <td>2800</td>\n",
       "      <td>55</td>\n",
       "      <td>14.6</td>\n",
       "      <td>18.6</td>\n",
       "      <td>7.8</td>\n",
       "      <td>0</td>\n",
       "      <td>...</td>\n",
       "      <td>0</td>\n",
       "      <td>0</td>\n",
       "      <td>0</td>\n",
       "      <td>0</td>\n",
       "      <td>30</td>\n",
       "      <td>63</td>\n",
       "      <td>1</td>\n",
       "      <td>29</td>\n",
       "      <td>0</td>\n",
       "      <td>0</td>\n",
       "    </tr>\n",
       "    <tr>\n",
       "      <th>8</th>\n",
       "      <td>8</td>\n",
       "      <td>55</td>\n",
       "      <td>49</td>\n",
       "      <td>7.1</td>\n",
       "      <td>2800</td>\n",
       "      <td>55</td>\n",
       "      <td>14.6</td>\n",
       "      <td>18.6</td>\n",
       "      <td>7.8</td>\n",
       "      <td>0</td>\n",
       "      <td>...</td>\n",
       "      <td>0</td>\n",
       "      <td>0</td>\n",
       "      <td>0</td>\n",
       "      <td>0</td>\n",
       "      <td>30</td>\n",
       "      <td>63</td>\n",
       "      <td>1</td>\n",
       "      <td>29</td>\n",
       "      <td>0</td>\n",
       "      <td>0</td>\n",
       "    </tr>\n",
       "    <tr>\n",
       "      <th>...</th>\n",
       "      <td>...</td>\n",
       "      <td>...</td>\n",
       "      <td>...</td>\n",
       "      <td>...</td>\n",
       "      <td>...</td>\n",
       "      <td>...</td>\n",
       "      <td>...</td>\n",
       "      <td>...</td>\n",
       "      <td>...</td>\n",
       "      <td>...</td>\n",
       "      <td>...</td>\n",
       "      <td>...</td>\n",
       "      <td>...</td>\n",
       "      <td>...</td>\n",
       "      <td>...</td>\n",
       "      <td>...</td>\n",
       "      <td>...</td>\n",
       "      <td>...</td>\n",
       "      <td>...</td>\n",
       "      <td>...</td>\n",
       "      <td>...</td>\n",
       "    </tr>\n",
       "    <tr>\n",
       "      <th>149</th>\n",
       "      <td>0</td>\n",
       "      <td>23</td>\n",
       "      <td>20</td>\n",
       "      <td>4.6</td>\n",
       "      <td>2800</td>\n",
       "      <td>0</td>\n",
       "      <td>20.0</td>\n",
       "      <td>20.0</td>\n",
       "      <td>0.0</td>\n",
       "      <td>0</td>\n",
       "      <td>...</td>\n",
       "      <td>0</td>\n",
       "      <td>0</td>\n",
       "      <td>0</td>\n",
       "      <td>0</td>\n",
       "      <td>102</td>\n",
       "      <td>0</td>\n",
       "      <td>0</td>\n",
       "      <td>0</td>\n",
       "      <td>0</td>\n",
       "      <td>0</td>\n",
       "    </tr>\n",
       "    <tr>\n",
       "      <th>150</th>\n",
       "      <td>0</td>\n",
       "      <td>19</td>\n",
       "      <td>16</td>\n",
       "      <td>4.0</td>\n",
       "      <td>2800</td>\n",
       "      <td>0</td>\n",
       "      <td>6.6</td>\n",
       "      <td>5.6</td>\n",
       "      <td>3.8</td>\n",
       "      <td>0</td>\n",
       "      <td>...</td>\n",
       "      <td>0</td>\n",
       "      <td>0</td>\n",
       "      <td>0</td>\n",
       "      <td>0</td>\n",
       "      <td>20</td>\n",
       "      <td>73</td>\n",
       "      <td>0</td>\n",
       "      <td>0</td>\n",
       "      <td>0</td>\n",
       "      <td>0</td>\n",
       "    </tr>\n",
       "    <tr>\n",
       "      <th>151</th>\n",
       "      <td>0</td>\n",
       "      <td>8</td>\n",
       "      <td>6</td>\n",
       "      <td>3.5</td>\n",
       "      <td>2800</td>\n",
       "      <td>0</td>\n",
       "      <td>6.0</td>\n",
       "      <td>6.0</td>\n",
       "      <td>0.0</td>\n",
       "      <td>0</td>\n",
       "      <td>...</td>\n",
       "      <td>0</td>\n",
       "      <td>0</td>\n",
       "      <td>0</td>\n",
       "      <td>0</td>\n",
       "      <td>123</td>\n",
       "      <td>0</td>\n",
       "      <td>0</td>\n",
       "      <td>0</td>\n",
       "      <td>0</td>\n",
       "      <td>0</td>\n",
       "    </tr>\n",
       "    <tr>\n",
       "      <th>152</th>\n",
       "      <td>0</td>\n",
       "      <td>19</td>\n",
       "      <td>16</td>\n",
       "      <td>4.0</td>\n",
       "      <td>2800</td>\n",
       "      <td>0</td>\n",
       "      <td>6.5</td>\n",
       "      <td>5.5</td>\n",
       "      <td>4.0</td>\n",
       "      <td>0</td>\n",
       "      <td>...</td>\n",
       "      <td>0</td>\n",
       "      <td>0</td>\n",
       "      <td>0</td>\n",
       "      <td>0</td>\n",
       "      <td>10</td>\n",
       "      <td>98</td>\n",
       "      <td>0</td>\n",
       "      <td>37</td>\n",
       "      <td>0</td>\n",
       "      <td>0</td>\n",
       "    </tr>\n",
       "    <tr>\n",
       "      <th>153</th>\n",
       "      <td>0</td>\n",
       "      <td>24</td>\n",
       "      <td>21</td>\n",
       "      <td>4.0</td>\n",
       "      <td>2800</td>\n",
       "      <td>0</td>\n",
       "      <td>7.4</td>\n",
       "      <td>8.4</td>\n",
       "      <td>5.2</td>\n",
       "      <td>0</td>\n",
       "      <td>...</td>\n",
       "      <td>0</td>\n",
       "      <td>0</td>\n",
       "      <td>0</td>\n",
       "      <td>0</td>\n",
       "      <td>10</td>\n",
       "      <td>98</td>\n",
       "      <td>0</td>\n",
       "      <td>34</td>\n",
       "      <td>0</td>\n",
       "      <td>0</td>\n",
       "    </tr>\n",
       "  </tbody>\n",
       "</table>\n",
       "<p>94 rows × 160 columns</p>\n",
       "</div>"
      ],
      "text/plain": [
       "     1OYSum of kapalı  1OYSum of SURE  1OYSum of CIRC_TIME  1OYSum of WI  \\\n",
       "3                   2              48                   43           4.8   \n",
       "4                   3              49                   44           4.8   \n",
       "5                   8              54                   49           4.8   \n",
       "6                   8              54                   49           4.8   \n",
       "8                   8              55                   49           7.1   \n",
       "..                ...             ...                  ...           ...   \n",
       "149                 0              23                   20           4.6   \n",
       "150                 0              19                   16           4.0   \n",
       "151                 0               8                    6           3.5   \n",
       "152                 0              19                   16           4.0   \n",
       "153                 0              24                   21           4.0   \n",
       "\n",
       "     1OYMax of DEVIR  1OYMax of TEMP  1OYSum of ALT_C  1OYSum of ÜST_C  \\\n",
       "3               2800              53             14.6             18.6   \n",
       "4               2800              55             14.6             18.6   \n",
       "5               2800              56             14.6             18.6   \n",
       "6               2800              55             14.6             18.6   \n",
       "8               2800              55             14.6             18.6   \n",
       "..               ...             ...              ...              ...   \n",
       "149             2800               0             20.0             20.0   \n",
       "150             2800               0              6.6              5.6   \n",
       "151             2800               0              6.0              6.0   \n",
       "152             2800               0              6.5              5.5   \n",
       "153             2800               0              7.4              8.4   \n",
       "\n",
       "     1OYSum of TEPE_C  1OYSum of ZONE_C  ...  10KUSum of ALT_C  \\\n",
       "3                 7.8                 0  ...                 0   \n",
       "4                 7.8                 0  ...                 0   \n",
       "5                 7.8                 0  ...                 0   \n",
       "6                 7.8                 0  ...                 0   \n",
       "8                 7.8                 0  ...                 0   \n",
       "..                ...               ...  ...               ...   \n",
       "149               0.0                 0  ...                 0   \n",
       "150               3.8                 0  ...                 0   \n",
       "151               0.0                 0  ...                 0   \n",
       "152               4.0                 0  ...                 0   \n",
       "153               5.2                 0  ...                 0   \n",
       "\n",
       "     10KUSum of ÜST_C  10KUSum of TEPE_C  10KUSum of ZONE_C  \\\n",
       "3                   0                  0                  0   \n",
       "4                   0                  0                  0   \n",
       "5                   0                  0                  0   \n",
       "6                   0                  0                  0   \n",
       "8                   0                  0                  0   \n",
       "..                ...                ...                ...   \n",
       "149                 0                  0                  0   \n",
       "150                 0                  0                  0   \n",
       "151                 0                  0                  0   \n",
       "152                 0                  0                  0   \n",
       "153                 0                  0                  0   \n",
       "\n",
       "     10KUSum of BEKLEME  10KUSum of FAN  10KUSum of KAPI ACMA  \\\n",
       "3                    50              57                     1   \n",
       "4                    30              63                     1   \n",
       "5                    30              80                     1   \n",
       "6                    30              63                     1   \n",
       "8                    30              63                     1   \n",
       "..                  ...             ...                   ...   \n",
       "149                 102               0                     0   \n",
       "150                  20              73                     0   \n",
       "151                 123               0                     0   \n",
       "152                  10              98                     0   \n",
       "153                  10              98                     0   \n",
       "\n",
       "     10KUSum of FAN / KLAPE  10KUSum of GAUDI_offset  \\\n",
       "3                        30                        0   \n",
       "4                        29                        0   \n",
       "5                        38                        0   \n",
       "6                        29                        0   \n",
       "8                        29                        0   \n",
       "..                      ...                      ...   \n",
       "149                       0                        0   \n",
       "150                       0                        0   \n",
       "151                       0                        0   \n",
       "152                      37                        0   \n",
       "153                      34                        0   \n",
       "\n",
       "     10KUSum of GAUDI_nonoffset  \n",
       "3                             0  \n",
       "4                             0  \n",
       "5                             0  \n",
       "6                             0  \n",
       "8                             0  \n",
       "..                          ...  \n",
       "149                           0  \n",
       "150                           0  \n",
       "151                           0  \n",
       "152                           0  \n",
       "153                           0  \n",
       "\n",
       "[94 rows x 160 columns]"
      ]
     },
     "execution_count": 20,
     "metadata": {},
     "output_type": "execute_result"
    }
   ],
   "source": [
    "df"
   ]
  },
  {
   "cell_type": "markdown",
   "id": "45ede4bd",
   "metadata": {},
   "source": [
    "## Variance Analysis"
   ]
  },
  {
   "cell_type": "code",
   "execution_count": 21,
   "id": "648b6872",
   "metadata": {},
   "outputs": [
    {
     "data": {
      "text/plain": [
       "Index(['1OYSum of kapalı', '1OYSum of SURE', '1OYSum of CIRC_TIME',\n",
       "       '1OYSum of WI', '1OYMax of DEVIR', '1OYMax of TEMP', '1OYSum of ALT_C',\n",
       "       '1OYSum of ÜST_C', '1OYSum of TEPE_C', '1OYSum of BEKLEME',\n",
       "       '2AYSum of kapalı', '2AYSum of SURE', '2AYSum of CIRC_TIME',\n",
       "       '2AYSum of WI', '2AYMax of DEVIR', '2AYMax of TEMP', '2AYSum of ALT_C',\n",
       "       '2AYSum of ÜST_C', '2AYSum of TEPE_C', '3MFTSum of SURE',\n",
       "       '3MFTSum of WI', '4SGDSum of SURE', '4SGDSum of CIRC_TIME',\n",
       "       '4SGDSum of WI', '4SGDMax of DEVIR', '4SGDSum of ALT_C',\n",
       "       '4SGDSum of ÜST_C', '4SGDSum of TEPE_C', '4SGDSum of BEKLEME',\n",
       "       '7SCD2Sum of kapalı', '7SCD2Sum of SURE', '7SCD2Sum of CIRC_TIME',\n",
       "       '7SCD2Sum of WI', '7SCD2Max of DEVIR', '7SCD2Max of TEMP',\n",
       "       '7SCD2Sum of ALT_C', '7SCD2Sum of ÜST_C', '7SCD2Sum of TEPE_C',\n",
       "       '7SCD2Sum of BEKLEME', '8DSBSum of kapalı', '8DSBSum of SURE',\n",
       "       '8DSBSum of CIRC_TIME', '8DSBMax of DEVIR', '10KUSum of SURE',\n",
       "       '10KUSum of BEKLEME', '10KUSum of FAN', '10KUSum of KAPI ACMA',\n",
       "       '10KUSum of FAN / KLAPE', '10KUSum of GAUDI_offset'],\n",
       "      dtype='object')"
      ]
     },
     "execution_count": 21,
     "metadata": {},
     "output_type": "execute_result"
    }
   ],
   "source": [
    "from sklearn.feature_selection import VarianceThreshold\n",
    "\n",
    "var_thr = VarianceThreshold(threshold = 0.1) #Removing both constant and quasi-constant\n",
    "var_thr.fit(df)\n",
    "\n",
    "var_thr.get_support()\n",
    "concol = [column for column in df.columns \n",
    "          if column not in df.columns[var_thr.get_support()]]\n",
    "df_ver_1=df.drop(concol,axis=1)\n",
    "df_ver_1.columns"
   ]
  },
  {
   "cell_type": "code",
   "execution_count": 22,
   "id": "9ca268e4",
   "metadata": {},
   "outputs": [
    {
     "name": "stdout",
     "output_type": "stream",
     "text": [
      "\n",
      "Rank: 47\n",
      "\n",
      "Determinant: 0.0\n",
      "\n",
      "Condition Number : 8.269090536881639e+21\n"
     ]
    }
   ],
   "source": [
    "# Analysis of a Matrix \n",
    "# input matrix name\n",
    "matrix_name= df_ver_1\n",
    "X_matrix = matrix_name.to_numpy()\n",
    "rank = np.linalg.matrix_rank(X_matrix)\n",
    "print(\"\\nRank:\", rank)\n",
    "XMT=np.transpose(X_matrix)\n",
    "XTX=np.dot(XMT,X_matrix)\n",
    "det = np.linalg.det(XTX)\n",
    "print(\"\\nDeterminant:\", det)\n",
    "Co=np.linalg.cond(X_matrix)\n",
    "print(\"\\nCondition Number :\", Co)"
   ]
  },
  {
   "cell_type": "code",
   "execution_count": 23,
   "id": "f783e60f",
   "metadata": {},
   "outputs": [],
   "source": [
    "df_ver_2=df_ver_1"
   ]
  },
  {
   "cell_type": "code",
   "execution_count": 24,
   "id": "7387ea10",
   "metadata": {},
   "outputs": [],
   "source": [
    "correlation_matrix=df_ver_2.corr()\n",
    "correlated_features = set()"
   ]
  },
  {
   "cell_type": "code",
   "execution_count": 25,
   "id": "3fa46b05",
   "metadata": {},
   "outputs": [],
   "source": [
    "threshold = 0.90\n",
    "\n",
    "for i in range(len(correlation_matrix .columns)):\n",
    "    for j in range(i):\n",
    "        if abs(correlation_matrix.iloc[i, j]) > threshold:\n",
    "            colname = correlation_matrix.columns[i]\n",
    "            correlated_features.add(colname)"
   ]
  },
  {
   "cell_type": "markdown",
   "id": "6c949c59",
   "metadata": {},
   "source": [
    "dataset 1 is df_ver_1 and dataset 2 is df_ver_3"
   ]
  },
  {
   "cell_type": "code",
   "execution_count": 26,
   "id": "9071faeb",
   "metadata": {},
   "outputs": [
    {
     "data": {
      "text/html": [
       "<div>\n",
       "<style scoped>\n",
       "    .dataframe tbody tr th:only-of-type {\n",
       "        vertical-align: middle;\n",
       "    }\n",
       "\n",
       "    .dataframe tbody tr th {\n",
       "        vertical-align: top;\n",
       "    }\n",
       "\n",
       "    .dataframe thead th {\n",
       "        text-align: right;\n",
       "    }\n",
       "</style>\n",
       "<table border=\"1\" class=\"dataframe\">\n",
       "  <thead>\n",
       "    <tr style=\"text-align: right;\">\n",
       "      <th></th>\n",
       "      <th>1OYSum of kapalı</th>\n",
       "      <th>1OYSum of SURE</th>\n",
       "      <th>1OYSum of CIRC_TIME</th>\n",
       "      <th>1OYSum of WI</th>\n",
       "      <th>1OYMax of DEVIR</th>\n",
       "      <th>1OYMax of TEMP</th>\n",
       "      <th>1OYSum of ALT_C</th>\n",
       "      <th>1OYSum of TEPE_C</th>\n",
       "      <th>1OYSum of BEKLEME</th>\n",
       "      <th>2AYSum of kapalı</th>\n",
       "      <th>...</th>\n",
       "      <th>7SCD2Sum of ALT_C</th>\n",
       "      <th>7SCD2Sum of ÜST_C</th>\n",
       "      <th>8DSBSum of kapalı</th>\n",
       "      <th>8DSBMax of DEVIR</th>\n",
       "      <th>10KUSum of SURE</th>\n",
       "      <th>10KUSum of BEKLEME</th>\n",
       "      <th>10KUSum of FAN</th>\n",
       "      <th>10KUSum of KAPI ACMA</th>\n",
       "      <th>10KUSum of FAN / KLAPE</th>\n",
       "      <th>10KUSum of GAUDI_offset</th>\n",
       "    </tr>\n",
       "  </thead>\n",
       "  <tbody>\n",
       "    <tr>\n",
       "      <th>3</th>\n",
       "      <td>2</td>\n",
       "      <td>48</td>\n",
       "      <td>43</td>\n",
       "      <td>4.8</td>\n",
       "      <td>2800</td>\n",
       "      <td>53</td>\n",
       "      <td>14.6</td>\n",
       "      <td>7.8</td>\n",
       "      <td>2</td>\n",
       "      <td>0</td>\n",
       "      <td>...</td>\n",
       "      <td>4.5</td>\n",
       "      <td>5.5</td>\n",
       "      <td>0</td>\n",
       "      <td>0</td>\n",
       "      <td>110</td>\n",
       "      <td>50</td>\n",
       "      <td>57</td>\n",
       "      <td>1</td>\n",
       "      <td>30</td>\n",
       "      <td>0</td>\n",
       "    </tr>\n",
       "    <tr>\n",
       "      <th>4</th>\n",
       "      <td>3</td>\n",
       "      <td>49</td>\n",
       "      <td>44</td>\n",
       "      <td>4.8</td>\n",
       "      <td>2800</td>\n",
       "      <td>55</td>\n",
       "      <td>14.6</td>\n",
       "      <td>7.8</td>\n",
       "      <td>2</td>\n",
       "      <td>3</td>\n",
       "      <td>...</td>\n",
       "      <td>3.5</td>\n",
       "      <td>5.5</td>\n",
       "      <td>0</td>\n",
       "      <td>0</td>\n",
       "      <td>96</td>\n",
       "      <td>30</td>\n",
       "      <td>63</td>\n",
       "      <td>1</td>\n",
       "      <td>29</td>\n",
       "      <td>0</td>\n",
       "    </tr>\n",
       "    <tr>\n",
       "      <th>5</th>\n",
       "      <td>8</td>\n",
       "      <td>54</td>\n",
       "      <td>49</td>\n",
       "      <td>4.8</td>\n",
       "      <td>2800</td>\n",
       "      <td>56</td>\n",
       "      <td>14.6</td>\n",
       "      <td>7.8</td>\n",
       "      <td>2</td>\n",
       "      <td>3</td>\n",
       "      <td>...</td>\n",
       "      <td>4.5</td>\n",
       "      <td>6.5</td>\n",
       "      <td>0</td>\n",
       "      <td>0</td>\n",
       "      <td>113</td>\n",
       "      <td>30</td>\n",
       "      <td>80</td>\n",
       "      <td>1</td>\n",
       "      <td>38</td>\n",
       "      <td>0</td>\n",
       "    </tr>\n",
       "    <tr>\n",
       "      <th>6</th>\n",
       "      <td>8</td>\n",
       "      <td>54</td>\n",
       "      <td>49</td>\n",
       "      <td>4.8</td>\n",
       "      <td>2800</td>\n",
       "      <td>55</td>\n",
       "      <td>14.6</td>\n",
       "      <td>7.8</td>\n",
       "      <td>2</td>\n",
       "      <td>3</td>\n",
       "      <td>...</td>\n",
       "      <td>3.5</td>\n",
       "      <td>5.5</td>\n",
       "      <td>0</td>\n",
       "      <td>0</td>\n",
       "      <td>96</td>\n",
       "      <td>30</td>\n",
       "      <td>63</td>\n",
       "      <td>1</td>\n",
       "      <td>29</td>\n",
       "      <td>0</td>\n",
       "    </tr>\n",
       "    <tr>\n",
       "      <th>8</th>\n",
       "      <td>8</td>\n",
       "      <td>55</td>\n",
       "      <td>49</td>\n",
       "      <td>7.1</td>\n",
       "      <td>2800</td>\n",
       "      <td>55</td>\n",
       "      <td>14.6</td>\n",
       "      <td>7.8</td>\n",
       "      <td>2</td>\n",
       "      <td>3</td>\n",
       "      <td>...</td>\n",
       "      <td>3.5</td>\n",
       "      <td>5.5</td>\n",
       "      <td>0</td>\n",
       "      <td>0</td>\n",
       "      <td>96</td>\n",
       "      <td>30</td>\n",
       "      <td>63</td>\n",
       "      <td>1</td>\n",
       "      <td>29</td>\n",
       "      <td>0</td>\n",
       "    </tr>\n",
       "    <tr>\n",
       "      <th>...</th>\n",
       "      <td>...</td>\n",
       "      <td>...</td>\n",
       "      <td>...</td>\n",
       "      <td>...</td>\n",
       "      <td>...</td>\n",
       "      <td>...</td>\n",
       "      <td>...</td>\n",
       "      <td>...</td>\n",
       "      <td>...</td>\n",
       "      <td>...</td>\n",
       "      <td>...</td>\n",
       "      <td>...</td>\n",
       "      <td>...</td>\n",
       "      <td>...</td>\n",
       "      <td>...</td>\n",
       "      <td>...</td>\n",
       "      <td>...</td>\n",
       "      <td>...</td>\n",
       "      <td>...</td>\n",
       "      <td>...</td>\n",
       "      <td>...</td>\n",
       "    </tr>\n",
       "    <tr>\n",
       "      <th>149</th>\n",
       "      <td>0</td>\n",
       "      <td>23</td>\n",
       "      <td>20</td>\n",
       "      <td>4.6</td>\n",
       "      <td>2800</td>\n",
       "      <td>0</td>\n",
       "      <td>20.0</td>\n",
       "      <td>0.0</td>\n",
       "      <td>0</td>\n",
       "      <td>0</td>\n",
       "      <td>...</td>\n",
       "      <td>24.0</td>\n",
       "      <td>24.0</td>\n",
       "      <td>0</td>\n",
       "      <td>0</td>\n",
       "      <td>103</td>\n",
       "      <td>102</td>\n",
       "      <td>0</td>\n",
       "      <td>0</td>\n",
       "      <td>0</td>\n",
       "      <td>0</td>\n",
       "    </tr>\n",
       "    <tr>\n",
       "      <th>150</th>\n",
       "      <td>0</td>\n",
       "      <td>19</td>\n",
       "      <td>16</td>\n",
       "      <td>4.0</td>\n",
       "      <td>2800</td>\n",
       "      <td>0</td>\n",
       "      <td>6.6</td>\n",
       "      <td>3.8</td>\n",
       "      <td>0</td>\n",
       "      <td>0</td>\n",
       "      <td>...</td>\n",
       "      <td>12.0</td>\n",
       "      <td>8.0</td>\n",
       "      <td>0</td>\n",
       "      <td>0</td>\n",
       "      <td>94</td>\n",
       "      <td>20</td>\n",
       "      <td>73</td>\n",
       "      <td>0</td>\n",
       "      <td>0</td>\n",
       "      <td>0</td>\n",
       "    </tr>\n",
       "    <tr>\n",
       "      <th>151</th>\n",
       "      <td>0</td>\n",
       "      <td>8</td>\n",
       "      <td>6</td>\n",
       "      <td>3.5</td>\n",
       "      <td>2800</td>\n",
       "      <td>0</td>\n",
       "      <td>6.0</td>\n",
       "      <td>0.0</td>\n",
       "      <td>0</td>\n",
       "      <td>0</td>\n",
       "      <td>...</td>\n",
       "      <td>11.0</td>\n",
       "      <td>11.0</td>\n",
       "      <td>0</td>\n",
       "      <td>0</td>\n",
       "      <td>124</td>\n",
       "      <td>123</td>\n",
       "      <td>0</td>\n",
       "      <td>0</td>\n",
       "      <td>0</td>\n",
       "      <td>0</td>\n",
       "    </tr>\n",
       "    <tr>\n",
       "      <th>152</th>\n",
       "      <td>0</td>\n",
       "      <td>19</td>\n",
       "      <td>16</td>\n",
       "      <td>4.0</td>\n",
       "      <td>2800</td>\n",
       "      <td>0</td>\n",
       "      <td>6.5</td>\n",
       "      <td>4.0</td>\n",
       "      <td>0</td>\n",
       "      <td>0</td>\n",
       "      <td>...</td>\n",
       "      <td>8.0</td>\n",
       "      <td>7.0</td>\n",
       "      <td>0</td>\n",
       "      <td>0</td>\n",
       "      <td>109</td>\n",
       "      <td>10</td>\n",
       "      <td>98</td>\n",
       "      <td>0</td>\n",
       "      <td>37</td>\n",
       "      <td>0</td>\n",
       "    </tr>\n",
       "    <tr>\n",
       "      <th>153</th>\n",
       "      <td>0</td>\n",
       "      <td>24</td>\n",
       "      <td>21</td>\n",
       "      <td>4.0</td>\n",
       "      <td>2800</td>\n",
       "      <td>0</td>\n",
       "      <td>7.4</td>\n",
       "      <td>5.2</td>\n",
       "      <td>0</td>\n",
       "      <td>0</td>\n",
       "      <td>...</td>\n",
       "      <td>6.0</td>\n",
       "      <td>7.0</td>\n",
       "      <td>0</td>\n",
       "      <td>0</td>\n",
       "      <td>109</td>\n",
       "      <td>10</td>\n",
       "      <td>98</td>\n",
       "      <td>0</td>\n",
       "      <td>34</td>\n",
       "      <td>0</td>\n",
       "    </tr>\n",
       "  </tbody>\n",
       "</table>\n",
       "<p>94 rows × 37 columns</p>\n",
       "</div>"
      ],
      "text/plain": [
       "     1OYSum of kapalı  1OYSum of SURE  1OYSum of CIRC_TIME  1OYSum of WI  \\\n",
       "3                   2              48                   43           4.8   \n",
       "4                   3              49                   44           4.8   \n",
       "5                   8              54                   49           4.8   \n",
       "6                   8              54                   49           4.8   \n",
       "8                   8              55                   49           7.1   \n",
       "..                ...             ...                  ...           ...   \n",
       "149                 0              23                   20           4.6   \n",
       "150                 0              19                   16           4.0   \n",
       "151                 0               8                    6           3.5   \n",
       "152                 0              19                   16           4.0   \n",
       "153                 0              24                   21           4.0   \n",
       "\n",
       "     1OYMax of DEVIR  1OYMax of TEMP  1OYSum of ALT_C  1OYSum of TEPE_C  \\\n",
       "3               2800              53             14.6               7.8   \n",
       "4               2800              55             14.6               7.8   \n",
       "5               2800              56             14.6               7.8   \n",
       "6               2800              55             14.6               7.8   \n",
       "8               2800              55             14.6               7.8   \n",
       "..               ...             ...              ...               ...   \n",
       "149             2800               0             20.0               0.0   \n",
       "150             2800               0              6.6               3.8   \n",
       "151             2800               0              6.0               0.0   \n",
       "152             2800               0              6.5               4.0   \n",
       "153             2800               0              7.4               5.2   \n",
       "\n",
       "     1OYSum of BEKLEME  2AYSum of kapalı  ...  7SCD2Sum of ALT_C  \\\n",
       "3                    2                 0  ...                4.5   \n",
       "4                    2                 3  ...                3.5   \n",
       "5                    2                 3  ...                4.5   \n",
       "6                    2                 3  ...                3.5   \n",
       "8                    2                 3  ...                3.5   \n",
       "..                 ...               ...  ...                ...   \n",
       "149                  0                 0  ...               24.0   \n",
       "150                  0                 0  ...               12.0   \n",
       "151                  0                 0  ...               11.0   \n",
       "152                  0                 0  ...                8.0   \n",
       "153                  0                 0  ...                6.0   \n",
       "\n",
       "     7SCD2Sum of ÜST_C  8DSBSum of kapalı  8DSBMax of DEVIR  10KUSum of SURE  \\\n",
       "3                  5.5                  0                 0              110   \n",
       "4                  5.5                  0                 0               96   \n",
       "5                  6.5                  0                 0              113   \n",
       "6                  5.5                  0                 0               96   \n",
       "8                  5.5                  0                 0               96   \n",
       "..                 ...                ...               ...              ...   \n",
       "149               24.0                  0                 0              103   \n",
       "150                8.0                  0                 0               94   \n",
       "151               11.0                  0                 0              124   \n",
       "152                7.0                  0                 0              109   \n",
       "153                7.0                  0                 0              109   \n",
       "\n",
       "     10KUSum of BEKLEME  10KUSum of FAN  10KUSum of KAPI ACMA  \\\n",
       "3                    50              57                     1   \n",
       "4                    30              63                     1   \n",
       "5                    30              80                     1   \n",
       "6                    30              63                     1   \n",
       "8                    30              63                     1   \n",
       "..                  ...             ...                   ...   \n",
       "149                 102               0                     0   \n",
       "150                  20              73                     0   \n",
       "151                 123               0                     0   \n",
       "152                  10              98                     0   \n",
       "153                  10              98                     0   \n",
       "\n",
       "     10KUSum of FAN / KLAPE  10KUSum of GAUDI_offset  \n",
       "3                        30                        0  \n",
       "4                        29                        0  \n",
       "5                        38                        0  \n",
       "6                        29                        0  \n",
       "8                        29                        0  \n",
       "..                      ...                      ...  \n",
       "149                       0                        0  \n",
       "150                       0                        0  \n",
       "151                       0                        0  \n",
       "152                      37                        0  \n",
       "153                      34                        0  \n",
       "\n",
       "[94 rows x 37 columns]"
      ]
     },
     "execution_count": 26,
     "metadata": {},
     "output_type": "execute_result"
    }
   ],
   "source": [
    "df_ver_3 = df_ver_2.drop(labels=correlated_features, axis=1)\n",
    "df_ver_3"
   ]
  },
  {
   "cell_type": "code",
   "execution_count": 27,
   "id": "b587d97a",
   "metadata": {},
   "outputs": [
    {
     "data": {
      "text/html": [
       "<div>\n",
       "<style scoped>\n",
       "    .dataframe tbody tr th:only-of-type {\n",
       "        vertical-align: middle;\n",
       "    }\n",
       "\n",
       "    .dataframe tbody tr th {\n",
       "        vertical-align: top;\n",
       "    }\n",
       "\n",
       "    .dataframe thead th {\n",
       "        text-align: right;\n",
       "    }\n",
       "</style>\n",
       "<table border=\"1\" class=\"dataframe\">\n",
       "  <thead>\n",
       "    <tr style=\"text-align: right;\">\n",
       "      <th></th>\n",
       "      <th>1OYSum of kapalı</th>\n",
       "      <th>1OYSum of SURE</th>\n",
       "      <th>1OYSum of CIRC_TIME</th>\n",
       "      <th>1OYSum of WI</th>\n",
       "      <th>1OYMax of DEVIR</th>\n",
       "      <th>1OYMax of TEMP</th>\n",
       "      <th>1OYSum of ALT_C</th>\n",
       "      <th>1OYSum of ÜST_C</th>\n",
       "      <th>1OYSum of TEPE_C</th>\n",
       "      <th>1OYSum of BEKLEME</th>\n",
       "      <th>...</th>\n",
       "      <th>8DSBSum of kapalı</th>\n",
       "      <th>8DSBSum of SURE</th>\n",
       "      <th>8DSBSum of CIRC_TIME</th>\n",
       "      <th>8DSBMax of DEVIR</th>\n",
       "      <th>10KUSum of SURE</th>\n",
       "      <th>10KUSum of BEKLEME</th>\n",
       "      <th>10KUSum of FAN</th>\n",
       "      <th>10KUSum of KAPI ACMA</th>\n",
       "      <th>10KUSum of FAN / KLAPE</th>\n",
       "      <th>10KUSum of GAUDI_offset</th>\n",
       "    </tr>\n",
       "  </thead>\n",
       "  <tbody>\n",
       "    <tr>\n",
       "      <th>3</th>\n",
       "      <td>2</td>\n",
       "      <td>48</td>\n",
       "      <td>43</td>\n",
       "      <td>4.8</td>\n",
       "      <td>2800</td>\n",
       "      <td>53</td>\n",
       "      <td>14.6</td>\n",
       "      <td>18.6</td>\n",
       "      <td>7.8</td>\n",
       "      <td>2</td>\n",
       "      <td>...</td>\n",
       "      <td>0</td>\n",
       "      <td>0</td>\n",
       "      <td>0</td>\n",
       "      <td>0</td>\n",
       "      <td>110</td>\n",
       "      <td>50</td>\n",
       "      <td>57</td>\n",
       "      <td>1</td>\n",
       "      <td>30</td>\n",
       "      <td>0</td>\n",
       "    </tr>\n",
       "    <tr>\n",
       "      <th>4</th>\n",
       "      <td>3</td>\n",
       "      <td>49</td>\n",
       "      <td>44</td>\n",
       "      <td>4.8</td>\n",
       "      <td>2800</td>\n",
       "      <td>55</td>\n",
       "      <td>14.6</td>\n",
       "      <td>18.6</td>\n",
       "      <td>7.8</td>\n",
       "      <td>2</td>\n",
       "      <td>...</td>\n",
       "      <td>0</td>\n",
       "      <td>0</td>\n",
       "      <td>0</td>\n",
       "      <td>0</td>\n",
       "      <td>96</td>\n",
       "      <td>30</td>\n",
       "      <td>63</td>\n",
       "      <td>1</td>\n",
       "      <td>29</td>\n",
       "      <td>0</td>\n",
       "    </tr>\n",
       "    <tr>\n",
       "      <th>5</th>\n",
       "      <td>8</td>\n",
       "      <td>54</td>\n",
       "      <td>49</td>\n",
       "      <td>4.8</td>\n",
       "      <td>2800</td>\n",
       "      <td>56</td>\n",
       "      <td>14.6</td>\n",
       "      <td>18.6</td>\n",
       "      <td>7.8</td>\n",
       "      <td>2</td>\n",
       "      <td>...</td>\n",
       "      <td>0</td>\n",
       "      <td>0</td>\n",
       "      <td>0</td>\n",
       "      <td>0</td>\n",
       "      <td>113</td>\n",
       "      <td>30</td>\n",
       "      <td>80</td>\n",
       "      <td>1</td>\n",
       "      <td>38</td>\n",
       "      <td>0</td>\n",
       "    </tr>\n",
       "    <tr>\n",
       "      <th>6</th>\n",
       "      <td>8</td>\n",
       "      <td>54</td>\n",
       "      <td>49</td>\n",
       "      <td>4.8</td>\n",
       "      <td>2800</td>\n",
       "      <td>55</td>\n",
       "      <td>14.6</td>\n",
       "      <td>18.6</td>\n",
       "      <td>7.8</td>\n",
       "      <td>2</td>\n",
       "      <td>...</td>\n",
       "      <td>0</td>\n",
       "      <td>0</td>\n",
       "      <td>0</td>\n",
       "      <td>0</td>\n",
       "      <td>96</td>\n",
       "      <td>30</td>\n",
       "      <td>63</td>\n",
       "      <td>1</td>\n",
       "      <td>29</td>\n",
       "      <td>0</td>\n",
       "    </tr>\n",
       "    <tr>\n",
       "      <th>8</th>\n",
       "      <td>8</td>\n",
       "      <td>55</td>\n",
       "      <td>49</td>\n",
       "      <td>7.1</td>\n",
       "      <td>2800</td>\n",
       "      <td>55</td>\n",
       "      <td>14.6</td>\n",
       "      <td>18.6</td>\n",
       "      <td>7.8</td>\n",
       "      <td>2</td>\n",
       "      <td>...</td>\n",
       "      <td>0</td>\n",
       "      <td>0</td>\n",
       "      <td>0</td>\n",
       "      <td>0</td>\n",
       "      <td>96</td>\n",
       "      <td>30</td>\n",
       "      <td>63</td>\n",
       "      <td>1</td>\n",
       "      <td>29</td>\n",
       "      <td>0</td>\n",
       "    </tr>\n",
       "    <tr>\n",
       "      <th>...</th>\n",
       "      <td>...</td>\n",
       "      <td>...</td>\n",
       "      <td>...</td>\n",
       "      <td>...</td>\n",
       "      <td>...</td>\n",
       "      <td>...</td>\n",
       "      <td>...</td>\n",
       "      <td>...</td>\n",
       "      <td>...</td>\n",
       "      <td>...</td>\n",
       "      <td>...</td>\n",
       "      <td>...</td>\n",
       "      <td>...</td>\n",
       "      <td>...</td>\n",
       "      <td>...</td>\n",
       "      <td>...</td>\n",
       "      <td>...</td>\n",
       "      <td>...</td>\n",
       "      <td>...</td>\n",
       "      <td>...</td>\n",
       "      <td>...</td>\n",
       "    </tr>\n",
       "    <tr>\n",
       "      <th>149</th>\n",
       "      <td>0</td>\n",
       "      <td>23</td>\n",
       "      <td>20</td>\n",
       "      <td>4.6</td>\n",
       "      <td>2800</td>\n",
       "      <td>0</td>\n",
       "      <td>20.0</td>\n",
       "      <td>20.0</td>\n",
       "      <td>0.0</td>\n",
       "      <td>0</td>\n",
       "      <td>...</td>\n",
       "      <td>0</td>\n",
       "      <td>0</td>\n",
       "      <td>0</td>\n",
       "      <td>0</td>\n",
       "      <td>103</td>\n",
       "      <td>102</td>\n",
       "      <td>0</td>\n",
       "      <td>0</td>\n",
       "      <td>0</td>\n",
       "      <td>0</td>\n",
       "    </tr>\n",
       "    <tr>\n",
       "      <th>150</th>\n",
       "      <td>0</td>\n",
       "      <td>19</td>\n",
       "      <td>16</td>\n",
       "      <td>4.0</td>\n",
       "      <td>2800</td>\n",
       "      <td>0</td>\n",
       "      <td>6.6</td>\n",
       "      <td>5.6</td>\n",
       "      <td>3.8</td>\n",
       "      <td>0</td>\n",
       "      <td>...</td>\n",
       "      <td>0</td>\n",
       "      <td>0</td>\n",
       "      <td>0</td>\n",
       "      <td>0</td>\n",
       "      <td>94</td>\n",
       "      <td>20</td>\n",
       "      <td>73</td>\n",
       "      <td>0</td>\n",
       "      <td>0</td>\n",
       "      <td>0</td>\n",
       "    </tr>\n",
       "    <tr>\n",
       "      <th>151</th>\n",
       "      <td>0</td>\n",
       "      <td>8</td>\n",
       "      <td>6</td>\n",
       "      <td>3.5</td>\n",
       "      <td>2800</td>\n",
       "      <td>0</td>\n",
       "      <td>6.0</td>\n",
       "      <td>6.0</td>\n",
       "      <td>0.0</td>\n",
       "      <td>0</td>\n",
       "      <td>...</td>\n",
       "      <td>0</td>\n",
       "      <td>0</td>\n",
       "      <td>0</td>\n",
       "      <td>0</td>\n",
       "      <td>124</td>\n",
       "      <td>123</td>\n",
       "      <td>0</td>\n",
       "      <td>0</td>\n",
       "      <td>0</td>\n",
       "      <td>0</td>\n",
       "    </tr>\n",
       "    <tr>\n",
       "      <th>152</th>\n",
       "      <td>0</td>\n",
       "      <td>19</td>\n",
       "      <td>16</td>\n",
       "      <td>4.0</td>\n",
       "      <td>2800</td>\n",
       "      <td>0</td>\n",
       "      <td>6.5</td>\n",
       "      <td>5.5</td>\n",
       "      <td>4.0</td>\n",
       "      <td>0</td>\n",
       "      <td>...</td>\n",
       "      <td>0</td>\n",
       "      <td>0</td>\n",
       "      <td>0</td>\n",
       "      <td>0</td>\n",
       "      <td>109</td>\n",
       "      <td>10</td>\n",
       "      <td>98</td>\n",
       "      <td>0</td>\n",
       "      <td>37</td>\n",
       "      <td>0</td>\n",
       "    </tr>\n",
       "    <tr>\n",
       "      <th>153</th>\n",
       "      <td>0</td>\n",
       "      <td>24</td>\n",
       "      <td>21</td>\n",
       "      <td>4.0</td>\n",
       "      <td>2800</td>\n",
       "      <td>0</td>\n",
       "      <td>7.4</td>\n",
       "      <td>8.4</td>\n",
       "      <td>5.2</td>\n",
       "      <td>0</td>\n",
       "      <td>...</td>\n",
       "      <td>0</td>\n",
       "      <td>0</td>\n",
       "      <td>0</td>\n",
       "      <td>0</td>\n",
       "      <td>109</td>\n",
       "      <td>10</td>\n",
       "      <td>98</td>\n",
       "      <td>0</td>\n",
       "      <td>34</td>\n",
       "      <td>0</td>\n",
       "    </tr>\n",
       "  </tbody>\n",
       "</table>\n",
       "<p>94 rows × 49 columns</p>\n",
       "</div>"
      ],
      "text/plain": [
       "     1OYSum of kapalı  1OYSum of SURE  1OYSum of CIRC_TIME  1OYSum of WI  \\\n",
       "3                   2              48                   43           4.8   \n",
       "4                   3              49                   44           4.8   \n",
       "5                   8              54                   49           4.8   \n",
       "6                   8              54                   49           4.8   \n",
       "8                   8              55                   49           7.1   \n",
       "..                ...             ...                  ...           ...   \n",
       "149                 0              23                   20           4.6   \n",
       "150                 0              19                   16           4.0   \n",
       "151                 0               8                    6           3.5   \n",
       "152                 0              19                   16           4.0   \n",
       "153                 0              24                   21           4.0   \n",
       "\n",
       "     1OYMax of DEVIR  1OYMax of TEMP  1OYSum of ALT_C  1OYSum of ÜST_C  \\\n",
       "3               2800              53             14.6             18.6   \n",
       "4               2800              55             14.6             18.6   \n",
       "5               2800              56             14.6             18.6   \n",
       "6               2800              55             14.6             18.6   \n",
       "8               2800              55             14.6             18.6   \n",
       "..               ...             ...              ...              ...   \n",
       "149             2800               0             20.0             20.0   \n",
       "150             2800               0              6.6              5.6   \n",
       "151             2800               0              6.0              6.0   \n",
       "152             2800               0              6.5              5.5   \n",
       "153             2800               0              7.4              8.4   \n",
       "\n",
       "     1OYSum of TEPE_C  1OYSum of BEKLEME  ...  8DSBSum of kapalı  \\\n",
       "3                 7.8                  2  ...                  0   \n",
       "4                 7.8                  2  ...                  0   \n",
       "5                 7.8                  2  ...                  0   \n",
       "6                 7.8                  2  ...                  0   \n",
       "8                 7.8                  2  ...                  0   \n",
       "..                ...                ...  ...                ...   \n",
       "149               0.0                  0  ...                  0   \n",
       "150               3.8                  0  ...                  0   \n",
       "151               0.0                  0  ...                  0   \n",
       "152               4.0                  0  ...                  0   \n",
       "153               5.2                  0  ...                  0   \n",
       "\n",
       "     8DSBSum of SURE  8DSBSum of CIRC_TIME  8DSBMax of DEVIR  10KUSum of SURE  \\\n",
       "3                  0                     0                 0              110   \n",
       "4                  0                     0                 0               96   \n",
       "5                  0                     0                 0              113   \n",
       "6                  0                     0                 0               96   \n",
       "8                  0                     0                 0               96   \n",
       "..               ...                   ...               ...              ...   \n",
       "149                0                     0                 0              103   \n",
       "150                0                     0                 0               94   \n",
       "151                0                     0                 0              124   \n",
       "152                0                     0                 0              109   \n",
       "153                0                     0                 0              109   \n",
       "\n",
       "     10KUSum of BEKLEME  10KUSum of FAN  10KUSum of KAPI ACMA  \\\n",
       "3                    50              57                     1   \n",
       "4                    30              63                     1   \n",
       "5                    30              80                     1   \n",
       "6                    30              63                     1   \n",
       "8                    30              63                     1   \n",
       "..                  ...             ...                   ...   \n",
       "149                 102               0                     0   \n",
       "150                  20              73                     0   \n",
       "151                 123               0                     0   \n",
       "152                  10              98                     0   \n",
       "153                  10              98                     0   \n",
       "\n",
       "     10KUSum of FAN / KLAPE  10KUSum of GAUDI_offset  \n",
       "3                        30                        0  \n",
       "4                        29                        0  \n",
       "5                        38                        0  \n",
       "6                        29                        0  \n",
       "8                        29                        0  \n",
       "..                      ...                      ...  \n",
       "149                       0                        0  \n",
       "150                       0                        0  \n",
       "151                       0                        0  \n",
       "152                      37                        0  \n",
       "153                      34                        0  \n",
       "\n",
       "[94 rows x 49 columns]"
      ]
     },
     "execution_count": 27,
     "metadata": {},
     "output_type": "execute_result"
    }
   ],
   "source": [
    "df_ver_1"
   ]
  },
  {
   "cell_type": "code",
   "execution_count": 28,
   "id": "4bd7ac7e",
   "metadata": {},
   "outputs": [
    {
     "data": {
      "text/plain": [
       "Index(['1OYSum of kapalı', '1OYSum of SURE', '1OYSum of CIRC_TIME',\n",
       "       '1OYSum of WI', '1OYMax of DEVIR', '1OYMax of TEMP', '1OYSum of ALT_C',\n",
       "       '1OYSum of TEPE_C', '1OYSum of BEKLEME', '2AYSum of kapalı',\n",
       "       '2AYSum of SURE', '2AYSum of WI', '2AYMax of DEVIR', '2AYMax of TEMP',\n",
       "       '2AYSum of ALT_C', '2AYSum of TEPE_C', '3MFTSum of SURE',\n",
       "       '4SGDSum of SURE', '4SGDSum of WI', '4SGDMax of DEVIR',\n",
       "       '4SGDSum of ALT_C', '4SGDSum of ÜST_C', '4SGDSum of TEPE_C',\n",
       "       '7SCD2Sum of kapalı', '7SCD2Sum of SURE', '7SCD2Max of DEVIR',\n",
       "       '7SCD2Max of TEMP', '7SCD2Sum of ALT_C', '7SCD2Sum of ÜST_C',\n",
       "       '8DSBSum of kapalı', '8DSBMax of DEVIR', '10KUSum of SURE',\n",
       "       '10KUSum of BEKLEME', '10KUSum of FAN', '10KUSum of KAPI ACMA',\n",
       "       '10KUSum of FAN / KLAPE', '10KUSum of GAUDI_offset'],\n",
       "      dtype='object')"
      ]
     },
     "execution_count": 28,
     "metadata": {},
     "output_type": "execute_result"
    }
   ],
   "source": [
    "df_ver_3.columns"
   ]
  },
  {
   "cell_type": "code",
   "execution_count": 29,
   "id": "8ec030ee",
   "metadata": {},
   "outputs": [
    {
     "data": {
      "text/plain": [
       "Index(['1OYSum of kapalı', '1OYSum of SURE', '1OYSum of CIRC_TIME',\n",
       "       '1OYSum of WI', '1OYMax of DEVIR', '1OYMax of TEMP', '1OYSum of ALT_C',\n",
       "       '1OYSum of ÜST_C', '1OYSum of TEPE_C', '1OYSum of BEKLEME',\n",
       "       '2AYSum of kapalı', '2AYSum of SURE', '2AYSum of CIRC_TIME',\n",
       "       '2AYSum of WI', '2AYMax of DEVIR', '2AYMax of TEMP', '2AYSum of ALT_C',\n",
       "       '2AYSum of ÜST_C', '2AYSum of TEPE_C', '3MFTSum of SURE',\n",
       "       '3MFTSum of WI', '4SGDSum of SURE', '4SGDSum of CIRC_TIME',\n",
       "       '4SGDSum of WI', '4SGDMax of DEVIR', '4SGDSum of ALT_C',\n",
       "       '4SGDSum of ÜST_C', '4SGDSum of TEPE_C', '4SGDSum of BEKLEME',\n",
       "       '7SCD2Sum of kapalı', '7SCD2Sum of SURE', '7SCD2Sum of CIRC_TIME',\n",
       "       '7SCD2Sum of WI', '7SCD2Max of DEVIR', '7SCD2Max of TEMP',\n",
       "       '7SCD2Sum of ALT_C', '7SCD2Sum of ÜST_C', '7SCD2Sum of TEPE_C',\n",
       "       '7SCD2Sum of BEKLEME', '8DSBSum of kapalı', '8DSBSum of SURE',\n",
       "       '8DSBSum of CIRC_TIME', '8DSBMax of DEVIR', '10KUSum of SURE',\n",
       "       '10KUSum of BEKLEME', '10KUSum of FAN', '10KUSum of KAPI ACMA',\n",
       "       '10KUSum of FAN / KLAPE', '10KUSum of GAUDI_offset'],\n",
       "      dtype='object')"
      ]
     },
     "execution_count": 29,
     "metadata": {},
     "output_type": "execute_result"
    }
   ],
   "source": [
    "df_ver_1.columns"
   ]
  },
  {
   "cell_type": "markdown",
   "id": "4b8ba585",
   "metadata": {},
   "source": [
    "the variables that are eliminated are \n",
    "1OYSumofÜST_C\n",
    "2AYSumofÜST_C\n",
    "3MFTSumofWI\n",
    "7SCD2SumofWI\n",
    "7SCD2SumofBEKLEME\n",
    "8DSBSumofCIRC_TIME\n",
    "2AYSumofCIRC_TIME\n",
    "4SGDSumofCIRC_TIME\n",
    "4SGDSumofBEKLEME\n",
    "7SCD2SumofCIRC_TIME\n",
    "7SCD2SumofTEPE_C\n",
    "8DSBSumofSURE"
   ]
  },
  {
   "cell_type": "code",
   "execution_count": 30,
   "id": "7dbcfdbb",
   "metadata": {},
   "outputs": [
    {
     "name": "stdout",
     "output_type": "stream",
     "text": [
      "\n",
      "Rank: 37\n",
      "\n",
      "Determinant: 6.136095300990972e+107\n",
      "\n",
      "Condition Number : 114393.38196482802\n"
     ]
    }
   ],
   "source": [
    "# Analysis of a Matrix \n",
    "# input matrix name\n",
    "matrix_name= df_ver_3\n",
    "X_matrix = matrix_name.to_numpy()\n",
    "rank = np.linalg.matrix_rank(X_matrix)\n",
    "print(\"\\nRank:\", rank)\n",
    "XMT=np.transpose(X_matrix)\n",
    "XTX=np.dot(XMT,X_matrix)\n",
    "det = np.linalg.det(XTX)\n",
    "print(\"\\nDeterminant:\", det)\n",
    "Co=np.linalg.cond(X_matrix)\n",
    "print(\"\\nCondition Number :\", Co)"
   ]
  },
  {
   "cell_type": "code",
   "execution_count": 31,
   "id": "a8ac143d",
   "metadata": {},
   "outputs": [
    {
     "name": "stdout",
     "output_type": "stream",
     "text": [
      " 0.28 -862\n",
      " 14.25 -1342\n",
      " 0.16 -638\n",
      " 10.38 85\n",
      " 1.39 -119\n"
     ]
    }
   ],
   "source": [
    "outputs = [ y_CPI, y_DPI , y_EC_D, y_T_D, y_WC]\n",
    "for x in outputs:\n",
    "    model_LR_1 = LinearRegression()\n",
    "    model_LR_1.fit(df_ver_1, x)\n",
    "    cv = RepeatedKFold(n_splits=5, n_repeats=3, random_state=79)\n",
    "    scores1 = cross_val_score(model_LR_1,df_ver_1, x, scoring='neg_mean_absolute_error', cv=cv, n_jobs=-1, error_score='raise')\n",
    "    scores3 = cross_val_score(model_LR_1,df_ver_1, x, scoring='r2', cv=cv, n_jobs=-1, error_score='raise')\n",
    "    print(' %.2f %.0f' % (-mean(scores1),  100*mean(scores3) ))"
   ]
  },
  {
   "cell_type": "code",
   "execution_count": 32,
   "id": "b42a3a2c",
   "metadata": {},
   "outputs": [
    {
     "name": "stdout",
     "output_type": "stream",
     "text": [
      " 0.13 -41\n",
      " 8.58 -155\n",
      " 0.07 61\n",
      " 6.43 97\n",
      " 0.73 42\n"
     ]
    }
   ],
   "source": [
    "outputs = [ y_CPI, y_DPI , y_EC_D, y_T_D, y_WC]\n",
    "for x in outputs:\n",
    "    model_LR = LinearRegression()\n",
    "    model_LR.fit(df_ver_3, x)\n",
    "    cv = RepeatedKFold(n_splits=5, n_repeats=3, random_state=79)\n",
    "    scores1 = cross_val_score(model_LR,df_ver_3, x, scoring='neg_mean_absolute_error', cv=cv, n_jobs=-1, error_score='raise')\n",
    "    scores3 = cross_val_score(model_LR,df_ver_3, x, scoring='r2', cv=cv, n_jobs=-1, error_score='raise')\n",
    "    print(' %.2f %.0f' % (-mean(scores1),  100*mean(scores3) ))"
   ]
  },
  {
   "cell_type": "markdown",
   "id": "11b43882",
   "metadata": {},
   "source": [
    "This is the improvement of colinearity problem"
   ]
  },
  {
   "cell_type": "code",
   "execution_count": 32,
   "id": "59cae605",
   "metadata": {},
   "outputs": [],
   "source": [
    "import joblib"
   ]
  },
  {
   "cell_type": "code",
   "execution_count": 33,
   "id": "24ee952e",
   "metadata": {},
   "outputs": [
    {
     "data": {
      "text/plain": [
       "['dataset1_LR.sav']"
      ]
     },
     "execution_count": 33,
     "metadata": {},
     "output_type": "execute_result"
    }
   ],
   "source": [
    "import joblib\n",
    "filename = 'dataset1_LR.sav'\n",
    "joblib.dump(model_LR, filename)"
   ]
  },
  {
   "cell_type": "markdown",
   "id": "e5e9f24e",
   "metadata": {},
   "source": [
    "# Feature Selection Codes"
   ]
  },
  {
   "cell_type": "code",
   "execution_count": 32,
   "id": "7a1623c7",
   "metadata": {},
   "outputs": [],
   "source": [
    "import pandas as pd\n",
    "import matplotlib.pyplot as plt\n",
    "import datetime\n",
    "import numpy as np"
   ]
  },
  {
   "cell_type": "markdown",
   "id": "57e7d0eb",
   "metadata": {},
   "source": [
    "## Feature Selection by Select k Best with Linear Regression "
   ]
  },
  {
   "cell_type": "markdown",
   "id": "3fd09d5f",
   "metadata": {},
   "source": [
    "### CPI"
   ]
  },
  {
   "cell_type": "code",
   "execution_count": 349,
   "id": "a40f5405",
   "metadata": {},
   "outputs": [],
   "source": [
    "outputs = [ y_CPI, y_DPI , y_EC_D, y_T_D, y_WC]\n",
    "X=df_ver_3\n",
    "y=y_CPI\n",
    "model = LinearRegression()\n",
    "apt= pd.DataFrame(columns={'feature','mae','r2'})\n",
    "for k  in range(1, 38, 1):\n",
    "        from sklearn.feature_selection import SelectKBest, f_regression\n",
    "        #Select top 2 features based on mutual info regression\n",
    "        selector = SelectKBest(f_regression, k=k)\n",
    "        selector.fit(X, y)\n",
    "        selected_columns=X.columns[selector.get_support()]\n",
    "        XX = X[selected_columns].copy()       \n",
    "        model.fit(XX, y)\n",
    "        cv = RepeatedKFold(n_splits=5, n_repeats=3, random_state=79)\n",
    "        scores1 = cross_val_score(model,XX, y, scoring='neg_mean_absolute_error', cv=cv, n_jobs=-1, error_score='raise')\n",
    "        scores3 = cross_val_score(model,XX, y, scoring='r2', cv=cv, n_jobs=-1, error_score='raise')\n",
    "        apt=apt.append({'mae':-1*(mean(scores1)),'r2':100*(mean(scores3)),'feature':k},ignore_index=True)\n"
   ]
  },
  {
   "cell_type": "code",
   "execution_count": 286,
   "id": "565ebf35",
   "metadata": {},
   "outputs": [
    {
     "data": {
      "text/plain": [
       "Text(0, 0.5, 'MAE')"
      ]
     },
     "execution_count": 286,
     "metadata": {},
     "output_type": "execute_result"
    },
    {
     "data": {
      "image/png": "[encoded data removed]",
      "text/plain": [
       "<Figure size 432x288 with 1 Axes>"
      ]
     },
     "metadata": {
      "needs_background": "light"
     },
     "output_type": "display_data"
    }
   ],
   "source": [
    "        plt.bar(apt.feature,apt.mae)\n",
    "        plt.xlabel('Number Of Feature')\n",
    "        plt.ylabel('MAE')       "
   ]
  },
  {
   "cell_type": "code",
   "execution_count": 287,
   "id": "9b3b716b",
   "metadata": {},
   "outputs": [
    {
     "data": {
      "text/plain": [
       "Text(0, 0.5, 'R2')"
      ]
     },
     "execution_count": 287,
     "metadata": {},
     "output_type": "execute_result"
    },
    {
     "data": {
      "image/png": "[encoded data removed]",
      "text/plain": [
       "<Figure size 432x288 with 1 Axes>"
      ]
     },
     "metadata": {
      "needs_background": "light"
     },
     "output_type": "display_data"
    }
   ],
   "source": [
    "        plt.bar(apt.feature,apt.r2)\n",
    "        plt.xlabel('Number Of Feature')\n",
    "        plt.ylabel('R2')"
   ]
  },
  {
   "cell_type": "code",
   "execution_count": 288,
   "id": "9a29c836",
   "metadata": {},
   "outputs": [
    {
     "name": "stdout",
     "output_type": "stream",
     "text": [
      " 0.101 -69.545\n"
     ]
    }
   ],
   "source": [
    "        from sklearn.feature_selection import SelectKBest, f_regression\n",
    "        #Select top 2 features based on mutual info regression\n",
    "        selector = SelectKBest(f_regression, k=26)\n",
    "        selector.fit(X, y)\n",
    "        selected_columns=X.columns[selector.get_support()]\n",
    "        XX = X[selected_columns].copy()       \n",
    "        model.fit(XX, y)\n",
    "        cv = RepeatedKFold(n_splits=5, n_repeats=3, random_state=79)\n",
    "        scores1 = cross_val_score(model,XX, y, scoring='neg_mean_absolute_error', cv=cv, n_jobs=-1, error_score='raise')\n",
    "        scores3 = cross_val_score(model,XX, y, scoring='r2', cv=cv, n_jobs=-1, error_score='raise')\n",
    "        print(' %.3f %.3f' % (-mean(scores1), 100*mean(scores3)))\n"
   ]
  },
  {
   "cell_type": "markdown",
   "id": "1a038ac4",
   "metadata": {},
   "source": [
    "### DPI"
   ]
  },
  {
   "cell_type": "code",
   "execution_count": 289,
   "id": "7556cc38",
   "metadata": {},
   "outputs": [],
   "source": [
    "X=df_ver_3\n",
    "y=y_DPI\n",
    "model = LinearRegression()\n",
    "apt= pd.DataFrame(columns={'feature','mae','r2'})\n",
    "for k  in range(1, 38, 1):\n",
    "        from sklearn.feature_selection import SelectKBest, f_regression\n",
    "        #Select top 2 features based on mutual info regression\n",
    "        selector = SelectKBest(f_regression, k=k)\n",
    "        selector.fit(X, y)\n",
    "        selected_columns=X.columns[selector.get_support()]\n",
    "        XX = X[selected_columns].copy()       \n",
    "        model.fit(XX, y)\n",
    "        cv = RepeatedKFold(n_splits=5, n_repeats=3, random_state=79)\n",
    "        scores1 = cross_val_score(model,XX, y, scoring='neg_mean_absolute_error', cv=cv, n_jobs=-1, error_score='raise')\n",
    "        scores3 = cross_val_score(model,XX, y, scoring='r2', cv=cv, n_jobs=-1, error_score='raise')\n",
    "        apt=apt.append({'mae':-1*(mean(scores1)),'r2':100*(mean(scores3)),'feature':k},ignore_index=True)"
   ]
  },
  {
   "cell_type": "code",
   "execution_count": 290,
   "id": "ed106531",
   "metadata": {},
   "outputs": [
    {
     "data": {
      "text/plain": [
       "Text(0, 0.5, 'MAE')"
      ]
     },
     "execution_count": 290,
     "metadata": {},
     "output_type": "execute_result"
    },
    {
     "data": {
      "image/png": "[encoded data removed]",
      "text/plain": [
       "<Figure size 432x288 with 1 Axes>"
      ]
     },
     "metadata": {
      "needs_background": "light"
     },
     "output_type": "display_data"
    }
   ],
   "source": [
    "        plt.bar(apt.feature,apt.mae)\n",
    "        plt.xlabel('Number Of Feature')\n",
    "        plt.ylabel('MAE')  "
   ]
  },
  {
   "cell_type": "code",
   "execution_count": 291,
   "id": "ceb4de84",
   "metadata": {},
   "outputs": [
    {
     "data": {
      "text/plain": [
       "Text(0, 0.5, 'R2')"
      ]
     },
     "execution_count": 291,
     "metadata": {},
     "output_type": "execute_result"
    },
    {
     "data": {
      "image/png": "[encoded data removed]",
      "text/plain": [
       "<Figure size 432x288 with 1 Axes>"
      ]
     },
     "metadata": {
      "needs_background": "light"
     },
     "output_type": "display_data"
    }
   ],
   "source": [
    "        plt.bar(apt.feature,apt.r2)\n",
    "        plt.xlabel('Number Of Feature')\n",
    "        plt.ylabel('R2')"
   ]
  },
  {
   "cell_type": "code",
   "execution_count": 292,
   "id": "1f233e7c",
   "metadata": {},
   "outputs": [
    {
     "name": "stdout",
     "output_type": "stream",
     "text": [
      " 7.772 -32.460\n"
     ]
    }
   ],
   "source": [
    "        from sklearn.feature_selection import SelectKBest, f_regression\n",
    "        #Select top 2 features based on mutual info regression\n",
    "        selector = SelectKBest(f_regression, k=10)\n",
    "        selector.fit(X, y)\n",
    "        selected_columns=X.columns[selector.get_support()]\n",
    "        XX = X[selected_columns].copy()       \n",
    "        model.fit(XX, y)\n",
    "        cv = RepeatedKFold(n_splits=5, n_repeats=3, random_state=79)\n",
    "        scores1 = cross_val_score(model,XX, y, scoring='neg_mean_absolute_error', cv=cv, n_jobs=-1, error_score='raise')\n",
    "        scores3 = cross_val_score(model,XX, y, scoring='r2', cv=cv, n_jobs=-1, error_score='raise')\n",
    "        print(' %.3f %.3f' % (-mean(scores1), 100*mean(scores3)))\n"
   ]
  },
  {
   "cell_type": "markdown",
   "id": "777984f5",
   "metadata": {},
   "source": [
    "### EC"
   ]
  },
  {
   "cell_type": "code",
   "execution_count": 264,
   "id": "a40f0610",
   "metadata": {},
   "outputs": [],
   "source": [
    "X=df_ver_3\n",
    "y=y_EC_D\n",
    "model = LinearRegression()\n",
    "apt= pd.DataFrame(columns={'feature','mae','r2'})\n",
    "for k  in range(1, 38, 1):\n",
    "        from sklearn.feature_selection import SelectKBest, f_regression\n",
    "        #Select top 2 features based on mutual info regression\n",
    "        selector = SelectKBest(f_regression, k=k)\n",
    "        selector.fit(X, y)\n",
    "        selected_columns=X.columns[selector.get_support()]\n",
    "        XX = X[selected_columns].copy()       \n",
    "        model.fit(XX, y)\n",
    "        cv = RepeatedKFold(n_splits=5, n_repeats=3, random_state=79)\n",
    "        scores1 = cross_val_score(model,XX, y, scoring='neg_mean_absolute_error', cv=cv, n_jobs=-1, error_score='raise')\n",
    "        scores3 = cross_val_score(model,XX, y, scoring='r2', cv=cv, n_jobs=-1, error_score='raise')\n",
    "        apt=apt.append({'mae':-1*(mean(scores1)),'r2':100*(mean(scores3)),'feature':k},ignore_index=True)"
   ]
  },
  {
   "cell_type": "code",
   "execution_count": 265,
   "id": "e13c6c89",
   "metadata": {},
   "outputs": [
    {
     "data": {
      "text/plain": [
       "Text(0, 0.5, 'MAE')"
      ]
     },
     "execution_count": 265,
     "metadata": {},
     "output_type": "execute_result"
    },
    {
     "data": {
      "image/png": "[encoded data removed]",
      "text/plain": [
       "<Figure size 432x288 with 1 Axes>"
      ]
     },
     "metadata": {
      "needs_background": "light"
     },
     "output_type": "display_data"
    }
   ],
   "source": [
    "        plt.bar(apt.feature,apt.mae)\n",
    "        plt.xlabel('Number Of Feature')\n",
    "        plt.ylabel('MAE')  "
   ]
  },
  {
   "cell_type": "code",
   "execution_count": 266,
   "id": "1e7e4cd0",
   "metadata": {},
   "outputs": [
    {
     "data": {
      "text/plain": [
       "Text(0, 0.5, 'R2')"
      ]
     },
     "execution_count": 266,
     "metadata": {},
     "output_type": "execute_result"
    },
    {
     "data": {
      "image/png": "[encoded data removed]",
      "text/plain": [
       "<Figure size 432x288 with 1 Axes>"
      ]
     },
     "metadata": {
      "needs_background": "light"
     },
     "output_type": "display_data"
    }
   ],
   "source": [
    "        plt.bar(apt.feature,apt.r2)\n",
    "        plt.xlabel('Number Of Feature')\n",
    "        plt.ylabel('R2')"
   ]
  },
  {
   "cell_type": "code",
   "execution_count": 269,
   "id": "ea17b5cf",
   "metadata": {},
   "outputs": [
    {
     "name": "stdout",
     "output_type": "stream",
     "text": [
      " 0.058 70.768\n"
     ]
    }
   ],
   "source": [
    "        from sklearn.feature_selection import SelectKBest, f_regression\n",
    "        #Select top 2 features based on mutual info regression\n",
    "        selector = SelectKBest(f_regression, k=29)\n",
    "        selector.fit(X, y)\n",
    "        selected_columns=X.columns[selector.get_support()]\n",
    "        XX = X[selected_columns].copy()       \n",
    "        model.fit(XX, y)\n",
    "        cv = RepeatedKFold(n_splits=5, n_repeats=3, random_state=79)\n",
    "        scores1 = cross_val_score(model,XX, y, scoring='neg_mean_absolute_error', cv=cv, n_jobs=-1, error_score='raise')\n",
    "        scores3 = cross_val_score(model,XX, y, scoring='r2', cv=cv, n_jobs=-1, error_score='raise')\n",
    "        print(' %.3f %.3f' % (-mean(scores1), 100*mean(scores3)))"
   ]
  },
  {
   "cell_type": "markdown",
   "id": "d88a43a1",
   "metadata": {},
   "source": [
    "### WC"
   ]
  },
  {
   "cell_type": "code",
   "execution_count": 270,
   "id": "54ba72a4",
   "metadata": {},
   "outputs": [],
   "source": [
    "X=df_ver_3\n",
    "y=y_WC\n",
    "model = LinearRegression()\n",
    "apt= pd.DataFrame(columns={'feature','mae','r2'})\n",
    "for k  in range(1, 38, 1):\n",
    "        from sklearn.feature_selection import SelectKBest, f_regression\n",
    "        #Select top 2 features based on mutual info regression\n",
    "        selector = SelectKBest(f_regression, k=k)\n",
    "        selector.fit(X, y)\n",
    "        selected_columns=X.columns[selector.get_support()]\n",
    "        XX = X[selected_columns].copy()       \n",
    "        model.fit(XX, y)\n",
    "        cv = RepeatedKFold(n_splits=5, n_repeats=3, random_state=79)\n",
    "        scores1 = cross_val_score(model,XX, y, scoring='neg_mean_absolute_error', cv=cv, n_jobs=-1, error_score='raise')\n",
    "        scores3 = cross_val_score(model,XX, y, scoring='r2', cv=cv, n_jobs=-1, error_score='raise')\n",
    "        apt=apt.append({'mae':-1*(mean(scores1)),'r2':100*(mean(scores3)),'feature':k},ignore_index=True)"
   ]
  },
  {
   "cell_type": "code",
   "execution_count": 271,
   "id": "39205141",
   "metadata": {},
   "outputs": [
    {
     "data": {
      "text/plain": [
       "Text(0, 0.5, 'MAE')"
      ]
     },
     "execution_count": 271,
     "metadata": {},
     "output_type": "execute_result"
    },
    {
     "data": {
      "image/png": "[encoded data removed]",
      "text/plain": [
       "<Figure size 432x288 with 1 Axes>"
      ]
     },
     "metadata": {
      "needs_background": "light"
     },
     "output_type": "display_data"
    }
   ],
   "source": [
    "        plt.bar(apt.feature,apt.mae)\n",
    "        plt.xlabel('Number Of Feature')\n",
    "        plt.ylabel('MAE')  "
   ]
  },
  {
   "cell_type": "code",
   "execution_count": 272,
   "id": "acae4d0f",
   "metadata": {},
   "outputs": [
    {
     "data": {
      "text/plain": [
       "Text(0, 0.5, 'R2')"
      ]
     },
     "execution_count": 272,
     "metadata": {},
     "output_type": "execute_result"
    },
    {
     "data": {
      "image/png": "[encoded data removed]",
      "text/plain": [
       "<Figure size 432x288 with 1 Axes>"
      ]
     },
     "metadata": {
      "needs_background": "light"
     },
     "output_type": "display_data"
    }
   ],
   "source": [
    "        plt.bar(apt.feature,apt.r2)\n",
    "        plt.xlabel('Number Of Feature')\n",
    "        plt.ylabel('R2')"
   ]
  },
  {
   "cell_type": "code",
   "execution_count": 273,
   "id": "ae31e094",
   "metadata": {},
   "outputs": [
    {
     "name": "stdout",
     "output_type": "stream",
     "text": [
      " 0.608 77.655\n"
     ]
    }
   ],
   "source": [
    "        from sklearn.feature_selection import SelectKBest, f_regression\n",
    "        #Select top 2 features based on mutual info regression\n",
    "        selector = SelectKBest(f_regression, k=30)\n",
    "        selector.fit(X, y)\n",
    "        selected_columns=X.columns[selector.get_support()]\n",
    "        XX = X[selected_columns].copy()       \n",
    "        model.fit(XX, y)\n",
    "        cv = RepeatedKFold(n_splits=5, n_repeats=3, random_state=79)\n",
    "        scores1 = cross_val_score(model,XX, y, scoring='neg_mean_absolute_error', cv=cv, n_jobs=-1, error_score='raise')\n",
    "        scores3 = cross_val_score(model,XX, y, scoring='r2', cv=cv, n_jobs=-1, error_score='raise')\n",
    "        print(' %.3f %.3f' % (-mean(scores1), 100*mean(scores3)))"
   ]
  },
  {
   "cell_type": "markdown",
   "id": "fbb1e515",
   "metadata": {},
   "source": [
    "### T"
   ]
  },
  {
   "cell_type": "code",
   "execution_count": 274,
   "id": "cc131ac7",
   "metadata": {},
   "outputs": [],
   "source": [
    "X=df_ver_3\n",
    "y=y_T_D\n",
    "model = LinearRegression()\n",
    "apt= pd.DataFrame(columns={'feature','mae','r2'})\n",
    "for k  in range(1, 38, 1):\n",
    "        from sklearn.feature_selection import SelectKBest, f_regression\n",
    "        #Select top 2 features based on mutual info regression\n",
    "        selector = SelectKBest(f_regression, k=k)\n",
    "        selector.fit(X, y)\n",
    "        selected_columns=X.columns[selector.get_support()]\n",
    "        XX = X[selected_columns].copy()       \n",
    "        model.fit(XX, y)\n",
    "        cv = RepeatedKFold(n_splits=5, n_repeats=3, random_state=79)\n",
    "        scores1 = cross_val_score(model,XX, y, scoring='neg_mean_absolute_error', cv=cv, n_jobs=-1, error_score='raise')\n",
    "        scores3 = cross_val_score(model,XX, y, scoring='r2', cv=cv, n_jobs=-1, error_score='raise')\n",
    "        apt=apt.append({'mae':-1*(mean(scores1)),'r2':100*(mean(scores3)),'feature':k},ignore_index=True)"
   ]
  },
  {
   "cell_type": "code",
   "execution_count": 275,
   "id": "2499a2e0",
   "metadata": {},
   "outputs": [
    {
     "data": {
      "text/plain": [
       "Text(0, 0.5, 'MAE')"
      ]
     },
     "execution_count": 275,
     "metadata": {},
     "output_type": "execute_result"
    },
    {
     "data": {
      "image/png": "[encoded data removed]",
      "text/plain": [
       "<Figure size 432x288 with 1 Axes>"
      ]
     },
     "metadata": {
      "needs_background": "light"
     },
     "output_type": "display_data"
    }
   ],
   "source": [
    "        plt.bar(apt.feature,apt.mae)\n",
    "        plt.xlabel('Number Of Feature')\n",
    "        plt.ylabel('MAE')  "
   ]
  },
  {
   "cell_type": "code",
   "execution_count": 276,
   "id": "270ca8b1",
   "metadata": {},
   "outputs": [
    {
     "data": {
      "text/plain": [
       "Text(0, 0.5, 'R2')"
      ]
     },
     "execution_count": 276,
     "metadata": {},
     "output_type": "execute_result"
    },
    {
     "data": {
      "image/png": "[encoded data removed]",
      "text/plain": [
       "<Figure size 432x288 with 1 Axes>"
      ]
     },
     "metadata": {
      "needs_background": "light"
     },
     "output_type": "display_data"
    }
   ],
   "source": [
    "        plt.bar(apt.feature,apt.r2)\n",
    "        plt.xlabel('Number Of Feature')\n",
    "        plt.ylabel('R2')"
   ]
  },
  {
   "cell_type": "code",
   "execution_count": 277,
   "id": "2f82e24e",
   "metadata": {},
   "outputs": [
    {
     "name": "stdout",
     "output_type": "stream",
     "text": [
      " 4.351 99.351\n"
     ]
    }
   ],
   "source": [
    "        from sklearn.feature_selection import SelectKBest, f_regression\n",
    "        selector = SelectKBest(f_regression, k=11)\n",
    "        selector.fit(X, y)\n",
    "        selected_columns=X.columns[selector.get_support()]\n",
    "        XX = X[selected_columns].copy()       \n",
    "        model.fit(XX, y)\n",
    "        cv = RepeatedKFold(n_splits=5, n_repeats=3, random_state=79)\n",
    "        scores1 = cross_val_score(model,XX, y, scoring='neg_mean_absolute_error', cv=cv, n_jobs=-1, error_score='raise')\n",
    "        scores3 = cross_val_score(model,XX, y, scoring='r2', cv=cv, n_jobs=-1, error_score='raise')\n",
    "        print(' %.3f %.3f' % (-mean(scores1), 100*mean(scores3)))"
   ]
  },
  {
   "cell_type": "markdown",
   "id": "4598a841",
   "metadata": {},
   "source": [
    "## Feature Selection by Recursive Feature Elimination with Linear Regression "
   ]
  },
  {
   "cell_type": "markdown",
   "id": "6df219d0",
   "metadata": {},
   "source": [
    "### CPI"
   ]
  },
  {
   "cell_type": "code",
   "execution_count": 278,
   "id": "00d8c355",
   "metadata": {},
   "outputs": [],
   "source": [
    "X=df_ver_3\n",
    "y=y_CPI\n",
    "model = LinearRegression()\n",
    "apt= pd.DataFrame(columns={'feature','mae','r2'})\n",
    "for k  in range(1, 38, 1):\n",
    "        from sklearn.feature_selection import RFE\n",
    "        selector = RFE(estimator=LinearRegression(),n_features_to_select = k, step = 1)\n",
    "        selector.fit(X, y)\n",
    "        selected_columns=X.columns[selector.get_support()]        \n",
    "        XX = X[selected_columns].copy()       \n",
    "        model.fit(XX, y)\n",
    "        cv = RepeatedKFold(n_splits=5, n_repeats=3, random_state=79)\n",
    "        scores1 = cross_val_score(model,XX, y, scoring='neg_mean_absolute_error', cv=cv, n_jobs=-1, error_score='raise')\n",
    "        scores3 = cross_val_score(model,XX, y, scoring='r2', cv=cv, n_jobs=-1, error_score='raise')\n",
    "        apt=apt.append({'mae':-1*(mean(scores1)),'r2':100*(mean(scores3)),'feature':k},ignore_index=True)"
   ]
  },
  {
   "cell_type": "code",
   "execution_count": 279,
   "id": "19b15ad1",
   "metadata": {},
   "outputs": [
    {
     "data": {
      "text/plain": [
       "Text(0, 0.5, 'MAE')"
      ]
     },
     "execution_count": 279,
     "metadata": {},
     "output_type": "execute_result"
    },
    {
     "data": {
      "image/png": "[encoded data removed]",
      "text/plain": [
       "<Figure size 432x288 with 1 Axes>"
      ]
     },
     "metadata": {
      "needs_background": "light"
     },
     "output_type": "display_data"
    }
   ],
   "source": [
    "        plt.bar(apt.feature,apt.mae)\n",
    "        plt.xlabel('Number Of Feature')\n",
    "        plt.ylabel('MAE')  "
   ]
  },
  {
   "cell_type": "code",
   "execution_count": 280,
   "id": "0ccb398b",
   "metadata": {},
   "outputs": [
    {
     "data": {
      "text/plain": [
       "Text(0, 0.5, 'R2')"
      ]
     },
     "execution_count": 280,
     "metadata": {},
     "output_type": "execute_result"
    },
    {
     "data": {
      "image/png": "[encoded data removed]",
      "text/plain": [
       "<Figure size 432x288 with 1 Axes>"
      ]
     },
     "metadata": {
      "needs_background": "light"
     },
     "output_type": "display_data"
    }
   ],
   "source": [
    "        plt.bar(apt.feature,apt.r2)\n",
    "        plt.xlabel('Number Of Feature')\n",
    "        plt.ylabel('R2')"
   ]
  },
  {
   "cell_type": "code",
   "execution_count": 281,
   "id": "d6cf2b0b",
   "metadata": {},
   "outputs": [
    {
     "name": "stdout",
     "output_type": "stream",
     "text": [
      " 0.101 -33.738\n"
     ]
    }
   ],
   "source": [
    "        selector = RFE(estimator=LinearRegression(),n_features_to_select = 20, step = 1)\n",
    "        selector.fit(X, y)\n",
    "        selected_columns=X.columns[selector.get_support()]    \n",
    "        XX = X[selected_columns].copy()       \n",
    "        model.fit(XX, y)\n",
    "        cv = RepeatedKFold(n_splits=5, n_repeats=3, random_state=79)\n",
    "        scores1 = cross_val_score(model,XX, y, scoring='neg_mean_absolute_error', cv=cv, n_jobs=-1, error_score='raise')\n",
    "        scores3 = cross_val_score(model,XX, y, scoring='r2', cv=cv, n_jobs=-1, error_score='raise')\n",
    "        print(' %.3f %.3f' % (-mean(scores1), 100*mean(scores3)))"
   ]
  },
  {
   "cell_type": "markdown",
   "id": "4698b670",
   "metadata": {},
   "source": [
    "### DPI"
   ]
  },
  {
   "cell_type": "code",
   "execution_count": 293,
   "id": "9c26ab5e",
   "metadata": {},
   "outputs": [],
   "source": [
    "X=df_ver_3\n",
    "y=y_DPI\n",
    "model = LinearRegression()\n",
    "apt= pd.DataFrame(columns={'feature','mae','r2'})\n",
    "for k  in range(1, 38, 1):\n",
    "        from sklearn.feature_selection import RFE\n",
    "        selector = RFE(estimator=LinearRegression(),n_features_to_select = k, step = 1)\n",
    "        selector.fit(X, y)\n",
    "        selected_columns=X.columns[selector.get_support()]        \n",
    "        XX = X[selected_columns].copy()       \n",
    "        model.fit(XX, y)\n",
    "        cv = RepeatedKFold(n_splits=5, n_repeats=3, random_state=79)\n",
    "        scores1 = cross_val_score(model,XX, y, scoring='neg_mean_absolute_error', cv=cv, n_jobs=-1, error_score='raise')\n",
    "        scores3 = cross_val_score(model,XX, y, scoring='r2', cv=cv, n_jobs=-1, error_score='raise')\n",
    "        apt=apt.append({'mae':-1*(mean(scores1)),'r2':100*(mean(scores3)),'feature':k},ignore_index=True)"
   ]
  },
  {
   "cell_type": "code",
   "execution_count": 294,
   "id": "733ff11f",
   "metadata": {},
   "outputs": [
    {
     "data": {
      "text/plain": [
       "Text(0, 0.5, 'MAE')"
      ]
     },
     "execution_count": 294,
     "metadata": {},
     "output_type": "execute_result"
    },
    {
     "data": {
      "image/png": "[encoded data removed]",
      "text/plain": [
       "<Figure size 432x288 with 1 Axes>"
      ]
     },
     "metadata": {
      "needs_background": "light"
     },
     "output_type": "display_data"
    }
   ],
   "source": [
    "        plt.bar(apt.feature,apt.mae)\n",
    "        plt.xlabel('Number Of Feature')\n",
    "        plt.ylabel('MAE') "
   ]
  },
  {
   "cell_type": "code",
   "execution_count": 295,
   "id": "5e3e1bcb",
   "metadata": {},
   "outputs": [
    {
     "data": {
      "text/plain": [
       "Text(0, 0.5, 'R2')"
      ]
     },
     "execution_count": 295,
     "metadata": {},
     "output_type": "execute_result"
    },
    {
     "data": {
      "image/png": "[encoded data removed]",
      "text/plain": [
       "<Figure size 432x288 with 1 Axes>"
      ]
     },
     "metadata": {
      "needs_background": "light"
     },
     "output_type": "display_data"
    }
   ],
   "source": [
    "        plt.bar(apt.feature,apt.r2)\n",
    "        plt.xlabel('Number Of Feature')\n",
    "        plt.ylabel('R2')"
   ]
  },
  {
   "cell_type": "code",
   "execution_count": 296,
   "id": "a440e175",
   "metadata": {},
   "outputs": [
    {
     "name": "stdout",
     "output_type": "stream",
     "text": [
      " 5.480 17.950\n"
     ]
    }
   ],
   "source": [
    "        selector = RFE(estimator=LinearRegression(),n_features_to_select = 11, step = 1)\n",
    "        selector.fit(X, y)\n",
    "        selected_columns=X.columns[selector.get_support()]    \n",
    "        XX = X[selected_columns].copy()       \n",
    "        model.fit(XX, y)\n",
    "        cv = RepeatedKFold(n_splits=5, n_repeats=3, random_state=79)\n",
    "        scores1 = cross_val_score(model,XX, y, scoring='neg_mean_absolute_error', cv=cv, n_jobs=-1, error_score='raise')\n",
    "        scores3 = cross_val_score(model,XX, y, scoring='r2', cv=cv, n_jobs=-1, error_score='raise')\n",
    "        print(' %.3f %.3f' % (-mean(scores1), 100*mean(scores3)))"
   ]
  },
  {
   "cell_type": "code",
   "execution_count": null,
   "id": "cd5f260d",
   "metadata": {},
   "outputs": [],
   "source": []
  },
  {
   "cell_type": "markdown",
   "id": "1ea4776e",
   "metadata": {},
   "source": [
    "### EC"
   ]
  },
  {
   "cell_type": "code",
   "execution_count": 297,
   "id": "9a7ab3bd",
   "metadata": {},
   "outputs": [],
   "source": [
    "X=df_ver_3\n",
    "y=y_EC_D\n",
    "model = LinearRegression()\n",
    "apt= pd.DataFrame(columns={'feature','mae','r2'})\n",
    "for k  in range(1, 38, 1):\n",
    "        from sklearn.feature_selection import RFE\n",
    "        selector = RFE(estimator=LinearRegression(),n_features_to_select = k, step = 1)\n",
    "        selector.fit(X, y)\n",
    "        selected_columns=X.columns[selector.get_support()]        \n",
    "        XX = X[selected_columns].copy()       \n",
    "        model.fit(XX, y)\n",
    "        cv = RepeatedKFold(n_splits=5, n_repeats=3, random_state=79)\n",
    "        scores1 = cross_val_score(model,XX, y, scoring='neg_mean_absolute_error', cv=cv, n_jobs=-1, error_score='raise')\n",
    "        scores3 = cross_val_score(model,XX, y, scoring='r2', cv=cv, n_jobs=-1, error_score='raise')\n",
    "        apt=apt.append({'mae':-1*(mean(scores1)),'r2':100*(mean(scores3)),'feature':k},ignore_index=True)"
   ]
  },
  {
   "cell_type": "code",
   "execution_count": 298,
   "id": "e51c5491",
   "metadata": {},
   "outputs": [
    {
     "data": {
      "text/plain": [
       "Text(0, 0.5, 'MAE')"
      ]
     },
     "execution_count": 298,
     "metadata": {},
     "output_type": "execute_result"
    },
    {
     "data": {
      "image/png": "[encoded data removed]",
      "text/plain": [
       "<Figure size 432x288 with 1 Axes>"
      ]
     },
     "metadata": {
      "needs_background": "light"
     },
     "output_type": "display_data"
    }
   ],
   "source": [
    "        plt.bar(apt.feature,apt.mae)\n",
    "        plt.xlabel('Number Of Feature')\n",
    "        plt.ylabel('MAE') "
   ]
  },
  {
   "cell_type": "code",
   "execution_count": 299,
   "id": "efb04119",
   "metadata": {},
   "outputs": [
    {
     "data": {
      "text/plain": [
       "Text(0, 0.5, 'R2')"
      ]
     },
     "execution_count": 299,
     "metadata": {},
     "output_type": "execute_result"
    },
    {
     "data": {
      "image/png": "[encoded data removed]",
      "text/plain": [
       "<Figure size 432x288 with 1 Axes>"
      ]
     },
     "metadata": {
      "needs_background": "light"
     },
     "output_type": "display_data"
    }
   ],
   "source": [
    "        plt.bar(apt.feature,apt.r2)\n",
    "        plt.xlabel('Number Of Feature')\n",
    "        plt.ylabel('R2')"
   ]
  },
  {
   "cell_type": "code",
   "execution_count": 300,
   "id": "bd6c2ca8",
   "metadata": {},
   "outputs": [
    {
     "name": "stdout",
     "output_type": "stream",
     "text": [
      " 0.045 88.191\n"
     ]
    }
   ],
   "source": [
    "        selector = RFE(estimator=LinearRegression(),n_features_to_select = 20, step = 1)\n",
    "        selector.fit(X, y)\n",
    "        selected_columns=X.columns[selector.get_support()]    \n",
    "        XX = X[selected_columns].copy()       \n",
    "        model.fit(XX, y)\n",
    "        cv = RepeatedKFold(n_splits=5, n_repeats=3, random_state=79)\n",
    "        scores1 = cross_val_score(model,XX, y, scoring='neg_mean_absolute_error', cv=cv, n_jobs=-1, error_score='raise')\n",
    "        scores3 = cross_val_score(model,XX, y, scoring='r2', cv=cv, n_jobs=-1, error_score='raise')\n",
    "        print(' %.3f %.3f' % (-mean(scores1), 100*mean(scores3)))"
   ]
  },
  {
   "cell_type": "markdown",
   "id": "80939567",
   "metadata": {},
   "source": [
    "### T"
   ]
  },
  {
   "cell_type": "code",
   "execution_count": 301,
   "id": "ca50a92b",
   "metadata": {},
   "outputs": [],
   "source": [
    "X=df_ver_3\n",
    "y=y_T_D\n",
    "model = LinearRegression()\n",
    "apt= pd.DataFrame(columns={'feature','mae','r2'})\n",
    "for k  in range(1, 38, 1):\n",
    "        from sklearn.feature_selection import RFE\n",
    "        selector = RFE(estimator=LinearRegression(),n_features_to_select = k, step = 1)\n",
    "        selector.fit(X, y)\n",
    "        selected_columns=X.columns[selector.get_support()]        \n",
    "        XX = X[selected_columns].copy()       \n",
    "        model.fit(XX, y)\n",
    "        cv = RepeatedKFold(n_splits=5, n_repeats=3, random_state=79)\n",
    "        scores1 = cross_val_score(model,XX, y, scoring='neg_mean_absolute_error', cv=cv, n_jobs=-1, error_score='raise')\n",
    "        scores3 = cross_val_score(model,XX, y, scoring='r2', cv=cv, n_jobs=-1, error_score='raise')\n",
    "        apt=apt.append({'mae':-1*(mean(scores1)),'r2':100*(mean(scores3)),'feature':k},ignore_index=True)"
   ]
  },
  {
   "cell_type": "code",
   "execution_count": 302,
   "id": "75a73ff9",
   "metadata": {},
   "outputs": [
    {
     "data": {
      "text/plain": [
       "Text(0, 0.5, 'MAE')"
      ]
     },
     "execution_count": 302,
     "metadata": {},
     "output_type": "execute_result"
    },
    {
     "data": {
      "image/png": "[encoded data removed]",
      "text/plain": [
       "<Figure size 432x288 with 1 Axes>"
      ]
     },
     "metadata": {
      "needs_background": "light"
     },
     "output_type": "display_data"
    }
   ],
   "source": [
    "        plt.bar(apt.feature,apt.mae)\n",
    "        plt.xlabel('Number Of Feature')\n",
    "        plt.ylabel('MAE') "
   ]
  },
  {
   "cell_type": "code",
   "execution_count": 303,
   "id": "8e146e8c",
   "metadata": {},
   "outputs": [
    {
     "data": {
      "text/plain": [
       "Text(0, 0.5, 'R2')"
      ]
     },
     "execution_count": 303,
     "metadata": {},
     "output_type": "execute_result"
    },
    {
     "data": {
      "image/png": "[encoded data removed]",
      "text/plain": [
       "<Figure size 432x288 with 1 Axes>"
      ]
     },
     "metadata": {
      "needs_background": "light"
     },
     "output_type": "display_data"
    }
   ],
   "source": [
    "        plt.bar(apt.feature,apt.r2)\n",
    "        plt.xlabel('Number Of Feature')\n",
    "        plt.ylabel('R2')"
   ]
  },
  {
   "cell_type": "code",
   "execution_count": 304,
   "id": "8ee26b03",
   "metadata": {},
   "outputs": [
    {
     "name": "stdout",
     "output_type": "stream",
     "text": [
      " 2.971 99.635\n"
     ]
    }
   ],
   "source": [
    "        selector = RFE(estimator=LinearRegression(),n_features_to_select = 9, step = 1)\n",
    "        selector.fit(X, y)\n",
    "        selected_columns=X.columns[selector.get_support()]    \n",
    "        XX = X[selected_columns].copy()       \n",
    "        model.fit(XX, y)\n",
    "        cv = RepeatedKFold(n_splits=5, n_repeats=3, random_state=79)\n",
    "        scores1 = cross_val_score(model,XX, y, scoring='neg_mean_absolute_error', cv=cv, n_jobs=-1, error_score='raise')\n",
    "        scores3 = cross_val_score(model,XX, y, scoring='r2', cv=cv, n_jobs=-1, error_score='raise')\n",
    "        print(' %.3f %.3f' % (-mean(scores1), 100*mean(scores3)))"
   ]
  },
  {
   "cell_type": "markdown",
   "id": "c5f073d9",
   "metadata": {},
   "source": [
    "### WC"
   ]
  },
  {
   "cell_type": "code",
   "execution_count": 305,
   "id": "993e836e",
   "metadata": {},
   "outputs": [],
   "source": [
    "X=df_ver_3\n",
    "y=y_WC\n",
    "model = LinearRegression()\n",
    "apt= pd.DataFrame(columns={'feature','mae','r2'})\n",
    "for k  in range(1, 38, 1):\n",
    "        from sklearn.feature_selection import RFE\n",
    "        selector = RFE(estimator=LinearRegression(),n_features_to_select = k, step = 1)\n",
    "        selector.fit(X, y)\n",
    "        selected_columns=X.columns[selector.get_support()]        \n",
    "        XX = X[selected_columns].copy()       \n",
    "        model.fit(XX, y)\n",
    "        cv = RepeatedKFold(n_splits=5, n_repeats=3, random_state=79)\n",
    "        scores1 = cross_val_score(model,XX, y, scoring='neg_mean_absolute_error', cv=cv, n_jobs=-1, error_score='raise')\n",
    "        scores3 = cross_val_score(model,XX, y, scoring='r2', cv=cv, n_jobs=-1, error_score='raise')\n",
    "        apt=apt.append({'mae':-1*(mean(scores1)),'r2':100*(mean(scores3)),'feature':k},ignore_index=True)"
   ]
  },
  {
   "cell_type": "code",
   "execution_count": 306,
   "id": "295d5544",
   "metadata": {},
   "outputs": [
    {
     "data": {
      "text/plain": [
       "Text(0, 0.5, 'MAE')"
      ]
     },
     "execution_count": 306,
     "metadata": {},
     "output_type": "execute_result"
    },
    {
     "data": {
      "image/png": "[encoded data removed]",
      "text/plain": [
       "<Figure size 432x288 with 1 Axes>"
      ]
     },
     "metadata": {
      "needs_background": "light"
     },
     "output_type": "display_data"
    }
   ],
   "source": [
    "        plt.bar(apt.feature,apt.mae)\n",
    "        plt.xlabel('Number Of Feature')\n",
    "        plt.ylabel('MAE') "
   ]
  },
  {
   "cell_type": "code",
   "execution_count": 307,
   "id": "1a4dfde3",
   "metadata": {},
   "outputs": [
    {
     "data": {
      "text/plain": [
       "Text(0, 0.5, 'R2')"
      ]
     },
     "execution_count": 307,
     "metadata": {},
     "output_type": "execute_result"
    },
    {
     "data": {
      "image/png": "[encoded data removed]",
      "text/plain": [
       "<Figure size 432x288 with 1 Axes>"
      ]
     },
     "metadata": {
      "needs_background": "light"
     },
     "output_type": "display_data"
    }
   ],
   "source": [
    "        plt.bar(apt.feature,apt.r2)\n",
    "        plt.xlabel('Number Of Feature')\n",
    "        plt.ylabel('R2')"
   ]
  },
  {
   "cell_type": "code",
   "execution_count": 308,
   "id": "1cebff4c",
   "metadata": {},
   "outputs": [
    {
     "name": "stdout",
     "output_type": "stream",
     "text": [
      " 0.491 84.866\n"
     ]
    }
   ],
   "source": [
    "        selector = RFE(estimator=LinearRegression(),n_features_to_select = 6, step = 1)\n",
    "        selector.fit(X, y)\n",
    "        selected_columns=X.columns[selector.get_support()]    \n",
    "        XX = X[selected_columns].copy()       \n",
    "        model.fit(XX, y)\n",
    "        cv = RepeatedKFold(n_splits=5, n_repeats=3, random_state=79)\n",
    "        scores1 = cross_val_score(model,XX, y, scoring='neg_mean_absolute_error', cv=cv, n_jobs=-1, error_score='raise')\n",
    "        scores3 = cross_val_score(model,XX, y, scoring='r2', cv=cv, n_jobs=-1, error_score='raise')\n",
    "        print(' %.3f %.3f' % (-mean(scores1), 100*mean(scores3)))"
   ]
  },
  {
   "cell_type": "markdown",
   "id": "21f1045b",
   "metadata": {},
   "source": [
    "We can define T by Linear Regression with 10 feature \n",
    "WC by LR with 10 feature \n",
    "EC by LR with 20 feature "
   ]
  },
  {
   "cell_type": "markdown",
   "id": "dfe9fcc3",
   "metadata": {},
   "source": [
    "## Feature Selection by Genetic Selection with Linear Regression "
   ]
  },
  {
   "cell_type": "markdown",
   "id": "7c0816bb",
   "metadata": {},
   "source": [
    "### CPI"
   ]
  },
  {
   "cell_type": "code",
   "execution_count": 168,
   "id": "bc7da6c0",
   "metadata": {},
   "outputs": [
    {
     "name": "stdout",
     "output_type": "stream",
     "text": [
      "Features: Index(['1OYSum of CIRC_TIME', '1OYSum of WI', '1OYMax of DEVIR',\n",
      "       '1OYMax of TEMP', '1OYSum of TEPE_C', '2AYSum of kapalı',\n",
      "       '2AYMax of DEVIR', '2AYMax of TEMP', '4SGDSum of WI',\n",
      "       '4SGDSum of ÜST_C', '7SCD2Sum of kapalı', '7SCD2Max of DEVIR',\n",
      "       '7SCD2Max of TEMP', '7SCD2Sum of ALT_C', '7SCD2Sum of ÜST_C',\n",
      "       '10KUSum of SURE', '10KUSum of KAPI ACMA', '10KUSum of FAN / KLAPE'],\n",
      "      dtype='object')\n",
      " 0.078 20.293\n"
     ]
    }
   ],
   "source": [
    "from genetic_selection import GeneticSelectionCV\n",
    "from sklearn.tree import DecisionTreeClassifier\n",
    "import pandas as pd\n",
    "import numpy as np\n",
    "\n",
    "X = df_ver_3\n",
    "y = y_CPI\n",
    "estimator = LinearRegression()\n",
    "model = GeneticSelectionCV(\n",
    "    estimator, cv=5, verbose=0,\n",
    "    scoring=\"neg_mean_absolute_error\", max_features=37,\n",
    "    n_population=100, crossover_proba=0.5,\n",
    "    mutation_proba=0.2, n_generations=50,\n",
    "    crossover_independent_proba=0.5,\n",
    "    mutation_independent_proba=0.04,\n",
    "    tournament_size=3, n_gen_no_change=10,\n",
    "    caching=True, n_jobs=-1)\n",
    "model = model.fit(X, y)\n",
    "print('Features:', X.columns[model.support_])\n",
    "selected_columns=X.columns[model.support_]       \n",
    "XX = X[selected_columns].copy() \n",
    "model_LR=LinearRegression()\n",
    "model_LR.fit(XX, y)\n",
    "cv = RepeatedKFold(n_splits=5, n_repeats=3, random_state=79)\n",
    "scores1 = cross_val_score(model_LR,XX, y, scoring='neg_mean_absolute_error', cv=cv, n_jobs=-1, error_score='raise')\n",
    "scores3 = cross_val_score(model_LR,XX, y, scoring='r2', cv=cv, n_jobs=-1, error_score='raise')\n",
    "print(' %.3f %.3f' % (-mean(scores1),  100*mean(scores3)))"
   ]
  },
  {
   "cell_type": "markdown",
   "id": "adb7fd14",
   "metadata": {},
   "source": [
    "### DPI"
   ]
  },
  {
   "cell_type": "code",
   "execution_count": 169,
   "id": "aae5e00c",
   "metadata": {},
   "outputs": [
    {
     "name": "stdout",
     "output_type": "stream",
     "text": [
      "Features: Index(['1OYSum of kapalı', '1OYSum of WI', '1OYMax of TEMP',\n",
      "       '1OYSum of TEPE_C', '2AYSum of kapalı', '2AYSum of SURE',\n",
      "       '2AYMax of TEMP', '2AYSum of ALT_C', '2AYSum of TEPE_C',\n",
      "       '4SGDSum of SURE', '7SCD2Sum of kapalı', '7SCD2Max of DEVIR',\n",
      "       '7SCD2Max of TEMP', '10KUSum of KAPI ACMA', '10KUSum of FAN / KLAPE',\n",
      "       '10KUSum of GAUDI_offset'],\n",
      "      dtype='object')\n",
      " 4.513 43.148\n"
     ]
    }
   ],
   "source": [
    "X = df_ver_3\n",
    "y = y_DPI\n",
    "estimator = LinearRegression()\n",
    "model = GeneticSelectionCV(\n",
    "    estimator, cv=5, verbose=0,\n",
    "    scoring=\"neg_mean_absolute_error\", max_features=37,\n",
    "    n_population=100, crossover_proba=0.5,\n",
    "    mutation_proba=0.2, n_generations=50,\n",
    "    crossover_independent_proba=0.5,\n",
    "    mutation_independent_proba=0.04,\n",
    "    tournament_size=3, n_gen_no_change=10,\n",
    "    caching=True, n_jobs=-1)\n",
    "model = model.fit(X, y)\n",
    "print('Features:', X.columns[model.support_])\n",
    "selected_columns=X.columns[model.support_]       \n",
    "XX = X[selected_columns].copy() \n",
    "model_LR=LinearRegression()\n",
    "model_LR.fit(XX, y)\n",
    "cv = RepeatedKFold(n_splits=5, n_repeats=3, random_state=79)\n",
    "scores1 = cross_val_score(model_LR,XX, y, scoring='neg_mean_absolute_error', cv=cv, n_jobs=-1, error_score='raise')\n",
    "scores3 = cross_val_score(model_LR,XX, y, scoring='r2', cv=cv, n_jobs=-1, error_score='raise')\n",
    "print(' %.3f %.3f' % (-mean(scores1),  100*mean(scores3)))"
   ]
  },
  {
   "cell_type": "markdown",
   "id": "e2380100",
   "metadata": {},
   "source": [
    "### EC"
   ]
  },
  {
   "cell_type": "code",
   "execution_count": 170,
   "id": "4b58ef0c",
   "metadata": {},
   "outputs": [
    {
     "name": "stdout",
     "output_type": "stream",
     "text": [
      "Features: Index(['1OYSum of CIRC_TIME', '1OYMax of DEVIR', '2AYSum of kapalı',\n",
      "       '2AYMax of TEMP', '2AYSum of ALT_C', '3MFTSum of SURE', '4SGDSum of WI',\n",
      "       '7SCD2Sum of kapalı', '7SCD2Max of TEMP', '7SCD2Sum of ALT_C',\n",
      "       '8DSBMax of DEVIR', '10KUSum of SURE', '10KUSum of KAPI ACMA',\n",
      "       '10KUSum of FAN / KLAPE'],\n",
      "      dtype='object')\n",
      " 0.047 87.249\n"
     ]
    }
   ],
   "source": [
    "X = df_ver_3\n",
    "y = y_EC_D\n",
    "estimator = LinearRegression()\n",
    "model = GeneticSelectionCV(\n",
    "    estimator, cv=5, verbose=0,\n",
    "    scoring=\"neg_mean_absolute_error\", max_features=37,\n",
    "    n_population=100, crossover_proba=0.5,\n",
    "    mutation_proba=0.2, n_generations=50,\n",
    "    crossover_independent_proba=0.5,\n",
    "    mutation_independent_proba=0.04,\n",
    "    tournament_size=3, n_gen_no_change=10,\n",
    "    caching=True, n_jobs=-1)\n",
    "model = model.fit(X, y)\n",
    "print('Features:', X.columns[model.support_])\n",
    "selected_columns=X.columns[model.support_]       \n",
    "XX = X[selected_columns].copy() \n",
    "model_LR=LinearRegression()\n",
    "model_LR.fit(XX, y)\n",
    "cv = RepeatedKFold(n_splits=5, n_repeats=3, random_state=79)\n",
    "scores1 = cross_val_score(model_LR,XX, y, scoring='neg_mean_absolute_error', cv=cv, n_jobs=-1, error_score='raise')\n",
    "scores3 = cross_val_score(model_LR,XX, y, scoring='r2', cv=cv, n_jobs=-1, error_score='raise')\n",
    "print(' %.3f %.3f' % (-mean(scores1),  100*mean(scores3)))"
   ]
  },
  {
   "cell_type": "markdown",
   "id": "fa3ff2a7",
   "metadata": {},
   "source": [
    "### WC"
   ]
  },
  {
   "cell_type": "code",
   "execution_count": 171,
   "id": "71301de2",
   "metadata": {},
   "outputs": [
    {
     "name": "stdout",
     "output_type": "stream",
     "text": [
      "Features: Index(['1OYSum of WI', '1OYMax of DEVIR', '1OYMax of TEMP', '2AYSum of kapalı',\n",
      "       '2AYSum of SURE', '2AYSum of WI', '2AYSum of TEPE_C', '4SGDSum of WI',\n",
      "       '4SGDSum of TEPE_C', '7SCD2Sum of kapalı', '7SCD2Sum of SURE',\n",
      "       '7SCD2Max of DEVIR', '7SCD2Sum of ALT_C', '7SCD2Sum of ÜST_C',\n",
      "       '8DSBSum of kapalı'],\n",
      "      dtype='object')\n",
      " 0.391 90.278\n"
     ]
    }
   ],
   "source": [
    "X = df_ver_3\n",
    "y = y_WC\n",
    "estimator = LinearRegression()\n",
    "model = GeneticSelectionCV(\n",
    "    estimator, cv=5, verbose=0,\n",
    "    scoring=\"neg_mean_absolute_error\", max_features=37,\n",
    "    n_population=100, crossover_proba=0.5,\n",
    "    mutation_proba=0.2, n_generations=50,\n",
    "    crossover_independent_proba=0.5,\n",
    "    mutation_independent_proba=0.04,\n",
    "    tournament_size=3, n_gen_no_change=10,\n",
    "    caching=True, n_jobs=-1)\n",
    "model = model.fit(X, y)\n",
    "print('Features:', X.columns[model.support_])\n",
    "selected_columns=X.columns[model.support_]       \n",
    "XX = X[selected_columns].copy() \n",
    "model_LR=LinearRegression()\n",
    "model_LR.fit(XX, y)\n",
    "cv = RepeatedKFold(n_splits=5, n_repeats=3, random_state=79)\n",
    "scores1 = cross_val_score(model_LR,XX, y, scoring='neg_mean_absolute_error', cv=cv, n_jobs=-1, error_score='raise')\n",
    "scores3 = cross_val_score(model_LR,XX, y, scoring='r2', cv=cv, n_jobs=-1, error_score='raise')\n",
    "print(' %.3f %.3f' % (-mean(scores1),  100*mean(scores3)))"
   ]
  },
  {
   "cell_type": "markdown",
   "id": "23e6103c",
   "metadata": {},
   "source": [
    "### T"
   ]
  },
  {
   "cell_type": "code",
   "execution_count": 172,
   "id": "5320b501",
   "metadata": {},
   "outputs": [
    {
     "name": "stdout",
     "output_type": "stream",
     "text": [
      "Features: Index(['1OYSum of SURE', '2AYSum of kapalı', '2AYSum of SURE',\n",
      "       '2AYSum of TEPE_C', '4SGDSum of WI', '4SGDSum of ALT_C',\n",
      "       '7SCD2Sum of SURE', '8DSBMax of DEVIR', '10KUSum of BEKLEME',\n",
      "       '10KUSum of FAN', '10KUSum of FAN / KLAPE', '10KUSum of GAUDI_offset'],\n",
      "      dtype='object')\n",
      " 2.924 99.618\n"
     ]
    }
   ],
   "source": [
    "X = df_ver_3\n",
    "y = y_T_D\n",
    "estimator = LinearRegression()\n",
    "model = GeneticSelectionCV(\n",
    "    estimator, cv=5, verbose=0,\n",
    "    scoring=\"neg_mean_absolute_error\", max_features=37,\n",
    "    n_population=100, crossover_proba=0.5,\n",
    "    mutation_proba=0.2, n_generations=50,\n",
    "    crossover_independent_proba=0.5,\n",
    "    mutation_independent_proba=0.04,\n",
    "    tournament_size=3, n_gen_no_change=10,\n",
    "    caching=True, n_jobs=-1)\n",
    "model = model.fit(X, y)\n",
    "print('Features:', X.columns[model.support_])\n",
    "selected_columns=X.columns[model.support_]       \n",
    "XX = X[selected_columns].copy() \n",
    "model_LR=LinearRegression()\n",
    "model_LR.fit(XX, y)\n",
    "cv = RepeatedKFold(n_splits=5, n_repeats=3, random_state=79)\n",
    "scores1 = cross_val_score(model_LR,XX, y, scoring='neg_mean_absolute_error', cv=cv, n_jobs=-1, error_score='raise')\n",
    "scores3 = cross_val_score(model_LR,XX, y, scoring='r2', cv=cv, n_jobs=-1, error_score='raise')\n",
    "print(' %.3f %.3f' % (-mean(scores1),  100*mean(scores3)))"
   ]
  },
  {
   "cell_type": "markdown",
   "id": "11874d09",
   "metadata": {},
   "source": [
    "Genetic Algorithm Performs Better on feature selection for linear regression models. this improve the importance of feature selection"
   ]
  },
  {
   "cell_type": "markdown",
   "id": "64405e91",
   "metadata": {},
   "source": [
    "## Feature Selection by  Shrinkage Methods"
   ]
  },
  {
   "cell_type": "markdown",
   "id": "8fcf264e",
   "metadata": {},
   "source": [
    "### CPI"
   ]
  },
  {
   "cell_type": "code",
   "execution_count": 317,
   "id": "712b25de",
   "metadata": {},
   "outputs": [
    {
     "name": "stdout",
     "output_type": "stream",
     "text": [
      ">Lasso 0.139 7.585\n",
      ">Lasso 0.143 13.528\n",
      ">Lasso 0.120 34.946\n",
      ">Lasso 0.114 25.555\n",
      ">Ridge 0.115 28.429\n",
      ">Ridge 0.120 32.897\n",
      ">Ridge 0.143 14.837\n",
      ">Ridge 0.169 -45.100\n",
      ">ElasticNet 0.139 10.114\n",
      ">ElasticNet 0.137 5.836\n",
      ">ElasticNet 0.139 5.974\n",
      ">ElasticNet 0.122 36.597\n",
      ">ElasticNet 0.144 13.389\n",
      ">ElasticNet 0.144 13.675\n",
      ">ElasticNet 0.123 24.200\n",
      ">ElasticNet 0.119 34.285\n",
      ">ElasticNet 0.120 35.929\n",
      ">ElasticNet 0.107 43.904\n",
      ">ElasticNet 0.105 36.216\n",
      ">ElasticNet 0.109 26.173\n"
     ]
    }
   ],
   "source": [
    "y=y_CPI\n",
    "X=df_ver_3\n",
    "for alp in [10,1,0.1,0.01]:\n",
    "        def get_models():\n",
    "            models = dict()\n",
    "            models['Lasso'] = Lasso(alpha=alp, fit_intercept=True, normalize='deprecated',\n",
    "                                      precompute=False, copy_X=True, max_iter=10000, tol=0.01,\n",
    "                                      warm_start=False, positive=False, random_state=None, selection='cyclic')\n",
    "\n",
    "            return models\n",
    "\n",
    "        def evaluate_model(model, X, y):\n",
    "            cv = RepeatedKFold(n_splits=5, n_repeats=3, random_state=1)\n",
    "            scores = cross_val_score(model, X, y, scoring='neg_mean_absolute_error', cv=cv, n_jobs=-1, error_score='raise')\n",
    "            return scores\n",
    "\n",
    "        def evaluate_model2(model, X, y):\n",
    "            cv = RepeatedKFold(n_splits=3, n_repeats=3, random_state=1)\n",
    "            scores2 = cross_val_score(model, X, y, scoring='r2', cv=cv, n_jobs=-1, error_score='raise')\n",
    "            return scores2\n",
    "\n",
    "        models = get_models()\n",
    "        results, names = list(), list()\n",
    "        for name, model in models.items():\n",
    "                scores = evaluate_model(model, X, y)\n",
    "                scores2 = evaluate_model2(model, X, y)\n",
    "                results.append(scores)\n",
    "                names.append(name)\n",
    "                print('>%s %.3f %.3f' % (name, -mean(scores), 100*mean(scores2)))\n",
    "                \n",
    "for alp in [10,1,0.1,0.01]:\n",
    "        def get_models():\n",
    "            models = dict()\n",
    "            models['Ridge'] = Ridge(alpha=alp, fit_intercept=True, normalize='deprecated', \n",
    "                                    copy_X=True, max_iter=None, tol=0.001, solver='auto', positive=False, random_state=None)\n",
    "\n",
    "            return models\n",
    "\n",
    "        def evaluate_model(model, X, y):\n",
    "            cv = RepeatedKFold(n_splits=5, n_repeats=3, random_state=1)\n",
    "            scores = cross_val_score(model, X, y, scoring='neg_mean_absolute_error', cv=cv, n_jobs=-1, error_score='raise')\n",
    "            return scores\n",
    "\n",
    "        def evaluate_model2(model, X, y):\n",
    "            cv = RepeatedKFold(n_splits=3, n_repeats=3, random_state=1)\n",
    "            scores2 = cross_val_score(model, X, y, scoring='r2', cv=cv, n_jobs=-1, error_score='raise')\n",
    "            return scores2\n",
    "\n",
    "        models = get_models()\n",
    "        results, names = list(), list()\n",
    "        for name, model in models.items():\n",
    "                scores = evaluate_model(model, X, y)\n",
    "                scores2 = evaluate_model2(model, X, y)\n",
    "                results.append(scores)\n",
    "                names.append(name)\n",
    "                print('>%s %.3f %.3f' % (name, -mean(scores), 100*mean(scores2)))\n",
    "                \n",
    "                \n",
    "for alp in [10,1,0.1,0.01]:\n",
    "    for l1 in [0.2,0.6,0.8]:    \n",
    "        def get_models():\n",
    "            models = dict()\n",
    "            models['ElasticNet'] = ElasticNet(alpha=alp, l1_ratio=l1, fit_intercept=True,\n",
    "                                                 normalize='deprecated', precompute=False, max_iter=10000, \n",
    "                                                 copy_X=True, tol=0.01, warm_start=False, positive=False,\n",
    "                                                 random_state=None, selection='cyclic')\n",
    "            return models\n",
    "\n",
    "        def evaluate_model(model, X, y):\n",
    "            cv = RepeatedKFold(n_splits=5, n_repeats=3, random_state=1)\n",
    "            scores = cross_val_score(model, X, y, scoring='neg_mean_absolute_error', cv=cv, n_jobs=-1, error_score='raise')\n",
    "            return scores\n",
    "\n",
    "        def evaluate_model2(model, X, y):\n",
    "            cv = RepeatedKFold(n_splits=3, n_repeats=3, random_state=1)\n",
    "            scores2 = cross_val_score(model, X, y, scoring='r2', cv=cv, n_jobs=-1, error_score='raise')\n",
    "            return scores2\n",
    "\n",
    "        models = get_models()\n",
    "        results, names = list(), list()\n",
    "        for name, model in models.items():\n",
    "                scores = evaluate_model(model, X, y)\n",
    "                scores2 = evaluate_model2(model, X, y)\n",
    "                results.append(scores)\n",
    "                names.append(name)\n",
    "                print('>%s %.3f %.3f' % (name, -mean(scores), 100*mean(scores2)))\n",
    "   "
   ]
  },
  {
   "cell_type": "markdown",
   "id": "38d1eccc",
   "metadata": {},
   "source": [
    "### DPI"
   ]
  },
  {
   "cell_type": "code",
   "execution_count": 318,
   "id": "d93d3c42",
   "metadata": {},
   "outputs": [
    {
     "name": "stdout",
     "output_type": "stream",
     "text": [
      ">Lasso 8.208 36.187\n",
      ">Lasso 8.370 12.938\n",
      ">Lasso 6.365 40.525\n",
      ">Lasso 7.440 35.553\n",
      ">Ridge 7.507 14.553\n",
      ">Ridge 7.126 29.635\n",
      ">Ridge 8.107 15.004\n",
      ">Ridge 10.146 -98.706\n",
      ">ElasticNet 8.079 35.352\n",
      ">ElasticNet 8.093 35.612\n",
      ">ElasticNet 8.175 35.714\n",
      ">ElasticNet 8.234 12.992\n",
      ">ElasticNet 8.269 13.104\n",
      ">ElasticNet 8.320 12.294\n",
      ">ElasticNet 7.377 18.191\n",
      ">ElasticNet 7.152 23.574\n",
      ">ElasticNet 6.861 29.535\n",
      ">ElasticNet 7.005 33.353\n",
      ">ElasticNet 6.992 35.583\n",
      ">ElasticNet 7.060 35.941\n"
     ]
    }
   ],
   "source": [
    "y=y_DPI\n",
    "X=df_ver_3\n",
    "for alp in [10,1,0.1,0.01]:\n",
    "        def get_models():\n",
    "            models = dict()\n",
    "            models['Lasso'] = Lasso(alpha=alp, fit_intercept=True, normalize='deprecated',\n",
    "                                      precompute=False, copy_X=True, max_iter=10000, tol=0.01,\n",
    "                                      warm_start=False, positive=False, random_state=None, selection='cyclic')\n",
    "\n",
    "            return models\n",
    "\n",
    "        def evaluate_model(model, X, y):\n",
    "            cv = RepeatedKFold(n_splits=5, n_repeats=3, random_state=1)\n",
    "            scores = cross_val_score(model, X, y, scoring='neg_mean_absolute_error', cv=cv, n_jobs=-1, error_score='raise')\n",
    "            return scores\n",
    "\n",
    "        def evaluate_model2(model, X, y):\n",
    "            cv = RepeatedKFold(n_splits=3, n_repeats=3, random_state=1)\n",
    "            scores2 = cross_val_score(model, X, y, scoring='r2', cv=cv, n_jobs=-1, error_score='raise')\n",
    "            return scores2\n",
    "\n",
    "        models = get_models()\n",
    "        results, names = list(), list()\n",
    "        for name, model in models.items():\n",
    "                scores = evaluate_model(model, X, y)\n",
    "                scores2 = evaluate_model2(model, X, y)\n",
    "                results.append(scores)\n",
    "                names.append(name)\n",
    "                print('>%s %.3f %.3f' % (name, -mean(scores), 100*mean(scores2)))\n",
    "                \n",
    "for alp in [10,1,0.1,0.01]:\n",
    "        def get_models():\n",
    "            models = dict()\n",
    "            models['Ridge'] = Ridge(alpha=alp, fit_intercept=True, normalize='deprecated', \n",
    "                                    copy_X=True, max_iter=None, tol=0.001, solver='auto', positive=False, random_state=None)\n",
    "\n",
    "            return models\n",
    "\n",
    "        def evaluate_model(model, X, y):\n",
    "            cv = RepeatedKFold(n_splits=5, n_repeats=3, random_state=1)\n",
    "            scores = cross_val_score(model, X, y, scoring='neg_mean_absolute_error', cv=cv, n_jobs=-1, error_score='raise')\n",
    "            return scores\n",
    "\n",
    "        def evaluate_model2(model, X, y):\n",
    "            cv = RepeatedKFold(n_splits=3, n_repeats=3, random_state=1)\n",
    "            scores2 = cross_val_score(model, X, y, scoring='r2', cv=cv, n_jobs=-1, error_score='raise')\n",
    "            return scores2\n",
    "\n",
    "        models = get_models()\n",
    "        results, names = list(), list()\n",
    "        for name, model in models.items():\n",
    "                scores = evaluate_model(model, X, y)\n",
    "                scores2 = evaluate_model2(model, X, y)\n",
    "                results.append(scores)\n",
    "                names.append(name)\n",
    "                print('>%s %.3f %.3f' % (name, -mean(scores), 100*mean(scores2)))\n",
    "                \n",
    "                \n",
    "for alp in [10,1,0.1,0.01]:\n",
    "    for l1 in [0.2,0.6,0.8]:    \n",
    "        def get_models():\n",
    "            models = dict()\n",
    "            models['ElasticNet'] = ElasticNet(alpha=alp, l1_ratio=l1, fit_intercept=True,\n",
    "                                                 normalize='deprecated', precompute=False, max_iter=10000, \n",
    "                                                 copy_X=True, tol=0.01, warm_start=False, positive=False,\n",
    "                                                 random_state=None, selection='cyclic')\n",
    "            return models\n",
    "\n",
    "        def evaluate_model(model, X, y):\n",
    "            cv = RepeatedKFold(n_splits=5, n_repeats=3, random_state=1)\n",
    "            scores = cross_val_score(model, X, y, scoring='neg_mean_absolute_error', cv=cv, n_jobs=-1, error_score='raise')\n",
    "            return scores\n",
    "\n",
    "        def evaluate_model2(model, X, y):\n",
    "            cv = RepeatedKFold(n_splits=3, n_repeats=3, random_state=1)\n",
    "            scores2 = cross_val_score(model, X, y, scoring='r2', cv=cv, n_jobs=-1, error_score='raise')\n",
    "            return scores2\n",
    "\n",
    "        models = get_models()\n",
    "        results, names = list(), list()\n",
    "        for name, model in models.items():\n",
    "                scores = evaluate_model(model, X, y)\n",
    "                scores2 = evaluate_model2(model, X, y)\n",
    "                results.append(scores)\n",
    "                names.append(name)\n",
    "                print('>%s %.3f %.3f' % (name, -mean(scores), 100*mean(scores2)))\n",
    "   "
   ]
  },
  {
   "cell_type": "markdown",
   "id": "7c563652",
   "metadata": {},
   "source": [
    "### EC"
   ]
  },
  {
   "cell_type": "code",
   "execution_count": 319,
   "id": "92f364b8",
   "metadata": {},
   "outputs": [
    {
     "name": "stdout",
     "output_type": "stream",
     "text": [
      ">Lasso 0.127 12.369\n",
      ">Lasso 0.135 -30.268\n",
      ">Lasso 0.077 63.007\n",
      ">Lasso 0.069 55.429\n",
      ">Ridge 0.060 62.635\n",
      ">Ridge 0.055 73.443\n",
      ">Ridge 0.063 63.016\n",
      ">Ridge 0.077 17.865\n",
      ">ElasticNet 0.132 -23.129\n",
      ">ElasticNet 0.128 0.638\n",
      ">ElasticNet 0.127 7.679\n",
      ">ElasticNet 0.089 43.593\n",
      ">ElasticNet 0.131 -20.601\n",
      ">ElasticNet 0.134 -26.952\n",
      ">ElasticNet 0.073 62.087\n",
      ">ElasticNet 0.074 66.816\n",
      ">ElasticNet 0.075 65.160\n",
      ">ElasticNet 0.061 65.929\n",
      ">ElasticNet 0.067 58.135\n",
      ">ElasticNet 0.068 56.063\n"
     ]
    }
   ],
   "source": [
    "y=y_EC_D\n",
    "X=df_ver_3\n",
    "for alp in [10,1,0.1,0.01]:\n",
    "        def get_models():\n",
    "            models = dict()\n",
    "            models['Lasso'] = Lasso(alpha=alp, fit_intercept=True, normalize='deprecated',\n",
    "                                      precompute=False, copy_X=True, max_iter=10000, tol=0.01,\n",
    "                                      warm_start=False, positive=False, random_state=None, selection='cyclic')\n",
    "\n",
    "            return models\n",
    "\n",
    "        def evaluate_model(model, X, y):\n",
    "            cv = RepeatedKFold(n_splits=5, n_repeats=3, random_state=1)\n",
    "            scores = cross_val_score(model, X, y, scoring='neg_mean_absolute_error', cv=cv, n_jobs=-1, error_score='raise')\n",
    "            return scores\n",
    "\n",
    "        def evaluate_model2(model, X, y):\n",
    "            cv = RepeatedKFold(n_splits=3, n_repeats=3, random_state=1)\n",
    "            scores2 = cross_val_score(model, X, y, scoring='r2', cv=cv, n_jobs=-1, error_score='raise')\n",
    "            return scores2\n",
    "\n",
    "        models = get_models()\n",
    "        results, names = list(), list()\n",
    "        for name, model in models.items():\n",
    "                scores = evaluate_model(model, X, y)\n",
    "                scores2 = evaluate_model2(model, X, y)\n",
    "                results.append(scores)\n",
    "                names.append(name)\n",
    "                print('>%s %.3f %.3f' % (name, -mean(scores), 100*mean(scores2)))\n",
    "                \n",
    "for alp in [10,1,0.1,0.01]:\n",
    "        def get_models():\n",
    "            models = dict()\n",
    "            models['Ridge'] = Ridge(alpha=alp, fit_intercept=True, normalize='deprecated', \n",
    "                                    copy_X=True, max_iter=None, tol=0.001, solver='auto', positive=False, random_state=None)\n",
    "\n",
    "            return models\n",
    "\n",
    "        def evaluate_model(model, X, y):\n",
    "            cv = RepeatedKFold(n_splits=5, n_repeats=3, random_state=1)\n",
    "            scores = cross_val_score(model, X, y, scoring='neg_mean_absolute_error', cv=cv, n_jobs=-1, error_score='raise')\n",
    "            return scores\n",
    "\n",
    "        def evaluate_model2(model, X, y):\n",
    "            cv = RepeatedKFold(n_splits=3, n_repeats=3, random_state=1)\n",
    "            scores2 = cross_val_score(model, X, y, scoring='r2', cv=cv, n_jobs=-1, error_score='raise')\n",
    "            return scores2\n",
    "\n",
    "        models = get_models()\n",
    "        results, names = list(), list()\n",
    "        for name, model in models.items():\n",
    "                scores = evaluate_model(model, X, y)\n",
    "                scores2 = evaluate_model2(model, X, y)\n",
    "                results.append(scores)\n",
    "                names.append(name)\n",
    "                print('>%s %.3f %.3f' % (name, -mean(scores), 100*mean(scores2)))\n",
    "                \n",
    "                \n",
    "for alp in [10,1,0.1,0.01]:\n",
    "    for l1 in [0.2,0.6,0.8]:    \n",
    "        def get_models():\n",
    "            models = dict()\n",
    "            models['ElasticNet'] = ElasticNet(alpha=alp, l1_ratio=l1, fit_intercept=True,\n",
    "                                                 normalize='deprecated', precompute=False, max_iter=10000, \n",
    "                                                 copy_X=True, tol=0.01, warm_start=False, positive=False,\n",
    "                                                 random_state=None, selection='cyclic')\n",
    "            return models\n",
    "\n",
    "        def evaluate_model(model, X, y):\n",
    "            cv = RepeatedKFold(n_splits=5, n_repeats=3, random_state=1)\n",
    "            scores = cross_val_score(model, X, y, scoring='neg_mean_absolute_error', cv=cv, n_jobs=-1, error_score='raise')\n",
    "            return scores\n",
    "\n",
    "        def evaluate_model2(model, X, y):\n",
    "            cv = RepeatedKFold(n_splits=3, n_repeats=3, random_state=1)\n",
    "            scores2 = cross_val_score(model, X, y, scoring='r2', cv=cv, n_jobs=-1, error_score='raise')\n",
    "            return scores2\n",
    "\n",
    "        models = get_models()\n",
    "        results, names = list(), list()\n",
    "        for name, model in models.items():\n",
    "                scores = evaluate_model(model, X, y)\n",
    "                scores2 = evaluate_model2(model, X, y)\n",
    "                results.append(scores)\n",
    "                names.append(name)\n",
    "                print('>%s %.3f %.3f' % (name, -mean(scores), 100*mean(scores2)))\n",
    "   "
   ]
  },
  {
   "cell_type": "markdown",
   "id": "ed2b624a",
   "metadata": {},
   "source": [
    "### WC"
   ]
  },
  {
   "cell_type": "code",
   "execution_count": 320,
   "id": "92b858cf",
   "metadata": {},
   "outputs": [
    {
     "name": "stdout",
     "output_type": "stream",
     "text": [
      ">Lasso 1.292 -51.449\n",
      ">Lasso 1.010 23.500\n",
      ">Lasso 0.738 71.467\n",
      ">Lasso 0.514 86.479\n",
      ">Ridge 0.686 77.346\n",
      ">Ridge 0.563 83.184\n",
      ">Ridge 0.624 74.949\n",
      ">Ridge 0.714 32.642\n",
      ">ElasticNet 1.146 -30.254\n",
      ">ElasticNet 1.264 -55.674\n",
      ">ElasticNet 1.286 -52.644\n",
      ">ElasticNet 0.865 55.501\n",
      ">ElasticNet 0.954 41.389\n",
      ">ElasticNet 0.982 31.652\n",
      ">ElasticNet 0.682 78.657\n",
      ">ElasticNet 0.723 75.238\n",
      ">ElasticNet 0.729 73.376\n",
      ">ElasticNet 0.544 85.545\n",
      ">ElasticNet 0.526 86.476\n",
      ">ElasticNet 0.520 86.503\n"
     ]
    }
   ],
   "source": [
    "y=y_WC\n",
    "X=df_ver_3\n",
    "for alp in [10,1,0.1,0.01]:\n",
    "        def get_models():\n",
    "            models = dict()\n",
    "            models['Lasso'] = Lasso(alpha=alp, fit_intercept=True, normalize='deprecated',\n",
    "                                      precompute=False, copy_X=True, max_iter=10000, tol=0.01,\n",
    "                                      warm_start=False, positive=False, random_state=None, selection='cyclic')\n",
    "\n",
    "            return models\n",
    "\n",
    "        def evaluate_model(model, X, y):\n",
    "            cv = RepeatedKFold(n_splits=5, n_repeats=3, random_state=1)\n",
    "            scores = cross_val_score(model, X, y, scoring='neg_mean_absolute_error', cv=cv, n_jobs=-1, error_score='raise')\n",
    "            return scores\n",
    "\n",
    "        def evaluate_model2(model, X, y):\n",
    "            cv = RepeatedKFold(n_splits=3, n_repeats=3, random_state=1)\n",
    "            scores2 = cross_val_score(model, X, y, scoring='r2', cv=cv, n_jobs=-1, error_score='raise')\n",
    "            return scores2\n",
    "\n",
    "        models = get_models()\n",
    "        results, names = list(), list()\n",
    "        for name, model in models.items():\n",
    "                scores = evaluate_model(model, X, y)\n",
    "                scores2 = evaluate_model2(model, X, y)\n",
    "                results.append(scores)\n",
    "                names.append(name)\n",
    "                print('>%s %.3f %.3f' % (name, -mean(scores), 100*mean(scores2)))\n",
    "                \n",
    "for alp in [10,1,0.1,0.01]:\n",
    "        def get_models():\n",
    "            models = dict()\n",
    "            models['Ridge'] = Ridge(alpha=alp, fit_intercept=True, normalize='deprecated', \n",
    "                                    copy_X=True, max_iter=None, tol=0.001, solver='auto', positive=False, random_state=None)\n",
    "\n",
    "            return models\n",
    "\n",
    "        def evaluate_model(model, X, y):\n",
    "            cv = RepeatedKFold(n_splits=5, n_repeats=3, random_state=1)\n",
    "            scores = cross_val_score(model, X, y, scoring='neg_mean_absolute_error', cv=cv, n_jobs=-1, error_score='raise')\n",
    "            return scores\n",
    "\n",
    "        def evaluate_model2(model, X, y):\n",
    "            cv = RepeatedKFold(n_splits=3, n_repeats=3, random_state=1)\n",
    "            scores2 = cross_val_score(model, X, y, scoring='r2', cv=cv, n_jobs=-1, error_score='raise')\n",
    "            return scores2\n",
    "\n",
    "        models = get_models()\n",
    "        results, names = list(), list()\n",
    "        for name, model in models.items():\n",
    "                scores = evaluate_model(model, X, y)\n",
    "                scores2 = evaluate_model2(model, X, y)\n",
    "                results.append(scores)\n",
    "                names.append(name)\n",
    "                print('>%s %.3f %.3f' % (name, -mean(scores), 100*mean(scores2)))\n",
    "                \n",
    "                \n",
    "for alp in [10,1,0.1,0.01]:\n",
    "    for l1 in [0.2,0.6,0.8]:    \n",
    "        def get_models():\n",
    "            models = dict()\n",
    "            models['ElasticNet'] = ElasticNet(alpha=alp, l1_ratio=l1, fit_intercept=True,\n",
    "                                                 normalize='deprecated', precompute=False, max_iter=10000, \n",
    "                                                 copy_X=True, tol=0.01, warm_start=False, positive=False,\n",
    "                                                 random_state=None, selection='cyclic')\n",
    "            return models\n",
    "\n",
    "        def evaluate_model(model, X, y):\n",
    "            cv = RepeatedKFold(n_splits=5, n_repeats=3, random_state=1)\n",
    "            scores = cross_val_score(model, X, y, scoring='neg_mean_absolute_error', cv=cv, n_jobs=-1, error_score='raise')\n",
    "            return scores\n",
    "\n",
    "        def evaluate_model2(model, X, y):\n",
    "            cv = RepeatedKFold(n_splits=3, n_repeats=3, random_state=1)\n",
    "            scores2 = cross_val_score(model, X, y, scoring='r2', cv=cv, n_jobs=-1, error_score='raise')\n",
    "            return scores2\n",
    "\n",
    "        models = get_models()\n",
    "        results, names = list(), list()\n",
    "        for name, model in models.items():\n",
    "                scores = evaluate_model(model, X, y)\n",
    "                scores2 = evaluate_model2(model, X, y)\n",
    "                results.append(scores)\n",
    "                names.append(name)\n",
    "                print('>%s %.3f %.3f' % (name, -mean(scores), 100*mean(scores2)))\n",
    "   "
   ]
  },
  {
   "cell_type": "markdown",
   "id": "e2c4c4ed",
   "metadata": {},
   "source": [
    "### T"
   ]
  },
  {
   "cell_type": "code",
   "execution_count": 321,
   "id": "061bce71",
   "metadata": {},
   "outputs": [
    {
     "name": "stdout",
     "output_type": "stream",
     "text": [
      ">Lasso 5.044 98.136\n",
      ">Lasso 4.039 99.203\n",
      ">Lasso 4.555 98.762\n",
      ">Lasso 5.226 97.103\n",
      ">Ridge 4.037 99.227\n",
      ">Ridge 4.756 98.944\n",
      ">Ridge 5.752 98.094\n",
      ">Ridge 6.473 96.268\n",
      ">ElasticNet 4.434 98.678\n",
      ">ElasticNet 4.724 98.389\n",
      ">ElasticNet 4.870 98.233\n",
      ">ElasticNet 4.242 99.164\n",
      ">ElasticNet 4.176 99.225\n",
      ">ElasticNet 3.976 99.191\n",
      ">ElasticNet 4.249 98.788\n",
      ">ElasticNet 4.302 98.708\n",
      ">ElasticNet 4.365 98.711\n",
      ">ElasticNet 4.855 97.858\n",
      ">ElasticNet 5.021 97.398\n",
      ">ElasticNet 4.994 97.248\n"
     ]
    }
   ],
   "source": [
    "y=y_T_D\n",
    "X=df_ver_3\n",
    "for alp in [10,1,0.1,0.01]:\n",
    "        def get_models():\n",
    "            models = dict()\n",
    "            models['Lasso'] = Lasso(alpha=alp, fit_intercept=True, normalize='deprecated',\n",
    "                                      precompute=False, copy_X=True, max_iter=10000, tol=0.01,\n",
    "                                      warm_start=False, positive=False, random_state=None, selection='cyclic')\n",
    "\n",
    "            return models\n",
    "\n",
    "        def evaluate_model(model, X, y):\n",
    "            cv = RepeatedKFold(n_splits=5, n_repeats=3, random_state=1)\n",
    "            scores = cross_val_score(model, X, y, scoring='neg_mean_absolute_error', cv=cv, n_jobs=-1, error_score='raise')\n",
    "            return scores\n",
    "\n",
    "        def evaluate_model2(model, X, y):\n",
    "            cv = RepeatedKFold(n_splits=3, n_repeats=3, random_state=1)\n",
    "            scores2 = cross_val_score(model, X, y, scoring='r2', cv=cv, n_jobs=-1, error_score='raise')\n",
    "            return scores2\n",
    "\n",
    "        models = get_models()\n",
    "        results, names = list(), list()\n",
    "        for name, model in models.items():\n",
    "                scores = evaluate_model(model, X, y)\n",
    "                scores2 = evaluate_model2(model, X, y)\n",
    "                results.append(scores)\n",
    "                names.append(name)\n",
    "                print('>%s %.3f %.3f' % (name, -mean(scores), 100*mean(scores2)))\n",
    "                \n",
    "for alp in [10,1,0.1,0.01]:\n",
    "        def get_models():\n",
    "            models = dict()\n",
    "            models['Ridge'] = Ridge(alpha=alp, fit_intercept=True, normalize='deprecated', \n",
    "                                    copy_X=True, max_iter=None, tol=0.001, solver='auto', positive=False, random_state=None)\n",
    "\n",
    "            return models\n",
    "\n",
    "        def evaluate_model(model, X, y):\n",
    "            cv = RepeatedKFold(n_splits=5, n_repeats=3, random_state=1)\n",
    "            scores = cross_val_score(model, X, y, scoring='neg_mean_absolute_error', cv=cv, n_jobs=-1, error_score='raise')\n",
    "            return scores\n",
    "\n",
    "        def evaluate_model2(model, X, y):\n",
    "            cv = RepeatedKFold(n_splits=3, n_repeats=3, random_state=1)\n",
    "            scores2 = cross_val_score(model, X, y, scoring='r2', cv=cv, n_jobs=-1, error_score='raise')\n",
    "            return scores2\n",
    "\n",
    "        models = get_models()\n",
    "        results, names = list(), list()\n",
    "        for name, model in models.items():\n",
    "                scores = evaluate_model(model, X, y)\n",
    "                scores2 = evaluate_model2(model, X, y)\n",
    "                results.append(scores)\n",
    "                names.append(name)\n",
    "                print('>%s %.3f %.3f' % (name, -mean(scores), 100*mean(scores2)))\n",
    "                \n",
    "                \n",
    "for alp in [10,1,0.1,0.01]:\n",
    "    for l1 in [0.2,0.6,0.8]:    \n",
    "        def get_models():\n",
    "            models = dict()\n",
    "            models['ElasticNet'] = ElasticNet(alpha=alp, l1_ratio=l1, fit_intercept=True,\n",
    "                                                 normalize='deprecated', precompute=False, max_iter=10000, \n",
    "                                                 copy_X=True, tol=0.01, warm_start=False, positive=False,\n",
    "                                                 random_state=None, selection='cyclic')\n",
    "            return models\n",
    "\n",
    "        def evaluate_model(model, X, y):\n",
    "            cv = RepeatedKFold(n_splits=5, n_repeats=3, random_state=1)\n",
    "            scores = cross_val_score(model, X, y, scoring='neg_mean_absolute_error', cv=cv, n_jobs=-1, error_score='raise')\n",
    "            return scores\n",
    "\n",
    "        def evaluate_model2(model, X, y):\n",
    "            cv = RepeatedKFold(n_splits=3, n_repeats=3, random_state=1)\n",
    "            scores2 = cross_val_score(model, X, y, scoring='r2', cv=cv, n_jobs=-1, error_score='raise')\n",
    "            return scores2\n",
    "\n",
    "        models = get_models()\n",
    "        results, names = list(), list()\n",
    "        for name, model in models.items():\n",
    "                scores = evaluate_model(model, X, y)\n",
    "                scores2 = evaluate_model2(model, X, y)\n",
    "                results.append(scores)\n",
    "                names.append(name)\n",
    "                print('>%s %.3f %.3f' % (name, -mean(scores), 100*mean(scores2)))\n",
    "   "
   ]
  },
  {
   "cell_type": "markdown",
   "id": "c39f081f",
   "metadata": {},
   "source": [
    "## Feature Selection by Sequential Backward or Forward Methods with Linear Regression"
   ]
  },
  {
   "cell_type": "code",
   "execution_count": 322,
   "id": "c8df3c08",
   "metadata": {},
   "outputs": [],
   "source": [
    "from sklearn.feature_selection import SequentialFeatureSelector"
   ]
  },
  {
   "cell_type": "markdown",
   "id": "7d56b7b6",
   "metadata": {},
   "source": [
    "### BACKWARD"
   ]
  },
  {
   "cell_type": "markdown",
   "id": "eb41d80d",
   "metadata": {},
   "source": [
    "### CPI"
   ]
  },
  {
   "cell_type": "code",
   "execution_count": 324,
   "id": "574c4cc6",
   "metadata": {},
   "outputs": [],
   "source": [
    "X=df_ver_3\n",
    "y=y_CPI\n",
    "model = LinearRegression()\n",
    "apt= pd.DataFrame(columns={'feature','mae','r2'})\n",
    "for k  in range(1, 37, 1):\n",
    "        selector = SequentialFeatureSelector(estimator=LinearRegression(),n_features_to_select = k, cv =3, direction ='backward')\n",
    "        selector.fit(X, y)\n",
    "        selected_columns=X.columns[selector.get_support()]     \n",
    "        XX = X[selected_columns].copy()       \n",
    "        model.fit(XX, y)\n",
    "        cv = RepeatedKFold(n_splits=5, n_repeats=3, random_state=79)\n",
    "        scores1 = cross_val_score(model,XX, y, scoring='neg_mean_absolute_error', cv=cv, n_jobs=-1, error_score='raise')\n",
    "        scores3 = cross_val_score(model,XX, y, scoring='r2', cv=cv, n_jobs=-1, error_score='raise')\n",
    "        apt=apt.append({'mae':-1*(mean(scores1)),'r2':100*(mean(scores3)),'feature':k},ignore_index=True)"
   ]
  },
  {
   "cell_type": "code",
   "execution_count": 325,
   "id": "69ce39cc",
   "metadata": {},
   "outputs": [
    {
     "data": {
      "text/plain": [
       "Text(0, 0.5, 'MAE')"
      ]
     },
     "execution_count": 325,
     "metadata": {},
     "output_type": "execute_result"
    },
    {
     "data": {
      "image/png": "[encoded data removed]",
      "text/plain": [
       "<Figure size 432x288 with 1 Axes>"
      ]
     },
     "metadata": {
      "needs_background": "light"
     },
     "output_type": "display_data"
    }
   ],
   "source": [
    "        plt.bar(apt.feature,apt.mae)\n",
    "        plt.xlabel('Number Of Feature')\n",
    "        plt.ylabel('MAE') "
   ]
  },
  {
   "cell_type": "code",
   "execution_count": 326,
   "id": "688b66d3",
   "metadata": {},
   "outputs": [
    {
     "data": {
      "text/plain": [
       "Text(0, 0.5, 'R2')"
      ]
     },
     "execution_count": 326,
     "metadata": {},
     "output_type": "execute_result"
    },
    {
     "data": {
      "image/png": "[encoded data removed]",
      "text/plain": [
       "<Figure size 432x288 with 1 Axes>"
      ]
     },
     "metadata": {
      "needs_background": "light"
     },
     "output_type": "display_data"
    }
   ],
   "source": [
    "        plt.bar(apt.feature,apt.r2)\n",
    "        plt.xlabel('Number Of Feature')\n",
    "        plt.ylabel('R2')"
   ]
  },
  {
   "cell_type": "code",
   "execution_count": 328,
   "id": "8d3ad6d2",
   "metadata": {},
   "outputs": [
    {
     "name": "stdout",
     "output_type": "stream",
     "text": [
      " 0.093 -43.274\n"
     ]
    }
   ],
   "source": [
    "        selector = SequentialFeatureSelector(estimator=LinearRegression(),n_features_to_select = 21, cv =3, direction ='backward')\n",
    "        selector.fit(X, y)\n",
    "        selected_columns=X.columns[selector.get_support()]     \n",
    "        XX = X[selected_columns].copy() \n",
    "        model.fit(XX, y)\n",
    "        cv = RepeatedKFold(n_splits=5, n_repeats=3, random_state=79)\n",
    "        scores1 = cross_val_score(model,XX, y, scoring='neg_mean_absolute_error', cv=cv, n_jobs=-1, error_score='raise')\n",
    "        scores3 = cross_val_score(model,XX, y, scoring='r2', cv=cv, n_jobs=-1, error_score='raise')\n",
    "        print(' %.3f %.3f' % (-mean(scores1), 100*mean(scores3)))"
   ]
  },
  {
   "cell_type": "code",
   "execution_count": null,
   "id": "2f5ded95",
   "metadata": {},
   "outputs": [],
   "source": []
  },
  {
   "cell_type": "markdown",
   "id": "bf5c5a90",
   "metadata": {},
   "source": [
    "### DPI"
   ]
  },
  {
   "cell_type": "code",
   "execution_count": 329,
   "id": "a729e923",
   "metadata": {},
   "outputs": [],
   "source": [
    "X=df_ver_3\n",
    "y=y_DPI\n",
    "model = LinearRegression()\n",
    "apt= pd.DataFrame(columns={'feature','mae','r2'})\n",
    "for k  in range(1, 37, 1):\n",
    "        selector = SequentialFeatureSelector(estimator=LinearRegression(),n_features_to_select = k, cv =3, direction ='backward')\n",
    "        selector.fit(X, y)\n",
    "        selected_columns=X.columns[selector.get_support()]     \n",
    "        XX = X[selected_columns].copy()       \n",
    "        model.fit(XX, y)\n",
    "        cv = RepeatedKFold(n_splits=5, n_repeats=3, random_state=79)\n",
    "        scores1 = cross_val_score(model,XX, y, scoring='neg_mean_absolute_error', cv=cv, n_jobs=-1, error_score='raise')\n",
    "        scores3 = cross_val_score(model,XX, y, scoring='r2', cv=cv, n_jobs=-1, error_score='raise')\n",
    "        apt=apt.append({'mae':-1*(mean(scores1)),'r2':100*(mean(scores3)),'feature':k},ignore_index=True)"
   ]
  },
  {
   "cell_type": "code",
   "execution_count": 330,
   "id": "e0c04319",
   "metadata": {},
   "outputs": [
    {
     "data": {
      "text/plain": [
       "Text(0, 0.5, 'MAE')"
      ]
     },
     "execution_count": 330,
     "metadata": {},
     "output_type": "execute_result"
    },
    {
     "data": {
      "image/png": "[encoded data removed]",
      "text/plain": [
       "<Figure size 432x288 with 1 Axes>"
      ]
     },
     "metadata": {
      "needs_background": "light"
     },
     "output_type": "display_data"
    }
   ],
   "source": [
    "        plt.bar(apt.feature,apt.mae)\n",
    "        plt.xlabel('Number Of Feature')\n",
    "        plt.ylabel('MAE') "
   ]
  },
  {
   "cell_type": "code",
   "execution_count": 331,
   "id": "f8d4210c",
   "metadata": {},
   "outputs": [
    {
     "data": {
      "text/plain": [
       "Text(0, 0.5, 'R2')"
      ]
     },
     "execution_count": 331,
     "metadata": {},
     "output_type": "execute_result"
    },
    {
     "data": {
      "image/png": "[encoded data removed]",
      "text/plain": [
       "<Figure size 432x288 with 1 Axes>"
      ]
     },
     "metadata": {
      "needs_background": "light"
     },
     "output_type": "display_data"
    }
   ],
   "source": [
    "        plt.bar(apt.feature,apt.r2)\n",
    "        plt.xlabel('Number Of Feature')\n",
    "        plt.ylabel('R2')"
   ]
  },
  {
   "cell_type": "code",
   "execution_count": 332,
   "id": "571220cf",
   "metadata": {},
   "outputs": [
    {
     "name": "stdout",
     "output_type": "stream",
     "text": [
      " 4.749 40.189\n"
     ]
    }
   ],
   "source": [
    "        selector = SequentialFeatureSelector(estimator=LinearRegression(),n_features_to_select = 11, cv =3, direction ='backward')\n",
    "        selector.fit(X, y)\n",
    "        selected_columns=X.columns[selector.get_support()]     \n",
    "        XX = X[selected_columns].copy() \n",
    "        model.fit(XX, y)\n",
    "        cv = RepeatedKFold(n_splits=5, n_repeats=3, random_state=79)\n",
    "        scores1 = cross_val_score(model,XX, y, scoring='neg_mean_absolute_error', cv=cv, n_jobs=-1, error_score='raise')\n",
    "        scores3 = cross_val_score(model,XX, y, scoring='r2', cv=cv, n_jobs=-1, error_score='raise')\n",
    "        print(' %.3f %.3f' % (-mean(scores1), 100*mean(scores3)))"
   ]
  },
  {
   "cell_type": "markdown",
   "id": "156d3c10",
   "metadata": {},
   "source": [
    "### EC"
   ]
  },
  {
   "cell_type": "code",
   "execution_count": 333,
   "id": "f9dc45a9",
   "metadata": {},
   "outputs": [],
   "source": [
    "X=df_ver_3\n",
    "y=y_EC_D\n",
    "model = LinearRegression()\n",
    "apt= pd.DataFrame(columns={'feature','mae','r2'})\n",
    "for k  in range(1, 37, 1):\n",
    "        selector = SequentialFeatureSelector(estimator=LinearRegression(),n_features_to_select = k, cv =3, direction ='backward')\n",
    "        selector.fit(X, y)\n",
    "        selected_columns=X.columns[selector.get_support()]     \n",
    "        XX = X[selected_columns].copy()       \n",
    "        model.fit(XX, y)\n",
    "        cv = RepeatedKFold(n_splits=5, n_repeats=3, random_state=79)\n",
    "        scores1 = cross_val_score(model,XX, y, scoring='neg_mean_absolute_error', cv=cv, n_jobs=-1, error_score='raise')\n",
    "        scores3 = cross_val_score(model,XX, y, scoring='r2', cv=cv, n_jobs=-1, error_score='raise')\n",
    "        apt=apt.append({'mae':-1*(mean(scores1)),'r2':100*(mean(scores3)),'feature':k},ignore_index=True)"
   ]
  },
  {
   "cell_type": "code",
   "execution_count": 334,
   "id": "1cd638f9",
   "metadata": {},
   "outputs": [
    {
     "data": {
      "text/plain": [
       "Text(0, 0.5, 'MAE')"
      ]
     },
     "execution_count": 334,
     "metadata": {},
     "output_type": "execute_result"
    },
    {
     "data": {
      "image/png": "[encoded data removed]",
      "text/plain": [
       "<Figure size 432x288 with 1 Axes>"
      ]
     },
     "metadata": {
      "needs_background": "light"
     },
     "output_type": "display_data"
    }
   ],
   "source": [
    "        plt.bar(apt.feature,apt.mae)\n",
    "        plt.xlabel('Number Of Feature')\n",
    "        plt.ylabel('MAE') "
   ]
  },
  {
   "cell_type": "code",
   "execution_count": 335,
   "id": "16324145",
   "metadata": {},
   "outputs": [
    {
     "data": {
      "text/plain": [
       "Text(0, 0.5, 'R2')"
      ]
     },
     "execution_count": 335,
     "metadata": {},
     "output_type": "execute_result"
    },
    {
     "data": {
      "image/png": "[encoded data removed]",
      "text/plain": [
       "<Figure size 432x288 with 1 Axes>"
      ]
     },
     "metadata": {
      "needs_background": "light"
     },
     "output_type": "display_data"
    }
   ],
   "source": [
    "        plt.bar(apt.feature,apt.r2)\n",
    "        plt.xlabel('Number Of Feature')\n",
    "        plt.ylabel('R2')"
   ]
  },
  {
   "cell_type": "code",
   "execution_count": 336,
   "id": "82d39145",
   "metadata": {},
   "outputs": [
    {
     "name": "stdout",
     "output_type": "stream",
     "text": [
      " 0.047 88.214\n"
     ]
    }
   ],
   "source": [
    "        selector = SequentialFeatureSelector(estimator=LinearRegression(),n_features_to_select = 15, cv =3, direction ='backward')\n",
    "        selector.fit(X, y)\n",
    "        selected_columns=X.columns[selector.get_support()]     \n",
    "        XX = X[selected_columns].copy() \n",
    "        model.fit(XX, y)\n",
    "        cv = RepeatedKFold(n_splits=5, n_repeats=3, random_state=79)\n",
    "        scores1 = cross_val_score(model,XX, y, scoring='neg_mean_absolute_error', cv=cv, n_jobs=-1, error_score='raise')\n",
    "        scores3 = cross_val_score(model,XX, y, scoring='r2', cv=cv, n_jobs=-1, error_score='raise')\n",
    "        print(' %.3f %.3f' % (-mean(scores1), 100*mean(scores3)))"
   ]
  },
  {
   "cell_type": "markdown",
   "id": "06787353",
   "metadata": {},
   "source": [
    "### WC"
   ]
  },
  {
   "cell_type": "code",
   "execution_count": 341,
   "id": "00c56827",
   "metadata": {},
   "outputs": [],
   "source": [
    "X=df_ver_3\n",
    "y=y_WC\n",
    "model = LinearRegression()\n",
    "apt= pd.DataFrame(columns={'feature','mae','r2'})\n",
    "for k  in range(1, 37, 1):\n",
    "        selector = SequentialFeatureSelector(estimator=LinearRegression(),n_features_to_select = k, cv =3, direction ='backward')\n",
    "        selector.fit(X, y)\n",
    "        selected_columns=X.columns[selector.get_support()]     \n",
    "        XX = X[selected_columns].copy()       \n",
    "        model.fit(XX, y)\n",
    "        cv = RepeatedKFold(n_splits=5, n_repeats=3, random_state=79)\n",
    "        scores1 = cross_val_score(model,XX, y, scoring='neg_mean_absolute_error', cv=cv, n_jobs=-1, error_score='raise')\n",
    "        scores3 = cross_val_score(model,XX, y, scoring='r2', cv=cv, n_jobs=-1, error_score='raise')\n",
    "        apt=apt.append({'mae':-1*(mean(scores1)),'r2':100*(mean(scores3)),'feature':k},ignore_index=True)"
   ]
  },
  {
   "cell_type": "code",
   "execution_count": 342,
   "id": "598956f8",
   "metadata": {},
   "outputs": [
    {
     "data": {
      "text/plain": [
       "Text(0, 0.5, 'MAE')"
      ]
     },
     "execution_count": 342,
     "metadata": {},
     "output_type": "execute_result"
    },
    {
     "data": {
      "image/png": "[encoded data removed]",
      "text/plain": [
       "<Figure size 432x288 with 1 Axes>"
      ]
     },
     "metadata": {
      "needs_background": "light"
     },
     "output_type": "display_data"
    }
   ],
   "source": [
    "        plt.bar(apt.feature,apt.mae)\n",
    "        plt.xlabel('Number Of Feature')\n",
    "        plt.ylabel('MAE') "
   ]
  },
  {
   "cell_type": "code",
   "execution_count": 343,
   "id": "d3890d3c",
   "metadata": {},
   "outputs": [
    {
     "data": {
      "text/plain": [
       "Text(0, 0.5, 'R2')"
      ]
     },
     "execution_count": 343,
     "metadata": {},
     "output_type": "execute_result"
    },
    {
     "data": {
      "image/png": "[encoded data removed]",
      "text/plain": [
       "<Figure size 432x288 with 1 Axes>"
      ]
     },
     "metadata": {
      "needs_background": "light"
     },
     "output_type": "display_data"
    }
   ],
   "source": [
    "        plt.bar(apt.feature,apt.r2)\n",
    "        plt.xlabel('Number Of Feature')\n",
    "        plt.ylabel('R2')"
   ]
  },
  {
   "cell_type": "code",
   "execution_count": 344,
   "id": "31877d6a",
   "metadata": {},
   "outputs": [
    {
     "name": "stdout",
     "output_type": "stream",
     "text": [
      " 0.416 89.226\n"
     ]
    }
   ],
   "source": [
    "        selector = SequentialFeatureSelector(estimator=LinearRegression(),n_features_to_select = 10, cv =3, direction ='backward')\n",
    "        selector.fit(X, y)\n",
    "        selected_columns=X.columns[selector.get_support()]     \n",
    "        XX = X[selected_columns].copy() \n",
    "        model.fit(XX, y)\n",
    "        cv = RepeatedKFold(n_splits=5, n_repeats=3, random_state=79)\n",
    "        scores1 = cross_val_score(model,XX, y, scoring='neg_mean_absolute_error', cv=cv, n_jobs=-1, error_score='raise')\n",
    "        scores3 = cross_val_score(model,XX, y, scoring='r2', cv=cv, n_jobs=-1, error_score='raise')\n",
    "        print(' %.3f %.3f' % (-mean(scores1), 100*mean(scores3)))"
   ]
  },
  {
   "cell_type": "markdown",
   "id": "6a864fff",
   "metadata": {},
   "source": [
    "### T"
   ]
  },
  {
   "cell_type": "code",
   "execution_count": 345,
   "id": "27d759ed",
   "metadata": {},
   "outputs": [],
   "source": [
    "X=df_ver_3\n",
    "y=y_T_D\n",
    "model = LinearRegression()\n",
    "apt= pd.DataFrame(columns={'feature','mae','r2'})\n",
    "for k  in range(1, 37, 1):\n",
    "        selector = SequentialFeatureSelector(estimator=LinearRegression(),n_features_to_select = k, cv =3, direction ='backward')\n",
    "        selector.fit(X, y)\n",
    "        selected_columns=X.columns[selector.get_support()]     \n",
    "        XX = X[selected_columns].copy()       \n",
    "        model.fit(XX, y)\n",
    "        cv = RepeatedKFold(n_splits=5, n_repeats=3, random_state=79)\n",
    "        scores1 = cross_val_score(model,XX, y, scoring='neg_mean_absolute_error', cv=cv, n_jobs=-1, error_score='raise')\n",
    "        scores3 = cross_val_score(model,XX, y, scoring='r2', cv=cv, n_jobs=-1, error_score='raise')\n",
    "        apt=apt.append({'mae':-1*(mean(scores1)),'r2':100*(mean(scores3)),'feature':k},ignore_index=True)"
   ]
  },
  {
   "cell_type": "code",
   "execution_count": 346,
   "id": "9c0991fa",
   "metadata": {},
   "outputs": [
    {
     "data": {
      "text/plain": [
       "Text(0, 0.5, 'MAE')"
      ]
     },
     "execution_count": 346,
     "metadata": {},
     "output_type": "execute_result"
    },
    {
     "data": {
      "image/png": "[encoded data removed]",
      "text/plain": [
       "<Figure size 432x288 with 1 Axes>"
      ]
     },
     "metadata": {
      "needs_background": "light"
     },
     "output_type": "display_data"
    }
   ],
   "source": [
    "        plt.bar(apt.feature,apt.mae)\n",
    "        plt.xlabel('Number Of Feature')\n",
    "        plt.ylabel('MAE') "
   ]
  },
  {
   "cell_type": "code",
   "execution_count": 347,
   "id": "065fe876",
   "metadata": {},
   "outputs": [
    {
     "data": {
      "text/plain": [
       "Text(0, 0.5, 'R2')"
      ]
     },
     "execution_count": 347,
     "metadata": {},
     "output_type": "execute_result"
    },
    {
     "data": {
      "image/png": "[encoded data removed]",
      "text/plain": [
       "<Figure size 432x288 with 1 Axes>"
      ]
     },
     "metadata": {
      "needs_background": "light"
     },
     "output_type": "display_data"
    }
   ],
   "source": [
    "        plt.bar(apt.feature,apt.r2)\n",
    "        plt.xlabel('Number Of Feature')\n",
    "        plt.ylabel('R2')"
   ]
  },
  {
   "cell_type": "code",
   "execution_count": 348,
   "id": "1aab6336",
   "metadata": {},
   "outputs": [
    {
     "name": "stdout",
     "output_type": "stream",
     "text": [
      " 3.256 99.530\n"
     ]
    }
   ],
   "source": [
    "        selector = SequentialFeatureSelector(estimator=LinearRegression(),n_features_to_select = 5, cv =3, direction ='backward')\n",
    "        selector.fit(X, y)\n",
    "        selected_columns=X.columns[selector.get_support()]     \n",
    "        XX = X[selected_columns].copy() \n",
    "        model.fit(XX, y)\n",
    "        cv = RepeatedKFold(n_splits=5, n_repeats=3, random_state=79)\n",
    "        scores1 = cross_val_score(model,XX, y, scoring='neg_mean_absolute_error', cv=cv, n_jobs=-1, error_score='raise')\n",
    "        scores3 = cross_val_score(model,XX, y, scoring='r2', cv=cv, n_jobs=-1, error_score='raise')\n",
    "        print(' %.3f %.3f' % (-mean(scores1), 100*mean(scores3)))"
   ]
  },
  {
   "cell_type": "markdown",
   "id": "fa58c8db",
   "metadata": {},
   "source": [
    "### FORWARD"
   ]
  },
  {
   "cell_type": "markdown",
   "id": "a078c786",
   "metadata": {},
   "source": [
    "### CPI"
   ]
  },
  {
   "cell_type": "code",
   "execution_count": 353,
   "id": "b070a3c0",
   "metadata": {},
   "outputs": [],
   "source": [
    "X=df_ver_3\n",
    "y=y_CPI\n",
    "model = LinearRegression()\n",
    "apt= pd.DataFrame(columns={'feature','mae','r2'})\n",
    "for k  in range(1, 37, 1):\n",
    "        selector = SequentialFeatureSelector(estimator=LinearRegression(),n_features_to_select = k, cv =3, direction ='forward')\n",
    "        selector.fit(X, y)\n",
    "        selected_columns=X.columns[selector.get_support()]     \n",
    "        XX = X[selected_columns].copy()       \n",
    "        model.fit(XX, y)\n",
    "        cv = RepeatedKFold(n_splits=5, n_repeats=3, random_state=79)\n",
    "        scores1 = cross_val_score(model,XX, y, scoring='neg_mean_absolute_error', cv=cv, n_jobs=-1, error_score='raise')\n",
    "        scores3 = cross_val_score(model,XX, y, scoring='r2', cv=cv, n_jobs=-1, error_score='raise')\n",
    "        apt=apt.append({'mae':-1*(mean(scores1)),'r2':100*(mean(scores3)),'feature':k},ignore_index=True)"
   ]
  },
  {
   "cell_type": "code",
   "execution_count": 351,
   "id": "c95c007d",
   "metadata": {},
   "outputs": [
    {
     "data": {
      "text/plain": [
       "Text(0, 0.5, 'MAE')"
      ]
     },
     "execution_count": 351,
     "metadata": {},
     "output_type": "execute_result"
    },
    {
     "data": {
      "image/png": "[encoded data removed]",
      "text/plain": [
       "<Figure size 432x288 with 1 Axes>"
      ]
     },
     "metadata": {
      "needs_background": "light"
     },
     "output_type": "display_data"
    }
   ],
   "source": [
    "        plt.bar(apt.feature,apt.mae)\n",
    "        plt.xlabel('Number Of Feature')\n",
    "        plt.ylabel('MAE') "
   ]
  },
  {
   "cell_type": "code",
   "execution_count": 352,
   "id": "a0ecba3e",
   "metadata": {},
   "outputs": [
    {
     "data": {
      "text/plain": [
       "Text(0, 0.5, 'R2')"
      ]
     },
     "execution_count": 352,
     "metadata": {},
     "output_type": "execute_result"
    },
    {
     "data": {
      "image/png": "[encoded data removed]",
      "text/plain": [
       "<Figure size 432x288 with 1 Axes>"
      ]
     },
     "metadata": {
      "needs_background": "light"
     },
     "output_type": "display_data"
    }
   ],
   "source": [
    "        plt.bar(apt.feature,apt.r2)\n",
    "        plt.xlabel('Number Of Feature')\n",
    "        plt.ylabel('R2')"
   ]
  },
  {
   "cell_type": "code",
   "execution_count": 354,
   "id": "ad6194a3",
   "metadata": {},
   "outputs": [
    {
     "name": "stdout",
     "output_type": "stream",
     "text": [
      " 0.123 -37.211\n"
     ]
    }
   ],
   "source": [
    "        selector = SequentialFeatureSelector(estimator=LinearRegression(),n_features_to_select = 5, cv =3, direction ='forward')\n",
    "        selector.fit(X, y)\n",
    "        selected_columns=X.columns[selector.get_support()]     \n",
    "        XX = X[selected_columns].copy() \n",
    "        model.fit(XX, y)\n",
    "        cv = RepeatedKFold(n_splits=5, n_repeats=3, random_state=79)\n",
    "        scores1 = cross_val_score(model,XX, y, scoring='neg_mean_absolute_error', cv=cv, n_jobs=-1, error_score='raise')\n",
    "        scores3 = cross_val_score(model,XX, y, scoring='r2', cv=cv, n_jobs=-1, error_score='raise')\n",
    "        print(' %.3f %.3f' % (-mean(scores1), 100*mean(scores3)))"
   ]
  },
  {
   "cell_type": "markdown",
   "id": "7887f0b5",
   "metadata": {},
   "source": [
    "### DPI"
   ]
  },
  {
   "cell_type": "code",
   "execution_count": 355,
   "id": "a2d77fd2",
   "metadata": {},
   "outputs": [],
   "source": [
    "X=df_ver_3\n",
    "y=y_DPI\n",
    "model = LinearRegression()\n",
    "apt= pd.DataFrame(columns={'feature','mae','r2'})\n",
    "for k  in range(1, 37, 1):\n",
    "        selector = SequentialFeatureSelector(estimator=LinearRegression(),n_features_to_select = k, cv =3, direction ='forward')\n",
    "        selector.fit(X, y)\n",
    "        selected_columns=X.columns[selector.get_support()]     \n",
    "        XX = X[selected_columns].copy()       \n",
    "        model.fit(XX, y)\n",
    "        cv = RepeatedKFold(n_splits=5, n_repeats=3, random_state=79)\n",
    "        scores1 = cross_val_score(model,XX, y, scoring='neg_mean_absolute_error', cv=cv, n_jobs=-1, error_score='raise')\n",
    "        scores3 = cross_val_score(model,XX, y, scoring='r2', cv=cv, n_jobs=-1, error_score='raise')\n",
    "        apt=apt.append({'mae':-1*(mean(scores1)),'r2':100*(mean(scores3)),'feature':k},ignore_index=True)"
   ]
  },
  {
   "cell_type": "code",
   "execution_count": 356,
   "id": "f98e2a59",
   "metadata": {},
   "outputs": [
    {
     "data": {
      "text/plain": [
       "Text(0, 0.5, 'MAE')"
      ]
     },
     "execution_count": 356,
     "metadata": {},
     "output_type": "execute_result"
    },
    {
     "data": {
      "image/png": "[encoded data removed]",
      "text/plain": [
       "<Figure size 432x288 with 1 Axes>"
      ]
     },
     "metadata": {
      "needs_background": "light"
     },
     "output_type": "display_data"
    }
   ],
   "source": [
    "        plt.bar(apt.feature,apt.mae)\n",
    "        plt.xlabel('Number Of Feature')\n",
    "        plt.ylabel('MAE') "
   ]
  },
  {
   "cell_type": "code",
   "execution_count": 357,
   "id": "6fb74db3",
   "metadata": {},
   "outputs": [
    {
     "data": {
      "text/plain": [
       "Text(0, 0.5, 'R2')"
      ]
     },
     "execution_count": 357,
     "metadata": {},
     "output_type": "execute_result"
    },
    {
     "data": {
      "image/png": "[encoded data removed]",
      "text/plain": [
       "<Figure size 432x288 with 1 Axes>"
      ]
     },
     "metadata": {
      "needs_background": "light"
     },
     "output_type": "display_data"
    }
   ],
   "source": [
    "        plt.bar(apt.feature,apt.r2)\n",
    "        plt.xlabel('Number Of Feature')\n",
    "        plt.ylabel('R2')"
   ]
  },
  {
   "cell_type": "code",
   "execution_count": 358,
   "id": "0d6e1082",
   "metadata": {},
   "outputs": [
    {
     "name": "stdout",
     "output_type": "stream",
     "text": [
      " 5.581 -16.338\n"
     ]
    }
   ],
   "source": [
    "        selector = SequentialFeatureSelector(estimator=LinearRegression(),n_features_to_select = 27, cv =3, direction ='forward')\n",
    "        selector.fit(X, y)\n",
    "        selected_columns=X.columns[selector.get_support()]     \n",
    "        XX = X[selected_columns].copy() \n",
    "        model.fit(XX, y)\n",
    "        cv = RepeatedKFold(n_splits=5, n_repeats=3, random_state=79)\n",
    "        scores1 = cross_val_score(model,XX, y, scoring='neg_mean_absolute_error', cv=cv, n_jobs=-1, error_score='raise')\n",
    "        scores3 = cross_val_score(model,XX, y, scoring='r2', cv=cv, n_jobs=-1, error_score='raise')\n",
    "        print(' %.3f %.3f' % (-mean(scores1), 100*mean(scores3)))"
   ]
  },
  {
   "cell_type": "markdown",
   "id": "ff140d11",
   "metadata": {},
   "source": [
    "### EC"
   ]
  },
  {
   "cell_type": "code",
   "execution_count": 359,
   "id": "9cba76c5",
   "metadata": {},
   "outputs": [],
   "source": [
    "X=df_ver_3\n",
    "y=y_EC_D\n",
    "model = LinearRegression()\n",
    "apt= pd.DataFrame(columns={'feature','mae','r2'})\n",
    "for k  in range(1, 37, 1):\n",
    "        selector = SequentialFeatureSelector(estimator=LinearRegression(),n_features_to_select = k, cv =3, direction ='forward')\n",
    "        selector.fit(X, y)\n",
    "        selected_columns=X.columns[selector.get_support()]     \n",
    "        XX = X[selected_columns].copy()       \n",
    "        model.fit(XX, y)\n",
    "        cv = RepeatedKFold(n_splits=5, n_repeats=3, random_state=79)\n",
    "        scores1 = cross_val_score(model,XX, y, scoring='neg_mean_absolute_error', cv=cv, n_jobs=-1, error_score='raise')\n",
    "        scores3 = cross_val_score(model,XX, y, scoring='r2', cv=cv, n_jobs=-1, error_score='raise')\n",
    "        apt=apt.append({'mae':-1*(mean(scores1)),'r2':100*(mean(scores3)),'feature':k},ignore_index=True)"
   ]
  },
  {
   "cell_type": "code",
   "execution_count": 360,
   "id": "e69186da",
   "metadata": {},
   "outputs": [
    {
     "data": {
      "text/plain": [
       "Text(0, 0.5, 'MAE')"
      ]
     },
     "execution_count": 360,
     "metadata": {},
     "output_type": "execute_result"
    },
    {
     "data": {
      "image/png": "[encoded data removed]",
      "text/plain": [
       "<Figure size 432x288 with 1 Axes>"
      ]
     },
     "metadata": {
      "needs_background": "light"
     },
     "output_type": "display_data"
    }
   ],
   "source": [
    "        plt.bar(apt.feature,apt.mae)\n",
    "        plt.xlabel('Number Of Feature')\n",
    "        plt.ylabel('MAE') "
   ]
  },
  {
   "cell_type": "code",
   "execution_count": 361,
   "id": "1f990f6d",
   "metadata": {},
   "outputs": [
    {
     "data": {
      "text/plain": [
       "Text(0, 0.5, 'R2')"
      ]
     },
     "execution_count": 361,
     "metadata": {},
     "output_type": "execute_result"
    },
    {
     "data": {
      "image/png": "[encoded data removed]",
      "text/plain": [
       "<Figure size 432x288 with 1 Axes>"
      ]
     },
     "metadata": {
      "needs_background": "light"
     },
     "output_type": "display_data"
    }
   ],
   "source": [
    "        plt.bar(apt.feature,apt.r2)\n",
    "        plt.xlabel('Number Of Feature')\n",
    "        plt.ylabel('R2')"
   ]
  },
  {
   "cell_type": "code",
   "execution_count": 362,
   "id": "2da28fd3",
   "metadata": {},
   "outputs": [
    {
     "name": "stdout",
     "output_type": "stream",
     "text": [
      " 0.055 82.954\n"
     ]
    }
   ],
   "source": [
    "        selector = SequentialFeatureSelector(estimator=LinearRegression(),n_features_to_select = 12, cv =3, direction ='forward')\n",
    "        selector.fit(X, y)\n",
    "        selected_columns=X.columns[selector.get_support()]     \n",
    "        XX = X[selected_columns].copy() \n",
    "        model.fit(XX, y)\n",
    "        cv = RepeatedKFold(n_splits=5, n_repeats=3, random_state=79)\n",
    "        scores1 = cross_val_score(model,XX, y, scoring='neg_mean_absolute_error', cv=cv, n_jobs=-1, error_score='raise')\n",
    "        scores3 = cross_val_score(model,XX, y, scoring='r2', cv=cv, n_jobs=-1, error_score='raise')\n",
    "        print(' %.3f %.3f' % (-mean(scores1), 100*mean(scores3)))"
   ]
  },
  {
   "cell_type": "markdown",
   "id": "22b20fbf",
   "metadata": {},
   "source": [
    "### WC"
   ]
  },
  {
   "cell_type": "code",
   "execution_count": 363,
   "id": "a6116267",
   "metadata": {},
   "outputs": [],
   "source": [
    "X=df_ver_3\n",
    "y=y_WC\n",
    "model = LinearRegression()\n",
    "apt= pd.DataFrame(columns={'feature','mae','r2'})\n",
    "for k  in range(1, 37, 1):\n",
    "        selector = SequentialFeatureSelector(estimator=LinearRegression(),n_features_to_select = k, cv =3, direction ='forward')\n",
    "        selector.fit(X, y)\n",
    "        selected_columns=X.columns[selector.get_support()]     \n",
    "        XX = X[selected_columns].copy()       \n",
    "        model.fit(XX, y)\n",
    "        cv = RepeatedKFold(n_splits=5, n_repeats=3, random_state=79)\n",
    "        scores1 = cross_val_score(model,XX, y, scoring='neg_mean_absolute_error', cv=cv, n_jobs=-1, error_score='raise')\n",
    "        scores3 = cross_val_score(model,XX, y, scoring='r2', cv=cv, n_jobs=-1, error_score='raise')\n",
    "        apt=apt.append({'mae':-1*(mean(scores1)),'r2':100*(mean(scores3)),'feature':k},ignore_index=True)"
   ]
  },
  {
   "cell_type": "code",
   "execution_count": 364,
   "id": "75b314ab",
   "metadata": {},
   "outputs": [
    {
     "data": {
      "text/plain": [
       "Text(0, 0.5, 'MAE')"
      ]
     },
     "execution_count": 364,
     "metadata": {},
     "output_type": "execute_result"
    },
    {
     "data": {
      "image/png": "[encoded data removed]",
      "text/plain": [
       "<Figure size 432x288 with 1 Axes>"
      ]
     },
     "metadata": {
      "needs_background": "light"
     },
     "output_type": "display_data"
    }
   ],
   "source": [
    "        plt.bar(apt.feature,apt.mae)\n",
    "        plt.xlabel('Number Of Feature')\n",
    "        plt.ylabel('MAE') "
   ]
  },
  {
   "cell_type": "code",
   "execution_count": 365,
   "id": "702b29a9",
   "metadata": {},
   "outputs": [
    {
     "data": {
      "text/plain": [
       "Text(0, 0.5, 'R2')"
      ]
     },
     "execution_count": 365,
     "metadata": {},
     "output_type": "execute_result"
    },
    {
     "data": {
      "image/png": "[encoded data removed]",
      "text/plain": [
       "<Figure size 432x288 with 1 Axes>"
      ]
     },
     "metadata": {
      "needs_background": "light"
     },
     "output_type": "display_data"
    }
   ],
   "source": [
    "        plt.bar(apt.feature,apt.r2)\n",
    "        plt.xlabel('Number Of Feature')\n",
    "        plt.ylabel('R2')"
   ]
  },
  {
   "cell_type": "code",
   "execution_count": 366,
   "id": "04382044",
   "metadata": {},
   "outputs": [
    {
     "name": "stdout",
     "output_type": "stream",
     "text": [
      " 0.405 89.289\n"
     ]
    }
   ],
   "source": [
    "        selector = SequentialFeatureSelector(estimator=LinearRegression(),n_features_to_select = 10, cv =3, direction ='forward')\n",
    "        selector.fit(X, y)\n",
    "        selected_columns=X.columns[selector.get_support()]     \n",
    "        XX = X[selected_columns].copy() \n",
    "        model.fit(XX, y)\n",
    "        cv = RepeatedKFold(n_splits=5, n_repeats=3, random_state=79)\n",
    "        scores1 = cross_val_score(model,XX, y, scoring='neg_mean_absolute_error', cv=cv, n_jobs=-1, error_score='raise')\n",
    "        scores3 = cross_val_score(model,XX, y, scoring='r2', cv=cv, n_jobs=-1, error_score='raise')\n",
    "        print(' %.3f %.3f' % (-mean(scores1), 100*mean(scores3)))"
   ]
  },
  {
   "cell_type": "markdown",
   "id": "2c9da0e0",
   "metadata": {},
   "source": [
    "### T"
   ]
  },
  {
   "cell_type": "code",
   "execution_count": 367,
   "id": "228bfa25",
   "metadata": {},
   "outputs": [],
   "source": [
    "X=df_ver_3\n",
    "y=y_T_D\n",
    "model = LinearRegression()\n",
    "apt= pd.DataFrame(columns={'feature','mae','r2'})\n",
    "for k  in range(1, 37, 1):\n",
    "        selector = SequentialFeatureSelector(estimator=LinearRegression(),n_features_to_select = k, cv =3, direction ='forward')\n",
    "        selector.fit(X, y)\n",
    "        selected_columns=X.columns[selector.get_support()]     \n",
    "        XX = X[selected_columns].copy()       \n",
    "        model.fit(XX, y)\n",
    "        cv = RepeatedKFold(n_splits=5, n_repeats=3, random_state=79)\n",
    "        scores1 = cross_val_score(model,XX, y, scoring='neg_mean_absolute_error', cv=cv, n_jobs=-1, error_score='raise')\n",
    "        scores3 = cross_val_score(model,XX, y, scoring='r2', cv=cv, n_jobs=-1, error_score='raise')\n",
    "        apt=apt.append({'mae':-1*(mean(scores1)),'r2':100*(mean(scores3)),'feature':k},ignore_index=True)"
   ]
  },
  {
   "cell_type": "code",
   "execution_count": 368,
   "id": "cb3e9b46",
   "metadata": {},
   "outputs": [
    {
     "data": {
      "text/plain": [
       "Text(0, 0.5, 'MAE')"
      ]
     },
     "execution_count": 368,
     "metadata": {},
     "output_type": "execute_result"
    },
    {
     "data": {
      "image/png": "[encoded data removed]",
      "text/plain": [
       "<Figure size 432x288 with 1 Axes>"
      ]
     },
     "metadata": {
      "needs_background": "light"
     },
     "output_type": "display_data"
    }
   ],
   "source": [
    "        plt.bar(apt.feature,apt.mae)\n",
    "        plt.xlabel('Number Of Feature')\n",
    "        plt.ylabel('MAE') "
   ]
  },
  {
   "cell_type": "code",
   "execution_count": 369,
   "id": "37562681",
   "metadata": {},
   "outputs": [
    {
     "data": {
      "text/plain": [
       "Text(0, 0.5, 'R2')"
      ]
     },
     "execution_count": 369,
     "metadata": {},
     "output_type": "execute_result"
    },
    {
     "data": {
      "image/png": "[encoded data removed]",
      "text/plain": [
       "<Figure size 432x288 with 1 Axes>"
      ]
     },
     "metadata": {
      "needs_background": "light"
     },
     "output_type": "display_data"
    }
   ],
   "source": [
    "        plt.bar(apt.feature,apt.r2)\n",
    "        plt.xlabel('Number Of Feature')\n",
    "        plt.ylabel('R2')"
   ]
  },
  {
   "cell_type": "code",
   "execution_count": 370,
   "id": "eebff5ad",
   "metadata": {},
   "outputs": [
    {
     "name": "stdout",
     "output_type": "stream",
     "text": [
      " 3.155 99.570\n"
     ]
    }
   ],
   "source": [
    "        selector = SequentialFeatureSelector(estimator=LinearRegression(),n_features_to_select = 5, cv =3, direction ='forward')\n",
    "        selector.fit(X, y)\n",
    "        selected_columns=X.columns[selector.get_support()]     \n",
    "        XX = X[selected_columns].copy() \n",
    "        model.fit(XX, y)\n",
    "        cv = RepeatedKFold(n_splits=5, n_repeats=3, random_state=79)\n",
    "        scores1 = cross_val_score(model,XX, y, scoring='neg_mean_absolute_error', cv=cv, n_jobs=-1, error_score='raise')\n",
    "        scores3 = cross_val_score(model,XX, y, scoring='r2', cv=cv, n_jobs=-1, error_score='raise')\n",
    "        print(' %.3f %.3f' % (-mean(scores1), 100*mean(scores3)))"
   ]
  },
  {
   "cell_type": "code",
   "execution_count": null,
   "id": "dc652472",
   "metadata": {},
   "outputs": [],
   "source": []
  },
  {
   "cell_type": "markdown",
   "id": "b2b6e45d",
   "metadata": {},
   "source": [
    "# NON LINEARITY PROBLEM "
   ]
  },
  {
   "cell_type": "markdown",
   "id": "3667a49a",
   "metadata": {},
   "source": [
    "### CPI"
   ]
  },
  {
   "cell_type": "code",
   "execution_count": 233,
   "id": "c95265cb",
   "metadata": {},
   "outputs": [
    {
     "name": "stdout",
     "output_type": "stream",
     "text": [
      "0:\tlearn: 0.1112820\ttotal: 178ms\tremaining: 711ms\n",
      "1:\tlearn: 0.0708867\ttotal: 181ms\tremaining: 272ms\n",
      "2:\tlearn: 0.0561567\ttotal: 184ms\tremaining: 123ms\n",
      "3:\tlearn: 0.0489623\ttotal: 187ms\tremaining: 46.8ms\n",
      "4:\tlearn: 0.0439949\ttotal: 190ms\tremaining: 0us\n",
      "Features: Index(['1OYSum of CIRC_TIME', '1OYMax of DEVIR', '1OYMax of TEMP',\n",
      "       '1OYSum of TEPE_C', '1OYSum of BEKLEME', '2AYSum of kapalı',\n",
      "       '2AYMax of DEVIR', '2AYMax of TEMP', '2AYSum of TEPE_C',\n",
      "       '4SGDSum of SURE', '4SGDSum of WI', '4SGDSum of ÜST_C',\n",
      "       '7SCD2Sum of kapalı', '7SCD2Max of TEMP', '8DSBMax of DEVIR',\n",
      "       '10KUSum of SURE', '10KUSum of BEKLEME', '10KUSum of FAN',\n",
      "       '10KUSum of KAPI ACMA', '10KUSum of GAUDI_offset'],\n",
      "      dtype='object')\n",
      "0:\tlearn: 0.1112820\ttotal: 1.23ms\tremaining: 4.94ms\n",
      "1:\tlearn: 0.0708867\ttotal: 5.52ms\tremaining: 8.29ms\n",
      "2:\tlearn: 0.0561567\ttotal: 8.75ms\tremaining: 5.83ms\n",
      "3:\tlearn: 0.0489623\ttotal: 12.2ms\tremaining: 3.04ms\n",
      "4:\tlearn: 0.0439949\ttotal: 15.3ms\tremaining: 0us\n",
      " 0.058 61.944\n",
      "Features: Index(['1OYSum of kapalı', '1OYMax of DEVIR', '2AYMax of DEVIR',\n",
      "       '2AYSum of ALT_C', '4SGDSum of ALT_C', '7SCD2Max of DEVIR',\n",
      "       '7SCD2Sum of ÜST_C', '10KUSum of SURE', '10KUSum of GAUDI_offset'],\n",
      "      dtype='object')\n",
      " 0.046 63.419\n",
      "Features: Index(['1OYMax of DEVIR', '1OYMax of TEMP', '1OYSum of BEKLEME',\n",
      "       '2AYSum of WI', '2AYMax of DEVIR', '3MFTSum of SURE', '4SGDSum of SURE',\n",
      "       '4SGDSum of WI', '7SCD2Sum of kapalı', '7SCD2Max of DEVIR',\n",
      "       '7SCD2Max of TEMP', '8DSBSum of kapalı', '10KUSum of SURE'],\n",
      "      dtype='object')\n",
      " 0.054 61.217\n",
      "Features: Index(['1OYSum of SURE', '1OYMax of DEVIR', '2AYSum of kapalı', '2AYSum of WI',\n",
      "       '3MFTSum of SURE', '4SGDSum of SURE', '8DSBSum of kapalı',\n",
      "       '10KUSum of SURE', '10KUSum of KAPI ACMA'],\n",
      "      dtype='object')\n",
      " 0.054 56.428\n",
      "Features: Index(['1OYMax of TEMP', '4SGDSum of TEPE_C', '7SCD2Sum of ALT_C',\n",
      "       '10KUSum of SURE', '10KUSum of FAN'],\n",
      "      dtype='object')\n",
      " 0.055 59.743\n",
      "Features: Index(['1OYMax of TEMP', '2AYSum of SURE', '2AYMax of DEVIR',\n",
      "       '3MFTSum of SURE', '4SGDSum of WI', '4SGDMax of DEVIR',\n",
      "       '4SGDSum of ÜST_C', '7SCD2Max of TEMP', '10KUSum of SURE',\n",
      "       '10KUSum of GAUDI_offset'],\n",
      "      dtype='object')\n",
      " 0.047 65.246\n"
     ]
    }
   ],
   "source": [
    "non_linear_models = [\n",
    "CatBoostRegressor(iterations=5,learning_rate=1,depth=9),\n",
    "GradientBoostingRegressor(random_state=0),\n",
    "RandomForestRegressor(n_estimators = 10, random_state = 0),\n",
    "DecisionTreeRegressor(random_state = 0),\n",
    "KNeighborsRegressor(n_neighbors=3),\n",
    "XGBRegressor(n_estimators=100, max_depth=7, eta=0.1, subsample=0.7, colsample_bytree=0.8)\n",
    "]\n",
    "X = df_ver_3\n",
    "y = y_CPI\n",
    "for xxx in non_linear_models:\n",
    "    estimator = xxx\n",
    "    model = GeneticSelectionCV(\n",
    "        estimator, cv=5, verbose=0,\n",
    "        scoring=\"neg_mean_absolute_error\", max_features=37,\n",
    "        n_population=100, crossover_proba=0.5,\n",
    "        mutation_proba=0.2, n_generations=50,\n",
    "        crossover_independent_proba=0.5,\n",
    "        mutation_independent_proba=0.04,\n",
    "        tournament_size=3, n_gen_no_change=10,\n",
    "        caching=True, n_jobs=-1)\n",
    "    model = model.fit(X, y)\n",
    "    print('Features:', X.columns[model.support_])\n",
    "    selected_columns=X.columns[model.support_]       \n",
    "    XX = X[selected_columns].copy() \n",
    "    model_Reg=xxx\n",
    "    model_Reg.fit(XX, y)\n",
    "    cv = RepeatedKFold(n_splits=5, n_repeats=3, random_state=79)\n",
    "    scores1 = cross_val_score(model_Reg,XX, y, scoring='neg_mean_absolute_error', cv=cv, n_jobs=-1, error_score='raise')\n",
    "    scores3 = cross_val_score(model_Reg,XX, y, scoring='r2', cv=cv, n_jobs=-1, error_score='raise')\n",
    "    print(' %.3f %.3f' % (-mean(scores1),  100*mean(scores3)))"
   ]
  },
  {
   "cell_type": "markdown",
   "id": "250c866c",
   "metadata": {},
   "source": [
    "### DPI"
   ]
  },
  {
   "cell_type": "code",
   "execution_count": 234,
   "id": "42267a87",
   "metadata": {},
   "outputs": [
    {
     "name": "stdout",
     "output_type": "stream",
     "text": [
      "0:\tlearn: 6.7683167\ttotal: 674us\tremaining: 2.7ms\n",
      "1:\tlearn: 3.4871499\ttotal: 3.07ms\tremaining: 4.6ms\n",
      "2:\tlearn: 2.7132772\ttotal: 5.01ms\tremaining: 3.34ms\n",
      "3:\tlearn: 2.2382849\ttotal: 7.89ms\tremaining: 1.97ms\n",
      "4:\tlearn: 2.0688585\ttotal: 8.91ms\tremaining: 0us\n",
      "Features: Index(['1OYSum of SURE', '1OYSum of WI', '1OYSum of TEPE_C', '2AYMax of TEMP',\n",
      "       '2AYSum of ALT_C', '3MFTSum of SURE', '7SCD2Sum of kapalı',\n",
      "       '7SCD2Max of DEVIR', '7SCD2Max of TEMP', '10KUSum of SURE',\n",
      "       '10KUSum of BEKLEME', '10KUSum of KAPI ACMA',\n",
      "       '10KUSum of GAUDI_offset'],\n",
      "      dtype='object')\n",
      "0:\tlearn: 6.7683167\ttotal: 845us\tremaining: 3.38ms\n",
      "1:\tlearn: 3.4871499\ttotal: 4.73ms\tremaining: 7.1ms\n",
      "2:\tlearn: 2.7132772\ttotal: 7.45ms\tremaining: 4.96ms\n",
      "3:\tlearn: 2.2382849\ttotal: 12.2ms\tremaining: 3.06ms\n",
      "4:\tlearn: 2.0688585\ttotal: 13.6ms\tremaining: 0us\n",
      " 3.263 72.418\n",
      "Features: Index(['1OYMax of TEMP', '2AYMax of DEVIR', '2AYSum of ALT_C',\n",
      "       '7SCD2Sum of kapalı', '7SCD2Max of DEVIR', '7SCD2Sum of ALT_C',\n",
      "       '8DSBMax of DEVIR', '10KUSum of SURE', '10KUSum of FAN',\n",
      "       '10KUSum of FAN / KLAPE'],\n",
      "      dtype='object')\n",
      " 2.165 82.860\n",
      "Features: Index(['1OYSum of kapalı', '1OYSum of SURE', '1OYSum of WI', '1OYMax of TEMP',\n",
      "       '1OYSum of ALT_C', '1OYSum of TEPE_C', '1OYSum of BEKLEME',\n",
      "       '2AYSum of WI', '2AYMax of TEMP', '2AYSum of ALT_C', '2AYSum of TEPE_C',\n",
      "       '3MFTSum of SURE', '4SGDSum of SURE', '4SGDSum of WI',\n",
      "       '4SGDMax of DEVIR', '4SGDSum of ALT_C', '4SGDSum of ÜST_C',\n",
      "       '7SCD2Sum of kapalı', '7SCD2Max of DEVIR', '7SCD2Sum of ALT_C',\n",
      "       '7SCD2Sum of ÜST_C', '8DSBSum of kapalı', '8DSBMax of DEVIR',\n",
      "       '10KUSum of SURE', '10KUSum of GAUDI_offset'],\n",
      "      dtype='object')\n",
      " 2.795 81.684\n",
      "Features: Index(['1OYSum of kapalı', '1OYSum of CIRC_TIME', '1OYSum of WI',\n",
      "       '1OYMax of TEMP', '1OYSum of ALT_C', '1OYSum of TEPE_C',\n",
      "       '1OYSum of BEKLEME', '2AYSum of WI', '2AYMax of DEVIR',\n",
      "       '2AYMax of TEMP', '2AYSum of ALT_C', '2AYSum of TEPE_C',\n",
      "       '4SGDSum of SURE', '4SGDSum of ALT_C', '4SGDSum of TEPE_C',\n",
      "       '7SCD2Max of DEVIR', '8DSBMax of DEVIR', '10KUSum of SURE',\n",
      "       '10KUSum of FAN / KLAPE', '10KUSum of GAUDI_offset'],\n",
      "      dtype='object')\n",
      " 2.326 76.620\n",
      "Features: Index(['1OYSum of SURE', '1OYSum of CIRC_TIME', '1OYMax of DEVIR',\n",
      "       '2AYSum of TEPE_C', '4SGDSum of WI', '8DSBMax of DEVIR',\n",
      "       '10KUSum of SURE', '10KUSum of BEKLEME', '10KUSum of FAN / KLAPE',\n",
      "       '10KUSum of GAUDI_offset'],\n",
      "      dtype='object')\n",
      " 2.579 84.658\n",
      "Features: Index(['1OYMax of TEMP', '2AYSum of kapalı', '2AYSum of SURE',\n",
      "       '10KUSum of KAPI ACMA', '10KUSum of GAUDI_offset'],\n",
      "      dtype='object')\n",
      " 2.452 76.238\n"
     ]
    }
   ],
   "source": [
    "non_linear_models = [\n",
    "CatBoostRegressor(iterations=5,learning_rate=1,depth=9),\n",
    "GradientBoostingRegressor(random_state=0),\n",
    "RandomForestRegressor(n_estimators = 10, random_state = 0),\n",
    "DecisionTreeRegressor(random_state = 0),\n",
    "KNeighborsRegressor(n_neighbors=3),\n",
    "XGBRegressor(n_estimators=100, max_depth=7, eta=0.1, subsample=0.7, colsample_bytree=0.8)\n",
    "]\n",
    "X = df_ver_3\n",
    "y = y_DPI\n",
    "for xxx in non_linear_models:\n",
    "    estimator = xxx\n",
    "    model = GeneticSelectionCV(\n",
    "        estimator, cv=5, verbose=0,\n",
    "        scoring=\"neg_mean_absolute_error\", max_features=37,\n",
    "        n_population=100, crossover_proba=0.5,\n",
    "        mutation_proba=0.2, n_generations=50,\n",
    "        crossover_independent_proba=0.5,\n",
    "        mutation_independent_proba=0.04,\n",
    "        tournament_size=3, n_gen_no_change=10,\n",
    "        caching=True, n_jobs=-1)\n",
    "    model = model.fit(X, y)\n",
    "    print('Features:', X.columns[model.support_])\n",
    "    selected_columns=X.columns[model.support_]       \n",
    "    XX = X[selected_columns].copy() \n",
    "    model_Reg=xxx\n",
    "    model_Reg.fit(XX, y)\n",
    "    cv = RepeatedKFold(n_splits=5, n_repeats=3, random_state=79)\n",
    "    scores1 = cross_val_score(model_Reg,XX, y, scoring='neg_mean_absolute_error', cv=cv, n_jobs=-1, error_score='raise')\n",
    "    scores3 = cross_val_score(model_Reg,XX, y, scoring='r2', cv=cv, n_jobs=-1, error_score='raise')\n",
    "    print(' %.3f %.3f' % (-mean(scores1),  100*mean(scores3)))"
   ]
  },
  {
   "cell_type": "markdown",
   "id": "424c5f36",
   "metadata": {},
   "source": [
    "### CPI all features"
   ]
  },
  {
   "cell_type": "code",
   "execution_count": 238,
   "id": "43e01a68",
   "metadata": {},
   "outputs": [
    {
     "name": "stdout",
     "output_type": "stream",
     "text": [
      ">GBR 0.059 81.939\n",
      ">RFR 0.062 79.786\n",
      ">KNN 0.095 33.864\n",
      ">KNN2 0.114 20.445\n",
      ">XGB 0.052 81.740\n"
     ]
    }
   ],
   "source": [
    "y=y_CPI\n",
    "X=df_ver_3\n",
    "\n",
    "def get_models():\n",
    "\tmodels = dict()\n",
    "\tmodels['GBR'] = GradientBoostingRegressor(random_state=0)\n",
    "\tmodels['RFR'] = RandomForestRegressor(n_estimators = 100, random_state = 0)\n",
    "\tmodels['KNN']= KNeighborsRegressor(n_neighbors=3)\n",
    "\tmodels['KNN2']= KNeighborsRegressor(n_neighbors=5)\n",
    "\tmodels['XGB']= XGBRegressor(n_estimators=100, max_depth=7, eta=0.1, subsample=0.7, colsample_bytree=0.8)\n",
    "\treturn models\n",
    "\n",
    "def evaluate_model(model, X, y):\n",
    "\tcv = RepeatedKFold(n_splits=5, n_repeats=3, random_state=1)\n",
    "\tscores = cross_val_score(model, X, y, scoring='neg_mean_absolute_error', cv=cv, n_jobs=-1, error_score='raise')\n",
    "\treturn scores\n",
    "\n",
    "def evaluate_model2(model, X, y):\n",
    "\tcv = RepeatedKFold(n_splits=3, n_repeats=3, random_state=1)\n",
    "\tscores2 = cross_val_score(model, X, y, scoring='r2', cv=cv, n_jobs=-1, error_score='raise')\n",
    "\treturn scores2\n",
    "\n",
    "models = get_models()\n",
    "results, names = list(), list()\n",
    "for name, model in models.items():\n",
    "                scores = evaluate_model(model, X, y)\n",
    "                scores2 = evaluate_model2(model, X, y)\n",
    "                results.append(scores)\n",
    "                names.append(name)\n",
    "                print('>%s %.3f %.3f' % (name, -mean(scores), 100*mean(scores2)))\n"
   ]
  },
  {
   "cell_type": "markdown",
   "id": "85685995",
   "metadata": {},
   "source": [
    "### DPI all features"
   ]
  },
  {
   "cell_type": "code",
   "execution_count": 239,
   "id": "2c00a9d8",
   "metadata": {},
   "outputs": [
    {
     "name": "stdout",
     "output_type": "stream",
     "text": [
      ">GBR 2.843 85.001\n",
      ">RFR 3.121 83.977\n",
      ">KNN 4.626 56.437\n",
      ">KNN2 5.769 42.969\n",
      ">XGB 2.491 88.058\n"
     ]
    }
   ],
   "source": [
    "y=y_DPI\n",
    "X=df_ver_3\n",
    "\n",
    "def get_models():\n",
    "\tmodels = dict()\n",
    "\tmodels['GBR'] = GradientBoostingRegressor(random_state=0)\n",
    "\tmodels['RFR'] = RandomForestRegressor(n_estimators = 100, random_state = 0)\n",
    "\tmodels['KNN']= KNeighborsRegressor(n_neighbors=3)\n",
    "\tmodels['KNN2']= KNeighborsRegressor(n_neighbors=5)\n",
    "\tmodels['XGB']= XGBRegressor(n_estimators=100, max_depth=7, eta=0.1, subsample=0.7, colsample_bytree=0.8)\n",
    "\treturn models\n",
    "\n",
    "def evaluate_model(model, X, y):\n",
    "\tcv = RepeatedKFold(n_splits=5, n_repeats=3, random_state=1)\n",
    "\tscores = cross_val_score(model, X, y, scoring='neg_mean_absolute_error', cv=cv, n_jobs=-1, error_score='raise')\n",
    "\treturn scores\n",
    "\n",
    "def evaluate_model2(model, X, y):\n",
    "\tcv = RepeatedKFold(n_splits=3, n_repeats=3, random_state=1)\n",
    "\tscores2 = cross_val_score(model, X, y, scoring='r2', cv=cv, n_jobs=-1, error_score='raise')\n",
    "\treturn scores2\n",
    "\n",
    "models = get_models()\n",
    "results, names = list(), list()\n",
    "for name, model in models.items():\n",
    "                scores = evaluate_model(model, X, y)\n",
    "                scores2 = evaluate_model2(model, X, y)\n",
    "                results.append(scores)\n",
    "                names.append(name)\n",
    "                print('>%s %.3f %.3f' % (name, -mean(scores), 100*mean(scores2)))\n"
   ]
  },
  {
   "cell_type": "markdown",
   "id": "036e0741",
   "metadata": {},
   "source": [
    "GBR and XGB are good look with feature selection rather than genetic\n",
    "   "
   ]
  },
  {
   "cell_type": "markdown",
   "id": "96f194b6",
   "metadata": {},
   "source": []
  },
  {
   "cell_type": "markdown",
   "id": "cd645b90",
   "metadata": {},
   "source": [
    "# MODEL SELECTION "
   ]
  },
  {
   "cell_type": "markdown",
   "id": "e1fe0ada",
   "metadata": {},
   "source": [
    "### VERIFICATION  of MODEL"
   ]
  },
  {
   "cell_type": "code",
   "execution_count": 33,
   "id": "4df471d2",
   "metadata": {},
   "outputs": [],
   "source": [
    "from genetic_selection import GeneticSelectionCV\n",
    "from sklearn.tree import DecisionTreeClassifier\n",
    "import pandas as pd\n",
    "import numpy as np"
   ]
  },
  {
   "cell_type": "code",
   "execution_count": 34,
   "id": "e6e745f3",
   "metadata": {},
   "outputs": [],
   "source": [
    "df_test = pd.read_excel('D:/THESIS_DATA/ANALYSIS_DATA_THESIS/DB_SO_60.xlsx')"
   ]
  },
  {
   "cell_type": "markdown",
   "id": "1102fa51",
   "metadata": {},
   "source": [
    "### MODEL OF CPI"
   ]
  },
  {
   "cell_type": "code",
   "execution_count": 38,
   "id": "9f4e00cb",
   "metadata": {},
   "outputs": [
    {
     "name": "stdout",
     "output_type": "stream",
     "text": [
      "Features: Index(['1OYSum of kapalı', '1OYMax of DEVIR', '2AYMax of DEVIR',\n",
      "       '2AYSum of ALT_C', '4SGDSum of ALT_C', '7SCD2Max of DEVIR',\n",
      "       '7SCD2Sum of ÜST_C', '10KUSum of SURE', '10KUSum of KAPI ACMA'],\n",
      "      dtype='object')\n",
      " 0.046 63.071\n"
     ]
    }
   ],
   "source": [
    "X = df_ver_3\n",
    "y = y_CPI\n",
    "variable=df_test['CPI']\n",
    "estimator = GradientBoostingRegressor(random_state=0)\n",
    "model = GeneticSelectionCV(\n",
    "        estimator, cv=5, verbose=0,\n",
    "        scoring=\"neg_mean_absolute_error\", max_features=37,\n",
    "        n_population=100, crossover_proba=0.5,\n",
    "        mutation_proba=0.2, n_generations=50,\n",
    "        crossover_independent_proba=0.5,\n",
    "        mutation_independent_proba=0.04,\n",
    "        tournament_size=3, n_gen_no_change=10,\n",
    "        caching=True, n_jobs=-1)\n",
    "model = model.fit(X, y)\n",
    "print('Features:', X.columns[model.support_])\n",
    "selected_columns=X.columns[model.support_]       \n",
    "XX = X[selected_columns].copy() \n",
    "model_Reg_CPI=GradientBoostingRegressor(random_state=0)\n",
    "model_Reg_CPI.fit(XX, y)\n",
    "cv = RepeatedKFold(n_splits=5, n_repeats=3, random_state=79)\n",
    "scores1 = cross_val_score(model_Reg_CPI,XX, y, scoring='neg_mean_absolute_error', cv=cv, n_jobs=-1, error_score='raise')\n",
    "scores3 = cross_val_score(model_Reg_CPI,XX, y, scoring='r2', cv=cv, n_jobs=-1, error_score='raise')\n",
    "print(' %.3f %.3f' % (-mean(scores1),  100*mean(scores3)))"
   ]
  },
  {
   "cell_type": "code",
   "execution_count": 65,
   "id": "01276481",
   "metadata": {},
   "outputs": [],
   "source": [
    "XX_CPI=['1OYSum of kapalı', '1OYMax of DEVIR', '2AYMax of DEVIR',\n",
    "       '2AYSum of ALT_C', '4SGDSum of ALT_C', '7SCD2Max of DEVIR',\n",
    "       '7SCD2Sum of ÜST_C', '10KUSum of SURE', '10KUSum of KAPI ACMA']\n",
    "XX_DPI=['1OYMax of TEMP', '1OYSum of BEKLEME', '2AYSum of ALT_C',\n",
    "       '2AYSum of TEPE_C', '4SGDSum of TEPE_C', '7SCD2Sum of ALT_C',\n",
    "       '8DSBMax of DEVIR', '10KUSum of SURE', '10KUSum of GAUDI_offset']"
   ]
  },
  {
   "cell_type": "code",
   "execution_count": 39,
   "id": "ba01e040",
   "metadata": {},
   "outputs": [
    {
     "name": "stdout",
     "output_type": "stream",
     "text": [
      "Result (Test)\n",
      "MAE : 0.03421\n"
     ]
    },
    {
     "data": {
      "image/png": "[encoded data removed]",
      "text/plain": [
       "<Figure size 432x288 with 1 Axes>"
      ]
     },
     "metadata": {
      "needs_background": "light"
     },
     "output_type": "display_data"
    },
    {
     "name": "stdout",
     "output_type": "stream",
     "text": [
      "-0.008636363636363638\n",
      "Statistic: 4.786\n",
      "15.000: 0.562, data does not look normal (reject H0)\n",
      "10.000: 0.640, data does not look normal (reject H0)\n",
      "5.000: 0.768, data does not look normal (reject H0)\n",
      "2.500: 0.896, data does not look normal (reject H0)\n",
      "1.000: 1.065, data does not look normal (reject H0)\n"
     ]
    }
   ],
   "source": [
    "model=model_Reg_CPI\n",
    "df_test_ref=df_test[XX.columns]\n",
    "y_pred = model.predict(df_test_ref)\n",
    "y_pred= pd.DataFrame(y_pred)\n",
    "df_test['output']=y_pred\n",
    "from sklearn.metrics import mean_absolute_error as MAE\n",
    "output=df_test['output']\n",
    "mae_var = MAE(variable, output)\n",
    "print('Result (Test)')\n",
    "print(\"MAE : %.5f\" %(mae_var))\n",
    "import matplotlib.pyplot as plt\n",
    "result = pd.DataFrame()\n",
    "result['Y_True'] = variable\n",
    "result['Y_Pred'] = output\n",
    "result['Error'] = (result['Y_True'] - result['Y_Pred']).round(2)\n",
    "plt.hist(result['Error'], bins=20)\n",
    "plt.axvline(0.1, color='k', linestyle='dashed', linewidth=1)\n",
    "plt.axvline(-0.1, color='k', linestyle='dashed', linewidth=1)\n",
    "plt.title('Distribution of Error')\n",
    "plt.xlabel('Error')\n",
    "plt.ylabel('Frequency')\n",
    "plt.show()\n",
    "print(mean(result['Error']))\n",
    "from numpy.random import seed\n",
    "from numpy.random import randn\n",
    "from scipy.stats import anderson\n",
    "# normality test\n",
    "result = anderson(result['Error'])\n",
    "print('Statistic: %.3f' % result.statistic)\n",
    "p = 0\n",
    "for i in range(len(result.critical_values)):\n",
    " sl, cv = result.significance_level[i], result.critical_values[i]\n",
    " if result.statistic < result.critical_values[i]:\n",
    "     print('%.3f: %.3f, data looks normal (fail to reject H0)' % (sl, cv))\n",
    " else:\n",
    "     print('%.3f: %.3f, data does not look normal (reject H0)' % (sl, cv))"
   ]
  },
  {
   "cell_type": "code",
   "execution_count": null,
   "id": "89e5a5fe",
   "metadata": {},
   "outputs": [],
   "source": []
  },
  {
   "cell_type": "code",
   "execution_count": 40,
   "id": "6d32add4",
   "metadata": {},
   "outputs": [
    {
     "name": "stdout",
     "output_type": "stream",
     "text": [
      "Features: Index(['1OYMax of TEMP', '1OYSum of BEKLEME', '2AYSum of ALT_C',\n",
      "       '2AYSum of TEPE_C', '4SGDSum of TEPE_C', '7SCD2Sum of ALT_C',\n",
      "       '8DSBMax of DEVIR', '10KUSum of SURE', '10KUSum of GAUDI_offset'],\n",
      "      dtype='object')\n",
      " 2.108 83.635\n"
     ]
    }
   ],
   "source": [
    "X = df_ver_3\n",
    "y = y_DPI\n",
    "estimator = GradientBoostingRegressor(random_state=0)\n",
    "model = GeneticSelectionCV(\n",
    "        estimator, cv=5, verbose=0,\n",
    "        scoring=\"neg_mean_absolute_error\", max_features=37,\n",
    "        n_population=100, crossover_proba=0.5,\n",
    "        mutation_proba=0.2, n_generations=50,\n",
    "        crossover_independent_proba=0.5,\n",
    "        mutation_independent_proba=0.04,\n",
    "        tournament_size=3, n_gen_no_change=10,\n",
    "        caching=True, n_jobs=-1)\n",
    "model = model.fit(X, y)\n",
    "print('Features:', X.columns[model.support_])\n",
    "selected_columns=X.columns[model.support_]       \n",
    "XX = X[selected_columns].copy() \n",
    "model_Reg_DPI=GradientBoostingRegressor(random_state=0)\n",
    "model_Reg_DPI.fit(XX, y)\n",
    "cv = RepeatedKFold(n_splits=5, n_repeats=3, random_state=79)\n",
    "scores1 = cross_val_score(model_Reg_DPI,XX, y, scoring='neg_mean_absolute_error', cv=cv, n_jobs=-1, error_score='raise')\n",
    "scores3 = cross_val_score(model_Reg_DPI,XX, y, scoring='r2', cv=cv, n_jobs=-1, error_score='raise')\n",
    "print(' %.3f %.3f' % (-mean(scores1),  100*mean(scores3)))"
   ]
  },
  {
   "cell_type": "code",
   "execution_count": 66,
   "id": "dd4d4c98",
   "metadata": {},
   "outputs": [],
   "source": [
    "XX_DPI=['1OYMax of TEMP', '1OYSum of BEKLEME', '2AYSum of ALT_C',\n",
    "       '2AYSum of TEPE_C', '4SGDSum of TEPE_C', '7SCD2Sum of ALT_C',\n",
    "       '8DSBMax of DEVIR', '10KUSum of SURE', '10KUSum of GAUDI_offset']"
   ]
  },
  {
   "cell_type": "code",
   "execution_count": 41,
   "id": "f5435a45",
   "metadata": {},
   "outputs": [
    {
     "name": "stdout",
     "output_type": "stream",
     "text": [
      "Result (Test)\n",
      "MAE : 1.41107\n"
     ]
    },
    {
     "data": {
      "image/png": "[encoded data removed]",
      "text/plain": [
       "<Figure size 432x288 with 1 Axes>"
      ]
     },
     "metadata": {
      "needs_background": "light"
     },
     "output_type": "display_data"
    },
    {
     "name": "stdout",
     "output_type": "stream",
     "text": [
      "0.07201298701298693\n",
      "Statistic: 2.665\n",
      "15.000: 0.562, data does not look normal (reject H0)\n",
      "10.000: 0.640, data does not look normal (reject H0)\n",
      "5.000: 0.768, data does not look normal (reject H0)\n",
      "2.500: 0.896, data does not look normal (reject H0)\n",
      "1.000: 1.065, data does not look normal (reject H0)\n"
     ]
    }
   ],
   "source": [
    "variable=df_test['DPI']\n",
    "model=model_Reg_DPI\n",
    "df_test_ref=df_test[XX.columns]\n",
    "y_pred = model.predict(df_test_ref)\n",
    "y_pred= pd.DataFrame(y_pred)\n",
    "df_test['output']=y_pred\n",
    "from sklearn.metrics import mean_absolute_error as MAE\n",
    "output=df_test['output']\n",
    "mae_var = MAE(variable, output)\n",
    "print('Result (Test)')\n",
    "print(\"MAE : %.5f\" %(mae_var))\n",
    "import matplotlib.pyplot as plt\n",
    "result = pd.DataFrame()\n",
    "result['Y_True'] = variable\n",
    "result['Y_Pred'] = output\n",
    "result['Error'] = (result['Y_True'] - result['Y_Pred']).round(2)\n",
    "plt.hist(result['Error'], bins=20)\n",
    "plt.axvline(0.1, color='k', linestyle='dashed', linewidth=1)\n",
    "plt.axvline(-0.1, color='k', linestyle='dashed', linewidth=1)\n",
    "plt.title('Distribution of Error')\n",
    "plt.xlabel('Error')\n",
    "plt.ylabel('Frequency')\n",
    "plt.show()\n",
    "print(mean(result['Error']))\n",
    "from numpy.random import seed\n",
    "from numpy.random import randn\n",
    "from scipy.stats import anderson\n",
    "# normality test\n",
    "result = anderson(result['Error'])\n",
    "print('Statistic: %.3f' % result.statistic)\n",
    "p = 0\n",
    "for i in range(len(result.critical_values)):\n",
    " sl, cv = result.significance_level[i], result.critical_values[i]\n",
    " if result.statistic < result.critical_values[i]:\n",
    "     print('%.3f: %.3f, data looks normal (fail to reject H0)' % (sl, cv))\n",
    " else:\n",
    "     print('%.3f: %.3f, data does not look normal (reject H0)' % (sl, cv))"
   ]
  },
  {
   "cell_type": "code",
   "execution_count": null,
   "id": "40752bbc",
   "metadata": {},
   "outputs": [],
   "source": []
  },
  {
   "cell_type": "code",
   "execution_count": 42,
   "id": "350c1c2c",
   "metadata": {},
   "outputs": [
    {
     "name": "stdout",
     "output_type": "stream",
     "text": [
      "Features: Index(['1OYSum of CIRC_TIME', '1OYMax of DEVIR', '2AYSum of kapalı',\n",
      "       '2AYMax of TEMP', '2AYSum of ALT_C', '3MFTSum of SURE', '4SGDSum of WI',\n",
      "       '7SCD2Sum of kapalı', '7SCD2Max of TEMP', '7SCD2Sum of ALT_C',\n",
      "       '7SCD2Sum of ÜST_C', '10KUSum of SURE', '10KUSum of KAPI ACMA',\n",
      "       '10KUSum of FAN / KLAPE'],\n",
      "      dtype='object')\n",
      " 0.048 86.628\n"
     ]
    }
   ],
   "source": [
    "X = df_ver_3\n",
    "y = y_EC_D\n",
    "variable=df_test['EC']\n",
    "estimator = LinearRegression()\n",
    "model = GeneticSelectionCV(\n",
    "    estimator, cv=5, verbose=0,\n",
    "    scoring=\"neg_mean_absolute_error\", max_features=37,\n",
    "    n_population=100, crossover_proba=0.5,\n",
    "    mutation_proba=0.2, n_generations=50,\n",
    "    crossover_independent_proba=0.5,\n",
    "    mutation_independent_proba=0.04,\n",
    "    tournament_size=3, n_gen_no_change=10,\n",
    "    caching=True, n_jobs=-1)\n",
    "model = model.fit(X, y)\n",
    "print('Features:', X.columns[model.support_])\n",
    "selected_columns=X.columns[model.support_]       \n",
    "XX = X[selected_columns].copy() \n",
    "model_Reg_EC=LinearRegression()\n",
    "model_Reg_EC.fit(XX, y)\n",
    "cv = RepeatedKFold(n_splits=5, n_repeats=3, random_state=79)\n",
    "scores1 = cross_val_score(model_Reg_EC,XX, y, scoring='neg_mean_absolute_error', cv=cv, n_jobs=-1, error_score='raise')\n",
    "scores3 = cross_val_score(model_Reg_EC,XX, y, scoring='r2', cv=cv, n_jobs=-1, error_score='raise')\n",
    "print(' %.3f %.3f' % (-mean(scores1),  100*mean(scores3)))"
   ]
  },
  {
   "cell_type": "code",
   "execution_count": 67,
   "id": "e6f87f7d",
   "metadata": {},
   "outputs": [],
   "source": [
    "XX_EC=['1OYSum of CIRC_TIME', '1OYMax of DEVIR', '2AYSum of kapalı',\n",
    "       '2AYMax of TEMP', '2AYSum of ALT_C', '3MFTSum of SURE', '4SGDSum of WI',\n",
    "       '7SCD2Sum of kapalı', '7SCD2Max of TEMP', '7SCD2Sum of ALT_C',\n",
    "       '7SCD2Sum of ÜST_C', '10KUSum of SURE', '10KUSum of KAPI ACMA',\n",
    "       '10KUSum of FAN / KLAPE']"
   ]
  },
  {
   "cell_type": "code",
   "execution_count": 43,
   "id": "86953365",
   "metadata": {},
   "outputs": [
    {
     "name": "stdout",
     "output_type": "stream",
     "text": [
      "Result (Test)\n",
      "MAE : 0.03486\n"
     ]
    },
    {
     "data": {
      "image/png": "[encoded data removed]",
      "text/plain": [
       "<Figure size 432x288 with 1 Axes>"
      ]
     },
     "metadata": {
      "needs_background": "light"
     },
     "output_type": "display_data"
    },
    {
     "name": "stdout",
     "output_type": "stream",
     "text": [
      "0.0014285714285714281\n",
      "Statistic: 0.589\n",
      "15.000: 0.562, data does not look normal (reject H0)\n",
      "10.000: 0.640, data looks normal (fail to reject H0)\n",
      "5.000: 0.768, data looks normal (fail to reject H0)\n",
      "2.500: 0.896, data looks normal (fail to reject H0)\n",
      "1.000: 1.065, data looks normal (fail to reject H0)\n"
     ]
    }
   ],
   "source": [
    "model=model_Reg_EC\n",
    "df_test_ref=df_test[XX.columns]\n",
    "y_pred = model.predict(df_test_ref)\n",
    "y_pred= pd.DataFrame(y_pred)\n",
    "df_test['output']=y_pred\n",
    "from sklearn.metrics import mean_absolute_error as MAE\n",
    "output=df_test['output']\n",
    "mae_var = MAE(variable, output)\n",
    "print('Result (Test)')\n",
    "print(\"MAE : %.5f\" %(mae_var))\n",
    "import matplotlib.pyplot as plt\n",
    "result = pd.DataFrame()\n",
    "result['Y_True'] = variable\n",
    "result['Y_Pred'] = output\n",
    "result['Error'] = (result['Y_True'] - result['Y_Pred']).round(2)\n",
    "plt.hist(result['Error'], bins=20)\n",
    "plt.axvline(0.1, color='k', linestyle='dashed', linewidth=1)\n",
    "plt.axvline(-0.1, color='k', linestyle='dashed', linewidth=1)\n",
    "plt.title('Distribution of Error')\n",
    "plt.xlabel('Error')\n",
    "plt.ylabel('Frequency')\n",
    "plt.show()\n",
    "print(mean(result['Error']))\n",
    "from numpy.random import seed\n",
    "from numpy.random import randn\n",
    "from scipy.stats import anderson\n",
    "# normality test\n",
    "result = anderson(result['Error'])\n",
    "print('Statistic: %.3f' % result.statistic)\n",
    "p = 0\n",
    "for i in range(len(result.critical_values)):\n",
    " sl, cv = result.significance_level[i], result.critical_values[i]\n",
    " if result.statistic < result.critical_values[i]:\n",
    "     print('%.3f: %.3f, data looks normal (fail to reject H0)' % (sl, cv))\n",
    " else:\n",
    "     print('%.3f: %.3f, data does not look normal (reject H0)' % (sl, cv))"
   ]
  },
  {
   "cell_type": "code",
   "execution_count": null,
   "id": "c73dc7b3",
   "metadata": {},
   "outputs": [],
   "source": []
  },
  {
   "cell_type": "code",
   "execution_count": 44,
   "id": "6f1e3150",
   "metadata": {},
   "outputs": [
    {
     "name": "stdout",
     "output_type": "stream",
     "text": [
      "Features: Index(['1OYSum of SURE', '2AYSum of kapalı', '2AYSum of SURE',\n",
      "       '2AYSum of ALT_C', '2AYSum of TEPE_C', '4SGDSum of WI',\n",
      "       '4SGDSum of ALT_C', '7SCD2Sum of SURE', '8DSBMax of DEVIR',\n",
      "       '10KUSum of SURE', '10KUSum of FAN / KLAPE', '10KUSum of GAUDI_offset'],\n",
      "      dtype='object')\n",
      " 3.110 99.542\n"
     ]
    }
   ],
   "source": [
    "X = df_ver_3\n",
    "y = y_T_D\n",
    "variable=df_test['T']\n",
    "estimator = LinearRegression()\n",
    "model = GeneticSelectionCV(\n",
    "    estimator, cv=5, verbose=0,\n",
    "    scoring=\"neg_mean_absolute_error\", max_features=37,\n",
    "    n_population=100, crossover_proba=0.5,\n",
    "    mutation_proba=0.2, n_generations=50,\n",
    "    crossover_independent_proba=0.5,\n",
    "    mutation_independent_proba=0.04,\n",
    "    tournament_size=3, n_gen_no_change=10,\n",
    "    caching=True, n_jobs=-1)\n",
    "model = model.fit(X, y)\n",
    "print('Features:', X.columns[model.support_])\n",
    "selected_columns=X.columns[model.support_]       \n",
    "XX = X[selected_columns].copy() \n",
    "model_Reg_T=LinearRegression()\n",
    "model_Reg_T.fit(XX, y)\n",
    "cv = RepeatedKFold(n_splits=5, n_repeats=3, random_state=79)\n",
    "scores1 = cross_val_score(model_Reg_T,XX, y, scoring='neg_mean_absolute_error', cv=cv, n_jobs=-1, error_score='raise')\n",
    "scores3 = cross_val_score(model_Reg_T,XX, y, scoring='r2', cv=cv, n_jobs=-1, error_score='raise')\n",
    "print(' %.3f %.3f' % (-mean(scores1),  100*mean(scores3)))"
   ]
  },
  {
   "cell_type": "code",
   "execution_count": 37,
   "id": "79d1e820",
   "metadata": {},
   "outputs": [],
   "source": [
    "XX_T=['1OYSum of SURE', '2AYSum of kapalı', '2AYSum of SURE',\n",
    "       '2AYSum of ALT_C', '2AYSum of TEPE_C', '4SGDSum of WI',\n",
    "       '4SGDSum of ALT_C', '7SCD2Sum of SURE', '8DSBMax of DEVIR',\n",
    "       '10KUSum of SURE', '10KUSum of FAN / KLAPE', '10KUSum of GAUDI_offset']"
   ]
  },
  {
   "cell_type": "code",
   "execution_count": 45,
   "id": "7578f5d6",
   "metadata": {},
   "outputs": [
    {
     "name": "stdout",
     "output_type": "stream",
     "text": [
      "Result (Test)\n",
      "MAE : 2.96675\n"
     ]
    },
    {
     "data": {
      "image/png": "[encoded data removed]",
      "text/plain": [
       "<Figure size 432x288 with 1 Axes>"
      ]
     },
     "metadata": {
      "needs_background": "light"
     },
     "output_type": "display_data"
    },
    {
     "name": "stdout",
     "output_type": "stream",
     "text": [
      "-1.2181818181818167\n",
      "Statistic: 1.233\n",
      "15.000: 0.562, data does not look normal (reject H0)\n",
      "10.000: 0.640, data does not look normal (reject H0)\n",
      "5.000: 0.768, data does not look normal (reject H0)\n",
      "2.500: 0.896, data does not look normal (reject H0)\n",
      "1.000: 1.065, data does not look normal (reject H0)\n"
     ]
    }
   ],
   "source": [
    "model=model_Reg_T\n",
    "df_test_ref=df_test[XX.columns]\n",
    "y_pred = model.predict(df_test_ref)\n",
    "y_pred= pd.DataFrame(y_pred)\n",
    "df_test['output']=y_pred\n",
    "from sklearn.metrics import mean_absolute_error as MAE\n",
    "output=df_test['output']\n",
    "mae_var = MAE(variable, output)\n",
    "print('Result (Test)')\n",
    "print(\"MAE : %.5f\" %(mae_var))\n",
    "import matplotlib.pyplot as plt\n",
    "result = pd.DataFrame()\n",
    "result['Y_True'] = variable\n",
    "result['Y_Pred'] = output\n",
    "result['Error'] = (result['Y_True'] - result['Y_Pred']).round(2)\n",
    "plt.hist(result['Error'], bins=20)\n",
    "plt.axvline(0.1, color='k', linestyle='dashed', linewidth=1)\n",
    "plt.axvline(-0.1, color='k', linestyle='dashed', linewidth=1)\n",
    "plt.title('Distribution of Error')\n",
    "plt.xlabel('Error')\n",
    "plt.ylabel('Frequency')\n",
    "plt.show()\n",
    "print(mean(result['Error']))\n",
    "from numpy.random import seed\n",
    "from numpy.random import randn\n",
    "from scipy.stats import anderson\n",
    "# normality test\n",
    "result = anderson(result['Error'])\n",
    "print('Statistic: %.3f' % result.statistic)\n",
    "p = 0\n",
    "for i in range(len(result.critical_values)):\n",
    " sl, cv = result.significance_level[i], result.critical_values[i]\n",
    " if result.statistic < result.critical_values[i]:\n",
    "     print('%.3f: %.3f, data looks normal (fail to reject H0)' % (sl, cv))\n",
    " else:\n",
    "     print('%.3f: %.3f, data does not look normal (reject H0)' % (sl, cv))"
   ]
  },
  {
   "cell_type": "code",
   "execution_count": null,
   "id": "8e0092b2",
   "metadata": {},
   "outputs": [],
   "source": []
  },
  {
   "cell_type": "code",
   "execution_count": 32,
   "id": "7775a881",
   "metadata": {},
   "outputs": [
    {
     "name": "stdout",
     "output_type": "stream",
     "text": [
      "Features: Index(['1OYSum of kapalı', '1OYSum of WI', '1OYMax of DEVIR', '1OYMax of TEMP',\n",
      "       '2AYSum of kapalı', '2AYSum of WI', '2AYMax of TEMP', '2AYSum of ALT_C',\n",
      "       '4SGDSum of SURE', '4SGDSum of WI', '4SGDMax of DEVIR',\n",
      "       '4SGDSum of ALT_C', '4SGDSum of ÜST_C', '7SCD2Sum of kapalı',\n",
      "       '7SCD2Sum of SURE', '7SCD2Max of DEVIR', '7SCD2Sum of ALT_C',\n",
      "       '7SCD2Sum of ÜST_C', '8DSBSum of kapalı', '8DSBMax of DEVIR',\n",
      "       '10KUSum of SURE'],\n",
      "      dtype='object')\n",
      " 0.388 89.889\n"
     ]
    }
   ],
   "source": [
    "X = df_ver_3\n",
    "y = y_WC\n",
    "variable=df_test['WC']\n",
    "estimator = LinearRegression()\n",
    "model = GeneticSelectionCV(\n",
    "    estimator, cv=5, verbose=0,\n",
    "    scoring=\"neg_mean_absolute_error\", max_features=37,\n",
    "    n_population=100, crossover_proba=0.5,\n",
    "    mutation_proba=0.2, n_generations=50,\n",
    "    crossover_independent_proba=0.5,\n",
    "    mutation_independent_proba=0.04,\n",
    "    tournament_size=3, n_gen_no_change=10,\n",
    "    caching=True, n_jobs=-1)\n",
    "model = model.fit(X, y)\n",
    "print('Features:', X.columns[model.support_])\n",
    "selected_columns=X.columns[model.support_]       \n",
    "XX = X[selected_columns].copy() \n",
    "model_Reg_WC=LinearRegression()\n",
    "model_Reg_WC.fit(XX, y)\n",
    "cv = RepeatedKFold(n_splits=5, n_repeats=3, random_state=79)\n",
    "scores1 = cross_val_score(model_Reg_WC,XX, y, scoring='neg_mean_absolute_error', cv=cv, n_jobs=-1, error_score='raise')\n",
    "scores3 = cross_val_score(model_Reg_WC,XX, y, scoring='r2', cv=cv, n_jobs=-1, error_score='raise')\n",
    "print(' %.3f %.3f' % (-mean(scores1),  100*mean(scores3)))"
   ]
  },
  {
   "cell_type": "code",
   "execution_count": 38,
   "id": "c88babd1",
   "metadata": {},
   "outputs": [],
   "source": [
    "XX_WC=['1OYSum of kapalı', '1OYSum of WI', '1OYMax of DEVIR', '1OYMax of TEMP',\n",
    "       '2AYSum of kapalı', '2AYSum of WI', '2AYMax of TEMP', '2AYSum of ALT_C',\n",
    "       '4SGDSum of SURE', '4SGDSum of WI', '4SGDMax of DEVIR',\n",
    "       '4SGDSum of ALT_C', '4SGDSum of ÜST_C', '7SCD2Sum of kapalı',\n",
    "       '7SCD2Sum of SURE', '7SCD2Max of DEVIR', '7SCD2Sum of ALT_C',\n",
    "       '7SCD2Sum of ÜST_C', '8DSBSum of kapalı', '8DSBMax of DEVIR',\n",
    "       '10KUSum of SURE']"
   ]
  },
  {
   "cell_type": "code",
   "execution_count": 33,
   "id": "cef030f7",
   "metadata": {},
   "outputs": [
    {
     "name": "stdout",
     "output_type": "stream",
     "text": [
      "Result (Test)\n",
      "MAE : 0.33649\n"
     ]
    },
    {
     "data": {
      "image/png": "[encoded data removed]",
      "text/plain": [
       "<Figure size 432x288 with 1 Axes>"
      ]
     },
     "metadata": {
      "needs_background": "light"
     },
     "output_type": "display_data"
    },
    {
     "name": "stdout",
     "output_type": "stream",
     "text": [
      "-0.026623376623376608\n",
      "Statistic: 2.956\n",
      "15.000: 0.562, data does not look normal (reject H0)\n",
      "10.000: 0.640, data does not look normal (reject H0)\n",
      "5.000: 0.768, data does not look normal (reject H0)\n",
      "2.500: 0.896, data does not look normal (reject H0)\n",
      "1.000: 1.065, data does not look normal (reject H0)\n"
     ]
    }
   ],
   "source": [
    "model=model_Reg_WC\n",
    "df_test_ref=df_test[XX.columns]\n",
    "y_pred = model.predict(df_test_ref)\n",
    "y_pred= pd.DataFrame(y_pred)\n",
    "df_test['output']=y_pred\n",
    "from sklearn.metrics import mean_absolute_error as MAE\n",
    "output=df_test['output']\n",
    "mae_var = MAE(variable, output)\n",
    "print('Result (Test)')\n",
    "print(\"MAE : %.5f\" %(mae_var))\n",
    "import matplotlib.pyplot as plt\n",
    "result = pd.DataFrame()\n",
    "result['Y_True'] = variable\n",
    "result['Y_Pred'] = output\n",
    "result['Error'] = (result['Y_True'] - result['Y_Pred']).round(2)\n",
    "plt.hist(result['Error'], bins=20)\n",
    "plt.axvline(0.1, color='k', linestyle='dashed', linewidth=1)\n",
    "plt.axvline(-0.1, color='k', linestyle='dashed', linewidth=1)\n",
    "plt.title('Distribution of Error')\n",
    "plt.xlabel('Error')\n",
    "plt.ylabel('Frequency')\n",
    "plt.show()\n",
    "print(mean(result['Error']))\n",
    "from numpy.random import seed\n",
    "from numpy.random import randn\n",
    "from scipy.stats import anderson\n",
    "# normality test\n",
    "result = anderson(result['Error'])\n",
    "print('Statistic: %.3f' % result.statistic)\n",
    "p = 0\n",
    "for i in range(len(result.critical_values)):\n",
    " sl, cv = result.significance_level[i], result.critical_values[i]\n",
    " if result.statistic < result.critical_values[i]:\n",
    "     print('%.3f: %.3f, data looks normal (fail to reject H0)' % (sl, cv))\n",
    " else:\n",
    "     print('%.3f: %.3f, data does not look normal (reject H0)' % (sl, cv))"
   ]
  },
  {
   "cell_type": "markdown",
   "id": "0e4e2764",
   "metadata": {},
   "source": [
    "### HYPERPARAMETER TUNING"
   ]
  },
  {
   "cell_type": "code",
   "execution_count": 50,
   "id": "e40fc831",
   "metadata": {},
   "outputs": [],
   "source": [
    "XX_CPI=['1OYSum of kapalı', '1OYMax of DEVIR', '2AYMax of DEVIR',\n",
    "       '2AYSum of ALT_C', '4SGDSum of ALT_C', '7SCD2Max of DEVIR',\n",
    "       '7SCD2Sum of ÜST_C', '10KUSum of SURE', '10KUSum of KAPI ACMA']\n",
    "XX_DPI=['1OYMax of TEMP', '1OYSum of BEKLEME', '2AYSum of ALT_C',\n",
    "       '2AYSum of TEPE_C', '4SGDSum of TEPE_C', '7SCD2Sum of ALT_C',\n",
    "       '8DSBMax of DEVIR', '10KUSum of SURE', '10KUSum of GAUDI_offset']"
   ]
  },
  {
   "cell_type": "markdown",
   "id": "e34cdcaa",
   "metadata": {},
   "source": [
    "### hyperparameter tuning of CPI"
   ]
  },
  {
   "cell_type": "code",
   "execution_count": 61,
   "id": "5a80cba7",
   "metadata": {},
   "outputs": [],
   "source": [
    "X = df_ver_3\n",
    "y = y_CPI"
   ]
  },
  {
   "cell_type": "code",
   "execution_count": 62,
   "id": "41c438ca",
   "metadata": {},
   "outputs": [],
   "source": [
    "XX=df_ver_3[XX_CPI]\n",
    "y=y_CPI"
   ]
  },
  {
   "cell_type": "code",
   "execution_count": 63,
   "id": "cb4955a0",
   "metadata": {},
   "outputs": [
    {
     "name": "stdout",
     "output_type": "stream",
     "text": [
      "{'learning_rate': 0.1,\n",
      " 'max_depth': 10,\n",
      " 'min_samples_leaf': 5,\n",
      " 'min_samples_split': 10,\n",
      " 'n_estimators': 150}\n"
     ]
    }
   ],
   "source": [
    "from sklearn.experimental import enable_halving_search_cv  # noqa\n",
    "from sklearn.model_selection import HalvingRandomSearchCV\n",
    "from sklearn.metrics import make_scorer\n",
    "from pprint import pprint\n",
    "from sklearn.metrics import mean_pinball_loss\n",
    "\n",
    "param_grid = dict(\n",
    "    learning_rate=[0.05, 0.1, 0.2],\n",
    "    max_depth=[2, 5, 10],\n",
    "    min_samples_leaf=[1, 5, 10, 20],\n",
    "    min_samples_split=[5, 10, 20, 30, 50],\n",
    ")\n",
    "alpha = 0.05\n",
    "neg_mean_pinball_loss_05p_scorer = make_scorer(\n",
    "    mean_pinball_loss,\n",
    "    alpha=alpha,\n",
    "    greater_is_better=False,  # maximize the negative loss\n",
    ")\n",
    "gbr = GradientBoostingRegressor(loss=\"quantile\", alpha=alpha, random_state=0)\n",
    "search_05p = HalvingRandomSearchCV(\n",
    "    gbr,\n",
    "    param_grid,\n",
    "    resource=\"n_estimators\",\n",
    "    max_resources=250,\n",
    "    min_resources=50,\n",
    "    scoring=neg_mean_pinball_loss_05p_scorer,\n",
    "    n_jobs=2,\n",
    "    random_state=0,\n",
    ").fit(XX, y)\n",
    "pprint(search_05p.best_params_)"
   ]
  },
  {
   "cell_type": "code",
   "execution_count": 64,
   "id": "98301826",
   "metadata": {},
   "outputs": [
    {
     "name": "stdout",
     "output_type": "stream",
     "text": [
      " 0.067 76.223\n"
     ]
    }
   ],
   "source": [
    "model=GradientBoostingRegressor(learning_rate= 0.1, max_depth= 10, min_samples_leaf= 5,\n",
    "                                        min_samples_split= 10, n_estimators= 150)\n",
    "model.fit(XX, y)\n",
    "cv = RepeatedKFold(n_splits=5, n_repeats=3, random_state=79)\n",
    "scores1 = cross_val_score(model,XX, y, scoring='neg_mean_absolute_error', cv=cv, n_jobs=-1, error_score='raise')\n",
    "scores3 = cross_val_score(model,XX, y, scoring='r2', cv=cv, n_jobs=-1, error_score='raise')\n",
    "print(' %.3f %.3f' % (-mean(scores1),  100*mean(scores3)))"
   ]
  },
  {
   "cell_type": "code",
   "execution_count": 65,
   "id": "633a9de2",
   "metadata": {},
   "outputs": [
    {
     "name": "stdout",
     "output_type": "stream",
     "text": [
      " 0.048 84.666\n"
     ]
    }
   ],
   "source": [
    "model=GradientBoostingRegressor()\n",
    "model.fit(XX, y)\n",
    "cv = RepeatedKFold(n_splits=5, n_repeats=3, random_state=79)\n",
    "scores1 = cross_val_score(model,XX, y, scoring='neg_mean_absolute_error', cv=cv, n_jobs=-1, error_score='raise')\n",
    "scores3 = cross_val_score(model,XX, y, scoring='r2', cv=cv, n_jobs=-1, error_score='raise')\n",
    "print(' %.3f %.3f' % (-mean(scores1),  100*mean(scores3)))"
   ]
  },
  {
   "cell_type": "code",
   "execution_count": 49,
   "id": "7f4426c5",
   "metadata": {},
   "outputs": [
    {
     "data": {
      "image/png": "[encoded data removed]",
      "text/plain": [
       "<Figure size 864x432 with 2 Axes>"
      ]
     },
     "metadata": {
      "needs_background": "light"
     },
     "output_type": "display_data"
    }
   ],
   "source": [
    "from sklearn.inspection import permutation_importance\n",
    "feature_importance = model.feature_importances_\n",
    "sorted_idx = np.argsort(feature_importance)\n",
    "pos = np.arange(sorted_idx.shape[0]) + 0.5\n",
    "fig = plt.figure(figsize=(12, 6))\n",
    "plt.subplot(1, 2, 1)\n",
    "plt.barh(pos, feature_importance[sorted_idx], align=\"center\")\n",
    "plt.yticks(pos, np.array(XX.columns)[sorted_idx])\n",
    "plt.title(\"Feature Importance (MDI)\")\n",
    "\n",
    "result = permutation_importance(\n",
    "    model, XX, y, n_repeats=10, random_state=42, n_jobs=2\n",
    ")\n",
    "sorted_idx = result.importances_mean.argsort()\n",
    "plt.subplot(1, 2, 2)\n",
    "plt.boxplot(\n",
    "    result.importances[sorted_idx].T,\n",
    "    vert=False,\n",
    "    labels=np.array(XX.columns)[sorted_idx],\n",
    ")\n",
    "plt.title(\"Permutation Importance (test set)\")\n",
    "fig.tight_layout()\n",
    "plt.show()"
   ]
  },
  {
   "cell_type": "markdown",
   "id": "e38440fa",
   "metadata": {},
   "source": [
    "### hyperparameter tuning of DPI"
   ]
  },
  {
   "cell_type": "code",
   "execution_count": 138,
   "id": "c4437767",
   "metadata": {},
   "outputs": [],
   "source": [
    "XX=df_ver_3[XX_DPI]\n",
    "y=y_DPI"
   ]
  },
  {
   "cell_type": "code",
   "execution_count": 139,
   "id": "91ea8f56",
   "metadata": {},
   "outputs": [
    {
     "name": "stdout",
     "output_type": "stream",
     "text": [
      "{'learning_rate': 0.2,\n",
      " 'max_depth': 2,\n",
      " 'min_samples_leaf': 5,\n",
      " 'min_samples_split': 5,\n",
      " 'n_estimators': 150}\n"
     ]
    }
   ],
   "source": [
    "param_grid = dict(\n",
    "    learning_rate=[0.05, 0.1, 0.2],\n",
    "    max_depth=[2, 5, 10],\n",
    "    min_samples_leaf=[1, 5, 10, 20],\n",
    "    min_samples_split=[5, 10, 20, 30, 50],\n",
    ")\n",
    "alpha = 0.05\n",
    "neg_mean_pinball_loss_05p_scorer = make_scorer(\n",
    "    mean_pinball_loss,\n",
    "    alpha=alpha,\n",
    "    greater_is_better=False,  # maximize the negative loss\n",
    ")\n",
    "gbr = GradientBoostingRegressor(loss=\"quantile\", alpha=alpha, random_state=0)\n",
    "search_05p = HalvingRandomSearchCV(\n",
    "    gbr,\n",
    "    param_grid,\n",
    "    resource=\"n_estimators\",\n",
    "    max_resources=250,\n",
    "    min_resources=50,\n",
    "    scoring=neg_mean_pinball_loss_05p_scorer,\n",
    "    n_jobs=2,\n",
    "    random_state=0,\n",
    ").fit(df_ver_3, y)\n",
    "pprint(search_05p.best_params_)"
   ]
  },
  {
   "cell_type": "code",
   "execution_count": 143,
   "id": "460381c6",
   "metadata": {},
   "outputs": [
    {
     "name": "stdout",
     "output_type": "stream",
     "text": [
      " 2.226 80.581\n"
     ]
    }
   ],
   "source": [
    "model=GradientBoostingRegressor(learning_rate= 0.2, max_depth= 10, min_samples_leaf= 1,\n",
    "                                        min_samples_split= 5, n_estimators= 150)\n",
    "model.fit(XX, y)\n",
    "cv = RepeatedKFold(n_splits=5, n_repeats=3, random_state=79)\n",
    "scores1 = cross_val_score(model,XX, y, scoring='neg_mean_absolute_error', cv=cv, n_jobs=-1, error_score='raise')\n",
    "scores3 = cross_val_score(model,XX, y, scoring='r2', cv=cv, n_jobs=-1, error_score='raise')\n",
    "print(' %.3f %.3f' % (-mean(scores1),  100*mean(scores3)))"
   ]
  },
  {
   "cell_type": "code",
   "execution_count": 142,
   "id": "9c3073ba",
   "metadata": {},
   "outputs": [
    {
     "name": "stdout",
     "output_type": "stream",
     "text": [
      " 2.134 83.590\n"
     ]
    }
   ],
   "source": [
    "model=GradientBoostingRegressor()\n",
    "model.fit(XX, y)\n",
    "cv = RepeatedKFold(n_splits=5, n_repeats=3, random_state=79)\n",
    "scores1 = cross_val_score(model,XX, y, scoring='neg_mean_absolute_error', cv=cv, n_jobs=-1, error_score='raise')\n",
    "scores3 = cross_val_score(model,XX, y, scoring='r2', cv=cv, n_jobs=-1, error_score='raise')\n",
    "print(' %.3f %.3f' % (-mean(scores1),  100*mean(scores3)))"
   ]
  },
  {
   "cell_type": "markdown",
   "id": "fae4ba0e",
   "metadata": {},
   "source": [
    "since we can not see any improvement we do not report the hyperparameter tuning "
   ]
  }
 ],
 "metadata": {
  "kernelspec": {
   "display_name": "Python 3 (ipykernel)",
   "language": "python",
   "name": "python3"
  },
  "language_info": {
   "codemirror_mode": {
    "name": "ipython",
    "version": 3
   },
   "file_extension": ".py",
   "mimetype": "text/x-python",
   "name": "python",
   "nbconvert_exporter": "python",
   "pygments_lexer": "ipython3",
   "version": "3.7.6"
  }
 },
 "nbformat": 4,
 "nbformat_minor": 5
}

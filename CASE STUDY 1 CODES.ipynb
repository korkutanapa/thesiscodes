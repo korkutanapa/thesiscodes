{
 "cells": [
  {
   "cell_type": "markdown",
   "id": "cdb31d81",
   "metadata": {},
   "source": [
    "# Thesis Codes  by Korkut Anapa"
   ]
  },
  {
   "cell_type": "markdown",
   "id": "2798c8f7",
   "metadata": {},
   "source": [
    "## Case Study 1 - Digital Twin of a Performance Lab"
   ]
  },
  {
   "cell_type": "code",
   "execution_count": 1,
   "id": "14bccf05",
   "metadata": {},
   "outputs": [],
   "source": [
    "import numpy as np\n",
    "import pandas as pd\n",
    "import statsmodels.api as sm\n",
    "from sklearn.model_selection import train_test_split\n",
    "from sklearn.linear_model import LinearRegression\n",
    "from sklearn.feature_selection import RFE\n",
    "from sklearn.linear_model import RidgeCV, LassoCV, Ridge, Lasso\n",
    "from catboost import CatBoostRegressor\n",
    "from sklearn.ensemble import GradientBoostingRegressor\n",
    "from sklearn.ensemble import RandomForestRegressor\n",
    "from numpy import mean\n",
    "from numpy import std\n",
    "from sklearn.datasets import make_regression\n",
    "from sklearn.model_selection import cross_val_score\n",
    "from sklearn.model_selection import RepeatedKFold\n",
    "from sklearn.linear_model import LinearRegression\n",
    "from sklearn.ensemble import StackingRegressor\n",
    "from matplotlib import pyplot\n",
    "from sklearn.preprocessing import StandardScaler\n",
    "from sklearn.pipeline import Pipeline\n",
    "from sklearn.preprocessing import PolynomialFeatures\n",
    "from sklearn.linear_model import LinearRegression\n",
    "from sklearn.tree import DecisionTreeRegressor\n",
    "from sklearn.neighbors import KNeighborsRegressor\n",
    "from xgboost import XGBRegressor\n",
    "from sklearn.linear_model import ElasticNetCV, ElasticNet\n",
    "from sklearn.compose import make_column_selector as selector\n",
    "from sklearn.preprocessing import OneHotEncoder\n",
    "from sklearn.metrics import mean_squared_error\n",
    "from sklearn.model_selection import cross_val_score\n",
    "from sklearn.cross_decomposition import PLSRegression\n",
    "from sklearn.model_selection import train_test_split\n",
    "from sklearn.linear_model import LinearRegression\n",
    "from sklearn.feature_selection import RFE\n",
    "from sklearn.linear_model import RidgeCV, LassoCV, Ridge, Lasso\n",
    "from catboost import CatBoostRegressor\n",
    "from sklearn.ensemble import GradientBoostingRegressor\n",
    "from sklearn.ensemble import RandomForestRegressor\n",
    "from sklearn.datasets import make_regression\n",
    "from sklearn.model_selection import cross_val_score\n",
    "from sklearn.model_selection import RepeatedKFold\n",
    "from sklearn.linear_model import LinearRegression\n",
    "from sklearn.ensemble import StackingRegressor\n",
    "from matplotlib import pyplot\n",
    "from sklearn.preprocessing import StandardScaler\n",
    "from sklearn.pipeline import Pipeline\n",
    "from sklearn.preprocessing import PolynomialFeatures\n",
    "from sklearn.linear_model import LinearRegression\n",
    "from sklearn.tree import DecisionTreeRegressor\n",
    "from sklearn.neighbors import KNeighborsRegressor\n",
    "from xgboost import XGBRegressor\n",
    "from sklearn.linear_model import ElasticNetCV, ElasticNet\n",
    "from sklearn.compose import make_column_selector as selector\n",
    "from sklearn.preprocessing import OneHotEncoder\n",
    "import numpy as np\n",
    "import pandas as pd\n",
    "import joblib\n",
    "from sklearn.metrics import mean_absolute_error as MAE\n",
    "import matplotlib.pyplot as plt\n",
    "from numpy.random import seed\n",
    "from numpy.random import randn\n",
    "from scipy.stats import anderson\n",
    "from numpy import mean\n",
    "from numpy import std"
   ]
  },
  {
   "cell_type": "markdown",
   "id": "d428ba4a",
   "metadata": {},
   "source": [
    "Domain Expert Features"
   ]
  },
  {
   "cell_type": "code",
   "execution_count": 2,
   "id": "3aa67b11",
   "metadata": {},
   "outputs": [],
   "source": [
    "DE=[ 'T','WC','1OYSum of SURE', '1OYSum of CIRC_TIME',\n",
    "       '1OYSum of WI', '1OYMax of DEVIR', '1OYMax of TEMP', '1OYSum of ALT_C',\n",
    "       '1OYSum of ÜST_C', '1OYSum of TEPE_C', '1OYSum of BEKLEME',\n",
    "       '2AYSum of SURE', '2AYSum of CIRC_TIME', '2AYSum of WI',\n",
    "       '2AYMax of DEVIR', '2AYMax of TEMP', '2AYSum of ALT_C',\n",
    "       '2AYSum of ÜST_C', '2AYSum of TEPE_C', '4SGDSum of SURE',\n",
    "       '4SGDSum of CIRC_TIME', '4SGDSum of WI', '4SGDMax of DEVIR',\n",
    "       '4SGDSum of ALT_C', '4SGDSum of ÜST_C', '4SGDSum of TEPE_C',\n",
    "       '7SCD2Sum of kapalı', '7SCD2Sum of SURE', '7SCD2Sum of CIRC_TIME',\n",
    "       '7SCD2Sum of WI', '7SCD2Max of DEVIR', '7SCD2Max of TEMP',\n",
    "       '7SCD2Sum of ALT_C', '7SCD2Sum of ÜST_C', '7SCD2Sum of TEPE_C',\n",
    "       '10KUSum of SURE', '10KUSum of BEKLEME', '10KUSum of FAN',\n",
    "       '10KUSum of KAPI ACMA', '10KUSum of FAN / KLAPE']"
   ]
  },
  {
   "cell_type": "markdown",
   "id": "9be48bd8",
   "metadata": {},
   "source": [
    "Individual Variables of the Dishwasher Cleaning Cycle"
   ]
  },
  {
   "cell_type": "code",
   "execution_count": 3,
   "id": "6a7ea26a",
   "metadata": {},
   "outputs": [],
   "source": [
    "indvar=['1OYSum of kapalı' , '1OYSum of SURE' , '1OYSum of CIRC_TIME' , '1OYSum of WI' , '1OYMax of DEVIR',\n",
    "      '1OYMax of TEMP' , '1OYSum of ALT_C' , '1OYSum of ÜST_C' , '1OYSum of TEPE_C' , '1OYSum of ZONE_C' , '1OYSum of BEKLEME' ,\n",
    "      '1OYSum of FAN' , '1OYSum of KAPI ACMA' , '1OYSum of FAN / KLAPE' , '1OYSum of GAUDI_offset' ,\n",
    "      '1OYSum of GAUDI_nonoffset' , '2AYSum of kapalı' , '2AYSum of SURE' , '2AYSum of CIRC_TIME' , '2AYSum of WI' ,\n",
    "      '2AYMax of DEVIR' , '2AYMax of TEMP' , '2AYSum of ALT_C' , '2AYSum of ÜST_C' , '2AYSum of TEPE_C' , '2AYSum of ZONE_C' , \n",
    "      '2AYSum of BEKLEME' , '2AYSum of FAN' , '2AYSum of KAPI ACMA' , '2AYSum of FAN / KLAPE' , '2AYSum of GAUDI_offset' , \n",
    "      '2AYSum of GAUDI_nonoffset' , '3MFTSum of kapalı' , '3MFTSum of SURE' , '3MFTSum of CIRC_TIME' , '3MFTSum of WI' ,\n",
    "      '3MFTMax of DEVIR' , '3MFTMax of TEMP' , '3MFTSum of ALT_C' , '3MFTSum of ÜST_C' , '3MFTSum of TEPE_C' , \n",
    "      '3MFTSum of ZONE_C' , '3MFTSum of BEKLEME' , '3MFTSum of FAN', '3MFTSum of KAPI ACMA' , '3MFTSum of FAN / KLAPE' , \n",
    "      '3MFTSum of GAUDI_offset' , '3MFTSum of GAUDI_nonoffset' , '4SGDSum of kapalı' , '4SGDSum of SURE' , \n",
    "      '4SGDSum of CIRC_TIME', '4SGDSum of WI' , '4SGDMax of DEVIR' , '4SGDMax of TEMP' , '4SGDSum of ALT_C' , \n",
    "      '4SGDSum of ÜST_C' , '4SGDSum of TEPE_C' , '4SGDSum of ZONE_C' , '4SGDSum of BEKLEME' , '4SGDSum of FAN' , \n",
    "      '4SGDSum of KAPI ACMA' , '4SGDSum of FAN / KLAPE' , '4SGDSum of GAUDI_offset' , '4SGDSum of GAUDI_nonoffset' , \n",
    "      '5ERSum of kapalı' , '5ERSum of SURE' , '5ERSum of CIRC_TIME' , '5ERSum of WI' , '5ERMax of DEVIR' , '5ERMax of TEMP' ,\n",
    "      '5ERSum of ALT_C' , '5ERSum of ÜST_C' , '5ERSum of TEPE_C' , '5ERSum of ZONE_C' , '5ERSum of BEKLEME' ,\n",
    "      '5ERSum of FAN' , '5ERSum of KAPI ACMA' , '5ERSum of FAN / KLAPE' , '5ERSum of GAUDI_offset' , \n",
    "      '5ERSum of GAUDI_nonoffset' , '6SCD1Sum of kapalı' , '6SCD1Sum of SURE' , '6SCD1Sum of CIRC_TIME' , '6SCD1Sum of WI' , \n",
    "      '6SCD1Max of DEVIR' , '6SCD1Max of TEMP' , '6SCD1Sum of ALT_C' , '6SCD1Sum of ÜST_C' , '6SCD1Sum of TEPE_C' , \n",
    "      '6SCD1Sum of ZONE_C' , '6SCD1Sum of BEKLEME' , '6SCD1Sum of FAN' , '6SCD1Sum of KAPI ACMA' , '6SCD1Sum of FAN / KLAPE' ,\n",
    "      '6SCD1Sum of GAUDI_offset' , '6SCD1Sum of GAUDI_nonoffset' , '7SCD2Sum of kapalı' , '7SCD2Sum of SURE' , \n",
    "      '7SCD2Sum of CIRC_TIME' , '7SCD2Sum of WI' , '7SCD2Max of DEVIR' , '7SCD2Max of TEMP' , '7SCD2Sum of ALT_C' , \n",
    "      '7SCD2Sum of ÜST_C' , '7SCD2Sum of TEPE_C' , '7SCD2Sum of ZONE_C' , '7SCD2Sum of BEKLEME' , '7SCD2Sum of FAN' , \n",
    "      '7SCD2Sum of KAPI ACMA' , '7SCD2Sum of FAN / KLAPE' , '7SCD2Sum of GAUDI_offset' , '7SCD2Sum of GAUDI_nonoffset' , \n",
    "      '8DSBSum of kapalı' , '8DSBSum of SURE' , '8DSBSum of CIRC_TIME' , '8DSBSum of WI' , '8DSBMax of DEVIR' , \n",
    "      '8DSBMax of TEMP' , '8DSBSum of ALT_C' , '8DSBSum of ÜST_C', '8DSBSum of TEPE_C' , '8DSBSum of ZONE_C' ,\n",
    "      '8DSBSum of BEKLEME' , '8DSBSum of FAN' , '8DSBSum of KAPI ACMA' , '8DSBSum of FAN / KLAPE' , '8DSBSum of GAUDI_offset' ,\n",
    "      '8DSBSum of GAUDI_nonoffset', '9RYSum of kapalı' , '9RYSum of SURE' , '9RYSum of CIRC_TIME' , '9RYSum of WI' , \n",
    "      '9RYMax of DEVIR' , '9RYMax of TEMP' , '9RYSum of ALT_C' , '9RYSum of ÜST_C', '9RYSum of TEPE_C' , '9RYSum of ZONE_C' ,\n",
    "      '9RYSum of BEKLEME' , '9RYSum of FAN' , '9RYSum of KAPI ACMA' , '9RYSum of FAN / KLAPE' , '9RYSum of GAUDI_offset' ,\n",
    "      '9RYSum of GAUDI_nonoffset' , '10KUSum of kapalı' , '10KUSum of SURE' , '10KUSum of CIRC_TIME' , '10KUSum of WI' , \n",
    "      '10KUMax of DEVIR' , '10KUMax of TEMP' , '10KUSum of ALT_C' , '10KUSum of ÜST_C', '10KUSum of TEPE_C' ,\n",
    "      '10KUSum of ZONE_C' , '10KUSum of BEKLEME' , '10KUSum of FAN' , '10KUSum of KAPI ACMA' , '10KUSum of FAN / KLAPE' ,\n",
    "      '10KUSum of GAUDI_offset', '10KUSum of GAUDI_nonoffset']"
   ]
  },
  {
   "cell_type": "markdown",
   "id": "54ac4223",
   "metadata": {},
   "source": [
    "All features"
   ]
  },
  {
   "cell_type": "code",
   "execution_count": 4,
   "id": "eaf1b4d6",
   "metadata": {},
   "outputs": [],
   "source": [
    "ALL=['T','WC','1OYSum of kapalı' , '1OYSum of SURE' , '1OYSum of CIRC_TIME' , '1OYSum of WI' , '1OYMax of DEVIR',\n",
    "      '1OYMax of TEMP' , '1OYSum of ALT_C' , '1OYSum of ÜST_C' , '1OYSum of TEPE_C' , '1OYSum of ZONE_C' , '1OYSum of BEKLEME' ,\n",
    "      '1OYSum of FAN' , '1OYSum of KAPI ACMA' , '1OYSum of FAN / KLAPE' , '1OYSum of GAUDI_offset' ,\n",
    "      '1OYSum of GAUDI_nonoffset' , '2AYSum of kapalı' , '2AYSum of SURE' , '2AYSum of CIRC_TIME' , '2AYSum of WI' ,\n",
    "      '2AYMax of DEVIR' , '2AYMax of TEMP' , '2AYSum of ALT_C' , '2AYSum of ÜST_C' , '2AYSum of TEPE_C' , '2AYSum of ZONE_C' , \n",
    "      '2AYSum of BEKLEME' , '2AYSum of FAN' , '2AYSum of KAPI ACMA' , '2AYSum of FAN / KLAPE' , '2AYSum of GAUDI_offset' , \n",
    "      '2AYSum of GAUDI_nonoffset' , '3MFTSum of kapalı' , '3MFTSum of SURE' , '3MFTSum of CIRC_TIME' , '3MFTSum of WI' ,\n",
    "      '3MFTMax of DEVIR' , '3MFTMax of TEMP' , '3MFTSum of ALT_C' , '3MFTSum of ÜST_C' , '3MFTSum of TEPE_C' , \n",
    "      '3MFTSum of ZONE_C' , '3MFTSum of BEKLEME' , '3MFTSum of FAN', '3MFTSum of KAPI ACMA' , '3MFTSum of FAN / KLAPE' , \n",
    "      '3MFTSum of GAUDI_offset' , '3MFTSum of GAUDI_nonoffset' , '4SGDSum of kapalı' , '4SGDSum of SURE' , \n",
    "      '4SGDSum of CIRC_TIME', '4SGDSum of WI' , '4SGDMax of DEVIR' , '4SGDMax of TEMP' , '4SGDSum of ALT_C' , \n",
    "      '4SGDSum of ÜST_C' , '4SGDSum of TEPE_C' , '4SGDSum of ZONE_C' , '4SGDSum of BEKLEME' , '4SGDSum of FAN' , \n",
    "      '4SGDSum of KAPI ACMA' , '4SGDSum of FAN / KLAPE' , '4SGDSum of GAUDI_offset' , '4SGDSum of GAUDI_nonoffset' , \n",
    "      '5ERSum of kapalı' , '5ERSum of SURE' , '5ERSum of CIRC_TIME' , '5ERSum of WI' , '5ERMax of DEVIR' , '5ERMax of TEMP' ,\n",
    "      '5ERSum of ALT_C' , '5ERSum of ÜST_C' , '5ERSum of TEPE_C' , '5ERSum of ZONE_C' , '5ERSum of BEKLEME' ,\n",
    "      '5ERSum of FAN' , '5ERSum of KAPI ACMA' , '5ERSum of FAN / KLAPE' , '5ERSum of GAUDI_offset' , \n",
    "      '5ERSum of GAUDI_nonoffset' , '6SCD1Sum of kapalı' , '6SCD1Sum of SURE' , '6SCD1Sum of CIRC_TIME' , '6SCD1Sum of WI' , \n",
    "      '6SCD1Max of DEVIR' , '6SCD1Max of TEMP' , '6SCD1Sum of ALT_C' , '6SCD1Sum of ÜST_C' , '6SCD1Sum of TEPE_C' , \n",
    "      '6SCD1Sum of ZONE_C' , '6SCD1Sum of BEKLEME' , '6SCD1Sum of FAN' , '6SCD1Sum of KAPI ACMA' , '6SCD1Sum of FAN / KLAPE' ,\n",
    "      '6SCD1Sum of GAUDI_offset' , '6SCD1Sum of GAUDI_nonoffset' , '7SCD2Sum of kapalı' , '7SCD2Sum of SURE' , \n",
    "      '7SCD2Sum of CIRC_TIME' , '7SCD2Sum of WI' , '7SCD2Max of DEVIR' , '7SCD2Max of TEMP' , '7SCD2Sum of ALT_C' , \n",
    "      '7SCD2Sum of ÜST_C' , '7SCD2Sum of TEPE_C' , '7SCD2Sum of ZONE_C' , '7SCD2Sum of BEKLEME' , '7SCD2Sum of FAN' , \n",
    "      '7SCD2Sum of KAPI ACMA' , '7SCD2Sum of FAN / KLAPE' , '7SCD2Sum of GAUDI_offset' , '7SCD2Sum of GAUDI_nonoffset' , \n",
    "      '8DSBSum of kapalı' , '8DSBSum of SURE' , '8DSBSum of CIRC_TIME' , '8DSBSum of WI' , '8DSBMax of DEVIR' , \n",
    "      '8DSBMax of TEMP' , '8DSBSum of ALT_C' , '8DSBSum of ÜST_C', '8DSBSum of TEPE_C' , '8DSBSum of ZONE_C' ,\n",
    "      '8DSBSum of BEKLEME' , '8DSBSum of FAN' , '8DSBSum of KAPI ACMA' , '8DSBSum of FAN / KLAPE' , '8DSBSum of GAUDI_offset' ,\n",
    "      '8DSBSum of GAUDI_nonoffset', '9RYSum of kapalı' , '9RYSum of SURE' , '9RYSum of CIRC_TIME' , '9RYSum of WI' , \n",
    "      '9RYMax of DEVIR' , '9RYMax of TEMP' , '9RYSum of ALT_C' , '9RYSum of ÜST_C', '9RYSum of TEPE_C' , '9RYSum of ZONE_C' ,\n",
    "      '9RYSum of BEKLEME' , '9RYSum of FAN' , '9RYSum of KAPI ACMA' , '9RYSum of FAN / KLAPE' , '9RYSum of GAUDI_offset' ,\n",
    "      '9RYSum of GAUDI_nonoffset' , '10KUSum of kapalı' , '10KUSum of SURE' , '10KUSum of CIRC_TIME' , '10KUSum of WI' , \n",
    "      '10KUMax of DEVIR' , '10KUMax of TEMP' , '10KUSum of ALT_C' , '10KUSum of ÜST_C', '10KUSum of TEPE_C' ,\n",
    "      '10KUSum of ZONE_C' , '10KUSum of BEKLEME' , '10KUSum of FAN' , '10KUSum of KAPI ACMA' , '10KUSum of FAN / KLAPE' ,\n",
    "      '10KUSum of GAUDI_offset', '10KUSum of GAUDI_nonoffset']"
   ]
  },
  {
   "cell_type": "markdown",
   "id": "25fe8c9c",
   "metadata": {},
   "source": [
    "The data divided into two as train and test data"
   ]
  },
  {
   "cell_type": "code",
   "execution_count": 5,
   "id": "2bd645cf",
   "metadata": {},
   "outputs": [],
   "source": [
    "df_ref = pd.read_excel('D:/THESIS_DATA/ANALYSIS_DATA_THESIS/train_digital_twin.xlsx')"
   ]
  },
  {
   "cell_type": "code",
   "execution_count": 6,
   "id": "13b0e3cc",
   "metadata": {},
   "outputs": [],
   "source": [
    "df_ref=df_ref.drop_duplicates(keep='last',subset=indvar)"
   ]
  },
  {
   "cell_type": "code",
   "execution_count": 7,
   "id": "d04161c6",
   "metadata": {},
   "outputs": [],
   "source": [
    "XX_all=df_ref[ALL]\n",
    "XX_de=df_ref[DE]"
   ]
  },
  {
   "cell_type": "code",
   "execution_count": 8,
   "id": "f184f918",
   "metadata": {},
   "outputs": [],
   "source": [
    "y_CPI=df_ref['CPI']\n",
    "y_DPI=df_ref['DPI']\n",
    "y_EC=df_ref['EC']"
   ]
  },
  {
   "cell_type": "code",
   "execution_count": 9,
   "id": "6133ce83",
   "metadata": {},
   "outputs": [
    {
     "name": "stdout",
     "output_type": "stream",
     "text": [
      " 0.043 77.777\n",
      " 0.042 78.063\n",
      " 0.043 77.552\n",
      " 0.042 77.847\n",
      " 0.042 76.233\n",
      " 0.044 79.755\n",
      " 0.042 77.496\n",
      " 0.042 78.979\n",
      " 0.043 80.281\n",
      " 0.042 77.707\n",
      " 0.042 78.123\n",
      " 0.043 77.846\n",
      " 0.041 77.831\n",
      " 0.042 76.236\n",
      " 0.044 79.778\n",
      " 0.042 77.393\n",
      " 0.042 78.987\n",
      " 0.043 80.264\n",
      " 0.041 77.466\n",
      " 0.042 77.917\n",
      " 0.043 77.798\n",
      " 0.041 77.807\n",
      " 0.042 76.238\n",
      " 0.044 79.758\n",
      " 0.042 77.382\n",
      " 0.042 78.975\n",
      " 0.043 80.257\n"
     ]
    }
   ],
   "source": [
    "XX=XX_all\n",
    "y=y_CPI\n",
    "for n in [100,200,300]:\n",
    "    for d in [2,4,7]:\n",
    "        for e in [0.1,0.3,0.5]:\n",
    "            model=XGBRegressor(n_estimators=n, max_depth=d, eta=e, subsample=0.7, colsample_bytree=0.8)\n",
    "            model.fit(XX, y)\n",
    "            cv = RepeatedKFold(n_splits=5, n_repeats=3, random_state=79)\n",
    "            scores1 = cross_val_score(model,XX, y, scoring='neg_mean_absolute_error', cv=cv, n_jobs=-1, error_score='raise')\n",
    "            scores3 = cross_val_score(model,XX, y, scoring='r2', cv=cv, n_jobs=-1, error_score='raise')\n",
    "            print(' %.3f %.3f' % (-mean(scores1),  100*mean(scores3)))"
   ]
  },
  {
   "cell_type": "code",
   "execution_count": 10,
   "id": "9ff9969e",
   "metadata": {},
   "outputs": [
    {
     "name": "stdout",
     "output_type": "stream",
     "text": [
      " 0.042 78.063\n"
     ]
    }
   ],
   "source": [
    "XX=XX_all\n",
    "y=y_CPI\n",
    "model=XGBRegressor(n_estimators=100, max_depth=2, eta=0.3, subsample=0.7, colsample_bytree=0.8)\n",
    "model.fit(XX, y)\n",
    "cv = RepeatedKFold(n_splits=5, n_repeats=3, random_state=79)\n",
    "scores1 = cross_val_score(model,XX, y, scoring='neg_mean_absolute_error', cv=cv, n_jobs=-1, error_score='raise')\n",
    "scores3 = cross_val_score(model,XX, y, scoring='r2', cv=cv, n_jobs=-1, error_score='raise')\n",
    "print(' %.3f %.3f' % (-mean(scores1),  100*mean(scores3)))"
   ]
  },
  {
   "cell_type": "code",
   "execution_count": 11,
   "id": "077ef173",
   "metadata": {},
   "outputs": [
    {
     "data": {
      "text/plain": [
       "['xxallxgbcpi.sav']"
      ]
     },
     "execution_count": 11,
     "metadata": {},
     "output_type": "execute_result"
    }
   ],
   "source": [
    "import joblib\n",
    "filename = 'xxallxgbcpi.sav'\n",
    "joblib.dump(model, filename)"
   ]
  },
  {
   "cell_type": "code",
   "execution_count": 12,
   "id": "b776f5ac",
   "metadata": {},
   "outputs": [
    {
     "name": "stdout",
     "output_type": "stream",
     "text": [
      " 0.042 78.588\n"
     ]
    }
   ],
   "source": [
    "XX=XX_de\n",
    "y=y_CPI\n",
    "model=XGBRegressor(n_estimators=100, max_depth=2, eta=0.3, subsample=0.7, colsample_bytree=0.8)\n",
    "model.fit(XX, y)\n",
    "cv = RepeatedKFold(n_splits=5, n_repeats=3, random_state=79)\n",
    "scores1 = cross_val_score(model,XX, y, scoring='neg_mean_absolute_error', cv=cv, n_jobs=-1, error_score='raise')\n",
    "scores3 = cross_val_score(model,XX, y, scoring='r2', cv=cv, n_jobs=-1, error_score='raise')\n",
    "print(' %.3f %.3f' % (-mean(scores1),  100*mean(scores3)))"
   ]
  },
  {
   "cell_type": "code",
   "execution_count": 13,
   "id": "24fe9cbe",
   "metadata": {},
   "outputs": [
    {
     "data": {
      "text/plain": [
       "['xxdexgbcpi.sav']"
      ]
     },
     "execution_count": 13,
     "metadata": {},
     "output_type": "execute_result"
    }
   ],
   "source": [
    "import joblib\n",
    "filename = 'xxdexgbcpi.sav'\n",
    "joblib.dump(model, filename)"
   ]
  },
  {
   "cell_type": "code",
   "execution_count": 14,
   "id": "58fc6f99",
   "metadata": {},
   "outputs": [
    {
     "name": "stdout",
     "output_type": "stream",
     "text": [
      " 2.568 76.001\n",
      " 2.579 73.956\n"
     ]
    },
    {
     "data": {
      "text/plain": [
       "['xxdexgbdpi.sav']"
      ]
     },
     "execution_count": 14,
     "metadata": {},
     "output_type": "execute_result"
    }
   ],
   "source": [
    "XX=XX_all\n",
    "y=y_DPI\n",
    "model=XGBRegressor(n_estimators=100, max_depth=2, eta=0.3, subsample=0.7, colsample_bytree=0.8)\n",
    "model.fit(XX, y)\n",
    "cv = RepeatedKFold(n_splits=5, n_repeats=3, random_state=79)\n",
    "scores1 = cross_val_score(model,XX, y, scoring='neg_mean_absolute_error', cv=cv, n_jobs=-1, error_score='raise')\n",
    "scores3 = cross_val_score(model,XX, y, scoring='r2', cv=cv, n_jobs=-1, error_score='raise')\n",
    "print(' %.3f %.3f' % (-mean(scores1),  100*mean(scores3)))\n",
    "import joblib\n",
    "filename = 'xxallxgbdpi.sav'\n",
    "joblib.dump(model, filename)\n",
    "XX=XX_de\n",
    "y=y_DPI\n",
    "model=XGBRegressor(n_estimators=100, max_depth=2, eta=0.3, subsample=0.7, colsample_bytree=0.8)\n",
    "model.fit(XX, y)\n",
    "cv = RepeatedKFold(n_splits=5, n_repeats=3, random_state=79)\n",
    "scores1 = cross_val_score(model,XX, y, scoring='neg_mean_absolute_error', cv=cv, n_jobs=-1, error_score='raise')\n",
    "scores3 = cross_val_score(model,XX, y, scoring='r2', cv=cv, n_jobs=-1, error_score='raise')\n",
    "print(' %.3f %.3f' % (-mean(scores1),  100*mean(scores3)))\n",
    "import joblib\n",
    "filename = 'xxdexgbdpi.sav'\n",
    "joblib.dump(model, filename)\n"
   ]
  },
  {
   "cell_type": "code",
   "execution_count": 15,
   "id": "0665002f",
   "metadata": {},
   "outputs": [
    {
     "name": "stdout",
     "output_type": "stream",
     "text": [
      " 0.047 86.227\n",
      " 0.048 86.144\n"
     ]
    },
    {
     "data": {
      "text/plain": [
       "['xxdexgbec.sav']"
      ]
     },
     "execution_count": 15,
     "metadata": {},
     "output_type": "execute_result"
    }
   ],
   "source": [
    "XX=XX_all\n",
    "y=y_EC\n",
    "model=XGBRegressor(n_estimators=100, max_depth=2, eta=0.3, subsample=0.7, colsample_bytree=0.8)\n",
    "model.fit(XX, y)\n",
    "cv = RepeatedKFold(n_splits=5, n_repeats=3, random_state=79)\n",
    "scores1 = cross_val_score(model,XX, y, scoring='neg_mean_absolute_error', cv=cv, n_jobs=-1, error_score='raise')\n",
    "scores3 = cross_val_score(model,XX, y, scoring='r2', cv=cv, n_jobs=-1, error_score='raise')\n",
    "print(' %.3f %.3f' % (-mean(scores1),  100*mean(scores3)))\n",
    "import joblib\n",
    "filename = 'xxallxgbec.sav'\n",
    "joblib.dump(model, filename)\n",
    "XX=XX_de\n",
    "y=y_EC\n",
    "model=XGBRegressor(n_estimators=100, max_depth=2, eta=0.3, subsample=0.7, colsample_bytree=0.8)\n",
    "model.fit(XX, y)\n",
    "cv = RepeatedKFold(n_splits=5, n_repeats=3, random_state=79)\n",
    "scores1 = cross_val_score(model,XX, y, scoring='neg_mean_absolute_error', cv=cv, n_jobs=-1, error_score='raise')\n",
    "scores3 = cross_val_score(model,XX, y, scoring='r2', cv=cv, n_jobs=-1, error_score='raise')\n",
    "print(' %.3f %.3f' % (-mean(scores1),  100*mean(scores3)))\n",
    "import joblib\n",
    "filename = 'xxdexgbec.sav'\n",
    "joblib.dump(model, filename)"
   ]
  },
  {
   "cell_type": "code",
   "execution_count": 23,
   "id": "b61e7702",
   "metadata": {},
   "outputs": [],
   "source": [
    "XX_EC=['1OYSum of CIRC_TIME', '1OYMax of DEVIR', '2AYSum of kapalı',\n",
    "       '2AYMax of TEMP', '2AYSum of ALT_C', '3MFTSum of SURE', '4SGDSum of WI',\n",
    "       '7SCD2Sum of kapalı', '7SCD2Max of TEMP', '7SCD2Sum of ALT_C',\n",
    "       '7SCD2Sum of ÜST_C', '10KUSum of SURE', '10KUSum of KAPI ACMA',\n",
    "       '10KUSum of FAN / KLAPE']\n",
    "XX_CPI=['1OYSum of kapalı', '1OYMax of DEVIR', '2AYMax of DEVIR',\n",
    "       '2AYSum of ALT_C', '4SGDSum of ALT_C', '7SCD2Max of DEVIR',\n",
    "       '7SCD2Sum of ÜST_C', '10KUSum of SURE', '10KUSum of KAPI ACMA']\n",
    "XX_DPI=['1OYMax of TEMP', '1OYSum of BEKLEME', '2AYSum of ALT_C',\n",
    "       '2AYSum of TEPE_C', '4SGDSum of TEPE_C', '7SCD2Sum of ALT_C',\n",
    "       '8DSBMax of DEVIR', '10KUSum of SURE', '10KUSum of GAUDI_offset']\n",
    "XX_ec=df_ref[XX_EC]\n",
    "XX_cpi=df_ref[XX_CPI]\n",
    "XX_dpi=df_ref[XX_DPI]"
   ]
  },
  {
   "cell_type": "code",
   "execution_count": 24,
   "id": "10afffa6",
   "metadata": {},
   "outputs": [
    {
     "name": "stdout",
     "output_type": "stream",
     "text": [
      " 0.043 77.795\n"
     ]
    }
   ],
   "source": [
    "XX=XX_cpi\n",
    "y=y_CPI\n",
    "model=XGBRegressor(n_estimators=100, max_depth=2, eta=0.3, subsample=0.7, colsample_bytree=0.8)\n",
    "model.fit(XX, y)\n",
    "cv = RepeatedKFold(n_splits=5, n_repeats=3, random_state=79)\n",
    "scores1 = cross_val_score(model,XX, y, scoring='neg_mean_absolute_error', cv=cv, n_jobs=-1, error_score='raise')\n",
    "scores3 = cross_val_score(model,XX, y, scoring='r2', cv=cv, n_jobs=-1, error_score='raise')\n",
    "print(' %.3f %.3f' % (-mean(scores1),  100*mean(scores3)))"
   ]
  },
  {
   "cell_type": "code",
   "execution_count": 25,
   "id": "d167fb06",
   "metadata": {},
   "outputs": [
    {
     "data": {
      "text/plain": [
       "['xxcpixgbcpi.sav']"
      ]
     },
     "execution_count": 25,
     "metadata": {},
     "output_type": "execute_result"
    }
   ],
   "source": [
    "import joblib\n",
    "filename = 'xxcpixgbcpi.sav'\n",
    "joblib.dump(model, filename)"
   ]
  },
  {
   "cell_type": "code",
   "execution_count": 26,
   "id": "1998548e",
   "metadata": {},
   "outputs": [
    {
     "name": "stdout",
     "output_type": "stream",
     "text": [
      " 2.366 78.944\n"
     ]
    }
   ],
   "source": [
    "XX=XX_dpi\n",
    "y=y_DPI\n",
    "model=XGBRegressor(n_estimators=100, max_depth=2, eta=0.3, subsample=0.7, colsample_bytree=0.8)\n",
    "model.fit(XX, y)\n",
    "cv = RepeatedKFold(n_splits=5, n_repeats=3, random_state=79)\n",
    "scores1 = cross_val_score(model,XX, y, scoring='neg_mean_absolute_error', cv=cv, n_jobs=-1, error_score='raise')\n",
    "scores3 = cross_val_score(model,XX, y, scoring='r2', cv=cv, n_jobs=-1, error_score='raise')\n",
    "print(' %.3f %.3f' % (-mean(scores1),  100*mean(scores3)))"
   ]
  },
  {
   "cell_type": "code",
   "execution_count": 27,
   "id": "f582c6e9",
   "metadata": {},
   "outputs": [
    {
     "data": {
      "text/plain": [
       "['xxdpixgbdpi.sav']"
      ]
     },
     "execution_count": 27,
     "metadata": {},
     "output_type": "execute_result"
    }
   ],
   "source": [
    "import joblib\n",
    "filename = 'xxdpixgbdpi.sav'\n",
    "joblib.dump(model, filename)"
   ]
  },
  {
   "cell_type": "code",
   "execution_count": 28,
   "id": "acebc549",
   "metadata": {},
   "outputs": [
    {
     "name": "stdout",
     "output_type": "stream",
     "text": [
      " 0.042 87.668\n"
     ]
    }
   ],
   "source": [
    "XX=XX_ec\n",
    "y=y_EC\n",
    "model=XGBRegressor(n_estimators=100, max_depth=2, eta=0.3, subsample=0.7, colsample_bytree=0.8)\n",
    "model.fit(XX, y)\n",
    "cv = RepeatedKFold(n_splits=5, n_repeats=3, random_state=79)\n",
    "scores1 = cross_val_score(model,XX, y, scoring='neg_mean_absolute_error', cv=cv, n_jobs=-1, error_score='raise')\n",
    "scores3 = cross_val_score(model,XX, y, scoring='r2', cv=cv, n_jobs=-1, error_score='raise')\n",
    "print(' %.3f %.3f' % (-mean(scores1),  100*mean(scores3)))"
   ]
  },
  {
   "cell_type": "code",
   "execution_count": 29,
   "id": "dc24b1c9",
   "metadata": {},
   "outputs": [
    {
     "data": {
      "text/plain": [
       "['xxecxgbec.sav']"
      ]
     },
     "execution_count": 29,
     "metadata": {},
     "output_type": "execute_result"
    }
   ],
   "source": [
    "import joblib\n",
    "filename = 'xxecxgbec.sav'\n",
    "joblib.dump(model, filename)"
   ]
  },
  {
   "cell_type": "code",
   "execution_count": 30,
   "id": "c6f611e9",
   "metadata": {},
   "outputs": [
    {
     "name": "stdout",
     "output_type": "stream",
     "text": [
      " 0.045 87.939\n"
     ]
    }
   ],
   "source": [
    "XX=XX_ec\n",
    "y=y_EC\n",
    "model=LinearRegression()\n",
    "model.fit(XX, y)\n",
    "cv = RepeatedKFold(n_splits=5, n_repeats=3, random_state=79)\n",
    "scores1 = cross_val_score(model,XX, y, scoring='neg_mean_absolute_error', cv=cv, n_jobs=-1, error_score='raise')\n",
    "scores3 = cross_val_score(model,XX, y, scoring='r2', cv=cv, n_jobs=-1, error_score='raise')\n",
    "print(' %.3f %.3f' % (-mean(scores1),  100*mean(scores3)))"
   ]
  },
  {
   "cell_type": "code",
   "execution_count": 31,
   "id": "1e346968",
   "metadata": {},
   "outputs": [
    {
     "data": {
      "text/plain": [
       "['xxeclrec.sav']"
      ]
     },
     "execution_count": 31,
     "metadata": {},
     "output_type": "execute_result"
    }
   ],
   "source": [
    "import joblib\n",
    "filename = 'xxeclrec.sav'\n",
    "joblib.dump(model, filename)"
   ]
  },
  {
   "cell_type": "code",
   "execution_count": 33,
   "id": "745b9a44",
   "metadata": {},
   "outputs": [],
   "source": [
    "df_test = pd.read_excel('D:/THESIS_DATA/ANALYSIS_DATA_THESIS/test_digital_twin.xlsx')"
   ]
  },
  {
   "cell_type": "code",
   "execution_count": 34,
   "id": "fd777525",
   "metadata": {},
   "outputs": [
    {
     "data": {
      "text/html": [
       "<div>\n",
       "<style scoped>\n",
       "    .dataframe tbody tr th:only-of-type {\n",
       "        vertical-align: middle;\n",
       "    }\n",
       "\n",
       "    .dataframe tbody tr th {\n",
       "        vertical-align: top;\n",
       "    }\n",
       "\n",
       "    .dataframe thead th {\n",
       "        text-align: right;\n",
       "    }\n",
       "</style>\n",
       "<table border=\"1\" class=\"dataframe\">\n",
       "  <thead>\n",
       "    <tr style=\"text-align: right;\">\n",
       "      <th></th>\n",
       "      <th>modelname</th>\n",
       "      <th>type</th>\n",
       "      <th>typem</th>\n",
       "      <th>k1</th>\n",
       "      <th>k2</th>\n",
       "      <th>k3</th>\n",
       "      <th>k4</th>\n",
       "      <th>k5</th>\n",
       "      <th>k6</th>\n",
       "      <th>k7</th>\n",
       "      <th>...</th>\n",
       "      <th>10KUSum of ALT_C</th>\n",
       "      <th>10KUSum of ÜST_C</th>\n",
       "      <th>10KUSum of TEPE_C</th>\n",
       "      <th>10KUSum of ZONE_C</th>\n",
       "      <th>10KUSum of BEKLEME</th>\n",
       "      <th>10KUSum of FAN</th>\n",
       "      <th>10KUSum of KAPI ACMA</th>\n",
       "      <th>10KUSum of FAN / KLAPE</th>\n",
       "      <th>10KUSum of GAUDI_offset</th>\n",
       "      <th>10KUSum of GAUDI_nonoffset</th>\n",
       "    </tr>\n",
       "  </thead>\n",
       "  <tbody>\n",
       "    <tr>\n",
       "      <th>0</th>\n",
       "      <td>S295F323S_AA - Eco 50 NR - Solo</td>\n",
       "      <td>15</td>\n",
       "      <td>60</td>\n",
       "      <td>S</td>\n",
       "      <td>2</td>\n",
       "      <td>9</td>\n",
       "      <td>5</td>\n",
       "      <td>F</td>\n",
       "      <td>3</td>\n",
       "      <td>2</td>\n",
       "      <td>...</td>\n",
       "      <td>0</td>\n",
       "      <td>0</td>\n",
       "      <td>0</td>\n",
       "      <td>0</td>\n",
       "      <td>10</td>\n",
       "      <td>93</td>\n",
       "      <td>0</td>\n",
       "      <td>0</td>\n",
       "      <td>0</td>\n",
       "      <td>0</td>\n",
       "    </tr>\n",
       "    <tr>\n",
       "      <th>1</th>\n",
       "      <td>EQD5F320_AB - Quick&amp;Dry</td>\n",
       "      <td>15</td>\n",
       "      <td>60</td>\n",
       "      <td>E</td>\n",
       "      <td>Q</td>\n",
       "      <td>D</td>\n",
       "      <td>5</td>\n",
       "      <td>F</td>\n",
       "      <td>3</td>\n",
       "      <td>2</td>\n",
       "      <td>...</td>\n",
       "      <td>0</td>\n",
       "      <td>0</td>\n",
       "      <td>0</td>\n",
       "      <td>0</td>\n",
       "      <td>9</td>\n",
       "      <td>8</td>\n",
       "      <td>0</td>\n",
       "      <td>0</td>\n",
       "      <td>0</td>\n",
       "      <td>0</td>\n",
       "    </tr>\n",
       "    <tr>\n",
       "      <th>2</th>\n",
       "      <td>EMN5F328_AA - Mini30</td>\n",
       "      <td>15</td>\n",
       "      <td>60</td>\n",
       "      <td>E</td>\n",
       "      <td>M</td>\n",
       "      <td>N</td>\n",
       "      <td>5</td>\n",
       "      <td>F</td>\n",
       "      <td>3</td>\n",
       "      <td>2</td>\n",
       "      <td>...</td>\n",
       "      <td>0</td>\n",
       "      <td>0</td>\n",
       "      <td>0</td>\n",
       "      <td>0</td>\n",
       "      <td>0</td>\n",
       "      <td>0</td>\n",
       "      <td>0</td>\n",
       "      <td>0</td>\n",
       "      <td>0</td>\n",
       "      <td>0</td>\n",
       "    </tr>\n",
       "    <tr>\n",
       "      <th>3</th>\n",
       "      <td>EYG4B020_AA - Yoğun70</td>\n",
       "      <td>14</td>\n",
       "      <td>60</td>\n",
       "      <td>E</td>\n",
       "      <td>Y</td>\n",
       "      <td>G</td>\n",
       "      <td>4</td>\n",
       "      <td>B</td>\n",
       "      <td>0</td>\n",
       "      <td>2</td>\n",
       "      <td>...</td>\n",
       "      <td>0</td>\n",
       "      <td>0</td>\n",
       "      <td>0</td>\n",
       "      <td>0</td>\n",
       "      <td>40</td>\n",
       "      <td>0</td>\n",
       "      <td>0</td>\n",
       "      <td>0</td>\n",
       "      <td>0</td>\n",
       "      <td>0</td>\n",
       "    </tr>\n",
       "    <tr>\n",
       "      <th>4</th>\n",
       "      <td>E293F320A_AA - Eco 50 NR - Ank.</td>\n",
       "      <td>13</td>\n",
       "      <td>60</td>\n",
       "      <td>E</td>\n",
       "      <td>2</td>\n",
       "      <td>9</td>\n",
       "      <td>3</td>\n",
       "      <td>F</td>\n",
       "      <td>3</td>\n",
       "      <td>2</td>\n",
       "      <td>...</td>\n",
       "      <td>0</td>\n",
       "      <td>0</td>\n",
       "      <td>0</td>\n",
       "      <td>0</td>\n",
       "      <td>20</td>\n",
       "      <td>73</td>\n",
       "      <td>0</td>\n",
       "      <td>0</td>\n",
       "      <td>0</td>\n",
       "      <td>0</td>\n",
       "    </tr>\n",
       "    <tr>\n",
       "      <th>5</th>\n",
       "      <td>EQD5F328_AA - QuickDry</td>\n",
       "      <td>15</td>\n",
       "      <td>60</td>\n",
       "      <td>E</td>\n",
       "      <td>Q</td>\n",
       "      <td>D</td>\n",
       "      <td>5</td>\n",
       "      <td>F</td>\n",
       "      <td>3</td>\n",
       "      <td>2</td>\n",
       "      <td>...</td>\n",
       "      <td>0</td>\n",
       "      <td>0</td>\n",
       "      <td>0</td>\n",
       "      <td>0</td>\n",
       "      <td>9</td>\n",
       "      <td>8</td>\n",
       "      <td>0</td>\n",
       "      <td>0</td>\n",
       "      <td>0</td>\n",
       "      <td>0</td>\n",
       "    </tr>\n",
       "    <tr>\n",
       "      <th>6</th>\n",
       "      <td>E314A010A_AB - Eco50 NR - Ank</td>\n",
       "      <td>14</td>\n",
       "      <td>60</td>\n",
       "      <td>E</td>\n",
       "      <td>3</td>\n",
       "      <td>1</td>\n",
       "      <td>4</td>\n",
       "      <td>A</td>\n",
       "      <td>0</td>\n",
       "      <td>1</td>\n",
       "      <td>...</td>\n",
       "      <td>0</td>\n",
       "      <td>0</td>\n",
       "      <td>0</td>\n",
       "      <td>0</td>\n",
       "      <td>95</td>\n",
       "      <td>0</td>\n",
       "      <td>1</td>\n",
       "      <td>0</td>\n",
       "      <td>0</td>\n",
       "      <td>0</td>\n",
       "    </tr>\n",
       "    <tr>\n",
       "      <th>7</th>\n",
       "      <td>E214F020A_AA - Eco50 NR - Ank.</td>\n",
       "      <td>14</td>\n",
       "      <td>60</td>\n",
       "      <td>E</td>\n",
       "      <td>2</td>\n",
       "      <td>1</td>\n",
       "      <td>4</td>\n",
       "      <td>F</td>\n",
       "      <td>0</td>\n",
       "      <td>2</td>\n",
       "      <td>...</td>\n",
       "      <td>0</td>\n",
       "      <td>0</td>\n",
       "      <td>0</td>\n",
       "      <td>0</td>\n",
       "      <td>20</td>\n",
       "      <td>78</td>\n",
       "      <td>0</td>\n",
       "      <td>0</td>\n",
       "      <td>0</td>\n",
       "      <td>0</td>\n",
       "    </tr>\n",
       "    <tr>\n",
       "      <th>8</th>\n",
       "      <td>E113B021S - Eco50 - SOLO</td>\n",
       "      <td>13</td>\n",
       "      <td>60</td>\n",
       "      <td>E</td>\n",
       "      <td>1</td>\n",
       "      <td>1</td>\n",
       "      <td>3</td>\n",
       "      <td>B</td>\n",
       "      <td>0</td>\n",
       "      <td>2</td>\n",
       "      <td>...</td>\n",
       "      <td>0</td>\n",
       "      <td>0</td>\n",
       "      <td>0</td>\n",
       "      <td>0</td>\n",
       "      <td>102</td>\n",
       "      <td>0</td>\n",
       "      <td>0</td>\n",
       "      <td>0</td>\n",
       "      <td>0</td>\n",
       "      <td>0</td>\n",
       "    </tr>\n",
       "    <tr>\n",
       "      <th>9</th>\n",
       "      <td>E294F328A_AA - Eco 50 NR - Ank.</td>\n",
       "      <td>14</td>\n",
       "      <td>60</td>\n",
       "      <td>E</td>\n",
       "      <td>2</td>\n",
       "      <td>9</td>\n",
       "      <td>4</td>\n",
       "      <td>F</td>\n",
       "      <td>3</td>\n",
       "      <td>2</td>\n",
       "      <td>...</td>\n",
       "      <td>0</td>\n",
       "      <td>0</td>\n",
       "      <td>0</td>\n",
       "      <td>0</td>\n",
       "      <td>20</td>\n",
       "      <td>73</td>\n",
       "      <td>0</td>\n",
       "      <td>0</td>\n",
       "      <td>0</td>\n",
       "      <td>0</td>\n",
       "    </tr>\n",
       "    <tr>\n",
       "      <th>10</th>\n",
       "      <td>E213S410S_XD_Eco50 NR_Solo</td>\n",
       "      <td>13</td>\n",
       "      <td>60</td>\n",
       "      <td>E</td>\n",
       "      <td>2</td>\n",
       "      <td>1</td>\n",
       "      <td>3</td>\n",
       "      <td>S</td>\n",
       "      <td>4</td>\n",
       "      <td>1</td>\n",
       "      <td>...</td>\n",
       "      <td>0</td>\n",
       "      <td>0</td>\n",
       "      <td>0</td>\n",
       "      <td>0</td>\n",
       "      <td>123</td>\n",
       "      <td>0</td>\n",
       "      <td>0</td>\n",
       "      <td>0</td>\n",
       "      <td>0</td>\n",
       "      <td>0</td>\n",
       "    </tr>\n",
       "    <tr>\n",
       "      <th>11</th>\n",
       "      <td>E394G320S_AA - Eco 50 NR - Solo</td>\n",
       "      <td>14</td>\n",
       "      <td>60</td>\n",
       "      <td>E</td>\n",
       "      <td>3</td>\n",
       "      <td>9</td>\n",
       "      <td>4</td>\n",
       "      <td>G</td>\n",
       "      <td>3</td>\n",
       "      <td>2</td>\n",
       "      <td>...</td>\n",
       "      <td>0</td>\n",
       "      <td>0</td>\n",
       "      <td>0</td>\n",
       "      <td>0</td>\n",
       "      <td>10</td>\n",
       "      <td>98</td>\n",
       "      <td>0</td>\n",
       "      <td>37</td>\n",
       "      <td>0</td>\n",
       "      <td>0</td>\n",
       "    </tr>\n",
       "    <tr>\n",
       "      <th>12</th>\n",
       "      <td>E395G320S_AA - Eco 50 NR - Solo</td>\n",
       "      <td>15</td>\n",
       "      <td>60</td>\n",
       "      <td>E</td>\n",
       "      <td>3</td>\n",
       "      <td>9</td>\n",
       "      <td>5</td>\n",
       "      <td>G</td>\n",
       "      <td>3</td>\n",
       "      <td>2</td>\n",
       "      <td>...</td>\n",
       "      <td>0</td>\n",
       "      <td>0</td>\n",
       "      <td>0</td>\n",
       "      <td>0</td>\n",
       "      <td>10</td>\n",
       "      <td>98</td>\n",
       "      <td>0</td>\n",
       "      <td>34</td>\n",
       "      <td>0</td>\n",
       "      <td>0</td>\n",
       "    </tr>\n",
       "  </tbody>\n",
       "</table>\n",
       "<p>13 rows × 180 columns</p>\n",
       "</div>"
      ],
      "text/plain": [
       "                          modelname  type  typem k1 k2 k3  k4 k5  k6  k7  ...  \\\n",
       "0   S295F323S_AA - Eco 50 NR - Solo    15     60  S  2  9   5  F   3   2  ...   \n",
       "1           EQD5F320_AB - Quick&Dry    15     60  E  Q  D   5  F   3   2  ...   \n",
       "2              EMN5F328_AA - Mini30    15     60  E  M  N   5  F   3   2  ...   \n",
       "3             EYG4B020_AA - Yoğun70    14     60  E  Y  G   4  B   0   2  ...   \n",
       "4   E293F320A_AA - Eco 50 NR - Ank.    13     60  E  2  9   3  F   3   2  ...   \n",
       "5            EQD5F328_AA - QuickDry    15     60  E  Q  D   5  F   3   2  ...   \n",
       "6     E314A010A_AB - Eco50 NR - Ank    14     60  E  3  1   4  A   0   1  ...   \n",
       "7    E214F020A_AA - Eco50 NR - Ank.    14     60  E  2  1   4  F   0   2  ...   \n",
       "8          E113B021S - Eco50 - SOLO    13     60  E  1  1   3  B   0   2  ...   \n",
       "9   E294F328A_AA - Eco 50 NR - Ank.    14     60  E  2  9   4  F   3   2  ...   \n",
       "10       E213S410S_XD_Eco50 NR_Solo    13     60  E  2  1   3  S   4   1  ...   \n",
       "11  E394G320S_AA - Eco 50 NR - Solo    14     60  E  3  9   4  G   3   2  ...   \n",
       "12  E395G320S_AA - Eco 50 NR - Solo    15     60  E  3  9   5  G   3   2  ...   \n",
       "\n",
       "    10KUSum of ALT_C 10KUSum of ÜST_C 10KUSum of TEPE_C  10KUSum of ZONE_C  \\\n",
       "0                  0                0                 0                  0   \n",
       "1                  0                0                 0                  0   \n",
       "2                  0                0                 0                  0   \n",
       "3                  0                0                 0                  0   \n",
       "4                  0                0                 0                  0   \n",
       "5                  0                0                 0                  0   \n",
       "6                  0                0                 0                  0   \n",
       "7                  0                0                 0                  0   \n",
       "8                  0                0                 0                  0   \n",
       "9                  0                0                 0                  0   \n",
       "10                 0                0                 0                  0   \n",
       "11                 0                0                 0                  0   \n",
       "12                 0                0                 0                  0   \n",
       "\n",
       "    10KUSum of BEKLEME  10KUSum of FAN  10KUSum of KAPI ACMA  \\\n",
       "0                   10              93                     0   \n",
       "1                    9               8                     0   \n",
       "2                    0               0                     0   \n",
       "3                   40               0                     0   \n",
       "4                   20              73                     0   \n",
       "5                    9               8                     0   \n",
       "6                   95               0                     1   \n",
       "7                   20              78                     0   \n",
       "8                  102               0                     0   \n",
       "9                   20              73                     0   \n",
       "10                 123               0                     0   \n",
       "11                  10              98                     0   \n",
       "12                  10              98                     0   \n",
       "\n",
       "    10KUSum of FAN / KLAPE  10KUSum of GAUDI_offset  \\\n",
       "0                        0                        0   \n",
       "1                        0                        0   \n",
       "2                        0                        0   \n",
       "3                        0                        0   \n",
       "4                        0                        0   \n",
       "5                        0                        0   \n",
       "6                        0                        0   \n",
       "7                        0                        0   \n",
       "8                        0                        0   \n",
       "9                        0                        0   \n",
       "10                       0                        0   \n",
       "11                      37                        0   \n",
       "12                      34                        0   \n",
       "\n",
       "    10KUSum of GAUDI_nonoffset  \n",
       "0                            0  \n",
       "1                            0  \n",
       "2                            0  \n",
       "3                            0  \n",
       "4                            0  \n",
       "5                            0  \n",
       "6                            0  \n",
       "7                            0  \n",
       "8                            0  \n",
       "9                            0  \n",
       "10                           0  \n",
       "11                           0  \n",
       "12                           0  \n",
       "\n",
       "[13 rows x 180 columns]"
      ]
     },
     "execution_count": 34,
     "metadata": {},
     "output_type": "execute_result"
    }
   ],
   "source": [
    "df_test"
   ]
  },
  {
   "cell_type": "code",
   "execution_count": 36,
   "id": "14c26901",
   "metadata": {},
   "outputs": [],
   "source": [
    "XT_de=df_test[DE]"
   ]
  },
  {
   "cell_type": "code",
   "execution_count": 37,
   "id": "4d938f3b",
   "metadata": {},
   "outputs": [],
   "source": [
    "XT_all=df_test[ALL]"
   ]
  },
  {
   "cell_type": "code",
   "execution_count": 38,
   "id": "925b3195",
   "metadata": {},
   "outputs": [],
   "source": [
    "XT_ec=df_test[XX_EC]\n",
    "XT_cpi=df_test[XX_CPI]\n",
    "XT_dpi=df_test[XX_DPI]"
   ]
  },
  {
   "cell_type": "code",
   "execution_count": 44,
   "id": "2e1cdf79",
   "metadata": {},
   "outputs": [
    {
     "name": "stdout",
     "output_type": "stream",
     "text": [
      "Result (Test)\n",
      "MAE : 0.05332\n"
     ]
    },
    {
     "data": {
      "image/png": "[encoded data removed]",
      "text/plain": [
       "<Figure size 432x288 with 1 Axes>"
      ]
     },
     "metadata": {
      "needs_background": "light"
     },
     "output_type": "display_data"
    },
    {
     "name": "stdout",
     "output_type": "stream",
     "text": [
      "-0.0069230769230769285\n"
     ]
    }
   ],
   "source": [
    "filename = 'xxallxgbcpi.sav'\n",
    "model_CPI = joblib.load(filename)\n",
    "model=model_CPI\n",
    "\n",
    "variable=df_test['CPI']\n",
    "\n",
    "df_test_ref=XT_all\n",
    "y_pred = model.predict(df_test_ref)\n",
    "y_pred= pd.DataFrame(y_pred)\n",
    "df_test['output']=y_pred\n",
    "output=df_test['output']\n",
    "mae_var = MAE(variable, output)\n",
    "print('Result (Test)')\n",
    "print(\"MAE : %.5f\" %(mae_var))\n",
    "result = pd.DataFrame()\n",
    "result['Y_True'] = variable\n",
    "result['Y_Pred'] = output\n",
    "result['Error'] = (result['Y_True'] - result['Y_Pred']).round(2)\n",
    "plt.hist(result['Error'], bins=20)\n",
    "plt.axvline(0.1, color='k', linestyle='dashed', linewidth=1)\n",
    "plt.axvline(-0.1, color='k', linestyle='dashed', linewidth=1)\n",
    "plt.title('Distribution of Error')\n",
    "plt.xlabel('Error')\n",
    "plt.ylabel('Frequency')\n",
    "plt.show()\n",
    "print(mean(result['Error']))"
   ]
  },
  {
   "cell_type": "code",
   "execution_count": 45,
   "id": "4792810d",
   "metadata": {},
   "outputs": [
    {
     "name": "stdout",
     "output_type": "stream",
     "text": [
      "Result (Test)\n",
      "MAE : 0.05011\n"
     ]
    },
    {
     "data": {
      "image/png": "[encoded data removed]",
      "text/plain": [
       "<Figure size 432x288 with 1 Axes>"
      ]
     },
     "metadata": {
      "needs_background": "light"
     },
     "output_type": "display_data"
    },
    {
     "name": "stdout",
     "output_type": "stream",
     "text": [
      "-0.003076923076923077\n"
     ]
    }
   ],
   "source": [
    "filename = 'xxdexgbcpi.sav'\n",
    "model_CPI = joblib.load(filename)\n",
    "model=model_CPI\n",
    "\n",
    "variable=df_test['CPI']\n",
    "\n",
    "df_test_ref=XT_de\n",
    "y_pred = model.predict(df_test_ref)\n",
    "y_pred= pd.DataFrame(y_pred)\n",
    "df_test['output']=y_pred\n",
    "output=df_test['output']\n",
    "mae_var = MAE(variable, output)\n",
    "print('Result (Test)')\n",
    "print(\"MAE : %.5f\" %(mae_var))\n",
    "result = pd.DataFrame()\n",
    "result['Y_True'] = variable\n",
    "result['Y_Pred'] = output\n",
    "result['Error'] = (result['Y_True'] - result['Y_Pred']).round(2)\n",
    "plt.hist(result['Error'], bins=20)\n",
    "plt.axvline(0.1, color='k', linestyle='dashed', linewidth=1)\n",
    "plt.axvline(-0.1, color='k', linestyle='dashed', linewidth=1)\n",
    "plt.title('Distribution of Error')\n",
    "plt.xlabel('Error')\n",
    "plt.ylabel('Frequency')\n",
    "plt.show()\n",
    "print(mean(result['Error']))"
   ]
  },
  {
   "cell_type": "code",
   "execution_count": 47,
   "id": "47b0fd57",
   "metadata": {},
   "outputs": [
    {
     "name": "stdout",
     "output_type": "stream",
     "text": [
      "Result (Test)\n",
      "MAE : 0.06146\n"
     ]
    },
    {
     "data": {
      "image/png": "[encoded data removed]",
      "text/plain": [
       "<Figure size 432x288 with 1 Axes>"
      ]
     },
     "metadata": {
      "needs_background": "light"
     },
     "output_type": "display_data"
    },
    {
     "name": "stdout",
     "output_type": "stream",
     "text": [
      "-0.01230769230769231\n"
     ]
    }
   ],
   "source": [
    "filename = 'xxcpixgbcpi.sav'\n",
    "model_CPI = joblib.load(filename)\n",
    "model=model_CPI\n",
    "\n",
    "variable=df_test['CPI']\n",
    "\n",
    "df_test_ref=XT_cpi\n",
    "y_pred = model.predict(df_test_ref)\n",
    "y_pred= pd.DataFrame(y_pred)\n",
    "df_test['output']=y_pred\n",
    "output=df_test['output']\n",
    "mae_var = MAE(variable, output)\n",
    "print('Result (Test)')\n",
    "print(\"MAE : %.5f\" %(mae_var))\n",
    "result = pd.DataFrame()\n",
    "result['Y_True'] = variable\n",
    "result['Y_Pred'] = output\n",
    "result['Error'] = (result['Y_True'] - result['Y_Pred']).round(2)\n",
    "plt.hist(result['Error'], bins=20)\n",
    "plt.axvline(0.1, color='k', linestyle='dashed', linewidth=1)\n",
    "plt.axvline(-0.1, color='k', linestyle='dashed', linewidth=1)\n",
    "plt.title('Distribution of Error')\n",
    "plt.xlabel('Error')\n",
    "plt.ylabel('Frequency')\n",
    "plt.show()\n",
    "print(mean(result['Error']))"
   ]
  },
  {
   "cell_type": "code",
   "execution_count": 51,
   "id": "07f52c26",
   "metadata": {},
   "outputs": [
    {
     "name": "stdout",
     "output_type": "stream",
     "text": [
      "Result (Test)\n",
      "MAE : 1.99454\n"
     ]
    },
    {
     "data": {
      "image/png": "[encoded data removed]",
      "text/plain": [
       "<Figure size 432x288 with 1 Axes>"
      ]
     },
     "metadata": {
      "needs_background": "light"
     },
     "output_type": "display_data"
    },
    {
     "name": "stdout",
     "output_type": "stream",
     "text": [
      "-0.5438461538461539\n"
     ]
    }
   ],
   "source": [
    "filename = 'xxallxgbdpi.sav'\n",
    "model = joblib.load(filename)\n",
    "\n",
    "\n",
    "variable=df_test['DPI']\n",
    "\n",
    "df_test_ref=XT_all\n",
    "y_pred = model.predict(df_test_ref)\n",
    "y_pred= pd.DataFrame(y_pred)\n",
    "df_test['output']=y_pred\n",
    "output=df_test['output']\n",
    "mae_var = MAE(variable, output)\n",
    "print('Result (Test)')\n",
    "print(\"MAE : %.5f\" %(mae_var))\n",
    "result = pd.DataFrame()\n",
    "result['Y_True'] = variable\n",
    "result['Y_Pred'] = output\n",
    "result['Error'] = (result['Y_True'] - result['Y_Pred']).round(2)\n",
    "plt.hist(result['Error'], bins=20)\n",
    "plt.axvline(0.1, color='k', linestyle='dashed', linewidth=1)\n",
    "plt.axvline(-0.1, color='k', linestyle='dashed', linewidth=1)\n",
    "plt.title('Distribution of Error')\n",
    "plt.xlabel('Error')\n",
    "plt.ylabel('Frequency')\n",
    "plt.show()\n",
    "print(mean(result['Error']))"
   ]
  },
  {
   "cell_type": "code",
   "execution_count": 52,
   "id": "d46df7a7",
   "metadata": {},
   "outputs": [
    {
     "name": "stdout",
     "output_type": "stream",
     "text": [
      "Result (Test)\n",
      "MAE : 1.84826\n"
     ]
    },
    {
     "data": {
      "image/png": "[encoded data removed]",
      "text/plain": [
       "<Figure size 432x288 with 1 Axes>"
      ]
     },
     "metadata": {
      "needs_background": "light"
     },
     "output_type": "display_data"
    },
    {
     "name": "stdout",
     "output_type": "stream",
     "text": [
      "-0.6407692307692306\n"
     ]
    }
   ],
   "source": [
    "filename = 'xxdexgbdpi.sav'\n",
    "model = joblib.load(filename)\n",
    "\n",
    "\n",
    "variable=df_test['DPI']\n",
    "\n",
    "df_test_ref=XT_de\n",
    "y_pred = model.predict(df_test_ref)\n",
    "y_pred= pd.DataFrame(y_pred)\n",
    "df_test['output']=y_pred\n",
    "output=df_test['output']\n",
    "mae_var = MAE(variable, output)\n",
    "print('Result (Test)')\n",
    "print(\"MAE : %.5f\" %(mae_var))\n",
    "result = pd.DataFrame()\n",
    "result['Y_True'] = variable\n",
    "result['Y_Pred'] = output\n",
    "result['Error'] = (result['Y_True'] - result['Y_Pred']).round(2)\n",
    "plt.hist(result['Error'], bins=20)\n",
    "plt.axvline(0.1, color='k', linestyle='dashed', linewidth=1)\n",
    "plt.axvline(-0.1, color='k', linestyle='dashed', linewidth=1)\n",
    "plt.title('Distribution of Error')\n",
    "plt.xlabel('Error')\n",
    "plt.ylabel('Frequency')\n",
    "plt.show()\n",
    "print(mean(result['Error']))"
   ]
  },
  {
   "cell_type": "code",
   "execution_count": 53,
   "id": "4a7dda95",
   "metadata": {},
   "outputs": [
    {
     "name": "stdout",
     "output_type": "stream",
     "text": [
      "Result (Test)\n",
      "MAE : 1.81316\n"
     ]
    },
    {
     "data": {
      "image/png": "[encoded data removed]",
      "text/plain": [
       "<Figure size 432x288 with 1 Axes>"
      ]
     },
     "metadata": {
      "needs_background": "light"
     },
     "output_type": "display_data"
    },
    {
     "name": "stdout",
     "output_type": "stream",
     "text": [
      "-0.3700000000000001\n"
     ]
    }
   ],
   "source": [
    "filename = 'xxdpixgbdpi.sav'\n",
    "model = joblib.load(filename)\n",
    "\n",
    "\n",
    "variable=df_test['DPI']\n",
    "\n",
    "df_test_ref=XT_dpi\n",
    "y_pred = model.predict(df_test_ref)\n",
    "y_pred= pd.DataFrame(y_pred)\n",
    "df_test['output']=y_pred\n",
    "output=df_test['output']\n",
    "mae_var = MAE(variable, output)\n",
    "print('Result (Test)')\n",
    "print(\"MAE : %.5f\" %(mae_var))\n",
    "result = pd.DataFrame()\n",
    "result['Y_True'] = variable\n",
    "result['Y_Pred'] = output\n",
    "result['Error'] = (result['Y_True'] - result['Y_Pred']).round(2)\n",
    "plt.hist(result['Error'], bins=20)\n",
    "plt.axvline(0.1, color='k', linestyle='dashed', linewidth=1)\n",
    "plt.axvline(-0.1, color='k', linestyle='dashed', linewidth=1)\n",
    "plt.title('Distribution of Error')\n",
    "plt.xlabel('Error')\n",
    "plt.ylabel('Frequency')\n",
    "plt.show()\n",
    "print(mean(result['Error']))"
   ]
  },
  {
   "cell_type": "code",
   "execution_count": 54,
   "id": "22404752",
   "metadata": {},
   "outputs": [
    {
     "name": "stdout",
     "output_type": "stream",
     "text": [
      "Result (Test)\n",
      "MAE : 0.04530\n"
     ]
    },
    {
     "data": {
      "image/png": "[encoded data removed]",
      "text/plain": [
       "<Figure size 432x288 with 1 Axes>"
      ]
     },
     "metadata": {
      "needs_background": "light"
     },
     "output_type": "display_data"
    },
    {
     "name": "stdout",
     "output_type": "stream",
     "text": [
      "-0.014615384615384615\n"
     ]
    }
   ],
   "source": [
    "filename = 'xxallxgbec.sav'\n",
    "model = joblib.load(filename)\n",
    "\n",
    "\n",
    "variable=df_test['EC']\n",
    "\n",
    "df_test_ref=XT_all\n",
    "y_pred = model.predict(df_test_ref)\n",
    "y_pred= pd.DataFrame(y_pred)\n",
    "df_test['output']=y_pred\n",
    "output=df_test['output']\n",
    "mae_var = MAE(variable, output)\n",
    "print('Result (Test)')\n",
    "print(\"MAE : %.5f\" %(mae_var))\n",
    "result = pd.DataFrame()\n",
    "result['Y_True'] = variable\n",
    "result['Y_Pred'] = output\n",
    "result['Error'] = (result['Y_True'] - result['Y_Pred']).round(2)\n",
    "plt.hist(result['Error'], bins=20)\n",
    "plt.axvline(0.1, color='k', linestyle='dashed', linewidth=1)\n",
    "plt.axvline(-0.1, color='k', linestyle='dashed', linewidth=1)\n",
    "plt.title('Distribution of Error')\n",
    "plt.xlabel('Error')\n",
    "plt.ylabel('Frequency')\n",
    "plt.show()\n",
    "print(mean(result['Error']))"
   ]
  },
  {
   "cell_type": "code",
   "execution_count": 55,
   "id": "f480b8dd",
   "metadata": {},
   "outputs": [
    {
     "name": "stdout",
     "output_type": "stream",
     "text": [
      "Result (Test)\n",
      "MAE : 0.04732\n"
     ]
    },
    {
     "data": {
      "image/png": "[encoded data removed]",
      "text/plain": [
       "<Figure size 432x288 with 1 Axes>"
      ]
     },
     "metadata": {
      "needs_background": "light"
     },
     "output_type": "display_data"
    },
    {
     "name": "stdout",
     "output_type": "stream",
     "text": [
      "-0.016923076923076916\n"
     ]
    }
   ],
   "source": [
    "filename = 'xxdexgbec.sav'\n",
    "model = joblib.load(filename)\n",
    "\n",
    "\n",
    "variable=df_test['EC']\n",
    "\n",
    "df_test_ref=XT_de\n",
    "y_pred = model.predict(df_test_ref)\n",
    "y_pred= pd.DataFrame(y_pred)\n",
    "df_test['output']=y_pred\n",
    "output=df_test['output']\n",
    "mae_var = MAE(variable, output)\n",
    "print('Result (Test)')\n",
    "print(\"MAE : %.5f\" %(mae_var))\n",
    "result = pd.DataFrame()\n",
    "result['Y_True'] = variable\n",
    "result['Y_Pred'] = output\n",
    "result['Error'] = (result['Y_True'] - result['Y_Pred']).round(2)\n",
    "plt.hist(result['Error'], bins=20)\n",
    "plt.axvline(0.1, color='k', linestyle='dashed', linewidth=1)\n",
    "plt.axvline(-0.1, color='k', linestyle='dashed', linewidth=1)\n",
    "plt.title('Distribution of Error')\n",
    "plt.xlabel('Error')\n",
    "plt.ylabel('Frequency')\n",
    "plt.show()\n",
    "print(mean(result['Error']))"
   ]
  },
  {
   "cell_type": "code",
   "execution_count": 56,
   "id": "c8cfa71f",
   "metadata": {},
   "outputs": [
    {
     "name": "stdout",
     "output_type": "stream",
     "text": [
      "Result (Test)\n",
      "MAE : 0.04799\n"
     ]
    },
    {
     "data": {
      "image/png": "[encoded data removed]",
      "text/plain": [
       "<Figure size 432x288 with 1 Axes>"
      ]
     },
     "metadata": {
      "needs_background": "light"
     },
     "output_type": "display_data"
    },
    {
     "name": "stdout",
     "output_type": "stream",
     "text": [
      "-0.017692307692307688\n"
     ]
    }
   ],
   "source": [
    "filename = 'xxecxgbec.sav'\n",
    "model = joblib.load(filename)\n",
    "\n",
    "\n",
    "variable=df_test['EC']\n",
    "\n",
    "df_test_ref=XT_ec\n",
    "y_pred = model.predict(df_test_ref)\n",
    "y_pred= pd.DataFrame(y_pred)\n",
    "df_test['output']=y_pred\n",
    "output=df_test['output']\n",
    "mae_var = MAE(variable, output)\n",
    "print('Result (Test)')\n",
    "print(\"MAE : %.5f\" %(mae_var))\n",
    "result = pd.DataFrame()\n",
    "result['Y_True'] = variable\n",
    "result['Y_Pred'] = output\n",
    "result['Error'] = (result['Y_True'] - result['Y_Pred']).round(2)\n",
    "plt.hist(result['Error'], bins=20)\n",
    "plt.axvline(0.1, color='k', linestyle='dashed', linewidth=1)\n",
    "plt.axvline(-0.1, color='k', linestyle='dashed', linewidth=1)\n",
    "plt.title('Distribution of Error')\n",
    "plt.xlabel('Error')\n",
    "plt.ylabel('Frequency')\n",
    "plt.show()\n",
    "print(mean(result['Error']))"
   ]
  },
  {
   "cell_type": "code",
   "execution_count": 57,
   "id": "4fb7ebcf",
   "metadata": {},
   "outputs": [
    {
     "name": "stdout",
     "output_type": "stream",
     "text": [
      "Result (Test)\n",
      "MAE : 0.03276\n"
     ]
    },
    {
     "data": {
      "image/png": "[encoded data removed]",
      "text/plain": [
       "<Figure size 432x288 with 1 Axes>"
      ]
     },
     "metadata": {
      "needs_background": "light"
     },
     "output_type": "display_data"
    },
    {
     "name": "stdout",
     "output_type": "stream",
     "text": [
      "-0.005384615384615387\n"
     ]
    }
   ],
   "source": [
    "filename = 'xxeclrec.sav'\n",
    "model = joblib.load(filename)\n",
    "\n",
    "\n",
    "variable=df_test['EC']\n",
    "\n",
    "df_test_ref=XT_ec\n",
    "y_pred = model.predict(df_test_ref)\n",
    "y_pred= pd.DataFrame(y_pred)\n",
    "df_test['output']=y_pred\n",
    "output=df_test['output']\n",
    "mae_var = MAE(variable, output)\n",
    "print('Result (Test)')\n",
    "print(\"MAE : %.5f\" %(mae_var))\n",
    "result = pd.DataFrame()\n",
    "result['Y_True'] = variable\n",
    "result['Y_Pred'] = output\n",
    "result['Error'] = (result['Y_True'] - result['Y_Pred']).round(2)\n",
    "plt.hist(result['Error'], bins=20)\n",
    "plt.axvline(0.1, color='k', linestyle='dashed', linewidth=1)\n",
    "plt.axvline(-0.1, color='k', linestyle='dashed', linewidth=1)\n",
    "plt.title('Distribution of Error')\n",
    "plt.xlabel('Error')\n",
    "plt.ylabel('Frequency')\n",
    "plt.show()\n",
    "print(mean(result['Error']))"
   ]
  },
  {
   "cell_type": "code",
   "execution_count": null,
   "id": "3e466b20",
   "metadata": {},
   "outputs": [],
   "source": []
  }
 ],
 "metadata": {
  "kernelspec": {
   "display_name": "Python 3 (ipykernel)",
   "language": "python",
   "name": "python3"
  },
  "language_info": {
   "codemirror_mode": {
    "name": "ipython",
    "version": 3
   },
   "file_extension": ".py",
   "mimetype": "text/x-python",
   "name": "python",
   "nbconvert_exporter": "python",
   "pygments_lexer": "ipython3",
   "version": "3.7.6"
  }
 },
 "nbformat": 4,
 "nbformat_minor": 5
}

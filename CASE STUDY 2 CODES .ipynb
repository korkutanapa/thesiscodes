{
 "cells": [
  {
   "cell_type": "markdown",
   "id": "10c634c0",
   "metadata": {},
   "source": [
    "# Thesis Codes "
   ]
  },
  {
   "cell_type": "markdown",
   "id": "0d32ebd5",
   "metadata": {},
   "source": [
    "## Case Study 2 - Selecting the Cleaning Cycle AWASH PROJECT"
   ]
  },
  {
   "cell_type": "code",
   "execution_count": 1,
   "id": "25ced4b3",
   "metadata": {},
   "outputs": [],
   "source": [
    "import numpy as np\n",
    "import pandas as pd\n",
    "import statsmodels.api as sm\n",
    "from sklearn.model_selection import train_test_split\n",
    "from sklearn.linear_model import LinearRegression\n",
    "from sklearn.feature_selection import RFE\n",
    "from sklearn.linear_model import RidgeCV, LassoCV, Ridge, Lasso\n",
    "from catboost import CatBoostRegressor\n",
    "from sklearn.ensemble import GradientBoostingRegressor\n",
    "from sklearn.ensemble import RandomForestRegressor\n",
    "from numpy import mean\n",
    "from numpy import std\n",
    "from sklearn.datasets import make_regression\n",
    "from sklearn.model_selection import cross_val_score\n",
    "from sklearn.model_selection import RepeatedKFold\n",
    "from sklearn.linear_model import LinearRegression\n",
    "from sklearn.ensemble import StackingRegressor\n",
    "from matplotlib import pyplot\n",
    "from sklearn.preprocessing import StandardScaler\n",
    "from sklearn.pipeline import Pipeline\n",
    "from sklearn.preprocessing import PolynomialFeatures\n",
    "from sklearn.linear_model import LinearRegression\n",
    "from sklearn.tree import DecisionTreeRegressor\n",
    "from sklearn.neighbors import KNeighborsRegressor\n",
    "from xgboost import XGBRegressor\n",
    "from sklearn.linear_model import ElasticNetCV, ElasticNet\n",
    "from sklearn.compose import make_column_selector as selector\n",
    "from sklearn.preprocessing import OneHotEncoder\n",
    "from sklearn.metrics import mean_squared_error\n",
    "from sklearn.model_selection import cross_val_score\n",
    "from sklearn.cross_decomposition import PLSRegression\n",
    "from sklearn.model_selection import train_test_split\n",
    "from sklearn.linear_model import LinearRegression\n",
    "from sklearn.feature_selection import RFE\n",
    "from sklearn.linear_model import RidgeCV, LassoCV, Ridge, Lasso\n",
    "from catboost import CatBoostRegressor\n",
    "from sklearn.ensemble import GradientBoostingRegressor\n",
    "from sklearn.ensemble import RandomForestRegressor\n",
    "from sklearn.datasets import make_regression\n",
    "from sklearn.model_selection import cross_val_score\n",
    "from sklearn.model_selection import RepeatedKFold\n",
    "from sklearn.linear_model import LinearRegression\n",
    "from sklearn.ensemble import StackingRegressor\n",
    "from matplotlib import pyplot\n",
    "from sklearn.preprocessing import StandardScaler\n",
    "from sklearn.pipeline import Pipeline\n",
    "from sklearn.preprocessing import PolynomialFeatures\n",
    "from sklearn.linear_model import LinearRegression\n",
    "from sklearn.tree import DecisionTreeRegressor\n",
    "from sklearn.neighbors import KNeighborsRegressor\n",
    "from xgboost import XGBRegressor\n",
    "from sklearn.linear_model import ElasticNetCV, ElasticNet\n",
    "from sklearn.compose import make_column_selector as selector\n",
    "from sklearn.preprocessing import OneHotEncoder"
   ]
  },
  {
   "cell_type": "markdown",
   "id": "3199ce91",
   "metadata": {},
   "source": [
    "The independent variables are selected by the DOMAIN EXPERT. \n",
    "\n",
    "We have to study another model by these variables."
   ]
  },
  {
   "cell_type": "code",
   "execution_count": 2,
   "id": "7ed5007c",
   "metadata": {},
   "outputs": [],
   "source": [
    "XX_AWASH=['1OYSum of WI' , '1OYMax of DEVIR', '2AYSum of WI' , '2AYMax of DEVIR' , \n",
    "          '2AYMax of TEMP' , '4SGDSum of WI',  '4SGDMax of DEVIR' ,  '7SCD2Sum of WI' , '7SCD2Max of DEVIR' , '7SCD2Max of TEMP']"
   ]
  },
  {
   "cell_type": "code",
   "execution_count": 3,
   "id": "8acba860",
   "metadata": {},
   "outputs": [],
   "source": [
    "df= pd.read_excel('D:/THESIS_DATA/ANALYSIS_DATA_THESIS/DB_SO_60.xlsx')"
   ]
  },
  {
   "cell_type": "code",
   "execution_count": 4,
   "id": "0960372e",
   "metadata": {},
   "outputs": [],
   "source": [
    "y_CPI = df['CPI']\n",
    "y_DPI= df['DPI']\n",
    "y_EC =df['EC']\n",
    "y_T=df['T']"
   ]
  },
  {
   "cell_type": "code",
   "execution_count": 5,
   "id": "809a2512",
   "metadata": {},
   "outputs": [],
   "source": [
    "XX=df[XX_AWASH]\n",
    "y=y_CPI"
   ]
  },
  {
   "cell_type": "markdown",
   "id": "f2804c4f",
   "metadata": {},
   "source": [
    "model XGB CPI"
   ]
  },
  {
   "cell_type": "code",
   "execution_count": 6,
   "id": "3ce59178",
   "metadata": {},
   "outputs": [
    {
     "name": "stdout",
     "output_type": "stream",
     "text": [
      " 0.067 33.279\n"
     ]
    }
   ],
   "source": [
    "model=XGBRegressor(n_estimators=100, max_depth=7, eta=0.3, subsample=0.7, colsample_bytree=0.8)\n",
    "model.fit(XX, y)\n",
    "cv = RepeatedKFold(n_splits=5, n_repeats=3, random_state=79)\n",
    "scores1 = cross_val_score(model,XX, y, scoring='neg_mean_absolute_error', cv=cv, n_jobs=-1, error_score='raise')\n",
    "scores3 = cross_val_score(model,XX, y, scoring='r2', cv=cv, n_jobs=-1, error_score='raise')\n",
    "print(' %.3f %.3f' % (-mean(scores1),  100*mean(scores3)))"
   ]
  },
  {
   "cell_type": "code",
   "execution_count": 7,
   "id": "f98e3d76",
   "metadata": {},
   "outputs": [],
   "source": [
    "model_CPI=model"
   ]
  },
  {
   "cell_type": "code",
   "execution_count": 8,
   "id": "40a17242",
   "metadata": {},
   "outputs": [
    {
     "name": "stdout",
     "output_type": "stream",
     "text": [
      " 3.195 66.756\n"
     ]
    }
   ],
   "source": [
    "XX=df[XX_AWASH]\n",
    "y=y_DPI\n",
    "model=XGBRegressor(n_estimators=100, max_depth=7, eta=0.3, subsample=0.7, colsample_bytree=0.8)\n",
    "model.fit(XX, y)\n",
    "cv = RepeatedKFold(n_splits=5, n_repeats=3, random_state=79)\n",
    "scores1 = cross_val_score(model,XX, y, scoring='neg_mean_absolute_error', cv=cv, n_jobs=-1, error_score='raise')\n",
    "scores3 = cross_val_score(model,XX, y, scoring='r2', cv=cv, n_jobs=-1, error_score='raise')\n",
    "print(' %.3f %.3f' % (-mean(scores1),  100*mean(scores3)))\n",
    "model_DPI=model"
   ]
  },
  {
   "cell_type": "code",
   "execution_count": 9,
   "id": "a76535f5",
   "metadata": {},
   "outputs": [
    {
     "name": "stdout",
     "output_type": "stream",
     "text": [
      " 0.038 82.590\n"
     ]
    }
   ],
   "source": [
    "XX=df[XX_AWASH]\n",
    "y=y_EC\n",
    "model=XGBRegressor(n_estimators=100, max_depth=7, eta=0.3, subsample=0.7, colsample_bytree=0.8)\n",
    "model.fit(XX, y)\n",
    "cv = RepeatedKFold(n_splits=5, n_repeats=3, random_state=79)\n",
    "scores1 = cross_val_score(model,XX, y, scoring='neg_mean_absolute_error', cv=cv, n_jobs=-1, error_score='raise')\n",
    "scores3 = cross_val_score(model,XX, y, scoring='r2', cv=cv, n_jobs=-1, error_score='raise')\n",
    "print(' %.3f %.3f' % (-mean(scores1),  100*mean(scores3)))\n",
    "model_EC=model"
   ]
  },
  {
   "cell_type": "code",
   "execution_count": 10,
   "id": "2e02ac39",
   "metadata": {},
   "outputs": [
    {
     "name": "stdout",
     "output_type": "stream",
     "text": [
      " 8.681 91.494\n"
     ]
    }
   ],
   "source": [
    "XX=df[XX_AWASH]\n",
    "y=y_T\n",
    "model=XGBRegressor(n_estimators=100, max_depth=7, eta=0.3, subsample=0.7, colsample_bytree=0.8)\n",
    "model.fit(XX, y)\n",
    "cv = RepeatedKFold(n_splits=5, n_repeats=3, random_state=79)\n",
    "scores1 = cross_val_score(model,XX, y, scoring='neg_mean_absolute_error', cv=cv, n_jobs=-1, error_score='raise')\n",
    "scores3 = cross_val_score(model,XX, y, scoring='r2', cv=cv, n_jobs=-1, error_score='raise')\n",
    "print(' %.3f %.3f' % (-mean(scores1),  100*mean(scores3)))\n",
    "model_T=model"
   ]
  },
  {
   "cell_type": "markdown",
   "id": "5ae96022",
   "metadata": {},
   "source": [
    "Predicting the outputs for 1 million trials"
   ]
  },
  {
   "cell_type": "code",
   "execution_count": 11,
   "id": "ae3854b5",
   "metadata": {},
   "outputs": [],
   "source": [
    "df_test = pd.read_csv('D:\\THESIS_DATA\\Inputs_Intensive\\Inputs_Intensive.csv')"
   ]
  },
  {
   "cell_type": "code",
   "execution_count": 12,
   "id": "c64a95ab",
   "metadata": {},
   "outputs": [],
   "source": [
    "df_test=df_test[XX_AWASH]"
   ]
  },
  {
   "cell_type": "markdown",
   "id": "7d9b9543",
   "metadata": {},
   "source": [
    "Finding the cleaning cycle for targeted outputs"
   ]
  },
  {
   "cell_type": "code",
   "execution_count": 21,
   "id": "e7adab11",
   "metadata": {},
   "outputs": [],
   "source": [
    "CPI_target=3.55\n",
    "DPI_target=81\n",
    "EC_target=1.23\n",
    "T_target=140"
   ]
  },
  {
   "cell_type": "code",
   "execution_count": 22,
   "id": "8de7a799",
   "metadata": {},
   "outputs": [
    {
     "data": {
      "text/html": [
       "<div>\n",
       "<style scoped>\n",
       "    .dataframe tbody tr th:only-of-type {\n",
       "        vertical-align: middle;\n",
       "    }\n",
       "\n",
       "    .dataframe tbody tr th {\n",
       "        vertical-align: top;\n",
       "    }\n",
       "\n",
       "    .dataframe thead th {\n",
       "        text-align: right;\n",
       "    }\n",
       "</style>\n",
       "<table border=\"1\" class=\"dataframe\">\n",
       "  <thead>\n",
       "    <tr style=\"text-align: right;\">\n",
       "      <th></th>\n",
       "      <th>CPI</th>\n",
       "    </tr>\n",
       "  </thead>\n",
       "  <tbody>\n",
       "    <tr>\n",
       "      <th>count</th>\n",
       "      <td>1.048575e+06</td>\n",
       "    </tr>\n",
       "    <tr>\n",
       "      <th>mean</th>\n",
       "      <td>3.272213e+00</td>\n",
       "    </tr>\n",
       "    <tr>\n",
       "      <th>std</th>\n",
       "      <td>7.224303e-02</td>\n",
       "    </tr>\n",
       "    <tr>\n",
       "      <th>min</th>\n",
       "      <td>3.164373e+00</td>\n",
       "    </tr>\n",
       "    <tr>\n",
       "      <th>25%</th>\n",
       "      <td>3.211558e+00</td>\n",
       "    </tr>\n",
       "    <tr>\n",
       "      <th>50%</th>\n",
       "      <td>3.245001e+00</td>\n",
       "    </tr>\n",
       "    <tr>\n",
       "      <th>75%</th>\n",
       "      <td>3.317495e+00</td>\n",
       "    </tr>\n",
       "    <tr>\n",
       "      <th>max</th>\n",
       "      <td>3.555419e+00</td>\n",
       "    </tr>\n",
       "  </tbody>\n",
       "</table>\n",
       "</div>"
      ],
      "text/plain": [
       "                CPI\n",
       "count  1.048575e+06\n",
       "mean   3.272213e+00\n",
       "std    7.224303e-02\n",
       "min    3.164373e+00\n",
       "25%    3.211558e+00\n",
       "50%    3.245001e+00\n",
       "75%    3.317495e+00\n",
       "max    3.555419e+00"
      ]
     },
     "execution_count": 22,
     "metadata": {},
     "output_type": "execute_result"
    }
   ],
   "source": [
    "y_pred_CPI = model_CPI.predict(df_test)\n",
    "y_pred_CPI= pd.DataFrame(y_pred_CPI,columns=['CPI'])\n",
    "indicescpi = y_pred_CPI.index[y_pred_CPI['CPI']>CPI_target].tolist()\n",
    "y_pred_CPI.describe()"
   ]
  },
  {
   "cell_type": "code",
   "execution_count": 23,
   "id": "9aebce11",
   "metadata": {},
   "outputs": [
    {
     "data": {
      "text/html": [
       "<div>\n",
       "<style scoped>\n",
       "    .dataframe tbody tr th:only-of-type {\n",
       "        vertical-align: middle;\n",
       "    }\n",
       "\n",
       "    .dataframe tbody tr th {\n",
       "        vertical-align: top;\n",
       "    }\n",
       "\n",
       "    .dataframe thead th {\n",
       "        text-align: right;\n",
       "    }\n",
       "</style>\n",
       "<table border=\"1\" class=\"dataframe\">\n",
       "  <thead>\n",
       "    <tr style=\"text-align: right;\">\n",
       "      <th></th>\n",
       "      <th>DPI</th>\n",
       "    </tr>\n",
       "  </thead>\n",
       "  <tbody>\n",
       "    <tr>\n",
       "      <th>count</th>\n",
       "      <td>1.048575e+06</td>\n",
       "    </tr>\n",
       "    <tr>\n",
       "      <th>mean</th>\n",
       "      <td>8.153495e+01</td>\n",
       "    </tr>\n",
       "    <tr>\n",
       "      <th>std</th>\n",
       "      <td>1.173769e+00</td>\n",
       "    </tr>\n",
       "    <tr>\n",
       "      <th>min</th>\n",
       "      <td>7.898279e+01</td>\n",
       "    </tr>\n",
       "    <tr>\n",
       "      <th>25%</th>\n",
       "      <td>8.119196e+01</td>\n",
       "    </tr>\n",
       "    <tr>\n",
       "      <th>50%</th>\n",
       "      <td>8.179439e+01</td>\n",
       "    </tr>\n",
       "    <tr>\n",
       "      <th>75%</th>\n",
       "      <td>8.254981e+01</td>\n",
       "    </tr>\n",
       "    <tr>\n",
       "      <th>max</th>\n",
       "      <td>8.528699e+01</td>\n",
       "    </tr>\n",
       "  </tbody>\n",
       "</table>\n",
       "</div>"
      ],
      "text/plain": [
       "                DPI\n",
       "count  1.048575e+06\n",
       "mean   8.153495e+01\n",
       "std    1.173769e+00\n",
       "min    7.898279e+01\n",
       "25%    8.119196e+01\n",
       "50%    8.179439e+01\n",
       "75%    8.254981e+01\n",
       "max    8.528699e+01"
      ]
     },
     "execution_count": 23,
     "metadata": {},
     "output_type": "execute_result"
    }
   ],
   "source": [
    "y_pred_DPI = model_DPI.predict(df_test)\n",
    "y_pred_DPI= pd.DataFrame(y_pred_DPI,columns=['DPI'])\n",
    "indicesdpi = y_pred_DPI.index[y_pred_DPI['DPI']>DPI_target].tolist()\n",
    "y_pred_DPI.describe()"
   ]
  },
  {
   "cell_type": "code",
   "execution_count": 24,
   "id": "16e34d4d",
   "metadata": {},
   "outputs": [
    {
     "data": {
      "text/html": [
       "<div>\n",
       "<style scoped>\n",
       "    .dataframe tbody tr th:only-of-type {\n",
       "        vertical-align: middle;\n",
       "    }\n",
       "\n",
       "    .dataframe tbody tr th {\n",
       "        vertical-align: top;\n",
       "    }\n",
       "\n",
       "    .dataframe thead th {\n",
       "        text-align: right;\n",
       "    }\n",
       "</style>\n",
       "<table border=\"1\" class=\"dataframe\">\n",
       "  <thead>\n",
       "    <tr style=\"text-align: right;\">\n",
       "      <th></th>\n",
       "      <th>EC</th>\n",
       "    </tr>\n",
       "  </thead>\n",
       "  <tbody>\n",
       "    <tr>\n",
       "      <th>count</th>\n",
       "      <td>1.048575e+06</td>\n",
       "    </tr>\n",
       "    <tr>\n",
       "      <th>mean</th>\n",
       "      <td>1.115491e+00</td>\n",
       "    </tr>\n",
       "    <tr>\n",
       "      <th>std</th>\n",
       "      <td>4.739527e-02</td>\n",
       "    </tr>\n",
       "    <tr>\n",
       "      <th>min</th>\n",
       "      <td>1.011126e+00</td>\n",
       "    </tr>\n",
       "    <tr>\n",
       "      <th>25%</th>\n",
       "      <td>1.076086e+00</td>\n",
       "    </tr>\n",
       "    <tr>\n",
       "      <th>50%</th>\n",
       "      <td>1.109756e+00</td>\n",
       "    </tr>\n",
       "    <tr>\n",
       "      <th>75%</th>\n",
       "      <td>1.152865e+00</td>\n",
       "    </tr>\n",
       "    <tr>\n",
       "      <th>max</th>\n",
       "      <td>1.236852e+00</td>\n",
       "    </tr>\n",
       "  </tbody>\n",
       "</table>\n",
       "</div>"
      ],
      "text/plain": [
       "                 EC\n",
       "count  1.048575e+06\n",
       "mean   1.115491e+00\n",
       "std    4.739527e-02\n",
       "min    1.011126e+00\n",
       "25%    1.076086e+00\n",
       "50%    1.109756e+00\n",
       "75%    1.152865e+00\n",
       "max    1.236852e+00"
      ]
     },
     "execution_count": 24,
     "metadata": {},
     "output_type": "execute_result"
    }
   ],
   "source": [
    "y_pred_EC = model_EC.predict(df_test)\n",
    "y_pred_EC= pd.DataFrame(y_pred_EC,columns=['EC'])\n",
    "indicesec = y_pred_EC.index[y_pred_EC['EC']<EC_target].tolist()\n",
    "y_pred_EC.describe()"
   ]
  },
  {
   "cell_type": "code",
   "execution_count": 25,
   "id": "ce63e097",
   "metadata": {},
   "outputs": [
    {
     "data": {
      "text/html": [
       "<div>\n",
       "<style scoped>\n",
       "    .dataframe tbody tr th:only-of-type {\n",
       "        vertical-align: middle;\n",
       "    }\n",
       "\n",
       "    .dataframe tbody tr th {\n",
       "        vertical-align: top;\n",
       "    }\n",
       "\n",
       "    .dataframe thead th {\n",
       "        text-align: right;\n",
       "    }\n",
       "</style>\n",
       "<table border=\"1\" class=\"dataframe\">\n",
       "  <thead>\n",
       "    <tr style=\"text-align: right;\">\n",
       "      <th></th>\n",
       "      <th>T</th>\n",
       "    </tr>\n",
       "  </thead>\n",
       "  <tbody>\n",
       "    <tr>\n",
       "      <th>count</th>\n",
       "      <td>1.048575e+06</td>\n",
       "    </tr>\n",
       "    <tr>\n",
       "      <th>mean</th>\n",
       "      <td>1.116221e+02</td>\n",
       "    </tr>\n",
       "    <tr>\n",
       "      <th>std</th>\n",
       "      <td>9.508985e+00</td>\n",
       "    </tr>\n",
       "    <tr>\n",
       "      <th>min</th>\n",
       "      <td>9.643056e+01</td>\n",
       "    </tr>\n",
       "    <tr>\n",
       "      <th>25%</th>\n",
       "      <td>1.056320e+02</td>\n",
       "    </tr>\n",
       "    <tr>\n",
       "      <th>50%</th>\n",
       "      <td>1.081519e+02</td>\n",
       "    </tr>\n",
       "    <tr>\n",
       "      <th>75%</th>\n",
       "      <td>1.205369e+02</td>\n",
       "    </tr>\n",
       "    <tr>\n",
       "      <th>max</th>\n",
       "      <td>1.330251e+02</td>\n",
       "    </tr>\n",
       "  </tbody>\n",
       "</table>\n",
       "</div>"
      ],
      "text/plain": [
       "                  T\n",
       "count  1.048575e+06\n",
       "mean   1.116221e+02\n",
       "std    9.508985e+00\n",
       "min    9.643056e+01\n",
       "25%    1.056320e+02\n",
       "50%    1.081519e+02\n",
       "75%    1.205369e+02\n",
       "max    1.330251e+02"
      ]
     },
     "execution_count": 25,
     "metadata": {},
     "output_type": "execute_result"
    }
   ],
   "source": [
    "y_pred_T = model_T.predict(df_test)\n",
    "y_pred_T= pd.DataFrame(y_pred_T,columns=['T'])\n",
    "indicest = y_pred_T.index[y_pred_T['T']<T_target].tolist()\n",
    "y_pred_T.describe()"
   ]
  },
  {
   "cell_type": "code",
   "execution_count": 26,
   "id": "6e176e92",
   "metadata": {},
   "outputs": [],
   "source": [
    "a=indicescpi\n",
    "b=indicesdpi\n",
    "c=indicesec\n",
    "d=indicest"
   ]
  },
  {
   "cell_type": "code",
   "execution_count": 27,
   "id": "6e777231",
   "metadata": {},
   "outputs": [
    {
     "name": "stdout",
     "output_type": "stream",
     "text": [
      "{185861, 1541, 370181, 185871, 1551, 370191, 1531, 185851, 5281, 189601, 373921, 5291, 189611, 373931, 5301, 189621, 373941, 189631, 5311, 373951, 5321, 189641, 373961, 5331, 189651, 373971, 5341, 189661, 373981, 5351, 189671, 373991, 5361, 189681, 374001, 5371, 189691, 374011, 5381, 189701, 374021, 5391, 189711, 374031, 3361, 187681, 372001, 3371, 187691, 372011, 3381, 187701, 372021, 3391, 187711, 372031, 3401, 187721, 372041, 3411, 187731, 372051, 3421, 187741, 372061, 3431, 187751, 372071, 3441, 187761, 372081, 3451, 187771, 372091, 3461, 187781, 372101, 3471, 187791, 372111, 1441, 185761, 370081, 1451, 185771, 370091, 1461, 185781, 370101, 1471, 185791, 370111, 1481, 185801, 370121, 1491, 185811, 370131, 1501, 185821, 370141, 1511, 185831, 370151, 1521, 185841, 370161, 370171}\n"
     ]
    }
   ],
   "source": [
    "def common_member(a, b, c, d):\n",
    "    a_set = set(a)\n",
    "    b_set = set(b)\n",
    "    c_set = set(c)\n",
    "    d_set = set(d)\n",
    "\n",
    "    if (a_set & b_set & c_set & d_set):\n",
    "        print(a_set & b_set & c_set& d_set)\n",
    "    else:\n",
    "        print(\"No common elements\")\n",
    "\n",
    "\n",
    "common_member(a, b, c, d)"
   ]
  },
  {
   "cell_type": "code",
   "execution_count": 28,
   "id": "67b59d30",
   "metadata": {},
   "outputs": [
    {
     "data": {
      "text/html": [
       "<div>\n",
       "<style scoped>\n",
       "    .dataframe tbody tr th:only-of-type {\n",
       "        vertical-align: middle;\n",
       "    }\n",
       "\n",
       "    .dataframe tbody tr th {\n",
       "        vertical-align: top;\n",
       "    }\n",
       "\n",
       "    .dataframe thead th {\n",
       "        text-align: right;\n",
       "    }\n",
       "</style>\n",
       "<table border=\"1\" class=\"dataframe\">\n",
       "  <thead>\n",
       "    <tr style=\"text-align: right;\">\n",
       "      <th></th>\n",
       "      <th>1OYSum of WI</th>\n",
       "      <th>1OYMax of DEVIR</th>\n",
       "      <th>2AYSum of WI</th>\n",
       "      <th>2AYMax of DEVIR</th>\n",
       "      <th>2AYMax of TEMP</th>\n",
       "      <th>4SGDSum of WI</th>\n",
       "      <th>4SGDMax of DEVIR</th>\n",
       "      <th>7SCD2Sum of WI</th>\n",
       "      <th>7SCD2Max of DEVIR</th>\n",
       "      <th>7SCD2Max of TEMP</th>\n",
       "    </tr>\n",
       "  </thead>\n",
       "  <tbody>\n",
       "    <tr>\n",
       "      <th>370181</th>\n",
       "      <td>4.2</td>\n",
       "      <td>2800</td>\n",
       "      <td>5.4</td>\n",
       "      <td>3400</td>\n",
       "      <td>68</td>\n",
       "      <td>4.2</td>\n",
       "      <td>2800</td>\n",
       "      <td>4.2</td>\n",
       "      <td>3400</td>\n",
       "      <td>57</td>\n",
       "    </tr>\n",
       "    <tr>\n",
       "      <th>5381</th>\n",
       "      <td>4.2</td>\n",
       "      <td>2800</td>\n",
       "      <td>4.6</td>\n",
       "      <td>3400</td>\n",
       "      <td>68</td>\n",
       "      <td>5.0</td>\n",
       "      <td>2800</td>\n",
       "      <td>4.2</td>\n",
       "      <td>3400</td>\n",
       "      <td>57</td>\n",
       "    </tr>\n",
       "    <tr>\n",
       "      <th>1531</th>\n",
       "      <td>4.2</td>\n",
       "      <td>2800</td>\n",
       "      <td>4.6</td>\n",
       "      <td>3400</td>\n",
       "      <td>68</td>\n",
       "      <td>4.2</td>\n",
       "      <td>2800</td>\n",
       "      <td>3.8</td>\n",
       "      <td>3400</td>\n",
       "      <td>57</td>\n",
       "    </tr>\n",
       "  </tbody>\n",
       "</table>\n",
       "</div>"
      ],
      "text/plain": [
       "        1OYSum of WI  1OYMax of DEVIR  2AYSum of WI  2AYMax of DEVIR  \\\n",
       "370181           4.2             2800           5.4             3400   \n",
       "5381             4.2             2800           4.6             3400   \n",
       "1531             4.2             2800           4.6             3400   \n",
       "\n",
       "        2AYMax of TEMP  4SGDSum of WI  4SGDMax of DEVIR  7SCD2Sum of WI  \\\n",
       "370181              68            4.2              2800             4.2   \n",
       "5381                68            5.0              2800             4.2   \n",
       "1531                68            4.2              2800             3.8   \n",
       "\n",
       "        7SCD2Max of DEVIR  7SCD2Max of TEMP  \n",
       "370181               3400                57  \n",
       "5381                 3400                57  \n",
       "1531                 3400                57  "
      ]
     },
     "execution_count": 28,
     "metadata": {},
     "output_type": "execute_result"
    }
   ],
   "source": [
    "df_test.iloc[[370181, 5381, 1531]]"
   ]
  },
  {
   "cell_type": "code",
   "execution_count": null,
   "id": "b030b502",
   "metadata": {},
   "outputs": [],
   "source": []
  },
  {
   "cell_type": "code",
   "execution_count": null,
   "id": "0e98e1d6",
   "metadata": {},
   "outputs": [],
   "source": []
  },
  {
   "cell_type": "code",
   "execution_count": null,
   "id": "f8a8f9cf",
   "metadata": {},
   "outputs": [],
   "source": []
  },
  {
   "cell_type": "code",
   "execution_count": null,
   "id": "8dadb8cd",
   "metadata": {},
   "outputs": [],
   "source": []
  }
 ],
 "metadata": {
  "kernelspec": {
   "display_name": "Python 3 (ipykernel)",
   "language": "python",
   "name": "python3"
  },
  "language_info": {
   "codemirror_mode": {
    "name": "ipython",
    "version": 3
   },
   "file_extension": ".py",
   "mimetype": "text/x-python",
   "name": "python",
   "nbconvert_exporter": "python",
   "pygments_lexer": "ipython3",
   "version": "3.7.6"
  }
 },
 "nbformat": 4,
 "nbformat_minor": 5
}

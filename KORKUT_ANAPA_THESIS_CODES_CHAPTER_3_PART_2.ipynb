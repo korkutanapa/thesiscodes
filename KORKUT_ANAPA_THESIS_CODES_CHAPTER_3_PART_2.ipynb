{
 "cells": [
  {
   "cell_type": "markdown",
   "id": "78b29a41",
   "metadata": {},
   "source": [
    "# Thesis Codes  by Korkut Anapa"
   ]
  },
  {
   "cell_type": "markdown",
   "id": "c0fd0807",
   "metadata": {},
   "source": [
    "## Case Study 2 - Selecting the Cleaning Cycle AWASH PROJECT"
   ]
  },
  {
   "cell_type": "code",
   "execution_count": 1,
   "id": "fdac9780",
   "metadata": {},
   "outputs": [],
   "source": [
    "import numpy as np\n",
    "import pandas as pd\n",
    "import statsmodels.api as sm\n",
    "from sklearn.model_selection import train_test_split\n",
    "from sklearn.linear_model import LinearRegression\n",
    "from sklearn.feature_selection import RFE\n",
    "from sklearn.linear_model import RidgeCV, LassoCV, Ridge, Lasso\n",
    "from catboost import CatBoostRegressor\n",
    "from sklearn.ensemble import GradientBoostingRegressor\n",
    "from sklearn.ensemble import RandomForestRegressor\n",
    "from numpy import mean\n",
    "from numpy import std\n",
    "from sklearn.datasets import make_regression\n",
    "from sklearn.model_selection import cross_val_score\n",
    "from sklearn.model_selection import RepeatedKFold\n",
    "from sklearn.linear_model import LinearRegression\n",
    "from sklearn.ensemble import StackingRegressor\n",
    "from matplotlib import pyplot\n",
    "from sklearn.preprocessing import StandardScaler\n",
    "from sklearn.pipeline import Pipeline\n",
    "from sklearn.preprocessing import PolynomialFeatures\n",
    "from sklearn.linear_model import LinearRegression\n",
    "from sklearn.tree import DecisionTreeRegressor\n",
    "from sklearn.neighbors import KNeighborsRegressor\n",
    "from xgboost import XGBRegressor\n",
    "from sklearn.linear_model import ElasticNetCV, ElasticNet\n",
    "from sklearn.compose import make_column_selector as selector\n",
    "from sklearn.preprocessing import OneHotEncoder\n",
    "from sklearn.metrics import mean_squared_error\n",
    "from sklearn.model_selection import cross_val_score\n",
    "from sklearn.cross_decomposition import PLSRegression\n",
    "from sklearn.model_selection import train_test_split\n",
    "from sklearn.linear_model import LinearRegression\n",
    "from sklearn.feature_selection import RFE\n",
    "from sklearn.linear_model import RidgeCV, LassoCV, Ridge, Lasso\n",
    "from catboost import CatBoostRegressor\n",
    "from sklearn.ensemble import GradientBoostingRegressor\n",
    "from sklearn.ensemble import RandomForestRegressor\n",
    "from sklearn.datasets import make_regression\n",
    "from sklearn.model_selection import cross_val_score\n",
    "from sklearn.model_selection import RepeatedKFold\n",
    "from sklearn.linear_model import LinearRegression\n",
    "from sklearn.ensemble import StackingRegressor\n",
    "from matplotlib import pyplot\n",
    "from sklearn.preprocessing import StandardScaler\n",
    "from sklearn.pipeline import Pipeline\n",
    "from sklearn.preprocessing import PolynomialFeatures\n",
    "from sklearn.linear_model import LinearRegression\n",
    "from sklearn.tree import DecisionTreeRegressor\n",
    "from sklearn.neighbors import KNeighborsRegressor\n",
    "from xgboost import XGBRegressor\n",
    "from sklearn.linear_model import ElasticNetCV, ElasticNet\n",
    "from sklearn.compose import make_column_selector as selector\n",
    "from sklearn.preprocessing import OneHotEncoder"
   ]
  },
  {
   "cell_type": "markdown",
   "id": "d820cfdf",
   "metadata": {},
   "source": [
    "The independent variables are selected by the DOMAIN EXPERT. \n",
    "\n",
    "We have to study another model by these variables."
   ]
  },
  {
   "cell_type": "code",
   "execution_count": 2,
   "id": "e2be02d7",
   "metadata": {},
   "outputs": [],
   "source": [
    "XX_AWASH=['1OYSum of WI' , '1OYMax of DEVIR', '2AYSum of WI' , '2AYMax of DEVIR' , \n",
    "          '2AYMax of TEMP' , '4SGDSum of WI',  '4SGDMax of DEVIR' ,  '7SCD2Sum of WI' , '7SCD2Max of DEVIR' , '7SCD2Max of TEMP']"
   ]
  },
  {
   "cell_type": "code",
   "execution_count": 3,
   "id": "13e96562",
   "metadata": {},
   "outputs": [],
   "source": [
    "df= pd.read_excel('D:/THESIS_DATA/ANALYSIS_DATA_THESIS/DB_SO_60.xlsx')"
   ]
  },
  {
   "cell_type": "code",
   "execution_count": 4,
   "id": "bbd68ce9",
   "metadata": {},
   "outputs": [],
   "source": [
    "y_CPI = df['CPI']\n",
    "y_DPI= df['DPI']\n",
    "y_EC =df['EC']\n",
    "y_T=df['T']\n",
    "y_WC=df['WC']"
   ]
  },
  {
   "cell_type": "code",
   "execution_count": 5,
   "id": "2eb1589e",
   "metadata": {},
   "outputs": [],
   "source": [
    "XX=df[XX_AWASH]\n",
    "y=y_CPI"
   ]
  },
  {
   "cell_type": "markdown",
   "id": "11a49964",
   "metadata": {},
   "source": [
    "model XGB CPI"
   ]
  },
  {
   "cell_type": "code",
   "execution_count": 11,
   "id": "909e1f1f",
   "metadata": {},
   "outputs": [
    {
     "name": "stdout",
     "output_type": "stream",
     "text": [
      " 0.067 33.279\n"
     ]
    }
   ],
   "source": [
    "model=XGBRegressor(n_estimators=100, max_depth=7, eta=0.3, subsample=0.7, colsample_bytree=0.8)\n",
    "model.fit(XX, y)\n",
    "cv = RepeatedKFold(n_splits=5, n_repeats=3, random_state=79)\n",
    "scores1 = cross_val_score(model,XX, y, scoring='neg_mean_absolute_error', cv=cv, n_jobs=-1, error_score='raise')\n",
    "scores3 = cross_val_score(model,XX, y, scoring='r2', cv=cv, n_jobs=-1, error_score='raise')\n",
    "print(' %.3f %.3f' % (-mean(scores1),  100*mean(scores3)))"
   ]
  },
  {
   "cell_type": "code",
   "execution_count": 12,
   "id": "3189796d",
   "metadata": {},
   "outputs": [],
   "source": [
    "model_CPI=model"
   ]
  },
  {
   "cell_type": "code",
   "execution_count": 13,
   "id": "40c28d81",
   "metadata": {},
   "outputs": [
    {
     "name": "stdout",
     "output_type": "stream",
     "text": [
      " 3.195 66.756\n"
     ]
    }
   ],
   "source": [
    "XX=df[XX_AWASH]\n",
    "y=y_DPI\n",
    "model=XGBRegressor(n_estimators=100, max_depth=7, eta=0.3, subsample=0.7, colsample_bytree=0.8)\n",
    "model.fit(XX, y)\n",
    "cv = RepeatedKFold(n_splits=5, n_repeats=3, random_state=79)\n",
    "scores1 = cross_val_score(model,XX, y, scoring='neg_mean_absolute_error', cv=cv, n_jobs=-1, error_score='raise')\n",
    "scores3 = cross_val_score(model,XX, y, scoring='r2', cv=cv, n_jobs=-1, error_score='raise')\n",
    "print(' %.3f %.3f' % (-mean(scores1),  100*mean(scores3)))\n",
    "model_DPI=model"
   ]
  },
  {
   "cell_type": "code",
   "execution_count": 14,
   "id": "7c8c5daf",
   "metadata": {},
   "outputs": [
    {
     "name": "stdout",
     "output_type": "stream",
     "text": [
      " 0.038 82.590\n"
     ]
    }
   ],
   "source": [
    "XX=df[XX_AWASH]\n",
    "y=y_EC\n",
    "model=XGBRegressor(n_estimators=100, max_depth=7, eta=0.3, subsample=0.7, colsample_bytree=0.8)\n",
    "model.fit(XX, y)\n",
    "cv = RepeatedKFold(n_splits=5, n_repeats=3, random_state=79)\n",
    "scores1 = cross_val_score(model,XX, y, scoring='neg_mean_absolute_error', cv=cv, n_jobs=-1, error_score='raise')\n",
    "scores3 = cross_val_score(model,XX, y, scoring='r2', cv=cv, n_jobs=-1, error_score='raise')\n",
    "print(' %.3f %.3f' % (-mean(scores1),  100*mean(scores3)))\n",
    "model_EC=model"
   ]
  },
  {
   "cell_type": "code",
   "execution_count": 15,
   "id": "44addd98",
   "metadata": {},
   "outputs": [
    {
     "name": "stdout",
     "output_type": "stream",
     "text": [
      " 8.681 91.494\n"
     ]
    }
   ],
   "source": [
    "XX=df[XX_AWASH]\n",
    "y=y_T\n",
    "model=XGBRegressor(n_estimators=100, max_depth=7, eta=0.3, subsample=0.7, colsample_bytree=0.8)\n",
    "model.fit(XX, y)\n",
    "cv = RepeatedKFold(n_splits=5, n_repeats=3, random_state=79)\n",
    "scores1 = cross_val_score(model,XX, y, scoring='neg_mean_absolute_error', cv=cv, n_jobs=-1, error_score='raise')\n",
    "scores3 = cross_val_score(model,XX, y, scoring='r2', cv=cv, n_jobs=-1, error_score='raise')\n",
    "print(' %.3f %.3f' % (-mean(scores1),  100*mean(scores3)))\n",
    "model_T=model"
   ]
  },
  {
   "cell_type": "code",
   "execution_count": 16,
   "id": "053e7735",
   "metadata": {},
   "outputs": [
    {
     "name": "stdout",
     "output_type": "stream",
     "text": [
      " 0.478 81.392\n"
     ]
    }
   ],
   "source": [
    "XX=df[XX_AWASH]\n",
    "y=y_WC\n",
    "model=XGBRegressor(n_estimators=100, max_depth=7, eta=0.3, subsample=0.7, colsample_bytree=0.8)\n",
    "model.fit(XX, y)\n",
    "cv = RepeatedKFold(n_splits=5, n_repeats=3, random_state=79)\n",
    "scores1 = cross_val_score(model,XX, y, scoring='neg_mean_absolute_error', cv=cv, n_jobs=-1, error_score='raise')\n",
    "scores3 = cross_val_score(model,XX, y, scoring='r2', cv=cv, n_jobs=-1, error_score='raise')\n",
    "print(' %.3f %.3f' % (-mean(scores1),  100*mean(scores3)))\n",
    "model_WC=model"
   ]
  },
  {
   "cell_type": "markdown",
   "id": "aa8a71a3",
   "metadata": {},
   "source": [
    "Predicting the outputs for 1 million trials"
   ]
  },
  {
   "cell_type": "code",
   "execution_count": 17,
   "id": "28627b3f",
   "metadata": {},
   "outputs": [],
   "source": [
    "df_test = pd.read_csv('D:\\THESIS_DATA\\Inputs_Intensive\\Inputs_Intensive.csv')"
   ]
  },
  {
   "cell_type": "code",
   "execution_count": 18,
   "id": "9c0c0ada",
   "metadata": {},
   "outputs": [],
   "source": [
    "df_test=df_test[XX_AWASH]"
   ]
  },
  {
   "cell_type": "markdown",
   "id": "c53e0168",
   "metadata": {},
   "source": [
    "Finding the cleaning cycle for targeted outputs"
   ]
  },
  {
   "cell_type": "code",
   "execution_count": 26,
   "id": "6b3515b5",
   "metadata": {},
   "outputs": [],
   "source": [
    "CPI_target=3.55\n",
    "DPI_target=81\n",
    "EC_target=1.23\n",
    "T_target=140\n",
    "WC_target=20"
   ]
  },
  {
   "cell_type": "code",
   "execution_count": 27,
   "id": "486ebd43",
   "metadata": {},
   "outputs": [
    {
     "data": {
      "text/html": [
       "<div>\n",
       "<style scoped>\n",
       "    .dataframe tbody tr th:only-of-type {\n",
       "        vertical-align: middle;\n",
       "    }\n",
       "\n",
       "    .dataframe tbody tr th {\n",
       "        vertical-align: top;\n",
       "    }\n",
       "\n",
       "    .dataframe thead th {\n",
       "        text-align: right;\n",
       "    }\n",
       "</style>\n",
       "<table border=\"1\" class=\"dataframe\">\n",
       "  <thead>\n",
       "    <tr style=\"text-align: right;\">\n",
       "      <th></th>\n",
       "      <th>CPI</th>\n",
       "    </tr>\n",
       "  </thead>\n",
       "  <tbody>\n",
       "    <tr>\n",
       "      <th>count</th>\n",
       "      <td>1.048575e+06</td>\n",
       "    </tr>\n",
       "    <tr>\n",
       "      <th>mean</th>\n",
       "      <td>3.272213e+00</td>\n",
       "    </tr>\n",
       "    <tr>\n",
       "      <th>std</th>\n",
       "      <td>7.224303e-02</td>\n",
       "    </tr>\n",
       "    <tr>\n",
       "      <th>min</th>\n",
       "      <td>3.164373e+00</td>\n",
       "    </tr>\n",
       "    <tr>\n",
       "      <th>25%</th>\n",
       "      <td>3.211558e+00</td>\n",
       "    </tr>\n",
       "    <tr>\n",
       "      <th>50%</th>\n",
       "      <td>3.245001e+00</td>\n",
       "    </tr>\n",
       "    <tr>\n",
       "      <th>75%</th>\n",
       "      <td>3.317495e+00</td>\n",
       "    </tr>\n",
       "    <tr>\n",
       "      <th>max</th>\n",
       "      <td>3.555419e+00</td>\n",
       "    </tr>\n",
       "  </tbody>\n",
       "</table>\n",
       "</div>"
      ],
      "text/plain": [
       "                CPI\n",
       "count  1.048575e+06\n",
       "mean   3.272213e+00\n",
       "std    7.224303e-02\n",
       "min    3.164373e+00\n",
       "25%    3.211558e+00\n",
       "50%    3.245001e+00\n",
       "75%    3.317495e+00\n",
       "max    3.555419e+00"
      ]
     },
     "execution_count": 27,
     "metadata": {},
     "output_type": "execute_result"
    }
   ],
   "source": [
    "y_pred_CPI = model_CPI.predict(df_test)\n",
    "y_pred_CPI= pd.DataFrame(y_pred_CPI,columns=['CPI'])\n",
    "indicescpi = y_pred_CPI.index[y_pred_CPI['CPI']>CPI_target].tolist()\n",
    "y_pred_CPI.describe()"
   ]
  },
  {
   "cell_type": "code",
   "execution_count": 28,
   "id": "70748f0d",
   "metadata": {},
   "outputs": [
    {
     "data": {
      "text/html": [
       "<div>\n",
       "<style scoped>\n",
       "    .dataframe tbody tr th:only-of-type {\n",
       "        vertical-align: middle;\n",
       "    }\n",
       "\n",
       "    .dataframe tbody tr th {\n",
       "        vertical-align: top;\n",
       "    }\n",
       "\n",
       "    .dataframe thead th {\n",
       "        text-align: right;\n",
       "    }\n",
       "</style>\n",
       "<table border=\"1\" class=\"dataframe\">\n",
       "  <thead>\n",
       "    <tr style=\"text-align: right;\">\n",
       "      <th></th>\n",
       "      <th>DPI</th>\n",
       "    </tr>\n",
       "  </thead>\n",
       "  <tbody>\n",
       "    <tr>\n",
       "      <th>count</th>\n",
       "      <td>1.048575e+06</td>\n",
       "    </tr>\n",
       "    <tr>\n",
       "      <th>mean</th>\n",
       "      <td>8.153495e+01</td>\n",
       "    </tr>\n",
       "    <tr>\n",
       "      <th>std</th>\n",
       "      <td>1.173769e+00</td>\n",
       "    </tr>\n",
       "    <tr>\n",
       "      <th>min</th>\n",
       "      <td>7.898279e+01</td>\n",
       "    </tr>\n",
       "    <tr>\n",
       "      <th>25%</th>\n",
       "      <td>8.119196e+01</td>\n",
       "    </tr>\n",
       "    <tr>\n",
       "      <th>50%</th>\n",
       "      <td>8.179439e+01</td>\n",
       "    </tr>\n",
       "    <tr>\n",
       "      <th>75%</th>\n",
       "      <td>8.254981e+01</td>\n",
       "    </tr>\n",
       "    <tr>\n",
       "      <th>max</th>\n",
       "      <td>8.528699e+01</td>\n",
       "    </tr>\n",
       "  </tbody>\n",
       "</table>\n",
       "</div>"
      ],
      "text/plain": [
       "                DPI\n",
       "count  1.048575e+06\n",
       "mean   8.153495e+01\n",
       "std    1.173769e+00\n",
       "min    7.898279e+01\n",
       "25%    8.119196e+01\n",
       "50%    8.179439e+01\n",
       "75%    8.254981e+01\n",
       "max    8.528699e+01"
      ]
     },
     "execution_count": 28,
     "metadata": {},
     "output_type": "execute_result"
    }
   ],
   "source": [
    "y_pred_DPI = model_DPI.predict(df_test)\n",
    "y_pred_DPI= pd.DataFrame(y_pred_DPI,columns=['DPI'])\n",
    "indicesdpi = y_pred_DPI.index[y_pred_DPI['DPI']>DPI_target].tolist()\n",
    "y_pred_DPI.describe()"
   ]
  },
  {
   "cell_type": "code",
   "execution_count": 29,
   "id": "f7b443c7",
   "metadata": {},
   "outputs": [
    {
     "data": {
      "text/html": [
       "<div>\n",
       "<style scoped>\n",
       "    .dataframe tbody tr th:only-of-type {\n",
       "        vertical-align: middle;\n",
       "    }\n",
       "\n",
       "    .dataframe tbody tr th {\n",
       "        vertical-align: top;\n",
       "    }\n",
       "\n",
       "    .dataframe thead th {\n",
       "        text-align: right;\n",
       "    }\n",
       "</style>\n",
       "<table border=\"1\" class=\"dataframe\">\n",
       "  <thead>\n",
       "    <tr style=\"text-align: right;\">\n",
       "      <th></th>\n",
       "      <th>EC</th>\n",
       "    </tr>\n",
       "  </thead>\n",
       "  <tbody>\n",
       "    <tr>\n",
       "      <th>count</th>\n",
       "      <td>1.048575e+06</td>\n",
       "    </tr>\n",
       "    <tr>\n",
       "      <th>mean</th>\n",
       "      <td>1.115491e+00</td>\n",
       "    </tr>\n",
       "    <tr>\n",
       "      <th>std</th>\n",
       "      <td>4.739527e-02</td>\n",
       "    </tr>\n",
       "    <tr>\n",
       "      <th>min</th>\n",
       "      <td>1.011126e+00</td>\n",
       "    </tr>\n",
       "    <tr>\n",
       "      <th>25%</th>\n",
       "      <td>1.076086e+00</td>\n",
       "    </tr>\n",
       "    <tr>\n",
       "      <th>50%</th>\n",
       "      <td>1.109756e+00</td>\n",
       "    </tr>\n",
       "    <tr>\n",
       "      <th>75%</th>\n",
       "      <td>1.152865e+00</td>\n",
       "    </tr>\n",
       "    <tr>\n",
       "      <th>max</th>\n",
       "      <td>1.236852e+00</td>\n",
       "    </tr>\n",
       "  </tbody>\n",
       "</table>\n",
       "</div>"
      ],
      "text/plain": [
       "                 EC\n",
       "count  1.048575e+06\n",
       "mean   1.115491e+00\n",
       "std    4.739527e-02\n",
       "min    1.011126e+00\n",
       "25%    1.076086e+00\n",
       "50%    1.109756e+00\n",
       "75%    1.152865e+00\n",
       "max    1.236852e+00"
      ]
     },
     "execution_count": 29,
     "metadata": {},
     "output_type": "execute_result"
    }
   ],
   "source": [
    "y_pred_EC = model_EC.predict(df_test)\n",
    "y_pred_EC= pd.DataFrame(y_pred_EC,columns=['EC'])\n",
    "indicesec = y_pred_EC.index[y_pred_EC['EC']<EC_target].tolist()\n",
    "y_pred_EC.describe()"
   ]
  },
  {
   "cell_type": "code",
   "execution_count": 30,
   "id": "d9d6ac3d",
   "metadata": {},
   "outputs": [
    {
     "data": {
      "text/html": [
       "<div>\n",
       "<style scoped>\n",
       "    .dataframe tbody tr th:only-of-type {\n",
       "        vertical-align: middle;\n",
       "    }\n",
       "\n",
       "    .dataframe tbody tr th {\n",
       "        vertical-align: top;\n",
       "    }\n",
       "\n",
       "    .dataframe thead th {\n",
       "        text-align: right;\n",
       "    }\n",
       "</style>\n",
       "<table border=\"1\" class=\"dataframe\">\n",
       "  <thead>\n",
       "    <tr style=\"text-align: right;\">\n",
       "      <th></th>\n",
       "      <th>T</th>\n",
       "    </tr>\n",
       "  </thead>\n",
       "  <tbody>\n",
       "    <tr>\n",
       "      <th>count</th>\n",
       "      <td>1.048575e+06</td>\n",
       "    </tr>\n",
       "    <tr>\n",
       "      <th>mean</th>\n",
       "      <td>1.116221e+02</td>\n",
       "    </tr>\n",
       "    <tr>\n",
       "      <th>std</th>\n",
       "      <td>9.508985e+00</td>\n",
       "    </tr>\n",
       "    <tr>\n",
       "      <th>min</th>\n",
       "      <td>9.643056e+01</td>\n",
       "    </tr>\n",
       "    <tr>\n",
       "      <th>25%</th>\n",
       "      <td>1.056320e+02</td>\n",
       "    </tr>\n",
       "    <tr>\n",
       "      <th>50%</th>\n",
       "      <td>1.081519e+02</td>\n",
       "    </tr>\n",
       "    <tr>\n",
       "      <th>75%</th>\n",
       "      <td>1.205369e+02</td>\n",
       "    </tr>\n",
       "    <tr>\n",
       "      <th>max</th>\n",
       "      <td>1.330251e+02</td>\n",
       "    </tr>\n",
       "  </tbody>\n",
       "</table>\n",
       "</div>"
      ],
      "text/plain": [
       "                  T\n",
       "count  1.048575e+06\n",
       "mean   1.116221e+02\n",
       "std    9.508985e+00\n",
       "min    9.643056e+01\n",
       "25%    1.056320e+02\n",
       "50%    1.081519e+02\n",
       "75%    1.205369e+02\n",
       "max    1.330251e+02"
      ]
     },
     "execution_count": 30,
     "metadata": {},
     "output_type": "execute_result"
    }
   ],
   "source": [
    "y_pred_T = model_T.predict(df_test)\n",
    "y_pred_T= pd.DataFrame(y_pred_T,columns=['T'])\n",
    "indicest = y_pred_T.index[y_pred_T['T']<T_target].tolist()\n",
    "y_pred_T.describe()"
   ]
  },
  {
   "cell_type": "code",
   "execution_count": 31,
   "id": "7ed8a476",
   "metadata": {},
   "outputs": [
    {
     "data": {
      "text/html": [
       "<div>\n",
       "<style scoped>\n",
       "    .dataframe tbody tr th:only-of-type {\n",
       "        vertical-align: middle;\n",
       "    }\n",
       "\n",
       "    .dataframe tbody tr th {\n",
       "        vertical-align: top;\n",
       "    }\n",
       "\n",
       "    .dataframe thead th {\n",
       "        text-align: right;\n",
       "    }\n",
       "</style>\n",
       "<table border=\"1\" class=\"dataframe\">\n",
       "  <thead>\n",
       "    <tr style=\"text-align: right;\">\n",
       "      <th></th>\n",
       "      <th>WC</th>\n",
       "    </tr>\n",
       "  </thead>\n",
       "  <tbody>\n",
       "    <tr>\n",
       "      <th>count</th>\n",
       "      <td>1.048575e+06</td>\n",
       "    </tr>\n",
       "    <tr>\n",
       "      <th>mean</th>\n",
       "      <td>1.617323e+01</td>\n",
       "    </tr>\n",
       "    <tr>\n",
       "      <th>std</th>\n",
       "      <td>5.037999e-01</td>\n",
       "    </tr>\n",
       "    <tr>\n",
       "      <th>min</th>\n",
       "      <td>1.511761e+01</td>\n",
       "    </tr>\n",
       "    <tr>\n",
       "      <th>25%</th>\n",
       "      <td>1.587955e+01</td>\n",
       "    </tr>\n",
       "    <tr>\n",
       "      <th>50%</th>\n",
       "      <td>1.619630e+01</td>\n",
       "    </tr>\n",
       "    <tr>\n",
       "      <th>75%</th>\n",
       "      <td>1.653014e+01</td>\n",
       "    </tr>\n",
       "    <tr>\n",
       "      <th>max</th>\n",
       "      <td>1.755889e+01</td>\n",
       "    </tr>\n",
       "  </tbody>\n",
       "</table>\n",
       "</div>"
      ],
      "text/plain": [
       "                 WC\n",
       "count  1.048575e+06\n",
       "mean   1.617323e+01\n",
       "std    5.037999e-01\n",
       "min    1.511761e+01\n",
       "25%    1.587955e+01\n",
       "50%    1.619630e+01\n",
       "75%    1.653014e+01\n",
       "max    1.755889e+01"
      ]
     },
     "execution_count": 31,
     "metadata": {},
     "output_type": "execute_result"
    }
   ],
   "source": [
    "y_pred_WC = model_WC.predict(df_test)\n",
    "y_pred_WC= pd.DataFrame(y_pred_WC,columns=['WC'])\n",
    "indicest = y_pred_WC.index[y_pred_WC['WC']<T_target].tolist()\n",
    "y_pred_WC.describe()"
   ]
  },
  {
   "cell_type": "code",
   "execution_count": 32,
   "id": "1c0295fb",
   "metadata": {},
   "outputs": [],
   "source": [
    "a=indicescpi\n",
    "b=indicesdpi\n",
    "c=indicesec\n",
    "d=indicest"
   ]
  },
  {
   "cell_type": "code",
   "execution_count": 33,
   "id": "4f94f3bf",
   "metadata": {},
   "outputs": [
    {
     "name": "stdout",
     "output_type": "stream",
     "text": [
      "{185861, 1541, 370181, 185871, 1551, 370191, 1531, 185851, 5281, 189601, 373921, 5291, 189611, 373931, 5301, 189621, 373941, 189631, 5311, 373951, 5321, 189641, 373961, 5331, 189651, 373971, 5341, 189661, 373981, 5351, 189671, 373991, 5361, 189681, 374001, 5371, 189691, 374011, 5381, 189701, 374021, 5391, 189711, 374031, 3361, 187681, 372001, 3371, 187691, 372011, 3381, 187701, 372021, 3391, 187711, 372031, 3401, 187721, 372041, 3411, 187731, 372051, 3421, 187741, 372061, 3431, 187751, 372071, 3441, 187761, 372081, 3451, 187771, 372091, 3461, 187781, 372101, 3471, 187791, 372111, 1441, 185761, 370081, 1451, 185771, 370091, 1461, 185781, 370101, 1471, 185791, 370111, 1481, 185801, 370121, 1491, 185811, 370131, 1501, 185821, 370141, 1511, 185831, 370151, 1521, 185841, 370161, 370171}\n"
     ]
    }
   ],
   "source": [
    "def common_member(a, b, c, d):\n",
    "    a_set = set(a)\n",
    "    b_set = set(b)\n",
    "    c_set = set(c)\n",
    "    d_set = set(d)\n",
    "\n",
    "    if (a_set & b_set & c_set & d_set):\n",
    "        print(a_set & b_set & c_set& d_set)\n",
    "    else:\n",
    "        print(\"No common elements\")\n",
    "\n",
    "\n",
    "common_member(a, b, c, d)"
   ]
  },
  {
   "cell_type": "code",
   "execution_count": 34,
   "id": "ebc33406",
   "metadata": {},
   "outputs": [
    {
     "data": {
      "text/html": [
       "<div>\n",
       "<style scoped>\n",
       "    .dataframe tbody tr th:only-of-type {\n",
       "        vertical-align: middle;\n",
       "    }\n",
       "\n",
       "    .dataframe tbody tr th {\n",
       "        vertical-align: top;\n",
       "    }\n",
       "\n",
       "    .dataframe thead th {\n",
       "        text-align: right;\n",
       "    }\n",
       "</style>\n",
       "<table border=\"1\" class=\"dataframe\">\n",
       "  <thead>\n",
       "    <tr style=\"text-align: right;\">\n",
       "      <th></th>\n",
       "      <th>1OYSum of WI</th>\n",
       "      <th>1OYMax of DEVIR</th>\n",
       "      <th>2AYSum of WI</th>\n",
       "      <th>2AYMax of DEVIR</th>\n",
       "      <th>2AYMax of TEMP</th>\n",
       "      <th>4SGDSum of WI</th>\n",
       "      <th>4SGDMax of DEVIR</th>\n",
       "      <th>7SCD2Sum of WI</th>\n",
       "      <th>7SCD2Max of DEVIR</th>\n",
       "      <th>7SCD2Max of TEMP</th>\n",
       "    </tr>\n",
       "  </thead>\n",
       "  <tbody>\n",
       "    <tr>\n",
       "      <th>185861</th>\n",
       "      <td>4.2</td>\n",
       "      <td>2800</td>\n",
       "      <td>5.0</td>\n",
       "      <td>3400</td>\n",
       "      <td>68</td>\n",
       "      <td>4.2</td>\n",
       "      <td>2800</td>\n",
       "      <td>4.2</td>\n",
       "      <td>3400</td>\n",
       "      <td>57</td>\n",
       "    </tr>\n",
       "    <tr>\n",
       "      <th>1521</th>\n",
       "      <td>4.2</td>\n",
       "      <td>2800</td>\n",
       "      <td>4.6</td>\n",
       "      <td>3400</td>\n",
       "      <td>68</td>\n",
       "      <td>4.2</td>\n",
       "      <td>2800</td>\n",
       "      <td>4.6</td>\n",
       "      <td>3200</td>\n",
       "      <td>57</td>\n",
       "    </tr>\n",
       "    <tr>\n",
       "      <th>372051</th>\n",
       "      <td>4.2</td>\n",
       "      <td>2800</td>\n",
       "      <td>5.4</td>\n",
       "      <td>3400</td>\n",
       "      <td>68</td>\n",
       "      <td>4.6</td>\n",
       "      <td>2800</td>\n",
       "      <td>4.6</td>\n",
       "      <td>3000</td>\n",
       "      <td>57</td>\n",
       "    </tr>\n",
       "  </tbody>\n",
       "</table>\n",
       "</div>"
      ],
      "text/plain": [
       "        1OYSum of WI  1OYMax of DEVIR  2AYSum of WI  2AYMax of DEVIR  \\\n",
       "185861           4.2             2800           5.0             3400   \n",
       "1521             4.2             2800           4.6             3400   \n",
       "372051           4.2             2800           5.4             3400   \n",
       "\n",
       "        2AYMax of TEMP  4SGDSum of WI  4SGDMax of DEVIR  7SCD2Sum of WI  \\\n",
       "185861              68            4.2              2800             4.2   \n",
       "1521                68            4.2              2800             4.6   \n",
       "372051              68            4.6              2800             4.6   \n",
       "\n",
       "        7SCD2Max of DEVIR  7SCD2Max of TEMP  \n",
       "185861               3400                57  \n",
       "1521                 3200                57  \n",
       "372051               3000                57  "
      ]
     },
     "execution_count": 34,
     "metadata": {},
     "output_type": "execute_result"
    }
   ],
   "source": [
    "df_test.iloc[[185861,1521,372051]]"
   ]
  },
  {
   "cell_type": "code",
   "execution_count": null,
   "id": "74f2ba3e",
   "metadata": {},
   "outputs": [],
   "source": []
  },
  {
   "cell_type": "code",
   "execution_count": null,
   "id": "6a93de05",
   "metadata": {},
   "outputs": [],
   "source": []
  },
  {
   "cell_type": "code",
   "execution_count": null,
   "id": "23de3381",
   "metadata": {},
   "outputs": [],
   "source": []
  },
  {
   "cell_type": "code",
   "execution_count": null,
   "id": "fb9faf9c",
   "metadata": {},
   "outputs": [],
   "source": []
  }
 ],
 "metadata": {
  "kernelspec": {
   "display_name": "Python 3 (ipykernel)",
   "language": "python",
   "name": "python3"
  },
  "language_info": {
   "codemirror_mode": {
    "name": "ipython",
    "version": 3
   },
   "file_extension": ".py",
   "mimetype": "text/x-python",
   "name": "python",
   "nbconvert_exporter": "python",
   "pygments_lexer": "ipython3",
   "version": "3.7.6"
  }
 },
 "nbformat": 4,
 "nbformat_minor": 5
}
